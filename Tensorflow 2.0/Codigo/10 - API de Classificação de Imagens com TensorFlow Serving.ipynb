{
  "nbformat": 4,
  "nbformat_minor": 0,
  "metadata": {
    "colab": {
      "name": "10 - API de Classificação de Imagens com TensorFlow Serving.ipynb",
      "provenance": [],
      "collapsed_sections": [],
      "toc_visible": true
    },
    "kernelspec": {
      "name": "python3",
      "display_name": "Python 3"
    },
    "accelerator": "GPU"
  },
  "cells": [
    {
      "cell_type": "markdown",
      "metadata": {
        "id": "yCrzPgLp7W1h",
        "colab_type": "text"
      },
      "source": [
        "## Etapa 1: Instalação das bibliotecas"
      ]
    },
    {
      "cell_type": "code",
      "metadata": {
        "id": "w0KGbZuk7T7F",
        "colab_type": "code",
        "colab": {
          "base_uri": "https://localhost:8080/",
          "height": 102
        },
        "outputId": "8c2fef04-9e56-440e-b70f-a335f89aa2fb"
      },
      "source": [
        "!echo \"deb [arch=amd64] http://storage.googleapis.com/tensorflow-serving-apt stable tensorflow-model-server tensorflow-model-server-universal\" | sudo tee /etc/apt/sources.list.d/tensorflow-serving.list && curl https://storage.googleapis.com/tensorflow-serving-apt/tensorflow-serving.release.pub.gpg | sudo apt-key add -"
      ],
      "execution_count": 1,
      "outputs": [
        {
          "output_type": "stream",
          "text": [
            "deb [arch=amd64] http://storage.googleapis.com/tensorflow-serving-apt stable tensorflow-model-server tensorflow-model-server-universal\n",
            "  % Total    % Received % Xferd  Average Speed   Time    Time     Time  Current\n",
            "                                 Dload  Upload   Total   Spent    Left  Speed\n",
            "\r  0     0    0     0    0     0      0      0 --:--:-- --:--:-- --:--:--     0\r  0     0    0     0    0     0      0      0 --:--:-- --:--:-- --:--:--     0\r100  2943  100  2943    0     0  11632      0 --:--:-- --:--:-- --:--:-- 11586\n",
            "OK\n"
          ],
          "name": "stdout"
        }
      ]
    },
    {
      "cell_type": "code",
      "metadata": {
        "id": "-AoEpKnD94Lj",
        "colab_type": "code",
        "colab": {
          "base_uri": "https://localhost:8080/",
          "height": 765
        },
        "outputId": "92a716ea-b72d-4191-abc7-cb1a7421fad9"
      },
      "source": [
        "!apt-get update && apt-get install tensorflow-model-server #adicionado apt-get update"
      ],
      "execution_count": 2,
      "outputs": [
        {
          "output_type": "stream",
          "text": [
            "\r0% [Working]\r            \rGet:1 https://cloud.r-project.org/bin/linux/ubuntu bionic-cran35/ InRelease [3,622 B]\n",
            "\r0% [Connecting to archive.ubuntu.com] [Connecting to security.ubuntu.com (91.18\r0% [Connecting to archive.ubuntu.com] [Connecting to security.ubuntu.com (91.18\r0% [1 InRelease gpgv 3,622 B] [Connecting to archive.ubuntu.com] [Connecting to\r0% [Connecting to archive.ubuntu.com] [Connecting to security.ubuntu.com (91.18\r                                                                               \rGet:2 http://storage.googleapis.com/tensorflow-serving-apt stable InRelease [3,012 B]\n",
            "\r0% [Connecting to archive.ubuntu.com (91.189.88.142)] [Connecting to security.u\r0% [Connecting to archive.ubuntu.com (91.189.88.142)] [Connecting to security.u\r0% [2 InRelease gpgv 3,012 B] [Connecting to archive.ubuntu.com (91.189.88.142)\r                                                                               \rIgn:3 https://developer.download.nvidia.com/compute/cuda/repos/ubuntu1804/x86_64  InRelease\n",
            "\r0% [2 InRelease gpgv 3,012 B] [Connecting to archive.ubuntu.com (91.189.88.142)\r0% [Connecting to archive.ubuntu.com (91.189.88.142)] [Waiting for headers] [Wa\r                                                                               \rIgn:4 https://developer.download.nvidia.com/compute/machine-learning/repos/ubuntu1804/x86_64  InRelease\n",
            "\r0% [Connecting to archive.ubuntu.com (91.189.88.142)] [Waiting for headers] [Co\r                                                                               \rGet:5 https://developer.download.nvidia.com/compute/cuda/repos/ubuntu1804/x86_64  Release [697 B]\n",
            "\r0% [Connecting to archive.ubuntu.com (91.189.88.142)] [Waiting for headers] [5 \r0% [Connecting to archive.ubuntu.com (91.189.88.142)] [Waiting for headers] [Co\r                                                                               \rGet:6 https://developer.download.nvidia.com/compute/machine-learning/repos/ubuntu1804/x86_64  Release [564 B]\n",
            "\r0% [Connecting to archive.ubuntu.com (91.189.88.142)] [Waiting for headers] [6 \r0% [Connecting to archive.ubuntu.com (91.189.88.142)] [Waiting for headers] [Co\r                                                                               \rGet:7 https://developer.download.nvidia.com/compute/cuda/repos/ubuntu1804/x86_64  Release.gpg [801 B]\n",
            "\r0% [Connecting to archive.ubuntu.com (91.189.88.142)] [Waiting for headers] [Co\r0% [7 Release.gpg gpgv 697 B] [Connecting to archive.ubuntu.com (91.189.88.142)\r                                                                               \rGet:8 https://developer.download.nvidia.com/compute/machine-learning/repos/ubuntu1804/x86_64  Release.gpg [833 B]\n",
            "\r0% [7 Release.gpg gpgv 697 B] [Connecting to archive.ubuntu.com (91.189.88.142)\r                                                                               \rGet:9 http://security.ubuntu.com/ubuntu bionic-security InRelease [88.7 kB]\n",
            "\r0% [7 Release.gpg gpgv 697 B] [Waiting for headers] [9 InRelease 14.2 kB/88.7 k\r0% [Waiting for headers] [9 InRelease 14.2 kB/88.7 kB 16%] [Waiting for headers\r0% [8 Release.gpg gpgv 564 B] [Waiting for headers] [9 InRelease 14.2 kB/88.7 k\r                                                                               \rHit:10 http://archive.ubuntu.com/ubuntu bionic InRelease\n",
            "\r0% [8 Release.gpg gpgv 564 B] [Waiting for headers] [9 InRelease 14.2 kB/88.7 k\r                                                                               \rHit:11 http://ppa.launchpad.net/graphics-drivers/ppa/ubuntu bionic InRelease\n",
            "\r0% [8 Release.gpg gpgv 564 B] [Waiting for headers] [9 InRelease 14.2 kB/88.7 k\r0% [Waiting for headers] [9 InRelease 43.1 kB/88.7 kB 49%] [Waiting for headers\r0% [10 InRelease gpgv 242 kB] [Waiting for headers] [9 InRelease 43.1 kB/88.7 k\r                                                                               \rIgn:12 https://developer.download.nvidia.com/compute/cuda/repos/ubuntu1804/x86_64  Packages\n",
            "Get:13 https://developer.download.nvidia.com/compute/machine-learning/repos/ubuntu1804/x86_64  Packages [38.7 kB]\n",
            "Get:12 https://developer.download.nvidia.com/compute/cuda/repos/ubuntu1804/x86_64  Packages [151 kB]\n",
            "Get:14 http://storage.googleapis.com/tensorflow-serving-apt stable/tensorflow-model-server-universal amd64 Packages [349 B]\n",
            "Get:15 http://archive.ubuntu.com/ubuntu bionic-updates InRelease [88.7 kB]\n",
            "Get:16 http://ppa.launchpad.net/marutter/c2d4u3.5/ubuntu bionic InRelease [15.4 kB]\n",
            "Get:17 http://storage.googleapis.com/tensorflow-serving-apt stable/tensorflow-model-server amd64 Packages [341 B]\n",
            "Get:18 http://security.ubuntu.com/ubuntu bionic-security/main amd64 Packages [961 kB]\n",
            "Get:19 http://archive.ubuntu.com/ubuntu bionic-backports InRelease [74.6 kB]\n",
            "Get:20 http://ppa.launchpad.net/marutter/c2d4u3.5/ubuntu bionic/main Sources [1,840 kB]\n",
            "Get:21 http://archive.ubuntu.com/ubuntu bionic-updates/universe amd64 Packages [1,397 kB]\n",
            "Get:22 http://archive.ubuntu.com/ubuntu bionic-updates/main amd64 Packages [1,253 kB]\n",
            "Get:23 http://ppa.launchpad.net/marutter/c2d4u3.5/ubuntu bionic/main amd64 Packages [888 kB]\n",
            "Fetched 6,805 kB in 5s (1,309 kB/s)\n",
            "Reading package lists... Done\n",
            "Reading package lists... Done\n",
            "Building dependency tree       \n",
            "Reading state information... Done\n",
            "The following package was automatically installed and is no longer required:\n",
            "  libnvidia-common-440\n",
            "Use 'apt autoremove' to remove it.\n",
            "The following NEW packages will be installed:\n",
            "  tensorflow-model-server\n",
            "0 upgraded, 1 newly installed, 0 to remove and 53 not upgraded.\n",
            "Need to get 187 MB of archives.\n",
            "After this operation, 0 B of additional disk space will be used.\n",
            "Get:1 http://storage.googleapis.com/tensorflow-serving-apt stable/tensorflow-model-server amd64 tensorflow-model-server all 2.2.0 [187 MB]\n",
            "Fetched 187 MB in 3s (70.6 MB/s)\n",
            "Selecting previously unselected package tensorflow-model-server.\n",
            "(Reading database ... 144328 files and directories currently installed.)\n",
            "Preparing to unpack .../tensorflow-model-server_2.2.0_all.deb ...\n",
            "Unpacking tensorflow-model-server (2.2.0) ...\n",
            "Setting up tensorflow-model-server (2.2.0) ...\n"
          ],
          "name": "stdout"
        }
      ]
    },
    {
      "cell_type": "code",
      "metadata": {
        "id": "fZn5zdGJivwu",
        "colab_type": "code",
        "colab": {}
      },
      "source": [
        ""
      ],
      "execution_count": null,
      "outputs": []
    },
    {
      "cell_type": "code",
      "metadata": {
        "id": "a1cAehxr-M9p",
        "colab_type": "code",
        "colab": {
          "base_uri": "https://localhost:8080/",
          "height": 1000
        },
        "outputId": "5a23fb43-b979-4703-b0ab-5fbfc445f52a"
      },
      "source": [
        "!pip install tensorflow-gpu==2.0"
      ],
      "execution_count": 3,
      "outputs": [
        {
          "output_type": "stream",
          "text": [
            "Collecting tensorflow-gpu==2.0\n",
            "\u001b[?25l  Downloading https://files.pythonhosted.org/packages/25/44/47f0722aea081697143fbcf5d2aa60d1aee4aaacb5869aee2b568974777b/tensorflow_gpu-2.0.0-cp36-cp36m-manylinux2010_x86_64.whl (380.8MB)\n",
            "\u001b[K     |████████████████████████████████| 380.8MB 43kB/s \n",
            "\u001b[?25hRequirement already satisfied: opt-einsum>=2.3.2 in /usr/local/lib/python3.6/dist-packages (from tensorflow-gpu==2.0) (3.2.1)\n",
            "Requirement already satisfied: absl-py>=0.7.0 in /usr/local/lib/python3.6/dist-packages (from tensorflow-gpu==2.0) (0.9.0)\n",
            "Requirement already satisfied: numpy<2.0,>=1.16.0 in /usr/local/lib/python3.6/dist-packages (from tensorflow-gpu==2.0) (1.18.5)\n",
            "Requirement already satisfied: wrapt>=1.11.1 in /usr/local/lib/python3.6/dist-packages (from tensorflow-gpu==2.0) (1.12.1)\n",
            "Collecting gast==0.2.2\n",
            "  Downloading https://files.pythonhosted.org/packages/4e/35/11749bf99b2d4e3cceb4d55ca22590b0d7c2c62b9de38ac4a4a7f4687421/gast-0.2.2.tar.gz\n",
            "Requirement already satisfied: six>=1.10.0 in /usr/local/lib/python3.6/dist-packages (from tensorflow-gpu==2.0) (1.12.0)\n",
            "Requirement already satisfied: wheel>=0.26 in /usr/local/lib/python3.6/dist-packages (from tensorflow-gpu==2.0) (0.34.2)\n",
            "Requirement already satisfied: google-pasta>=0.1.6 in /usr/local/lib/python3.6/dist-packages (from tensorflow-gpu==2.0) (0.2.0)\n",
            "Requirement already satisfied: keras-applications>=1.0.8 in /usr/local/lib/python3.6/dist-packages (from tensorflow-gpu==2.0) (1.0.8)\n",
            "Requirement already satisfied: astor>=0.6.0 in /usr/local/lib/python3.6/dist-packages (from tensorflow-gpu==2.0) (0.8.1)\n",
            "Collecting tensorboard<2.1.0,>=2.0.0\n",
            "\u001b[?25l  Downloading https://files.pythonhosted.org/packages/76/54/99b9d5d52d5cb732f099baaaf7740403e83fe6b0cedde940fabd2b13d75a/tensorboard-2.0.2-py3-none-any.whl (3.8MB)\n",
            "\u001b[K     |████████████████████████████████| 3.8MB 53.6MB/s \n",
            "\u001b[?25hRequirement already satisfied: termcolor>=1.1.0 in /usr/local/lib/python3.6/dist-packages (from tensorflow-gpu==2.0) (1.1.0)\n",
            "Requirement already satisfied: grpcio>=1.8.6 in /usr/local/lib/python3.6/dist-packages (from tensorflow-gpu==2.0) (1.29.0)\n",
            "Requirement already satisfied: keras-preprocessing>=1.0.5 in /usr/local/lib/python3.6/dist-packages (from tensorflow-gpu==2.0) (1.1.2)\n",
            "Requirement already satisfied: protobuf>=3.6.1 in /usr/local/lib/python3.6/dist-packages (from tensorflow-gpu==2.0) (3.10.0)\n",
            "Collecting tensorflow-estimator<2.1.0,>=2.0.0\n",
            "\u001b[?25l  Downloading https://files.pythonhosted.org/packages/fc/08/8b927337b7019c374719145d1dceba21a8bb909b93b1ad6f8fb7d22c1ca1/tensorflow_estimator-2.0.1-py2.py3-none-any.whl (449kB)\n",
            "\u001b[K     |████████████████████████████████| 450kB 52.8MB/s \n",
            "\u001b[?25hRequirement already satisfied: h5py in /usr/local/lib/python3.6/dist-packages (from keras-applications>=1.0.8->tensorflow-gpu==2.0) (2.10.0)\n",
            "Requirement already satisfied: requests<3,>=2.21.0 in /usr/local/lib/python3.6/dist-packages (from tensorboard<2.1.0,>=2.0.0->tensorflow-gpu==2.0) (2.23.0)\n",
            "Requirement already satisfied: setuptools>=41.0.0 in /usr/local/lib/python3.6/dist-packages (from tensorboard<2.1.0,>=2.0.0->tensorflow-gpu==2.0) (47.3.1)\n",
            "Requirement already satisfied: google-auth-oauthlib<0.5,>=0.4.1 in /usr/local/lib/python3.6/dist-packages (from tensorboard<2.1.0,>=2.0.0->tensorflow-gpu==2.0) (0.4.1)\n",
            "Requirement already satisfied: markdown>=2.6.8 in /usr/local/lib/python3.6/dist-packages (from tensorboard<2.1.0,>=2.0.0->tensorflow-gpu==2.0) (3.2.2)\n",
            "Requirement already satisfied: werkzeug>=0.11.15 in /usr/local/lib/python3.6/dist-packages (from tensorboard<2.1.0,>=2.0.0->tensorflow-gpu==2.0) (1.0.1)\n",
            "Requirement already satisfied: google-auth<2,>=1.6.3 in /usr/local/lib/python3.6/dist-packages (from tensorboard<2.1.0,>=2.0.0->tensorflow-gpu==2.0) (1.17.2)\n",
            "Requirement already satisfied: urllib3!=1.25.0,!=1.25.1,<1.26,>=1.21.1 in /usr/local/lib/python3.6/dist-packages (from requests<3,>=2.21.0->tensorboard<2.1.0,>=2.0.0->tensorflow-gpu==2.0) (1.24.3)\n",
            "Requirement already satisfied: chardet<4,>=3.0.2 in /usr/local/lib/python3.6/dist-packages (from requests<3,>=2.21.0->tensorboard<2.1.0,>=2.0.0->tensorflow-gpu==2.0) (3.0.4)\n",
            "Requirement already satisfied: idna<3,>=2.5 in /usr/local/lib/python3.6/dist-packages (from requests<3,>=2.21.0->tensorboard<2.1.0,>=2.0.0->tensorflow-gpu==2.0) (2.9)\n",
            "Requirement already satisfied: certifi>=2017.4.17 in /usr/local/lib/python3.6/dist-packages (from requests<3,>=2.21.0->tensorboard<2.1.0,>=2.0.0->tensorflow-gpu==2.0) (2020.4.5.2)\n",
            "Requirement already satisfied: requests-oauthlib>=0.7.0 in /usr/local/lib/python3.6/dist-packages (from google-auth-oauthlib<0.5,>=0.4.1->tensorboard<2.1.0,>=2.0.0->tensorflow-gpu==2.0) (1.3.0)\n",
            "Requirement already satisfied: importlib-metadata; python_version < \"3.8\" in /usr/local/lib/python3.6/dist-packages (from markdown>=2.6.8->tensorboard<2.1.0,>=2.0.0->tensorflow-gpu==2.0) (1.6.1)\n",
            "Requirement already satisfied: pyasn1-modules>=0.2.1 in /usr/local/lib/python3.6/dist-packages (from google-auth<2,>=1.6.3->tensorboard<2.1.0,>=2.0.0->tensorflow-gpu==2.0) (0.2.8)\n",
            "Requirement already satisfied: cachetools<5.0,>=2.0.0 in /usr/local/lib/python3.6/dist-packages (from google-auth<2,>=1.6.3->tensorboard<2.1.0,>=2.0.0->tensorflow-gpu==2.0) (4.1.0)\n",
            "Requirement already satisfied: rsa<5,>=3.1.4; python_version >= \"3\" in /usr/local/lib/python3.6/dist-packages (from google-auth<2,>=1.6.3->tensorboard<2.1.0,>=2.0.0->tensorflow-gpu==2.0) (4.6)\n",
            "Requirement already satisfied: oauthlib>=3.0.0 in /usr/local/lib/python3.6/dist-packages (from requests-oauthlib>=0.7.0->google-auth-oauthlib<0.5,>=0.4.1->tensorboard<2.1.0,>=2.0.0->tensorflow-gpu==2.0) (3.1.0)\n",
            "Requirement already satisfied: zipp>=0.5 in /usr/local/lib/python3.6/dist-packages (from importlib-metadata; python_version < \"3.8\"->markdown>=2.6.8->tensorboard<2.1.0,>=2.0.0->tensorflow-gpu==2.0) (3.1.0)\n",
            "Requirement already satisfied: pyasn1<0.5.0,>=0.4.6 in /usr/local/lib/python3.6/dist-packages (from pyasn1-modules>=0.2.1->google-auth<2,>=1.6.3->tensorboard<2.1.0,>=2.0.0->tensorflow-gpu==2.0) (0.4.8)\n",
            "Building wheels for collected packages: gast\n",
            "  Building wheel for gast (setup.py) ... \u001b[?25l\u001b[?25hdone\n",
            "  Created wheel for gast: filename=gast-0.2.2-cp36-none-any.whl size=7540 sha256=830823e706c48c742baea9a59d18c964bd5ff5b1cc79a5428f559f76eb471bec\n",
            "  Stored in directory: /root/.cache/pip/wheels/5c/2e/7e/a1d4d4fcebe6c381f378ce7743a3ced3699feb89bcfbdadadd\n",
            "Successfully built gast\n",
            "\u001b[31mERROR: tensorflow 2.2.0 has requirement gast==0.3.3, but you'll have gast 0.2.2 which is incompatible.\u001b[0m\n",
            "\u001b[31mERROR: tensorflow 2.2.0 has requirement tensorboard<2.3.0,>=2.2.0, but you'll have tensorboard 2.0.2 which is incompatible.\u001b[0m\n",
            "\u001b[31mERROR: tensorflow 2.2.0 has requirement tensorflow-estimator<2.3.0,>=2.2.0, but you'll have tensorflow-estimator 2.0.1 which is incompatible.\u001b[0m\n",
            "\u001b[31mERROR: tensorflow-probability 0.10.0 has requirement gast>=0.3.2, but you'll have gast 0.2.2 which is incompatible.\u001b[0m\n",
            "Installing collected packages: gast, tensorboard, tensorflow-estimator, tensorflow-gpu\n",
            "  Found existing installation: gast 0.3.3\n",
            "    Uninstalling gast-0.3.3:\n",
            "      Successfully uninstalled gast-0.3.3\n",
            "  Found existing installation: tensorboard 2.2.2\n",
            "    Uninstalling tensorboard-2.2.2:\n",
            "      Successfully uninstalled tensorboard-2.2.2\n",
            "  Found existing installation: tensorflow-estimator 2.2.0\n",
            "    Uninstalling tensorflow-estimator-2.2.0:\n",
            "      Successfully uninstalled tensorflow-estimator-2.2.0\n",
            "Successfully installed gast-0.2.2 tensorboard-2.0.2 tensorflow-estimator-2.0.1 tensorflow-gpu-2.0.0\n"
          ],
          "name": "stdout"
        }
      ]
    },
    {
      "cell_type": "code",
      "metadata": {
        "id": "zfxOPCl7-Wp7",
        "colab_type": "code",
        "colab": {
          "base_uri": "https://localhost:8080/",
          "height": 102
        },
        "outputId": "a88e010b-9235-44a5-dba9-40d93d0e37c1"
      },
      "source": [
        "!pip install requests"
      ],
      "execution_count": 4,
      "outputs": [
        {
          "output_type": "stream",
          "text": [
            "Requirement already satisfied: requests in /usr/local/lib/python3.6/dist-packages (2.23.0)\n",
            "Requirement already satisfied: idna<3,>=2.5 in /usr/local/lib/python3.6/dist-packages (from requests) (2.9)\n",
            "Requirement already satisfied: chardet<4,>=3.0.2 in /usr/local/lib/python3.6/dist-packages (from requests) (3.0.4)\n",
            "Requirement already satisfied: certifi>=2017.4.17 in /usr/local/lib/python3.6/dist-packages (from requests) (2020.4.5.2)\n",
            "Requirement already satisfied: urllib3!=1.25.0,!=1.25.1,<1.26,>=1.21.1 in /usr/local/lib/python3.6/dist-packages (from requests) (1.24.3)\n"
          ],
          "name": "stdout"
        }
      ]
    },
    {
      "cell_type": "markdown",
      "metadata": {
        "id": "qsgbM_R2-ud_",
        "colab_type": "text"
      },
      "source": [
        "## Etapa 2: Importação das bibliotecas"
      ]
    },
    {
      "cell_type": "code",
      "metadata": {
        "id": "Y3taHerg-nkS",
        "colab_type": "code",
        "colab": {
          "base_uri": "https://localhost:8080/",
          "height": 105
        },
        "outputId": "0ccd6c40-06c9-4aca-815a-8355222781ca"
      },
      "source": [
        "import os\n",
        "import json\n",
        "import random\n",
        "import requests\n",
        "import subprocess\n",
        "import numpy as np\n",
        "import tensorflow.compat.v1 as tf\n",
        "tf.disable_v2_behavior()\n",
        "import matplotlib.pyplot as plt\n",
        "\n",
        "from tensorflow.keras.datasets import cifar10\n",
        "\n",
        "%matplotlib inline\n",
        "tf.__version__"
      ],
      "execution_count": 5,
      "outputs": [
        {
          "output_type": "stream",
          "text": [
            "WARNING:tensorflow:From /usr/local/lib/python3.6/dist-packages/tensorflow_core/python/compat/v2_compat.py:65: disable_resource_variables (from tensorflow.python.ops.variable_scope) is deprecated and will be removed in a future version.\n",
            "Instructions for updating:\n",
            "non-resource variables are not supported in the long term\n"
          ],
          "name": "stdout"
        },
        {
          "output_type": "execute_result",
          "data": {
            "text/plain": [
              "'2.0.0'"
            ]
          },
          "metadata": {
            "tags": []
          },
          "execution_count": 5
        }
      ]
    },
    {
      "cell_type": "markdown",
      "metadata": {
        "id": "90mWV1g6_TSt",
        "colab_type": "text"
      },
      "source": [
        "## Etapa 3: Pré-processamento"
      ]
    },
    {
      "cell_type": "markdown",
      "metadata": {
        "id": "dJsURBeA_XEe",
        "colab_type": "text"
      },
      "source": [
        "### Carregando a base de dados"
      ]
    },
    {
      "cell_type": "code",
      "metadata": {
        "id": "zj89bRDaYV2c",
        "colab_type": "code",
        "colab": {
          "base_uri": "https://localhost:8080/",
          "height": 51
        },
        "outputId": "d0d4f843-296e-43b9-bbdd-df1a0c1ca38f"
      },
      "source": [
        "(X_train, y_train), (X_test, y_test) = cifar10.load_data()"
      ],
      "execution_count": 6,
      "outputs": [
        {
          "output_type": "stream",
          "text": [
            "Downloading data from https://www.cs.toronto.edu/~kriz/cifar-10-python.tar.gz\n",
            "170500096/170498071 [==============================] - 13s 0us/step\n"
          ],
          "name": "stdout"
        }
      ]
    },
    {
      "cell_type": "code",
      "metadata": {
        "id": "OqQV6E-vYcbh",
        "colab_type": "code",
        "colab": {}
      },
      "source": [
        "class_names = ['airplane', 'automobile', 'bird', 'cat', 'deer', 'dog', 'frog', 'horse', 'ship', 'truck']"
      ],
      "execution_count": 7,
      "outputs": []
    },
    {
      "cell_type": "markdown",
      "metadata": {
        "id": "B_adA5GI_ZGK",
        "colab_type": "text"
      },
      "source": [
        "### Normalização das imagens"
      ]
    },
    {
      "cell_type": "code",
      "metadata": {
        "id": "pTFerN2jYrRk",
        "colab_type": "code",
        "colab": {}
      },
      "source": [
        "X_train = X_train / 255.0\n",
        "X_test = X_test / 255.0"
      ],
      "execution_count": 8,
      "outputs": []
    },
    {
      "cell_type": "code",
      "metadata": {
        "id": "kWyXhqtQYxjC",
        "colab_type": "code",
        "colab": {
          "base_uri": "https://localhost:8080/",
          "height": 34
        },
        "outputId": "1fe4b615-e2e6-42d9-ad6b-ad03fb6b4bbf"
      },
      "source": [
        "X_train.shape"
      ],
      "execution_count": 9,
      "outputs": [
        {
          "output_type": "execute_result",
          "data": {
            "text/plain": [
              "(50000, 32, 32, 3)"
            ]
          },
          "metadata": {
            "tags": []
          },
          "execution_count": 9
        }
      ]
    },
    {
      "cell_type": "code",
      "metadata": {
        "id": "UsvVsl5UbY5x",
        "colab_type": "code",
        "colab": {
          "base_uri": "https://localhost:8080/",
          "height": 34
        },
        "outputId": "70f38d7e-93a1-4968-e84a-1436fd70a700"
      },
      "source": [
        "X_test.shape"
      ],
      "execution_count": 10,
      "outputs": [
        {
          "output_type": "execute_result",
          "data": {
            "text/plain": [
              "(10000, 32, 32, 3)"
            ]
          },
          "metadata": {
            "tags": []
          },
          "execution_count": 10
        }
      ]
    },
    {
      "cell_type": "code",
      "metadata": {
        "id": "kKBLdF7W9LHS",
        "colab_type": "code",
        "colab": {
          "base_uri": "https://localhost:8080/",
          "height": 136
        },
        "outputId": "0648af10-8649-41fb-8883-6b89371c71da"
      },
      "source": [
        "y_test"
      ],
      "execution_count": 11,
      "outputs": [
        {
          "output_type": "execute_result",
          "data": {
            "text/plain": [
              "array([[3],\n",
              "       [8],\n",
              "       [8],\n",
              "       ...,\n",
              "       [5],\n",
              "       [1],\n",
              "       [7]], dtype=uint8)"
            ]
          },
          "metadata": {
            "tags": []
          },
          "execution_count": 11
        }
      ]
    },
    {
      "cell_type": "markdown",
      "metadata": {
        "id": "HO6nL_9sBLPo",
        "colab_type": "text"
      },
      "source": [
        "## Etapa 4: Definição do modelo\n",
        "\n",
        "NOTA: Estamos usando o mesmo modelo da seção sobre Redes Neurais Convolucionais"
      ]
    },
    {
      "cell_type": "code",
      "metadata": {
        "id": "FHyAvU8OA_aq",
        "colab_type": "code",
        "colab": {
          "base_uri": "https://localhost:8080/",
          "height": 88
        },
        "outputId": "1ce94383-0e95-426e-cfeb-771c5a878404"
      },
      "source": [
        "model = tf.keras.models.Sequential()\n",
        "model.add(tf.keras.layers.Conv2D(filters=32, kernel_size=3, padding=\"same\", activation=\"relu\", input_shape=[32, 32, 3]))\n",
        "model.add(tf.keras.layers.Conv2D(filters=32, kernel_size=3, padding=\"same\", activation=\"relu\"))\n",
        "model.add(tf.keras.layers.MaxPool2D(pool_size=2, strides=2, padding='valid'))\n",
        "model.add(tf.keras.layers.Conv2D(filters=64, kernel_size=3, padding=\"same\", activation=\"relu\"))\n",
        "model.add(tf.keras.layers.Conv2D(filters=64, kernel_size=3, padding=\"same\", activation=\"relu\"))\n",
        "model.add(tf.keras.layers.MaxPool2D(pool_size=2, strides=2, padding='valid'))\n",
        "model.add(tf.keras.layers.Flatten())\n",
        "model.add(tf.keras.layers.Dense(units=128, activation='relu'))\n",
        "model.add(tf.keras.layers.Dense(units=10, activation='softmax'))"
      ],
      "execution_count": 12,
      "outputs": [
        {
          "output_type": "stream",
          "text": [
            "WARNING:tensorflow:From /usr/local/lib/python3.6/dist-packages/tensorflow_core/python/ops/resource_variable_ops.py:1630: calling BaseResourceVariable.__init__ (from tensorflow.python.ops.resource_variable_ops) with constraint is deprecated and will be removed in a future version.\n",
            "Instructions for updating:\n",
            "If using Keras pass *_constraint arguments to layers.\n"
          ],
          "name": "stdout"
        }
      ]
    },
    {
      "cell_type": "markdown",
      "metadata": {
        "id": "J-7vFhykBgMj",
        "colab_type": "text"
      },
      "source": [
        "### Compilando o modelo"
      ]
    },
    {
      "cell_type": "code",
      "metadata": {
        "id": "5nqrVFn3BkeS",
        "colab_type": "code",
        "colab": {}
      },
      "source": [
        "model.compile(optimizer='Adam', \n",
        "              loss='sparse_categorical_crossentropy', \n",
        "              metrics=['sparse_categorical_accuracy'])"
      ],
      "execution_count": 13,
      "outputs": []
    },
    {
      "cell_type": "markdown",
      "metadata": {
        "id": "JJ1X_hgBBmx9",
        "colab_type": "text"
      },
      "source": [
        "### Treinando o modelo"
      ]
    },
    {
      "cell_type": "code",
      "metadata": {
        "id": "I7FSeHUkBpUq",
        "colab_type": "code",
        "colab": {
          "base_uri": "https://localhost:8080/",
          "height": 391
        },
        "outputId": "4de135c3-7080-4ea7-9fce-38896bb72383"
      },
      "source": [
        "model.fit(X_train, \n",
        "          y_train, \n",
        "          batch_size=128, \n",
        "          epochs=10)"
      ],
      "execution_count": 14,
      "outputs": [
        {
          "output_type": "stream",
          "text": [
            "Train on 50000 samples\n",
            "Epoch 1/10\n",
            "50000/50000 [==============================] - 11s 222us/sample - loss: 1.4867 - sparse_categorical_accuracy: 0.4633\n",
            "Epoch 2/10\n",
            "50000/50000 [==============================] - 4s 87us/sample - loss: 1.0310 - sparse_categorical_accuracy: 0.6393\n",
            "Epoch 3/10\n",
            "50000/50000 [==============================] - 4s 87us/sample - loss: 0.8593 - sparse_categorical_accuracy: 0.7011\n",
            "Epoch 4/10\n",
            "50000/50000 [==============================] - 4s 88us/sample - loss: 0.7392 - sparse_categorical_accuracy: 0.7425\n",
            "Epoch 5/10\n",
            "50000/50000 [==============================] - 4s 88us/sample - loss: 0.6396 - sparse_categorical_accuracy: 0.7771\n",
            "Epoch 6/10\n",
            "50000/50000 [==============================] - 4s 88us/sample - loss: 0.5552 - sparse_categorical_accuracy: 0.8063\n",
            "Epoch 7/10\n",
            "50000/50000 [==============================] - 4s 88us/sample - loss: 0.4747 - sparse_categorical_accuracy: 0.8343\n",
            "Epoch 8/10\n",
            "50000/50000 [==============================] - 4s 88us/sample - loss: 0.3946 - sparse_categorical_accuracy: 0.8610\n",
            "Epoch 9/10\n",
            "50000/50000 [==============================] - 4s 89us/sample - loss: 0.3206 - sparse_categorical_accuracy: 0.8887\n",
            "Epoch 10/10\n",
            "50000/50000 [==============================] - 4s 88us/sample - loss: 0.2517 - sparse_categorical_accuracy: 0.9121\n"
          ],
          "name": "stdout"
        },
        {
          "output_type": "execute_result",
          "data": {
            "text/plain": [
              "<tensorflow.python.keras.callbacks.History at 0x7f39660095f8>"
            ]
          },
          "metadata": {
            "tags": []
          },
          "execution_count": 14
        }
      ]
    },
    {
      "cell_type": "markdown",
      "metadata": {
        "id": "g6k_gnv5BqdT",
        "colab_type": "text"
      },
      "source": [
        "### Avaliação do modelo"
      ]
    },
    {
      "cell_type": "code",
      "metadata": {
        "id": "l0nHalVeBtAy",
        "colab_type": "code",
        "colab": {
          "base_uri": "https://localhost:8080/",
          "height": 34
        },
        "outputId": "c8e12f19-bd3d-436f-9335-555e365dde9e"
      },
      "source": [
        "test_loss, test_accuracy = model.evaluate(X_test, y_test)"
      ],
      "execution_count": 15,
      "outputs": [
        {
          "output_type": "stream",
          "text": [
            "10000/10000 [==============================] - 1s 86us/sample - loss: 0.9377 - sparse_categorical_accuracy: 0.7434\n"
          ],
          "name": "stdout"
        }
      ]
    },
    {
      "cell_type": "code",
      "metadata": {
        "id": "u9q7jsTuBuxT",
        "colab_type": "code",
        "colab": {
          "base_uri": "https://localhost:8080/",
          "height": 34
        },
        "outputId": "f7380d09-93a2-4fca-fe05-cd9bf16830dd"
      },
      "source": [
        "print(\"Test accuracy is {}\".format(test_accuracy))"
      ],
      "execution_count": 16,
      "outputs": [
        {
          "output_type": "stream",
          "text": [
            "Test accuracy is 0.743399977684021\n"
          ],
          "name": "stdout"
        }
      ]
    },
    {
      "cell_type": "markdown",
      "metadata": {
        "id": "945L3-2rDjFe",
        "colab_type": "text"
      },
      "source": [
        "## Etapa 5: Salvando o modelo para produção"
      ]
    },
    {
      "cell_type": "markdown",
      "metadata": {
        "id": "5a5uCiniDmgY",
        "colab_type": "text"
      },
      "source": [
        "### Criando o diretório para o modelo"
      ]
    },
    {
      "cell_type": "code",
      "metadata": {
        "id": "AWLAkNt1-SaC",
        "colab_type": "code",
        "colab": {}
      },
      "source": [
        "model_dir = \"model/\"\n",
        "version = 1"
      ],
      "execution_count": 17,
      "outputs": []
    },
    {
      "cell_type": "code",
      "metadata": {
        "id": "sl5eFF4K-a0C",
        "colab_type": "code",
        "colab": {
          "base_uri": "https://localhost:8080/",
          "height": 34
        },
        "outputId": "0f49bd17-2259-4240-b7b0-e7a82a465df7"
      },
      "source": [
        "export_path = os.path.join(model_dir, str(version))\n",
        "export_path"
      ],
      "execution_count": 18,
      "outputs": [
        {
          "output_type": "execute_result",
          "data": {
            "text/plain": [
              "'model/1'"
            ]
          },
          "metadata": {
            "tags": []
          },
          "execution_count": 18
        }
      ]
    },
    {
      "cell_type": "code",
      "metadata": {
        "id": "PuITmRAc-mQT",
        "colab_type": "code",
        "colab": {}
      },
      "source": [
        "if os.path.isdir(export_path):\n",
        "  !rm -r {export_path}"
      ],
      "execution_count": 19,
      "outputs": []
    },
    {
      "cell_type": "markdown",
      "metadata": {
        "id": "0RA2HuIUDrDQ",
        "colab_type": "text"
      },
      "source": [
        "### Salvando o modelo para o TensorFlow Serving"
      ]
    },
    {
      "cell_type": "code",
      "metadata": {
        "id": "V3vO0Hqc_W2h",
        "colab_type": "code",
        "colab": {
          "base_uri": "https://localhost:8080/",
          "height": 34
        },
        "outputId": "35547525-b91e-40c5-89c9-19d2c95bc923"
      },
      "source": [
        "model.input"
      ],
      "execution_count": 20,
      "outputs": [
        {
          "output_type": "execute_result",
          "data": {
            "text/plain": [
              "<tf.Tensor 'conv2d_input:0' shape=(?, 32, 32, 3) dtype=float32>"
            ]
          },
          "metadata": {
            "tags": []
          },
          "execution_count": 20
        }
      ]
    },
    {
      "cell_type": "code",
      "metadata": {
        "id": "LZ2VMaPH_t6a",
        "colab_type": "code",
        "colab": {
          "base_uri": "https://localhost:8080/",
          "height": 34
        },
        "outputId": "a2206bb9-f4ae-47de-d356-a400c532b3c2"
      },
      "source": [
        "model.outputs"
      ],
      "execution_count": 21,
      "outputs": [
        {
          "output_type": "execute_result",
          "data": {
            "text/plain": [
              "[<tf.Tensor 'dense_1/Softmax:0' shape=(?, 10) dtype=float32>]"
            ]
          },
          "metadata": {
            "tags": []
          },
          "execution_count": 21
        }
      ]
    },
    {
      "cell_type": "code",
      "metadata": {
        "id": "O0G_Xdy3_5Dd",
        "colab_type": "code",
        "colab": {}
      },
      "source": [
        "o = {t.name: t for t in model.outputs}"
      ],
      "execution_count": 22,
      "outputs": []
    },
    {
      "cell_type": "code",
      "metadata": {
        "id": "SuWVEFKi_8nr",
        "colab_type": "code",
        "colab": {
          "base_uri": "https://localhost:8080/",
          "height": 34
        },
        "outputId": "84c3b65d-b576-4c06-97c9-8c8c7d1ade4c"
      },
      "source": [
        "o"
      ],
      "execution_count": 23,
      "outputs": [
        {
          "output_type": "execute_result",
          "data": {
            "text/plain": [
              "{'dense_1/Softmax:0': <tf.Tensor 'dense_1/Softmax:0' shape=(?, 10) dtype=float32>}"
            ]
          },
          "metadata": {
            "tags": []
          },
          "execution_count": 23
        }
      ]
    },
    {
      "cell_type": "code",
      "metadata": {
        "id": "hpiYG5Do-5vp",
        "colab_type": "code",
        "colab": {
          "base_uri": "https://localhost:8080/",
          "height": 190
        },
        "outputId": "af9c1cd2-3611-42a8-d6f1-ec71c5dc27bd"
      },
      "source": [
        "tf.saved_model.simple_save(tf.keras.backend.get_session(), export_dir = export_path,\n",
        "                           inputs = {\"input_image\": model.input},\n",
        "                           outputs = {t.name: t for t in model.outputs}) #Função simple_save não mais compatível com > Tensorflow 2.0, necessário comando tensorflow.compat.v1 no import"
      ],
      "execution_count": 24,
      "outputs": [
        {
          "output_type": "stream",
          "text": [
            "WARNING:tensorflow:From <ipython-input-24-015241c67718>:3: simple_save (from tensorflow.python.saved_model.simple_save) is deprecated and will be removed in a future version.\n",
            "Instructions for updating:\n",
            "This function will only be available through the v1 compatibility library as tf.compat.v1.saved_model.simple_save.\n",
            "WARNING:tensorflow:From /usr/local/lib/python3.6/dist-packages/tensorflow_core/python/saved_model/signature_def_utils_impl.py:201: build_tensor_info (from tensorflow.python.saved_model.utils_impl) is deprecated and will be removed in a future version.\n",
            "Instructions for updating:\n",
            "This function will only be available through the v1 compatibility library as tf.compat.v1.saved_model.utils.build_tensor_info or tf.compat.v1.saved_model.build_tensor_info.\n",
            "INFO:tensorflow:Assets added to graph.\n",
            "INFO:tensorflow:No assets to write.\n",
            "INFO:tensorflow:SavedModel written to: model/1/saved_model.pb\n"
          ],
          "name": "stdout"
        }
      ]
    },
    {
      "cell_type": "markdown",
      "metadata": {
        "id": "1o8BlXcBFvIm",
        "colab_type": "text"
      },
      "source": [
        "## Etapa 6: Configuração do ambiente de produção"
      ]
    },
    {
      "cell_type": "markdown",
      "metadata": {
        "id": "rSFWzxOrF0ft",
        "colab_type": "text"
      },
      "source": [
        "### Exportando o MODEL_DIR para as variáveis de ambiente"
      ]
    },
    {
      "cell_type": "code",
      "metadata": {
        "id": "Gt_EZ4IEB0IU",
        "colab_type": "code",
        "colab": {}
      },
      "source": [
        "os.environ[\"model_dir\"] = os.path.abspath(model_dir)"
      ],
      "execution_count": 25,
      "outputs": []
    },
    {
      "cell_type": "markdown",
      "metadata": {
        "id": "8TXejqj5F5oj",
        "colab_type": "text"
      },
      "source": [
        "### Executando a API TensorFlow Serving REST"
      ]
    },
    {
      "cell_type": "code",
      "metadata": {
        "id": "Pln1AJHKCPt6",
        "colab_type": "code",
        "colab": {
          "base_uri": "https://localhost:8080/",
          "height": 34
        },
        "outputId": "a730e58d-1cfa-4e78-be6c-5c10805c9553"
      },
      "source": [
        "%%bash --bg\n",
        "nohup tensorflow_model_server --rest_api_port=8501 --model_name=cifar10 --model_base_path=\"${model_dir}\" >server.log 2>&1"
      ],
      "execution_count": 26,
      "outputs": [
        {
          "output_type": "stream",
          "text": [
            "Starting job # 0 in a separate thread.\n"
          ],
          "name": "stdout"
        }
      ]
    },
    {
      "cell_type": "code",
      "metadata": {
        "id": "JrDmb-50DByK",
        "colab_type": "code",
        "colab": {
          "base_uri": "https://localhost:8080/",
          "height": 207
        },
        "outputId": "740fe343-7465-4b36-c60e-6bace9fbf80f"
      },
      "source": [
        "!tail server.log"
      ],
      "execution_count": 27,
      "outputs": [
        {
          "output_type": "stream",
          "text": [
            "2020-06-23 00:41:09.549771: I external/org_tensorflow/tensorflow/cc/saved_model/loader.cc:295] Reading SavedModel debug info (if present) from: /content/model/1\n",
            "2020-06-23 00:41:09.549977: I external/org_tensorflow/tensorflow/core/platform/cpu_feature_guard.cc:143] Your CPU supports instructions that this TensorFlow binary was not compiled to use: AVX2 FMA\n",
            "2020-06-23 00:41:09.564452: I external/org_tensorflow/tensorflow/cc/saved_model/loader.cc:234] Restoring SavedModel bundle.\n",
            "2020-06-23 00:41:09.739202: I external/org_tensorflow/tensorflow/cc/saved_model/loader.cc:364] SavedModel load for tags { serve }; Status: success: OK. Took 191881 microseconds.\n",
            "2020-06-23 00:41:09.739934: I tensorflow_serving/servables/tensorflow/saved_model_warmup.cc:105] No warmup data file found at /content/model/1/assets.extra/tf_serving_warmup_requests\n",
            "2020-06-23 00:41:09.740025: I tensorflow_serving/core/loader_harness.cc:87] Successfully loaded servable version {name: cifar10 version: 1}\n",
            "2020-06-23 00:41:09.741850: I tensorflow_serving/model_servers/server.cc:355] Running gRPC ModelServer at 0.0.0.0:8500 ...\n",
            "[warn] getaddrinfo: address family for nodename not supported\n",
            "2020-06-23 00:41:09.742843: I tensorflow_serving/model_servers/server.cc:375] Exporting HTTP/REST API at:localhost:8501 ...\n",
            "[evhttp_server.cc : 238] NET_LOG: Entering the event loop ...\n"
          ],
          "name": "stdout"
        }
      ]
    },
    {
      "cell_type": "markdown",
      "metadata": {
        "id": "ICEqKpKUOC2F",
        "colab_type": "text"
      },
      "source": [
        "## Etapa 7: Criando a primeira requisição POST"
      ]
    },
    {
      "cell_type": "code",
      "metadata": {
        "id": "blrM1Sg8IEGf",
        "colab_type": "code",
        "colab": {}
      },
      "source": [
        "random_image = np.random.randint(0, len(X_test))"
      ],
      "execution_count": 28,
      "outputs": []
    },
    {
      "cell_type": "code",
      "metadata": {
        "id": "VPQf6ZwxIM4L",
        "colab_type": "code",
        "colab": {
          "base_uri": "https://localhost:8080/",
          "height": 34
        },
        "outputId": "6da7193d-f34e-4f7c-d15a-94b565d3b506"
      },
      "source": [
        "random_image"
      ],
      "execution_count": 29,
      "outputs": [
        {
          "output_type": "execute_result",
          "data": {
            "text/plain": [
              "2704"
            ]
          },
          "metadata": {
            "tags": []
          },
          "execution_count": 29
        }
      ]
    },
    {
      "cell_type": "markdown",
      "metadata": {
        "id": "tqOfIBMNOK8p",
        "colab_type": "text"
      },
      "source": [
        "### Criando o objeto JSON"
      ]
    },
    {
      "cell_type": "code",
      "metadata": {
        "id": "F1VAGjNYIXNJ",
        "colab_type": "code",
        "colab": {}
      },
      "source": [
        "data = json.dumps({\"signature_name\": \"serving_default\", \"instances\": [X_test[random_image].tolist()]})"
      ],
      "execution_count": 30,
      "outputs": []
    },
    {
      "cell_type": "code",
      "metadata": {
        "id": "Tl7dh_3PIr66",
        "colab_type": "code",
        "colab": {
          "base_uri": "https://localhost:8080/",
          "height": 54
        },
        "outputId": "30b4752c-c5df-4b25-b61a-d84a6b460873"
      },
      "source": [
        "data"
      ],
      "execution_count": 31,
      "outputs": [
        {
          "output_type": "execute_result",
          "data": {
            "text/plain": [
              "'{\"signature_name\": \"serving_default\", \"instances\": [[[[0.5058823529411764, 0.5490196078431373, 0.6196078431372549], [0.5098039215686274, 0.5529411764705883, 0.6235294117647059], [0.5176470588235295, 0.5607843137254902, 0.6313725490196078], [0.5254901960784314, 0.5647058823529412, 0.6352941176470588], [0.5254901960784314, 0.5529411764705883, 0.6274509803921569], [0.5490196078431373, 0.5764705882352941, 0.6509803921568628], [0.5490196078431373, 0.5764705882352941, 0.6509803921568628], [0.5411764705882353, 0.5686274509803921, 0.6431372549019608], [0.5686274509803921, 0.592156862745098, 0.6666666666666666], [0.5568627450980392, 0.5647058823529412, 0.6470588235294118], [0.5803921568627451, 0.5882352941176471, 0.6705882352941176], [0.5490196078431373, 0.5568627450980392, 0.6392156862745098], [0.5882352941176471, 0.596078431372549, 0.6784313725490196], [0.5607843137254902, 0.5686274509803921, 0.6509803921568628], [0.5882352941176471, 0.596078431372549, 0.6784313725490196], [0.5882352941176471, 0.596078431372549, 0.6784313725490196], [0.5607843137254902, 0.5686274509803921, 0.6509803921568628], [0.6274509803921569, 0.6352941176470588, 0.7176470588235294], [0.6, 0.6078431372549019, 0.6862745098039216], [0.5176470588235295, 0.5294117647058824, 0.596078431372549], [0.5607843137254902, 0.5725490196078431, 0.6392156862745098], [0.615686274509804, 0.6274509803921569, 0.6941176470588235], [0.6274509803921569, 0.6392156862745098, 0.7058823529411765], [0.5568627450980392, 0.5686274509803921, 0.6235294117647059], [0.3568627450980392, 0.3803921568627451, 0.403921568627451], [0.15294117647058825, 0.20784313725490197, 0.2196078431372549], [0.28627450980392155, 0.34509803921568627, 0.3568627450980392], [0.3411764705882353, 0.3764705882352941, 0.396078431372549], [0.6862745098039216, 0.6980392156862745, 0.7333333333333333], [0.6862745098039216, 0.6941176470588235, 0.7490196078431373], [0.6392156862745098, 0.6470588235294118, 0.6941176470588235], [0.7490196078431373, 0.7607843137254902, 0.796078431372549]], [[0.5058823529411764, 0.5490196078431373, 0.6196078431372549], [0.5098039215686274, 0.5529411764705883, 0.6235294117647059], [0.5176470588235295, 0.5607843137254902, 0.6313725490196078], [0.5137254901960784, 0.5568627450980392, 0.6274509803921569], [0.5411764705882353, 0.5686274509803921, 0.6431372549019608], [0.5450980392156862, 0.5725490196078431, 0.6470588235294118], [0.5411764705882353, 0.5686274509803921, 0.6431372549019608], [0.5647058823529412, 0.592156862745098, 0.6666666666666666], [0.5490196078431373, 0.5764705882352941, 0.6509803921568628], [0.5647058823529412, 0.5764705882352941, 0.6588235294117647], [0.5764705882352941, 0.5843137254901961, 0.6666666666666666], [0.5607843137254902, 0.5686274509803921, 0.6509803921568628], [0.5568627450980392, 0.5647058823529412, 0.6470588235294118], [0.6, 0.6078431372549019, 0.6862745098039216], [0.5529411764705883, 0.5647058823529412, 0.6431372549019608], [0.6196078431372549, 0.6313725490196078, 0.7098039215686275], [0.5764705882352941, 0.5882352941176471, 0.6627450980392157], [0.5411764705882353, 0.5529411764705883, 0.6274509803921569], [0.5411764705882353, 0.5529411764705883, 0.6274509803921569], [0.5529411764705883, 0.5647058823529412, 0.6274509803921569], [0.611764705882353, 0.6235294117647059, 0.6862745098039216], [0.6470588235294118, 0.6588235294117647, 0.7215686274509804], [0.6745098039215687, 0.6862745098039216, 0.7490196078431373], [0.5568627450980392, 0.5686274509803921, 0.6196078431372549], [0.37254901960784315, 0.396078431372549, 0.4196078431372549], [0.16862745098039217, 0.2235294117647059, 0.23529411764705882], [0.25882352941176473, 0.3176470588235294, 0.32941176470588235], [0.34509803921568627, 0.3803921568627451, 0.4], [0.6862745098039216, 0.6980392156862745, 0.7372549019607844], [0.6823529411764706, 0.6901960784313725, 0.7411764705882353], [0.7019607843137254, 0.7098039215686275, 0.7529411764705882], [0.6549019607843137, 0.6666666666666666, 0.6980392156862745]], [[0.49411764705882355, 0.5372549019607843, 0.6078431372549019], [0.4980392156862745, 0.5411764705882353, 0.611764705882353], [0.5098039215686274, 0.5529411764705883, 0.6235294117647059], [0.5215686274509804, 0.5647058823529412, 0.6352941176470588], [0.5333333333333333, 0.5647058823529412, 0.6392156862745098], [0.5254901960784314, 0.5529411764705883, 0.6274509803921569], [0.5450980392156862, 0.5725490196078431, 0.6470588235294118], [0.5529411764705883, 0.5803921568627451, 0.6549019607843137], [0.5411764705882353, 0.5686274509803921, 0.6431372549019608], [0.5725490196078431, 0.5843137254901961, 0.6666666666666666], [0.5647058823529412, 0.5725490196078431, 0.6549019607843137], [0.5882352941176471, 0.596078431372549, 0.6784313725490196], [0.5647058823529412, 0.5725490196078431, 0.6549019607843137], [0.5882352941176471, 0.596078431372549, 0.6784313725490196], [0.5764705882352941, 0.5882352941176471, 0.6588235294117647], [0.5333333333333333, 0.5450980392156862, 0.615686274509804], [0.5294117647058824, 0.5411764705882353, 0.6078431372549019], [0.5137254901960784, 0.5254901960784314, 0.596078431372549], [0.6039215686274509, 0.615686274509804, 0.6823529411764706], [0.6274509803921569, 0.6392156862745098, 0.6941176470588235], [0.6274509803921569, 0.6431372549019608, 0.6941176470588235], [0.6352941176470588, 0.6470588235294118, 0.6980392156862745], [0.6627450980392157, 0.6745098039215687, 0.7254901960784313], [0.6235294117647059, 0.6352941176470588, 0.6784313725490196], [0.3686274509803922, 0.39215686274509803, 0.41568627450980394], [0.19607843137254902, 0.24705882352941178, 0.2627450980392157], [0.24313725490196078, 0.30196078431372547, 0.3137254901960784], [0.3843137254901961, 0.4235294117647059, 0.4392156862745098], [0.6196078431372549, 0.6313725490196078, 0.6666666666666666], [0.6980392156862745, 0.7058823529411765, 0.7529411764705882], [0.7568627450980392, 0.7686274509803922, 0.803921568627451], [0.6666666666666666, 0.6784313725490196, 0.7019607843137254]], [[0.4745098039215686, 0.5176470588235295, 0.5882352941176471], [0.48627450980392156, 0.5294117647058824, 0.6], [0.4980392156862745, 0.5411764705882353, 0.611764705882353], [0.4980392156862745, 0.5372549019607843, 0.611764705882353], [0.5137254901960784, 0.5411764705882353, 0.615686274509804], [0.5294117647058824, 0.5568627450980392, 0.6313725490196078], [0.5333333333333333, 0.5607843137254902, 0.6352941176470588], [0.5294117647058824, 0.5568627450980392, 0.6313725490196078], [0.5529411764705883, 0.5803921568627451, 0.6549019607843137], [0.5490196078431373, 0.5568627450980392, 0.6392156862745098], [0.5568627450980392, 0.5647058823529412, 0.6470588235294118], [0.5529411764705883, 0.5607843137254902, 0.6431372549019608], [0.5882352941176471, 0.596078431372549, 0.6784313725490196], [0.5411764705882353, 0.5490196078431373, 0.6274509803921569], [0.5098039215686274, 0.5215686274509804, 0.5843137254901961], [0.5137254901960784, 0.5254901960784314, 0.5882352941176471], [0.592156862745098, 0.6039215686274509, 0.6666666666666666], [0.6, 0.611764705882353, 0.6745098039215687], [0.5882352941176471, 0.6, 0.6588235294117647], [0.615686274509804, 0.6313725490196078, 0.6784313725490196], [0.6352941176470588, 0.6509803921568628, 0.6980392156862745], [0.596078431372549, 0.611764705882353, 0.6588235294117647], [0.6274509803921569, 0.6431372549019608, 0.6901960784313725], [0.6627450980392157, 0.6784313725490196, 0.7215686274509804], [0.35294117647058826, 0.3764705882352941, 0.4], [0.2, 0.25098039215686274, 0.26666666666666666], [0.23137254901960785, 0.28627450980392155, 0.2980392156862745], [0.4, 0.4392156862745098, 0.4588235294117647], [0.5333333333333333, 0.5450980392156862, 0.5764705882352941], [0.7176470588235294, 0.7294117647058823, 0.7686274509803922], [0.7411764705882353, 0.7529411764705882, 0.7843137254901961], [0.6784313725490196, 0.6941176470588235, 0.7098039215686275]], [[0.4745098039215686, 0.5176470588235295, 0.5882352941176471], [0.47843137254901963, 0.5215686274509804, 0.592156862745098], [0.48627450980392156, 0.5294117647058824, 0.6], [0.49411764705882355, 0.5333333333333333, 0.6039215686274509], [0.5176470588235295, 0.5450980392156862, 0.6196078431372549], [0.5176470588235295, 0.5450980392156862, 0.6196078431372549], [0.5215686274509804, 0.5490196078431373, 0.6235294117647059], [0.5254901960784314, 0.5529411764705883, 0.6274509803921569], [0.5450980392156862, 0.5686274509803921, 0.6470588235294118], [0.5333333333333333, 0.5411764705882353, 0.6235294117647059], [0.5647058823529412, 0.5725490196078431, 0.6549019607843137], [0.5294117647058824, 0.5372549019607843, 0.6196078431372549], [0.5333333333333333, 0.5411764705882353, 0.6235294117647059], [0.5019607843137255, 0.5137254901960784, 0.5882352941176471], [0.5607843137254902, 0.5725490196078431, 0.6274509803921569], [0.5882352941176471, 0.6, 0.6549019607843137], [0.5843137254901961, 0.596078431372549, 0.6509803921568628], [0.6235294117647059, 0.6352941176470588, 0.6901960784313725], [0.596078431372549, 0.611764705882353, 0.6627450980392157], [0.5843137254901961, 0.6, 0.6470588235294118], [0.6196078431372549, 0.6352941176470588, 0.6823529411764706], [0.6352941176470588, 0.6509803921568628, 0.6980392156862745], [0.596078431372549, 0.611764705882353, 0.6549019607843137], [0.6470588235294118, 0.6627450980392157, 0.7019607843137254], [0.34509803921568627, 0.37254901960784315, 0.39215686274509803], [0.20784313725490197, 0.2627450980392157, 0.27450980392156865], [0.21176470588235294, 0.27058823529411763, 0.2823529411764706], [0.3843137254901961, 0.4235294117647059, 0.44313725490196076], [0.5294117647058824, 0.5411764705882353, 0.5725490196078431], [0.6509803921568628, 0.6627450980392157, 0.6941176470588235], [0.6941176470588235, 0.7058823529411765, 0.7294117647058823], [0.7176470588235294, 0.7294117647058823, 0.7450980392156863]], [[0.4823529411764706, 0.5254901960784314, 0.596078431372549], [0.49019607843137253, 0.5333333333333333, 0.6039215686274509], [0.5058823529411764, 0.5490196078431373, 0.6196078431372549], [0.5137254901960784, 0.5529411764705883, 0.6235294117647059], [0.5215686274509804, 0.5490196078431373, 0.6235294117647059], [0.5137254901960784, 0.5411764705882353, 0.615686274509804], [0.5333333333333333, 0.5607843137254902, 0.6352941176470588], [0.5294117647058824, 0.5568627450980392, 0.6313725490196078], [0.5294117647058824, 0.5529411764705883, 0.6274509803921569], [0.5568627450980392, 0.5647058823529412, 0.6470588235294118], [0.5215686274509804, 0.5294117647058824, 0.611764705882353], [0.5058823529411764, 0.5137254901960784, 0.596078431372549], [0.5137254901960784, 0.5215686274509804, 0.6039215686274509], [0.5882352941176471, 0.596078431372549, 0.6705882352941176], [0.5607843137254902, 0.5764705882352941, 0.6274509803921569], [0.6039215686274509, 0.6196078431372549, 0.6666666666666666], [0.5843137254901961, 0.6, 0.6470588235294118], [0.6, 0.615686274509804, 0.6627450980392157], [0.611764705882353, 0.6274509803921569, 0.6745098039215687], [0.6, 0.615686274509804, 0.6588235294117647], [0.5058823529411764, 0.5215686274509804, 0.5647058823529412], [0.5882352941176471, 0.6039215686274509, 0.6431372549019608], [0.6235294117647059, 0.6392156862745098, 0.6784313725490196], [0.5882352941176471, 0.6, 0.6392156862745098], [0.3764705882352941, 0.403921568627451, 0.4235294117647059], [0.23137254901960785, 0.2823529411764706, 0.29411764705882354], [0.19215686274509805, 0.25098039215686274, 0.2627450980392157], [0.39215686274509803, 0.43137254901960786, 0.4470588235294118], [0.5725490196078431, 0.5843137254901961, 0.615686274509804], [0.7098039215686275, 0.7215686274509804, 0.7490196078431373], [0.6196078431372549, 0.6313725490196078, 0.6509803921568628], [0.7411764705882353, 0.7529411764705882, 0.7647058823529411]], [[0.48627450980392156, 0.5254901960784314, 0.596078431372549], [0.48627450980392156, 0.5254901960784314, 0.596078431372549], [0.49411764705882355, 0.5372549019607843, 0.6078431372549019], [0.5019607843137255, 0.5411764705882353, 0.615686274509804], [0.5098039215686274, 0.5411764705882353, 0.611764705882353], [0.5254901960784314, 0.5529411764705883, 0.6274509803921569], [0.5176470588235295, 0.5450980392156862, 0.6196078431372549], [0.5254901960784314, 0.5529411764705883, 0.6274509803921569], [0.5372549019607843, 0.5607843137254902, 0.6352941176470588], [0.5215686274509804, 0.5294117647058824, 0.611764705882353], [0.47843137254901963, 0.48627450980392156, 0.5686274509803921], [0.5686274509803921, 0.5764705882352941, 0.6588235294117647], [0.5686274509803921, 0.5764705882352941, 0.6588235294117647], [0.5803921568627451, 0.592156862745098, 0.6666666666666666], [0.592156862745098, 0.6039215686274509, 0.6549019607843137], [0.5882352941176471, 0.6039215686274509, 0.6509803921568628], [0.596078431372549, 0.611764705882353, 0.6588235294117647], [0.5803921568627451, 0.592156862745098, 0.6392156862745098], [0.6196078431372549, 0.6352941176470588, 0.6784313725490196], [0.6313725490196078, 0.6509803921568628, 0.6862745098039216], [0.4, 0.41568627450980394, 0.45098039215686275], [0.44313725490196076, 0.4588235294117647, 0.49411764705882355], [0.6823529411764706, 0.6980392156862745, 0.7333333333333333], [0.5725490196078431, 0.5882352941176471, 0.6196078431372549], [0.396078431372549, 0.4196078431372549, 0.44313725490196076], [0.25882352941176473, 0.30980392156862746, 0.3254901960784314], [0.18823529411764706, 0.24313725490196078, 0.25882352941176473], [0.396078431372549, 0.43529411764705883, 0.4549019607843137], [0.596078431372549, 0.6078431372549019, 0.6352941176470588], [0.7333333333333333, 0.7450980392156863, 0.7647058823529411], [0.6392156862745098, 0.6549019607843137, 0.6666666666666666], [0.6823529411764706, 0.7019607843137254, 0.7058823529411765]], [[0.4823529411764706, 0.5294117647058824, 0.6], [0.4823529411764706, 0.5254901960784314, 0.596078431372549], [0.49019607843137253, 0.5333333333333333, 0.6039215686274509], [0.49411764705882355, 0.5333333333333333, 0.6039215686274509], [0.5137254901960784, 0.5411764705882353, 0.615686274509804], [0.5254901960784314, 0.5490196078431373, 0.6235294117647059], [0.5294117647058824, 0.5568627450980392, 0.6274509803921569], [0.5137254901960784, 0.5411764705882353, 0.611764705882353], [0.48627450980392156, 0.5058823529411764, 0.5803921568627451], [0.4980392156862745, 0.5098039215686274, 0.5843137254901961], [0.5411764705882353, 0.5490196078431373, 0.6274509803921569], [0.5568627450980392, 0.5647058823529412, 0.6431372549019608], [0.5803921568627451, 0.5882352941176471, 0.6666666666666666], [0.5568627450980392, 0.5686274509803921, 0.6352941176470588], [0.592156862745098, 0.6078431372549019, 0.6549019607843137], [0.5686274509803921, 0.5843137254901961, 0.6274509803921569], [0.6, 0.615686274509804, 0.6627450980392157], [0.6039215686274509, 0.6196078431372549, 0.6666666666666666], [0.6, 0.615686274509804, 0.6549019607843137], [0.6196078431372549, 0.6313725490196078, 0.6627450980392157], [0.3764705882352941, 0.38823529411764707, 0.4196078431372549], [0.3803921568627451, 0.39215686274509803, 0.4196078431372549], [0.6666666666666666, 0.6784313725490196, 0.7098039215686275], [0.6274509803921569, 0.6392156862745098, 0.6666666666666666], [0.3843137254901961, 0.403921568627451, 0.42745098039215684], [0.2784313725490196, 0.32941176470588235, 0.3411764705882353], [0.16470588235294117, 0.2235294117647059, 0.23137254901960785], [0.41568627450980394, 0.45098039215686275, 0.4666666666666667], [0.5843137254901961, 0.596078431372549, 0.6196078431372549], [0.6901960784313725, 0.6980392156862745, 0.7176470588235294], [0.7176470588235294, 0.7254901960784313, 0.7372549019607844], [0.6941176470588235, 0.7019607843137254, 0.7058823529411765]], [[0.4666666666666667, 0.5254901960784314, 0.5882352941176471], [0.48627450980392156, 0.5333333333333333, 0.6], [0.5058823529411764, 0.5372549019607843, 0.611764705882353], [0.5137254901960784, 0.5411764705882353, 0.615686274509804], [0.5254901960784314, 0.5411764705882353, 0.6078431372549019], [0.5333333333333333, 0.5490196078431373, 0.615686274509804], [0.5137254901960784, 0.5294117647058824, 0.596078431372549], [0.4745098039215686, 0.49019607843137253, 0.5607843137254902], [0.5058823529411764, 0.5176470588235295, 0.5843137254901961], [0.5372549019607843, 0.5450980392156862, 0.611764705882353], [0.5686274509803921, 0.5764705882352941, 0.6392156862745098], [0.5490196078431373, 0.5568627450980392, 0.6196078431372549], [0.5843137254901961, 0.592156862745098, 0.6549019607843137], [0.5686274509803921, 0.5764705882352941, 0.6392156862745098], [0.5686274509803921, 0.5882352941176471, 0.6431372549019608], [0.596078431372549, 0.6196078431372549, 0.6705882352941176], [0.5725490196078431, 0.596078431372549, 0.6470588235294118], [0.592156862745098, 0.615686274509804, 0.6666666666666666], [0.611764705882353, 0.6274509803921569, 0.6705882352941176], [0.6078431372549019, 0.6078431372549019, 0.6274509803921569], [0.35294117647058826, 0.35294117647058826, 0.37254901960784315], [0.34901960784313724, 0.34901960784313724, 0.3686274509803922], [0.611764705882353, 0.611764705882353, 0.6313725490196078], [0.6823529411764706, 0.6823529411764706, 0.7019607843137254], [0.40784313725490196, 0.4196078431372549, 0.43137254901960786], [0.27058823529411763, 0.3137254901960784, 0.3176470588235294], [0.16470588235294117, 0.21568627450980393, 0.21568627450980393], [0.4666666666666667, 0.49019607843137253, 0.5019607843137255], [0.5529411764705883, 0.5568627450980392, 0.5764705882352941], [0.6901960784313725, 0.6901960784313725, 0.7098039215686275], [0.7647058823529411, 0.7607843137254902, 0.7764705882352941], [0.7529411764705882, 0.7411764705882353, 0.7450980392156863]], [[0.4549019607843137, 0.5176470588235295, 0.5803921568627451], [0.4823529411764706, 0.5294117647058824, 0.6], [0.49411764705882355, 0.5254901960784314, 0.6], [0.5058823529411764, 0.5294117647058824, 0.6039215686274509], [0.5372549019607843, 0.5490196078431373, 0.615686274509804], [0.5058823529411764, 0.5176470588235295, 0.5843137254901961], [0.47843137254901963, 0.48627450980392156, 0.5529411764705883], [0.5294117647058824, 0.5411764705882353, 0.6039215686274509], [0.5372549019607843, 0.5490196078431373, 0.611764705882353], [0.5647058823529412, 0.5725490196078431, 0.6274509803921569], [0.5607843137254902, 0.5686274509803921, 0.6196078431372549], [0.5686274509803921, 0.5764705882352941, 0.6274509803921569], [0.5686274509803921, 0.5764705882352941, 0.6274509803921569], [0.6078431372549019, 0.6196078431372549, 0.6666666666666666], [0.5568627450980392, 0.5803921568627451, 0.6274509803921569], [0.5843137254901961, 0.6078431372549019, 0.6549019607843137], [0.5843137254901961, 0.6078431372549019, 0.6549019607843137], [0.6039215686274509, 0.6274509803921569, 0.6745098039215687], [0.6235294117647059, 0.6392156862745098, 0.6784313725490196], [0.5529411764705883, 0.5490196078431373, 0.5725490196078431], [0.30980392156862746, 0.3058823529411765, 0.3254901960784314], [0.37254901960784315, 0.3686274509803922, 0.38823529411764707], [0.5725490196078431, 0.5686274509803921, 0.5882352941176471], [0.6980392156862745, 0.6941176470588235, 0.7137254901960784], [0.4, 0.4117647058823529, 0.4235294117647059], [0.30196078431372547, 0.34509803921568627, 0.34901960784313724], [0.14901960784313725, 0.2, 0.20392156862745098], [0.49411764705882355, 0.5176470588235295, 0.5254901960784314], [0.5450980392156862, 0.5450980392156862, 0.5607843137254902], [0.6745098039215687, 0.6745098039215687, 0.6941176470588235], [0.7764705882352941, 0.7686274509803922, 0.7843137254901961], [0.7254901960784313, 0.7098039215686275, 0.7137254901960784]], [[0.4745098039215686, 0.5294117647058824, 0.5882352941176471], [0.4823529411764706, 0.5215686274509804, 0.5882352941176471], [0.49411764705882355, 0.5254901960784314, 0.596078431372549], [0.49411764705882355, 0.5176470588235295, 0.5882352941176471], [0.48627450980392156, 0.4980392156862745, 0.5607843137254902], [0.48627450980392156, 0.4980392156862745, 0.5568627450980392], [0.5215686274509804, 0.5333333333333333, 0.596078431372549], [0.5411764705882353, 0.5529411764705883, 0.611764705882353], [0.5529411764705883, 0.5647058823529412, 0.6196078431372549], [0.5647058823529412, 0.5725490196078431, 0.6235294117647059], [0.5490196078431373, 0.5568627450980392, 0.6078431372549019], [0.592156862745098, 0.6, 0.6509803921568628], [0.5529411764705883, 0.5607843137254902, 0.611764705882353], [0.5803921568627451, 0.5882352941176471, 0.6392156862745098], [0.592156862745098, 0.611764705882353, 0.6588235294117647], [0.5490196078431373, 0.5647058823529412, 0.611764705882353], [0.5607843137254902, 0.5764705882352941, 0.6235294117647059], [0.45098039215686275, 0.47058823529411764, 0.5176470588235295], [0.3843137254901961, 0.396078431372549, 0.43529411764705883], [0.30196078431372547, 0.30196078431372547, 0.3215686274509804], [0.2, 0.19607843137254902, 0.21568627450980393], [0.25098039215686274, 0.24705882352941178, 0.26666666666666666], [0.32941176470588235, 0.3254901960784314, 0.34509803921568627], [0.48627450980392156, 0.4823529411764706, 0.5019607843137255], [0.33725490196078434, 0.34901960784313724, 0.3607843137254902], [0.3137254901960784, 0.3607843137254902, 0.3607843137254902], [0.14901960784313725, 0.2, 0.2], [0.45098039215686275, 0.4745098039215686, 0.4823529411764706], [0.4666666666666667, 0.4666666666666667, 0.48627450980392156], [0.6823529411764706, 0.6784313725490196, 0.6980392156862745], [0.6901960784313725, 0.6862745098039216, 0.6941176470588235], [0.7137254901960784, 0.6980392156862745, 0.6980392156862745]], [[0.47843137254901963, 0.5254901960784314, 0.5843137254901961], [0.4980392156862745, 0.5294117647058824, 0.592156862745098], [0.5019607843137255, 0.5254901960784314, 0.592156862745098], [0.4666666666666667, 0.4823529411764706, 0.5490196078431373], [0.4745098039215686, 0.49019607843137253, 0.5411764705882353], [0.5254901960784314, 0.5411764705882353, 0.5882352941176471], [0.5411764705882353, 0.5568627450980392, 0.6078431372549019], [0.5294117647058824, 0.5450980392156862, 0.596078431372549], [0.5568627450980392, 0.5725490196078431, 0.6196078431372549], [0.5254901960784314, 0.5333333333333333, 0.5803921568627451], [0.5686274509803921, 0.5764705882352941, 0.6235294117647059], [0.5490196078431373, 0.5568627450980392, 0.6078431372549019], [0.592156862745098, 0.6, 0.6470588235294118], [0.5333333333333333, 0.5450980392156862, 0.592156862745098], [0.4627450980392157, 0.4745098039215686, 0.5215686274509804], [0.32941176470588235, 0.3411764705882353, 0.38823529411764707], [0.2196078431372549, 0.23137254901960785, 0.2784313725490196], [0.17254901960784313, 0.1843137254901961, 0.23137254901960785], [0.16862745098039217, 0.17254901960784313, 0.21176470588235294], [0.18823529411764706, 0.18823529411764706, 0.20784313725490197], [0.1843137254901961, 0.1803921568627451, 0.2], [0.1803921568627451, 0.17647058823529413, 0.19607843137254902], [0.19607843137254902, 0.19215686274509805, 0.21176470588235294], [0.2, 0.2, 0.21568627450980393], [0.1843137254901961, 0.19607843137254902, 0.21176470588235294], [0.19215686274509805, 0.23529411764705882, 0.23529411764705882], [0.13333333333333333, 0.1843137254901961, 0.1843137254901961], [0.403921568627451, 0.42745098039215684, 0.43529411764705883], [0.4588235294117647, 0.4588235294117647, 0.4745098039215686], [0.7568627450980392, 0.7568627450980392, 0.7647058823529411], [0.6431372549019608, 0.6392156862745098, 0.6392156862745098], [0.7137254901960784, 0.6980392156862745, 0.6862745098039216]], [[0.47058823529411764, 0.5137254901960784, 0.5647058823529412], [0.4823529411764706, 0.5137254901960784, 0.5686274509803921], [0.4627450980392157, 0.47843137254901963, 0.5411764705882353], [0.4745098039215686, 0.48627450980392156, 0.5450980392156862], [0.5215686274509804, 0.5372549019607843, 0.5843137254901961], [0.5215686274509804, 0.5372549019607843, 0.5843137254901961], [0.5254901960784314, 0.5450980392156862, 0.5882352941176471], [0.5294117647058824, 0.5450980392156862, 0.592156862745098], [0.5333333333333333, 0.5450980392156862, 0.592156862745098], [0.5372549019607843, 0.5490196078431373, 0.5882352941176471], [0.5686274509803921, 0.5764705882352941, 0.6196078431372549], [0.5411764705882353, 0.5529411764705883, 0.592156862745098], [0.5803921568627451, 0.592156862745098, 0.6313725490196078], [0.5490196078431373, 0.5607843137254902, 0.6], [0.5725490196078431, 0.5764705882352941, 0.6196078431372549], [0.49411764705882355, 0.4980392156862745, 0.5411764705882353], [0.35294117647058826, 0.35294117647058826, 0.396078431372549], [0.39215686274509803, 0.39215686274509803, 0.43529411764705883], [0.28627450980392155, 0.28627450980392155, 0.3215686274509804], [0.21176470588235294, 0.20784313725490197, 0.22745098039215686], [0.18823529411764706, 0.1843137254901961, 0.20392156862745098], [0.19607843137254902, 0.19215686274509805, 0.21176470588235294], [0.22745098039215686, 0.2235294117647059, 0.24313725490196078], [0.3803921568627451, 0.3764705882352941, 0.396078431372549], [0.29411764705882354, 0.3058823529411765, 0.3176470588235294], [0.24705882352941178, 0.2901960784313726, 0.2901960784313726], [0.11764705882352941, 0.16862745098039217, 0.16862745098039217], [0.3764705882352941, 0.4, 0.4117647058823529], [0.44313725490196076, 0.44313725490196076, 0.4588235294117647], [0.7450980392156863, 0.7490196078431373, 0.7490196078431373], [0.6745098039215687, 0.6705882352941176, 0.6627450980392157], [0.6901960784313725, 0.6745098039215687, 0.6588235294117647]], [[0.4627450980392157, 0.4980392156862745, 0.5450980392156862], [0.4549019607843137, 0.47843137254901963, 0.5294117647058824], [0.4823529411764706, 0.49411764705882355, 0.5450980392156862], [0.5215686274509804, 0.5254901960784314, 0.5803921568627451], [0.5215686274509804, 0.5372549019607843, 0.5843137254901961], [0.5176470588235295, 0.5333333333333333, 0.5803921568627451], [0.5254901960784314, 0.5411764705882353, 0.5843137254901961], [0.5333333333333333, 0.5490196078431373, 0.596078431372549], [0.5333333333333333, 0.5490196078431373, 0.592156862745098], [0.5686274509803921, 0.5803921568627451, 0.611764705882353], [0.5490196078431373, 0.5607843137254902, 0.592156862745098], [0.5490196078431373, 0.5607843137254902, 0.592156862745098], [0.5568627450980392, 0.5686274509803921, 0.6], [0.5843137254901961, 0.596078431372549, 0.6274509803921569], [0.5607843137254902, 0.5607843137254902, 0.596078431372549], [0.6078431372549019, 0.6039215686274509, 0.6392156862745098], [0.5686274509803921, 0.5686274509803921, 0.6039215686274509], [0.596078431372549, 0.592156862745098, 0.6274509803921569], [0.5254901960784314, 0.5215686274509804, 0.5529411764705883], [0.3568627450980392, 0.35294117647058826, 0.37254901960784315], [0.3176470588235294, 0.3137254901960784, 0.3333333333333333], [0.3333333333333333, 0.32941176470588235, 0.34901960784313724], [0.43529411764705883, 0.43137254901960786, 0.45098039215686275], [0.6196078431372549, 0.615686274509804, 0.6352941176470588], [0.4666666666666667, 0.4745098039215686, 0.49019607843137253], [0.28627450980392155, 0.32941176470588235, 0.3333333333333333], [0.12156862745098039, 0.17254901960784313, 0.17254901960784313], [0.3568627450980392, 0.3803921568627451, 0.39215686274509803], [0.396078431372549, 0.4, 0.40784313725490196], [0.7058823529411765, 0.7098039215686275, 0.7019607843137254], [0.7058823529411765, 0.7019607843137254, 0.6862745098039216], [0.7333333333333333, 0.7176470588235294, 0.6980392156862745]], [[0.44313725490196076, 0.4745098039215686, 0.5176470588235295], [0.49019607843137253, 0.5098039215686274, 0.5568627450980392], [0.5098039215686274, 0.5176470588235295, 0.5686274509803921], [0.5254901960784314, 0.5294117647058824, 0.5803921568627451], [0.5098039215686274, 0.5254901960784314, 0.5647058823529412], [0.5254901960784314, 0.5411764705882353, 0.5803921568627451], [0.5294117647058824, 0.5450980392156862, 0.5843137254901961], [0.5333333333333333, 0.5490196078431373, 0.5882352941176471], [0.5411764705882353, 0.5568627450980392, 0.592156862745098], [0.5529411764705883, 0.5647058823529412, 0.5882352941176471], [0.5450980392156862, 0.5568627450980392, 0.5803921568627451], [0.5764705882352941, 0.5882352941176471, 0.615686274509804], [0.5333333333333333, 0.5450980392156862, 0.5686274509803921], [0.5843137254901961, 0.596078431372549, 0.6196078431372549], [0.5725490196078431, 0.5686274509803921, 0.6], [0.5882352941176471, 0.5843137254901961, 0.611764705882353], [0.6352941176470588, 0.6313725490196078, 0.6588235294117647], [0.5764705882352941, 0.5725490196078431, 0.6], [0.6313725490196078, 0.6274509803921569, 0.6509803921568628], [0.5764705882352941, 0.5725490196078431, 0.592156862745098], [0.5803921568627451, 0.5764705882352941, 0.596078431372549], [0.6392156862745098, 0.6352941176470588, 0.6549019607843137], [0.5686274509803921, 0.5647058823529412, 0.5843137254901961], [0.6823529411764706, 0.6784313725490196, 0.6980392156862745], [0.4666666666666667, 0.47843137254901963, 0.49019607843137253], [0.2627450980392157, 0.3058823529411765, 0.30980392156862746], [0.11372549019607843, 0.16862745098039217, 0.16862745098039217], [0.3411764705882353, 0.36470588235294116, 0.37254901960784315], [0.3411764705882353, 0.34509803921568627, 0.35294117647058826], [0.6196078431372549, 0.6235294117647059, 0.611764705882353], [0.7372549019607844, 0.7372549019607844, 0.7176470588235294], [0.7607843137254902, 0.7490196078431373, 0.7215686274509804]], [[0.47843137254901963, 0.5098039215686274, 0.5529411764705883], [0.5137254901960784, 0.5294117647058824, 0.5764705882352941], [0.5137254901960784, 0.5137254901960784, 0.5647058823529412], [0.5176470588235295, 0.5137254901960784, 0.5647058823529412], [0.5058823529411764, 0.5215686274509804, 0.5568627450980392], [0.5254901960784314, 0.5411764705882353, 0.5764705882352941], [0.5254901960784314, 0.5411764705882353, 0.5764705882352941], [0.5333333333333333, 0.5490196078431373, 0.5843137254901961], [0.5372549019607843, 0.5529411764705883, 0.5843137254901961], [0.5137254901960784, 0.5294117647058824, 0.5490196078431373], [0.5450980392156862, 0.5568627450980392, 0.5764705882352941], [0.5529411764705883, 0.5647058823529412, 0.5843137254901961], [0.5529411764705883, 0.5647058823529412, 0.5843137254901961], [0.5607843137254902, 0.5686274509803921, 0.5882352941176471], [0.6039215686274509, 0.596078431372549, 0.6196078431372549], [0.5764705882352941, 0.5686274509803921, 0.592156862745098], [0.6274509803921569, 0.6235294117647059, 0.6470588235294118], [0.5803921568627451, 0.5764705882352941, 0.6], [0.6078431372549019, 0.6, 0.6235294117647059], [0.6509803921568628, 0.6470588235294118, 0.6666666666666666], [0.5843137254901961, 0.5803921568627451, 0.6], [0.6823529411764706, 0.6784313725490196, 0.7019607843137254], [0.592156862745098, 0.5882352941176471, 0.611764705882353], [0.6470588235294118, 0.6431372549019608, 0.6627450980392157], [0.44313725490196076, 0.45098039215686275, 0.4666666666666667], [0.2627450980392157, 0.3058823529411765, 0.30980392156862746], [0.10980392156862745, 0.1607843137254902, 0.1607843137254902], [0.3215686274509804, 0.34509803921568627, 0.35294117647058826], [0.34901960784313724, 0.35294117647058826, 0.3568627450980392], [0.6039215686274509, 0.6078431372549019, 0.5882352941176471], [0.7294117647058823, 0.7294117647058823, 0.7058823529411765], [0.7333333333333333, 0.7215686274509804, 0.6901960784313725]], [[0.4823529411764706, 0.5098039215686274, 0.5490196078431373], [0.49411764705882355, 0.5058823529411764, 0.5490196078431373], [0.5137254901960784, 0.5215686274509804, 0.5647058823529412], [0.5215686274509804, 0.5254901960784314, 0.5686274509803921], [0.5137254901960784, 0.5294117647058824, 0.5647058823529412], [0.5098039215686274, 0.5254901960784314, 0.5607843137254902], [0.5137254901960784, 0.5294117647058824, 0.5647058823529412], [0.5294117647058824, 0.5450980392156862, 0.5803921568627451], [0.5254901960784314, 0.5372549019607843, 0.5686274509803921], [0.5450980392156862, 0.5490196078431373, 0.5803921568627451], [0.5686274509803921, 0.5686274509803921, 0.6], [0.5372549019607843, 0.5372549019607843, 0.5607843137254902], [0.596078431372549, 0.6, 0.6196078431372549], [0.5647058823529412, 0.5607843137254902, 0.5843137254901961], [0.6078431372549019, 0.596078431372549, 0.6196078431372549], [0.6, 0.5882352941176471, 0.611764705882353], [0.5843137254901961, 0.5686274509803921, 0.596078431372549], [0.6313725490196078, 0.615686274509804, 0.6431372549019608], [0.596078431372549, 0.5843137254901961, 0.6078431372549019], [0.6509803921568628, 0.6470588235294118, 0.6588235294117647], [0.5803921568627451, 0.5764705882352941, 0.5882352941176471], [0.6274509803921569, 0.6235294117647059, 0.6352941176470588], [0.6509803921568628, 0.6470588235294118, 0.6588235294117647], [0.6274509803921569, 0.6196078431372549, 0.6313725490196078], [0.4235294117647059, 0.42745098039215684, 0.43529411764705883], [0.26666666666666666, 0.3058823529411765, 0.30196078431372547], [0.11764705882352941, 0.16470588235294117, 0.16470588235294117], [0.3176470588235294, 0.3411764705882353, 0.35294117647058826], [0.3215686274509804, 0.3254901960784314, 0.32941176470588235], [0.6431372549019608, 0.6470588235294118, 0.6274509803921569], [0.6627450980392157, 0.6588235294117647, 0.6352941176470588], [0.6823529411764706, 0.6666666666666666, 0.6352941176470588]], [[0.47843137254901963, 0.5058823529411764, 0.5450980392156862], [0.4823529411764706, 0.5058823529411764, 0.5450980392156862], [0.49411764705882355, 0.5176470588235295, 0.5607843137254902], [0.5019607843137255, 0.5215686274509804, 0.5607843137254902], [0.5058823529411764, 0.5176470588235295, 0.5529411764705883], [0.5137254901960784, 0.5254901960784314, 0.5607843137254902], [0.5254901960784314, 0.5372549019607843, 0.5725490196078431], [0.5215686274509804, 0.5372549019607843, 0.5686274509803921], [0.5254901960784314, 0.5294117647058824, 0.5686274509803921], [0.5803921568627451, 0.5607843137254902, 0.615686274509804], [0.5764705882352941, 0.5568627450980392, 0.6078431372549019], [0.5607843137254902, 0.5411764705882353, 0.5803921568627451], [0.5764705882352941, 0.5607843137254902, 0.5882352941176471], [0.592156862745098, 0.5764705882352941, 0.596078431372549], [0.5803921568627451, 0.5607843137254902, 0.5764705882352941], [0.6313725490196078, 0.611764705882353, 0.6274509803921569], [0.5764705882352941, 0.5607843137254902, 0.5764705882352941], [0.6196078431372549, 0.6, 0.615686274509804], [0.5882352941176471, 0.5686274509803921, 0.5803921568627451], [0.615686274509804, 0.6, 0.6], [0.6509803921568628, 0.6392156862745098, 0.6392156862745098], [0.596078431372549, 0.5803921568627451, 0.5803921568627451], [0.6313725490196078, 0.6196078431372549, 0.615686274509804], [0.4627450980392157, 0.44313725490196076, 0.44313725490196076], [0.2980392156862745, 0.28627450980392155, 0.2784313725490196], [0.2196078431372549, 0.23921568627450981, 0.23137254901960785], [0.11372549019607843, 0.15294117647058825, 0.1450980392156863], [0.3058823529411765, 0.3333333333333333, 0.33725490196078434], [0.3254901960784314, 0.32941176470588235, 0.3333333333333333], [0.6980392156862745, 0.6941176470588235, 0.6745098039215687], [0.6901960784313725, 0.6784313725490196, 0.6588235294117647], [0.6588235294117647, 0.6313725490196078, 0.615686274509804]], [[0.4745098039215686, 0.5019607843137255, 0.5372549019607843], [0.47843137254901963, 0.5058823529411764, 0.5450980392156862], [0.48627450980392156, 0.5137254901960784, 0.5529411764705883], [0.49019607843137253, 0.5176470588235295, 0.5529411764705883], [0.5058823529411764, 0.5176470588235295, 0.5450980392156862], [0.5137254901960784, 0.5254901960784314, 0.5529411764705883], [0.5254901960784314, 0.5372549019607843, 0.5647058823529412], [0.4980392156862745, 0.5098039215686274, 0.5372549019607843], [0.5176470588235295, 0.5215686274509804, 0.5529411764705883], [0.5686274509803921, 0.5450980392156862, 0.6039215686274509], [0.5607843137254902, 0.5372549019607843, 0.5882352941176471], [0.592156862745098, 0.5686274509803921, 0.6078431372549019], [0.5607843137254902, 0.5411764705882353, 0.5647058823529412], [0.6078431372549019, 0.5882352941176471, 0.6078431372549019], [0.5607843137254902, 0.5411764705882353, 0.5490196078431373], [0.6, 0.5843137254901961, 0.5882352941176471], [0.5843137254901961, 0.5686274509803921, 0.5725490196078431], [0.5882352941176471, 0.5725490196078431, 0.5764705882352941], [0.6274509803921569, 0.611764705882353, 0.615686274509804], [0.5843137254901961, 0.5686274509803921, 0.5647058823529412], [0.6705882352941176, 0.6549019607843137, 0.6509803921568628], [0.5803921568627451, 0.5647058823529412, 0.5607843137254902], [0.4823529411764706, 0.4666666666666667, 0.4627450980392157], [0.2980392156862745, 0.2784313725490196, 0.27450980392156865], [0.20392156862745098, 0.18823529411764706, 0.17647058823529413], [0.1607843137254902, 0.1803921568627451, 0.16862745098039217], [0.09803921568627451, 0.13725490196078433, 0.12549019607843137], [0.27450980392156865, 0.2980392156862745, 0.3058823529411765], [0.30196078431372547, 0.3058823529411765, 0.3058823529411765], [0.6705882352941176, 0.6627450980392157, 0.6431372549019608], [0.6901960784313725, 0.6745098039215687, 0.6549019607843137], [0.6352941176470588, 0.6039215686274509, 0.592156862745098]], [[0.4745098039215686, 0.49019607843137253, 0.5254901960784314], [0.4745098039215686, 0.49411764705882355, 0.5294117647058824], [0.4980392156862745, 0.5137254901960784, 0.5490196078431373], [0.4980392156862745, 0.5137254901960784, 0.5490196078431373], [0.5137254901960784, 0.5176470588235295, 0.5411764705882353], [0.5254901960784314, 0.5294117647058824, 0.5490196078431373], [0.5254901960784314, 0.5294117647058824, 0.5490196078431373], [0.5098039215686274, 0.5137254901960784, 0.5333333333333333], [0.5215686274509804, 0.5215686274509804, 0.5450980392156862], [0.5372549019607843, 0.5137254901960784, 0.5607843137254902], [0.5568627450980392, 0.5372549019607843, 0.5764705882352941], [0.5882352941176471, 0.5686274509803921, 0.592156862745098], [0.5607843137254902, 0.5411764705882353, 0.5607843137254902], [0.5764705882352941, 0.5568627450980392, 0.5686274509803921], [0.592156862745098, 0.5764705882352941, 0.5764705882352941], [0.5529411764705883, 0.5372549019607843, 0.5411764705882353], [0.6, 0.5843137254901961, 0.5882352941176471], [0.5882352941176471, 0.5725490196078431, 0.5764705882352941], [0.6313725490196078, 0.615686274509804, 0.615686274509804], [0.5843137254901961, 0.5686274509803921, 0.5607843137254902], [0.592156862745098, 0.5764705882352941, 0.5647058823529412], [0.3803921568627451, 0.36470588235294116, 0.3568627450980392], [0.2980392156862745, 0.2823529411764706, 0.27058823529411763], [0.19607843137254902, 0.17647058823529413, 0.16862745098039217], [0.1803921568627451, 0.16470588235294117, 0.15294117647058825], [0.1450980392156863, 0.16470588235294117, 0.15294117647058825], [0.10588235294117647, 0.14901960784313725, 0.13333333333333333], [0.25882352941176473, 0.28627450980392155, 0.2901960784313726], [0.29411764705882354, 0.2980392156862745, 0.30196078431372547], [0.6431372549019608, 0.6392156862745098, 0.6196078431372549], [0.6431372549019608, 0.6274509803921569, 0.611764705882353], [0.6784313725490196, 0.6470588235294118, 0.6352941176470588]], [[0.4823529411764706, 0.49411764705882355, 0.5215686274509804], [0.48627450980392156, 0.4980392156862745, 0.5254901960784314], [0.4823529411764706, 0.49411764705882355, 0.5215686274509804], [0.4980392156862745, 0.5098039215686274, 0.5333333333333333], [0.5098039215686274, 0.5098039215686274, 0.5215686274509804], [0.5137254901960784, 0.5137254901960784, 0.5254901960784314], [0.49019607843137253, 0.49019607843137253, 0.5019607843137255], [0.47843137254901963, 0.47843137254901963, 0.49019607843137253], [0.5254901960784314, 0.5215686274509804, 0.5372549019607843], [0.5450980392156862, 0.5254901960784314, 0.5529411764705883], [0.5647058823529412, 0.5450980392156862, 0.5686274509803921], [0.5411764705882353, 0.5254901960784314, 0.5372549019607843], [0.5764705882352941, 0.5607843137254902, 0.5647058823529412], [0.5529411764705883, 0.5372549019607843, 0.5333333333333333], [0.6078431372549019, 0.592156862745098, 0.5882352941176471], [0.4745098039215686, 0.4588235294117647, 0.4549019607843137], [0.3686274509803922, 0.35294117647058826, 0.34901960784313724], [0.5333333333333333, 0.5176470588235295, 0.5137254901960784], [0.5372549019607843, 0.5254901960784314, 0.5176470588235295], [0.6078431372549019, 0.592156862745098, 0.5764705882352941], [0.4823529411764706, 0.47058823529411764, 0.45098039215686275], [0.23529411764705882, 0.2235294117647059, 0.20392156862745098], [0.1411764705882353, 0.12549019607843137, 0.10980392156862745], [0.14901960784313725, 0.12941176470588237, 0.11764705882352941], [0.1411764705882353, 0.12549019607843137, 0.11372549019607843], [0.12941176470588237, 0.15294117647058825, 0.13725490196078433], [0.10980392156862745, 0.14901960784313725, 0.13725490196078433], [0.24705882352941178, 0.27450980392156865, 0.2784313725490196], [0.29411764705882354, 0.2980392156862745, 0.30196078431372547], [0.5529411764705883, 0.5450980392156862, 0.5254901960784314], [0.5843137254901961, 0.5686274509803921, 0.5529411764705883], [0.6784313725490196, 0.6470588235294118, 0.6352941176470588]], [[0.48627450980392156, 0.49019607843137253, 0.5137254901960784], [0.49411764705882355, 0.4980392156862745, 0.5215686274509804], [0.49019607843137253, 0.4980392156862745, 0.5176470588235295], [0.49411764705882355, 0.4980392156862745, 0.5176470588235295], [0.5058823529411764, 0.5058823529411764, 0.5058823529411764], [0.5137254901960784, 0.5137254901960784, 0.5098039215686274], [0.4745098039215686, 0.47843137254901963, 0.4745098039215686], [0.4549019607843137, 0.4549019607843137, 0.45098039215686275], [0.5176470588235295, 0.5137254901960784, 0.5137254901960784], [0.5607843137254902, 0.5411764705882353, 0.5607843137254902], [0.5607843137254902, 0.5450980392156862, 0.5568627450980392], [0.5490196078431373, 0.5333333333333333, 0.5333333333333333], [0.48627450980392156, 0.47058823529411764, 0.4627450980392157], [0.44313725490196076, 0.42745098039215684, 0.41568627450980394], [0.5647058823529412, 0.5490196078431373, 0.5411764705882353], [0.47058823529411764, 0.4549019607843137, 0.4470588235294118], [0.35294117647058826, 0.33725490196078434, 0.32941176470588235], [0.44313725490196076, 0.42745098039215684, 0.4196078431372549], [0.34901960784313724, 0.3333333333333333, 0.3215686274509804], [0.40784313725490196, 0.396078431372549, 0.37254901960784315], [0.34509803921568627, 0.3333333333333333, 0.30980392156862746], [0.2901960784313726, 0.2784313725490196, 0.2549019607843137], [0.14901960784313725, 0.13725490196078433, 0.11372549019607843], [0.12156862745098039, 0.10196078431372549, 0.08235294117647059], [0.12156862745098039, 0.10980392156862745, 0.09803921568627451], [0.13333333333333333, 0.15294117647058825, 0.1411764705882353], [0.10980392156862745, 0.14901960784313725, 0.13333333333333333], [0.23137254901960785, 0.2549019607843137, 0.2627450980392157], [0.2980392156862745, 0.30196078431372547, 0.30196078431372547], [0.49411764705882355, 0.49019607843137253, 0.47058823529411764], [0.5843137254901961, 0.5686274509803921, 0.5529411764705883], [0.611764705882353, 0.5803921568627451, 0.5725490196078431]], [[0.4745098039215686, 0.47058823529411764, 0.49019607843137253], [0.45098039215686275, 0.45098039215686275, 0.47058823529411764], [0.4470588235294118, 0.4470588235294118, 0.4666666666666667], [0.4627450980392157, 0.4627450980392157, 0.47843137254901963], [0.41568627450980394, 0.4117647058823529, 0.4], [0.42745098039215684, 0.42745098039215684, 0.4117647058823529], [0.37254901960784315, 0.37254901960784315, 0.3568627450980392], [0.3607843137254902, 0.3568627450980392, 0.3411764705882353], [0.5098039215686274, 0.5058823529411764, 0.49411764705882355], [0.5490196078431373, 0.5333333333333333, 0.5372549019607843], [0.5411764705882353, 0.5254901960784314, 0.5254901960784314], [0.5215686274509804, 0.5098039215686274, 0.4980392156862745], [0.3058823529411765, 0.2901960784313726, 0.27058823529411763], [0.33725490196078434, 0.3254901960784314, 0.30196078431372547], [0.5254901960784314, 0.5098039215686274, 0.49411764705882355], [0.3843137254901961, 0.37254901960784315, 0.3568627450980392], [0.35294117647058826, 0.3411764705882353, 0.3215686274509804], [0.34901960784313724, 0.3333333333333333, 0.3176470588235294], [0.24313725490196078, 0.23137254901960785, 0.20784313725490197], [0.23137254901960785, 0.2196078431372549, 0.18823529411764706], [0.2, 0.18823529411764706, 0.1568627450980392], [0.19607843137254902, 0.1843137254901961, 0.15294117647058825], [0.12549019607843137, 0.11372549019607843, 0.08235294117647059], [0.11372549019607843, 0.09803921568627451, 0.07058823529411765], [0.12941176470588237, 0.11372549019607843, 0.10196078431372549], [0.16470588235294117, 0.1843137254901961, 0.17254901960784313], [0.10980392156862745, 0.14901960784313725, 0.13725490196078433], [0.2196078431372549, 0.24313725490196078, 0.24705882352941178], [0.2784313725490196, 0.2823529411764706, 0.28627450980392155], [0.4666666666666667, 0.4627450980392157, 0.44313725490196076], [0.5882352941176471, 0.5725490196078431, 0.5529411764705883], [0.4823529411764706, 0.45098039215686275, 0.44313725490196076]], [[0.47843137254901963, 0.4745098039215686, 0.49019607843137253], [0.4235294117647059, 0.4235294117647059, 0.43529411764705883], [0.30980392156862746, 0.3058823529411765, 0.3215686274509804], [0.3411764705882353, 0.3411764705882353, 0.34901960784313724], [0.24313725490196078, 0.23921568627450981, 0.2196078431372549], [0.21176470588235294, 0.20392156862745098, 0.1803921568627451], [0.17254901960784313, 0.16470588235294117, 0.1411764705882353], [0.1843137254901961, 0.17647058823529413, 0.15294117647058825], [0.3411764705882353, 0.32941176470588235, 0.30980392156862746], [0.4627450980392157, 0.4470588235294118, 0.4392156862745098], [0.49411764705882355, 0.47843137254901963, 0.4666666666666667], [0.35294117647058826, 0.3411764705882353, 0.3137254901960784], [0.1450980392156863, 0.13725490196078433, 0.09803921568627451], [0.23137254901960785, 0.2196078431372549, 0.1843137254901961], [0.3686274509803922, 0.3568627450980392, 0.3333333333333333], [0.43529411764705883, 0.4235294117647059, 0.4], [0.3058823529411765, 0.29411764705882354, 0.27058823529411763], [0.19607843137254902, 0.1843137254901961, 0.1607843137254902], [0.17254901960784313, 0.1607843137254902, 0.13333333333333333], [0.1568627450980392, 0.1450980392156863, 0.10588235294117647], [0.13333333333333333, 0.12549019607843137, 0.08235294117647059], [0.13725490196078433, 0.12549019607843137, 0.08627450980392157], [0.12941176470588237, 0.11764705882352941, 0.0784313725490196], [0.12156862745098039, 0.10588235294117647, 0.0784313725490196], [0.12156862745098039, 0.10588235294117647, 0.09411764705882353], [0.13333333333333333, 0.15294117647058825, 0.1411764705882353], [0.10588235294117647, 0.1450980392156863, 0.13333333333333333], [0.19607843137254902, 0.2235294117647059, 0.22745098039215686], [0.2627450980392157, 0.26666666666666666, 0.26666666666666666], [0.4588235294117647, 0.45098039215686275, 0.43137254901960786], [0.4666666666666667, 0.45098039215686275, 0.43137254901960786], [0.403921568627451, 0.37254901960784315, 0.36470588235294116]], [[0.4666666666666667, 0.4666666666666667, 0.4745098039215686], [0.4627450980392157, 0.4627450980392157, 0.47058823529411764], [0.3411764705882353, 0.33725490196078434, 0.34509803921568627], [0.19607843137254902, 0.19215686274509805, 0.19607843137254902], [0.20392156862745098, 0.19215686274509805, 0.16470588235294117], [0.12941176470588237, 0.11764705882352941, 0.08627450980392157], [0.1450980392156863, 0.13333333333333333, 0.10196078431372549], [0.1411764705882353, 0.12941176470588237, 0.09803921568627451], [0.17647058823529413, 0.16470588235294117, 0.13725490196078433], [0.2823529411764706, 0.26666666666666666, 0.25098039215686274], [0.24313725490196078, 0.23137254901960785, 0.21176470588235294], [0.20784313725490197, 0.2, 0.16470588235294117], [0.1568627450980392, 0.14901960784313725, 0.10196078431372549], [0.1803921568627451, 0.16862745098039217, 0.12549019607843137], [0.1843137254901961, 0.17254901960784313, 0.1411764705882353], [0.27058823529411763, 0.25882352941176473, 0.23137254901960785], [0.27058823529411763, 0.25882352941176473, 0.23137254901960785], [0.16470588235294117, 0.15294117647058825, 0.12156862745098039], [0.14901960784313725, 0.13725490196078433, 0.10196078431372549], [0.12549019607843137, 0.11764705882352941, 0.07058823529411765], [0.11764705882352941, 0.10980392156862745, 0.06274509803921569], [0.11372549019607843, 0.10588235294117647, 0.058823529411764705], [0.12549019607843137, 0.11764705882352941, 0.07058823529411765], [0.13333333333333333, 0.11764705882352941, 0.08235294117647059], [0.12156862745098039, 0.10588235294117647, 0.09411764705882353], [0.12941176470588237, 0.14901960784313725, 0.13725490196078433], [0.10588235294117647, 0.1450980392156863, 0.13333333333333333], [0.2, 0.2235294117647059, 0.23137254901960785], [0.26666666666666666, 0.27058823529411763, 0.27450980392156865], [0.3764705882352941, 0.37254901960784315, 0.35294117647058826], [0.4235294117647059, 0.40784313725490196, 0.38823529411764707], [0.4235294117647059, 0.39215686274509803, 0.3803921568627451]], [[0.42745098039215684, 0.4117647058823529, 0.41568627450980394], [0.4823529411764706, 0.4666666666666667, 0.47058823529411764], [0.43529411764705883, 0.4196078431372549, 0.4235294117647059], [0.2549019607843137, 0.23921568627450981, 0.23921568627450981], [0.1843137254901961, 0.17647058823529413, 0.14901960784313725], [0.13725490196078433, 0.12549019607843137, 0.09411764705882353], [0.12156862745098039, 0.10980392156862745, 0.0784313725490196], [0.13333333333333333, 0.12156862745098039, 0.09019607843137255], [0.12941176470588237, 0.12156862745098039, 0.09411764705882353], [0.16470588235294117, 0.1450980392156863, 0.12941176470588237], [0.1450980392156863, 0.12549019607843137, 0.10980392156862745], [0.12549019607843137, 0.10980392156862745, 0.08235294117647059], [0.1411764705882353, 0.12549019607843137, 0.08627450980392157], [0.16470588235294117, 0.15294117647058825, 0.11372549019607843], [0.12941176470588237, 0.12549019607843137, 0.09803921568627451], [0.1607843137254902, 0.1568627450980392, 0.12941176470588237], [0.14901960784313725, 0.1450980392156863, 0.11764705882352941], [0.12549019607843137, 0.12156862745098039, 0.09411764705882353], [0.11764705882352941, 0.10980392156862745, 0.08235294117647059], [0.11764705882352941, 0.09803921568627451, 0.06666666666666667], [0.11372549019607843, 0.09803921568627451, 0.06274509803921569], [0.10196078431372549, 0.08627450980392157, 0.050980392156862744], [0.12549019607843137, 0.10980392156862745, 0.07450980392156863], [0.16862745098039217, 0.1450980392156863, 0.11764705882352941], [0.13725490196078433, 0.11764705882352941, 0.10196078431372549], [0.10980392156862745, 0.12941176470588237, 0.11372549019607843], [0.09411764705882353, 0.13725490196078433, 0.12156862745098039], [0.16470588235294117, 0.2, 0.19607843137254902], [0.24313725490196078, 0.2549019607843137, 0.25098039215686274], [0.41568627450980394, 0.40784313725490196, 0.38823529411764707], [0.4666666666666667, 0.4392156862745098, 0.42745098039215684], [0.4392156862745098, 0.39215686274509803, 0.38823529411764707]], [[0.3411764705882353, 0.3137254901960784, 0.30196078431372547], [0.35294117647058826, 0.3254901960784314, 0.30980392156862746], [0.3254901960784314, 0.2980392156862745, 0.2823529411764706], [0.3058823529411765, 0.2823529411764706, 0.27058823529411763], [0.1450980392156863, 0.1411764705882353, 0.11764705882352941], [0.10980392156862745, 0.10588235294117647, 0.08627450980392157], [0.09803921568627451, 0.09803921568627451, 0.07450980392156863], [0.09803921568627451, 0.09411764705882353, 0.07450980392156863], [0.11764705882352941, 0.10980392156862745, 0.09019607843137255], [0.17254901960784313, 0.1450980392156863, 0.12941176470588237], [0.14901960784313725, 0.11764705882352941, 0.10588235294117647], [0.12549019607843137, 0.09411764705882353, 0.08235294117647059], [0.12941176470588237, 0.09803921568627451, 0.08235294117647059], [0.1411764705882353, 0.12156862745098039, 0.10196078431372549], [0.12549019607843137, 0.12156862745098039, 0.10196078431372549], [0.12941176470588237, 0.12941176470588237, 0.10980392156862745], [0.12156862745098039, 0.12156862745098039, 0.09803921568627451], [0.09803921568627451, 0.09803921568627451, 0.07450980392156863], [0.10196078431372549, 0.09411764705882353, 0.07450980392156863], [0.11764705882352941, 0.08627450980392157, 0.07058823529411765], [0.12549019607843137, 0.08627450980392157, 0.07450980392156863], [0.11764705882352941, 0.08235294117647059, 0.07058823529411765], [0.12941176470588237, 0.09411764705882353, 0.08235294117647059], [0.17647058823529413, 0.1411764705882353, 0.12549019607843137], [0.14901960784313725, 0.11764705882352941, 0.09803921568627451], [0.12941176470588237, 0.1411764705882353, 0.11764705882352941], [0.10196078431372549, 0.1450980392156863, 0.12156862745098039], [0.1411764705882353, 0.18823529411764706, 0.17254901960784313], [0.23137254901960785, 0.2549019607843137, 0.24313725490196078], [0.3568627450980392, 0.34509803921568627, 0.3254901960784314], [0.4117647058823529, 0.3607843137254902, 0.35294117647058826], [0.39215686274509803, 0.3215686274509804, 0.3254901960784314]], [[0.26666666666666666, 0.23137254901960785, 0.2196078431372549], [0.20784313725490197, 0.17254901960784313, 0.1607843137254902], [0.1843137254901961, 0.14901960784313725, 0.1411764705882353], [0.19215686274509805, 0.16862745098039217, 0.15294117647058825], [0.15294117647058825, 0.1450980392156863, 0.12549019607843137], [0.09019607843137255, 0.08627450980392157, 0.06666666666666667], [0.08235294117647059, 0.0784313725490196, 0.058823529411764705], [0.09019607843137255, 0.08627450980392157, 0.06666666666666667], [0.10588235294117647, 0.09803921568627451, 0.0784313725490196], [0.13333333333333333, 0.10588235294117647, 0.09411764705882353], [0.12156862745098039, 0.09019607843137255, 0.0784313725490196], [0.12549019607843137, 0.09411764705882353, 0.08235294117647059], [0.12549019607843137, 0.09411764705882353, 0.08235294117647059], [0.13725490196078433, 0.10980392156862745, 0.09411764705882353], [0.13333333333333333, 0.11764705882352941, 0.09803921568627451], [0.13725490196078433, 0.12156862745098039, 0.10588235294117647], [0.14901960784313725, 0.13333333333333333, 0.11764705882352941], [0.13333333333333333, 0.11764705882352941, 0.10196078431372549], [0.12941176470588237, 0.10980392156862745, 0.09411764705882353], [0.1607843137254902, 0.12156862745098039, 0.11372549019607843], [0.18823529411764706, 0.14901960784313725, 0.1411764705882353], [0.21176470588235294, 0.17254901960784313, 0.16470588235294117], [0.23137254901960785, 0.19215686274509805, 0.1843137254901961], [0.24313725490196078, 0.20392156862745098, 0.19215686274509805], [0.2196078431372549, 0.18823529411764706, 0.16862745098039217], [0.15294117647058825, 0.16862745098039217, 0.1411764705882353], [0.10588235294117647, 0.14901960784313725, 0.12549019607843137], [0.12941176470588237, 0.17647058823529413, 0.1607843137254902], [0.17647058823529413, 0.2, 0.18823529411764706], [0.20392156862745098, 0.19215686274509805, 0.17647058823529413], [0.23137254901960785, 0.1843137254901961, 0.17647058823529413], [0.23529411764705882, 0.16862745098039217, 0.16862745098039217]], [[0.25098039215686274, 0.2196078431372549, 0.20784313725490197], [0.20784313725490197, 0.17647058823529413, 0.16470588235294117], [0.15294117647058825, 0.12156862745098039, 0.10980392156862745], [0.16470588235294117, 0.13725490196078433, 0.12156862745098039], [0.1607843137254902, 0.14901960784313725, 0.12941176470588237], [0.14901960784313725, 0.13725490196078433, 0.11764705882352941], [0.12941176470588237, 0.11764705882352941, 0.09803921568627451], [0.13725490196078433, 0.12549019607843137, 0.10588235294117647], [0.1607843137254902, 0.14901960784313725, 0.12941176470588237], [0.16862745098039217, 0.1411764705882353, 0.12941176470588237], [0.16862745098039217, 0.13725490196078433, 0.12549019607843137], [0.19215686274509805, 0.1607843137254902, 0.14901960784313725], [0.2, 0.16862745098039217, 0.1568627450980392], [0.2, 0.16862745098039217, 0.1568627450980392], [0.21568627450980393, 0.1803921568627451, 0.17254901960784313], [0.2235294117647059, 0.18823529411764706, 0.17647058823529413], [0.22745098039215686, 0.19215686274509805, 0.1803921568627451], [0.2235294117647059, 0.18823529411764706, 0.17647058823529413], [0.20784313725490197, 0.16862745098039217, 0.1607843137254902], [0.20392156862745098, 0.16470588235294117, 0.1568627450980392], [0.23137254901960785, 0.19215686274509805, 0.1843137254901961], [0.23921568627450981, 0.2, 0.19215686274509805], [0.25098039215686274, 0.21176470588235294, 0.20392156862745098], [0.24313725490196078, 0.20392156862745098, 0.19607843137254902], [0.2196078431372549, 0.19215686274509805, 0.16862745098039217], [0.1411764705882353, 0.1568627450980392, 0.12941176470588237], [0.09803921568627451, 0.1450980392156863, 0.12156862745098039], [0.11372549019607843, 0.1568627450980392, 0.1450980392156863], [0.1450980392156863, 0.16862745098039217, 0.1568627450980392], [0.1411764705882353, 0.13333333333333333, 0.11372549019607843], [0.1803921568627451, 0.13725490196078433, 0.12941176470588237], [0.19607843137254902, 0.13333333333333333, 0.13333333333333333]], [[0.2549019607843137, 0.2235294117647059, 0.21176470588235294], [0.23921568627450981, 0.20784313725490197, 0.19607843137254902], [0.2235294117647059, 0.19215686274509805, 0.1803921568627451], [0.23137254901960785, 0.20392156862745098, 0.18823529411764706], [0.21568627450980393, 0.19607843137254902, 0.1803921568627451], [0.23137254901960785, 0.21176470588235294, 0.19607843137254902], [0.23137254901960785, 0.21176470588235294, 0.19607843137254902], [0.21176470588235294, 0.19215686274509805, 0.17647058823529413], [0.21176470588235294, 0.19215686274509805, 0.17647058823529413], [0.21176470588235294, 0.1843137254901961, 0.17254901960784313], [0.21568627450980393, 0.1843137254901961, 0.17254901960784313], [0.21568627450980393, 0.1843137254901961, 0.17254901960784313], [0.2196078431372549, 0.18823529411764706, 0.17647058823529413], [0.21176470588235294, 0.17647058823529413, 0.16470588235294117], [0.2196078431372549, 0.17254901960784313, 0.16862745098039217], [0.23137254901960785, 0.1803921568627451, 0.17254901960784313], [0.2235294117647059, 0.17254901960784313, 0.16470588235294117], [0.23137254901960785, 0.1803921568627451, 0.17647058823529413], [0.2196078431372549, 0.17647058823529413, 0.16862745098039217], [0.20392156862745098, 0.16470588235294117, 0.1568627450980392], [0.20784313725490197, 0.16862745098039217, 0.1607843137254902], [0.19215686274509805, 0.15294117647058825, 0.1450980392156863], [0.18823529411764706, 0.14901960784313725, 0.1411764705882353], [0.19215686274509805, 0.15294117647058825, 0.1411764705882353], [0.1803921568627451, 0.15294117647058825, 0.12941176470588237], [0.12156862745098039, 0.13725490196078433, 0.11372549019607843], [0.09411764705882353, 0.13725490196078433, 0.11372549019607843], [0.10196078431372549, 0.14901960784313725, 0.13333333333333333], [0.13725490196078433, 0.16862745098039217, 0.15294117647058825], [0.13333333333333333, 0.12941176470588237, 0.10980392156862745], [0.17647058823529413, 0.13725490196078433, 0.12941176470588237], [0.18823529411764706, 0.12941176470588237, 0.12549019607843137]], [[0.21568627450980393, 0.1843137254901961, 0.17254901960784313], [0.21568627450980393, 0.1843137254901961, 0.17254901960784313], [0.2196078431372549, 0.18823529411764706, 0.17647058823529413], [0.2196078431372549, 0.18823529411764706, 0.17647058823529413], [0.2196078431372549, 0.19215686274509805, 0.17647058823529413], [0.20784313725490197, 0.1803921568627451, 0.16862745098039217], [0.21176470588235294, 0.1843137254901961, 0.17254901960784313], [0.2, 0.17254901960784313, 0.1607843137254902], [0.19215686274509805, 0.1607843137254902, 0.14901960784313725], [0.1843137254901961, 0.15294117647058825, 0.1411764705882353], [0.19215686274509805, 0.1607843137254902, 0.14901960784313725], [0.19215686274509805, 0.1607843137254902, 0.14901960784313725], [0.19607843137254902, 0.16470588235294117, 0.15294117647058825], [0.18823529411764706, 0.15294117647058825, 0.1450980392156863], [0.19215686274509805, 0.13725490196078433, 0.13333333333333333], [0.20784313725490197, 0.15294117647058825, 0.14901960784313725], [0.20784313725490197, 0.15294117647058825, 0.14901960784313725], [0.2, 0.1450980392156863, 0.1411764705882353], [0.20392156862745098, 0.1568627450980392, 0.15294117647058825], [0.1843137254901961, 0.1450980392156863, 0.13725490196078433], [0.18823529411764706, 0.14901960784313725, 0.1411764705882353], [0.19215686274509805, 0.15294117647058825, 0.1450980392156863], [0.19607843137254902, 0.1568627450980392, 0.14901960784313725], [0.2, 0.1568627450980392, 0.14901960784313725], [0.19215686274509805, 0.1607843137254902, 0.1411764705882353], [0.12549019607843137, 0.1411764705882353, 0.11372549019607843], [0.08627450980392157, 0.12941176470588237, 0.10588235294117647], [0.09411764705882353, 0.13725490196078433, 0.12156862745098039], [0.12549019607843137, 0.1568627450980392, 0.1411764705882353], [0.13333333333333333, 0.13725490196078433, 0.11372549019607843], [0.1607843137254902, 0.12549019607843137, 0.11764705882352941], [0.1803921568627451, 0.12549019607843137, 0.12156862745098039]], [[0.2, 0.16862745098039217, 0.1568627450980392], [0.2, 0.16862745098039217, 0.1568627450980392], [0.18823529411764706, 0.1568627450980392, 0.1450980392156863], [0.1843137254901961, 0.15294117647058825, 0.1411764705882353], [0.19607843137254902, 0.1568627450980392, 0.14901960784313725], [0.18823529411764706, 0.15294117647058825, 0.1411764705882353], [0.19215686274509805, 0.15294117647058825, 0.1450980392156863], [0.19215686274509805, 0.1568627450980392, 0.1450980392156863], [0.18823529411764706, 0.14901960784313725, 0.1411764705882353], [0.1843137254901961, 0.15294117647058825, 0.1411764705882353], [0.18823529411764706, 0.1568627450980392, 0.1450980392156863], [0.17647058823529413, 0.1450980392156863, 0.13333333333333333], [0.17254901960784313, 0.1411764705882353, 0.12941176470588237], [0.17254901960784313, 0.13725490196078433, 0.12941176470588237], [0.17647058823529413, 0.13725490196078433, 0.12941176470588237], [0.1803921568627451, 0.1411764705882353, 0.13333333333333333], [0.16862745098039217, 0.12941176470588237, 0.12156862745098039], [0.15294117647058825, 0.10980392156862745, 0.10196078431372549], [0.17254901960784313, 0.12941176470588237, 0.12156862745098039], [0.17647058823529413, 0.13725490196078433, 0.12941176470588237], [0.1803921568627451, 0.1411764705882353, 0.13333333333333333], [0.1843137254901961, 0.1450980392156863, 0.13725490196078433], [0.18823529411764706, 0.14901960784313725, 0.1411764705882353], [0.1843137254901961, 0.1450980392156863, 0.13333333333333333], [0.1803921568627451, 0.14901960784313725, 0.12941176470588237], [0.11764705882352941, 0.13333333333333333, 0.10588235294117647], [0.08235294117647059, 0.12941176470588237, 0.10588235294117647], [0.09019607843137255, 0.13725490196078433, 0.12156862745098039], [0.11764705882352941, 0.15294117647058825, 0.13725490196078433], [0.12941176470588237, 0.1411764705882353, 0.11764705882352941], [0.15294117647058825, 0.12941176470588237, 0.11372549019607843], [0.1607843137254902, 0.11764705882352941, 0.10980392156862745]]]]}'"
            ]
          },
          "metadata": {
            "tags": []
          },
          "execution_count": 31
        }
      ]
    },
    {
      "cell_type": "markdown",
      "metadata": {
        "id": "KZDKjyfbPoIa",
        "colab_type": "text"
      },
      "source": [
        "### Enviando a primeira requisição POST para o modelo"
      ]
    },
    {
      "cell_type": "code",
      "metadata": {
        "id": "uLLzVnVRJp7x",
        "colab_type": "code",
        "colab": {}
      },
      "source": [
        "headers = {\"content-type\": \"application/json\"}"
      ],
      "execution_count": 32,
      "outputs": []
    },
    {
      "cell_type": "code",
      "metadata": {
        "id": "ccg8lHh5J0cY",
        "colab_type": "code",
        "colab": {}
      },
      "source": [
        "json_response = requests.post(url=\"http://localhost:8501/v1/models/cifar10:predict\", data = data, headers = headers)"
      ],
      "execution_count": 33,
      "outputs": []
    },
    {
      "cell_type": "code",
      "metadata": {
        "id": "5Z2GMM-AKn_6",
        "colab_type": "code",
        "colab": {
          "base_uri": "https://localhost:8080/",
          "height": 34
        },
        "outputId": "f0ff0a67-58cd-40e3-e3e4-8c20ef4f47a0"
      },
      "source": [
        "json_response"
      ],
      "execution_count": 34,
      "outputs": [
        {
          "output_type": "execute_result",
          "data": {
            "text/plain": [
              "<Response [200]>"
            ]
          },
          "metadata": {
            "tags": []
          },
          "execution_count": 34
        }
      ]
    },
    {
      "cell_type": "code",
      "metadata": {
        "id": "nVjM83cWK-yr",
        "colab_type": "code",
        "colab": {}
      },
      "source": [
        "predictions = json.loads(json_response.text)['predictions']"
      ],
      "execution_count": 35,
      "outputs": []
    },
    {
      "cell_type": "code",
      "metadata": {
        "id": "QKEOLZ__LHCH",
        "colab_type": "code",
        "colab": {
          "base_uri": "https://localhost:8080/",
          "height": 187
        },
        "outputId": "26cec977-96ad-4480-fa9d-72bd0322912f"
      },
      "source": [
        "predictions"
      ],
      "execution_count": 36,
      "outputs": [
        {
          "output_type": "execute_result",
          "data": {
            "text/plain": [
              "[[0.0244600885,\n",
              "  0.000435662427,\n",
              "  0.00224993192,\n",
              "  0.000404879043,\n",
              "  0.014648024,\n",
              "  0.00476670265,\n",
              "  1.72570617e-05,\n",
              "  0.00244826544,\n",
              "  0.0704241619,\n",
              "  0.880145073]]"
            ]
          },
          "metadata": {
            "tags": []
          },
          "execution_count": 36
        }
      ]
    },
    {
      "cell_type": "code",
      "metadata": {
        "id": "abegdbY3LXIM",
        "colab_type": "code",
        "colab": {
          "base_uri": "https://localhost:8080/",
          "height": 283
        },
        "outputId": "6aa1ad8a-dabc-4c51-b2aa-f42771e23cb7"
      },
      "source": [
        "plt.imshow(X_test[random_image])"
      ],
      "execution_count": 37,
      "outputs": [
        {
          "output_type": "execute_result",
          "data": {
            "text/plain": [
              "<matplotlib.image.AxesImage at 0x7f3950216208>"
            ]
          },
          "metadata": {
            "tags": []
          },
          "execution_count": 37
        },
        {
          "output_type": "display_data",
          "data": {
            "image/png": "[encoded data removed]",
            "text/plain": [
              "<Figure size 432x288 with 1 Axes>"
            ]
          },
          "metadata": {
            "tags": [],
            "needs_background": "light"
          }
        }
      ]
    },
    {
      "cell_type": "code",
      "metadata": {
        "id": "7dQqqlioLq6B",
        "colab_type": "code",
        "colab": {
          "base_uri": "https://localhost:8080/",
          "height": 34
        },
        "outputId": "2f73ed68-6180-476f-91fe-0ae5ed9725d7"
      },
      "source": [
        "class_names[np.argmax(predictions[0])]"
      ],
      "execution_count": 38,
      "outputs": [
        {
          "output_type": "execute_result",
          "data": {
            "text/plain": [
              "'truck'"
            ]
          },
          "metadata": {
            "tags": []
          },
          "execution_count": 38
        }
      ]
    },
    {
      "cell_type": "markdown",
      "metadata": {
        "id": "OVN6T3tFR_IQ",
        "colab_type": "text"
      },
      "source": [
        "## Etapa 8: Enviando a requisição POST para um modelo específico que está armazendo no servidor"
      ]
    },
    {
      "cell_type": "code",
      "metadata": {
        "id": "Z5NYumDFNINp",
        "colab_type": "code",
        "colab": {}
      },
      "source": [
        "specific_json_response = requests.post(url=\"http://localhost:8501/v1/models/cifar10/versions/1:predict\", data = data, headers = headers)"
      ],
      "execution_count": 39,
      "outputs": []
    },
    {
      "cell_type": "code",
      "metadata": {
        "id": "KYYS3vXTPoHv",
        "colab_type": "code",
        "colab": {}
      },
      "source": [
        "specific_json_response"
      ],
      "execution_count": null,
      "outputs": []
    }
  ]
}