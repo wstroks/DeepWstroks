{
  "nbformat": 4,
  "nbformat_minor": 0,
  "metadata": {
    "kernelspec": {
      "name": "python3",
      "display_name": "Python 3"
    },
    "colab": {
      "name": "KDD_Cup_2009.ipynb",
      "provenance": [],
      "collapsed_sections": [
        "TVEq8ZtoaG1V",
        "VA0wTCyhaG1a",
        "G7AjTWouaG1d",
        "c1rgPcM_aG1i",
        "RoUutZU0aG17",
        "uE9aL9RraG2u"
      ],
      "include_colab_link": true
    },
    "accelerator": "GPU"
  },
  "cells": [
    {
      "cell_type": "markdown",
      "metadata": {
        "id": "view-in-github",
        "colab_type": "text"
      },
      "source": [
        "<a href=\"https://colab.research.google.com/github/wstroks/DeepWstroks/blob/master/Machine%20Learning%20para%20Competi%C3%A7%C3%B5es%20Kaggle/KDD_Cup_2009.ipynb\" target=\"_parent\"><img src=\"https://colab.research.google.com/assets/colab-badge.svg\" alt=\"Open In Colab\"/></a>"
      ]
    },
    {
      "cell_type": "markdown",
      "metadata": {
        "id": "eEnClJU5aG0A",
        "colab_type": "text"
      },
      "source": [
        "# Estudo de Caso: KDD Cup 2009"
      ]
    },
    {
      "cell_type": "markdown",
      "metadata": {
        "id": "aJjBvAiNaG0A",
        "colab_type": "text"
      },
      "source": [
        "A Administração de Relacionamento com o Consumidor é um elemento-chave das estratégias modernas de marketing. A maneira mais prática de adquirir conhecimento sobre consumidores é produzindo pontuações. Uma pontuação é a saída de um modelo e serve como avaliação de todas as instâncias de uma variável-alvo que se pretenda explicar. Ferramentas que produzem pontuações permitem projetar informações quantificáveis em uma dada população. A pontuação é calculada usando variáveis de entrada que descrevem as instâncias. As pontuações são então usadas pelo sistema de informação, por exemplo, para personalizar o relacionamento com o consumidor.\n",
        "\n",
        "Em 2009, a conferência Knowledge Discovery and Data Mining (KDD) lançou um desafio envolvendo aprendizagem de máquina. Ela disponibilizou dados de consumidores da empresa de telecomunicações francesa Orange, que deveriam ser utilizados para a construção de um modelo capaz de prever três comportamentos do consumidor. A planilha fornecida tem 50000 instâncias e 230 variáveis, sendo as primeiras 190 variáveis numéricas e as demais 40 categóricas. As variáveis de saída do modelo eram o cancelamento da conta ('churn'), a tendência de usar novos produtos e serviços ('appetency') e a propensão para comprar upgrades ou adicionais com maior margem de lucro quando apresentados (upselling), fornecidos de forma binária (-1 para *não*, 1 para *sim*).\n",
        "\n",
        "O trabalho apresentado aqui envolve a criação de um modelo para predição de *churn*, *appetency* e *upselling* com base nos dados fornecidos dos clientes da Orange. O critério para avaliação do modelo será a métrica AUC, que dimensiona o trade-off entre taxa de falsos positivos e taxa de verdadeiros positivos: quanto mais próximo de 1, menor o trade-off e melhor o modelo.\n",
        "\n",
        "Detalhes sobre a competição: https://www.kdd.org/kdd-cup/view/kdd-cup-2009"
      ]
    },
    {
      "cell_type": "markdown",
      "metadata": {
        "id": "d4VHR7GCaG0B",
        "colab_type": "text"
      },
      "source": [
        "# Etapa 1: Modelando 'churn' (cancelamento da conta)"
      ]
    },
    {
      "cell_type": "markdown",
      "metadata": {
        "id": "T8lk2iDsaG0C",
        "colab_type": "text"
      },
      "source": [
        "### Importando as dependências"
      ]
    },
    {
      "cell_type": "code",
      "metadata": {
        "id": "trOswQpiaG0D",
        "colab_type": "code",
        "colab": {}
      },
      "source": [
        "import pandas as pd\n",
        "import numpy as np\n",
        "from sklearn.ensemble import ExtraTreesClassifier, RandomForestClassifier, GradientBoostingClassifier\n",
        "from matplotlib import pyplot as plt\n",
        "from sklearn.metrics import roc_auc_score\n",
        "from sklearn.model_selection import train_test_split, cross_val_score, GridSearchCV"
      ],
      "execution_count": 0,
      "outputs": []
    },
    {
      "cell_type": "markdown",
      "metadata": {
        "id": "A7p2fAo5aG0F",
        "colab_type": "text"
      },
      "source": [
        "### Carregando os dados"
      ]
    },
    {
      "cell_type": "code",
      "metadata": {
        "id": "iKrPpEILhQ-c",
        "colab_type": "code",
        "colab": {}
      },
      "source": [
        "features = pd.read_csv('/content/orange_small_train.data', sep = '\\t', na_filter = False)\n",
        "outcome = pd.read_csv('/content/orange_small_train_churn.labels', header = None)"
      ],
      "execution_count": 0,
      "outputs": []
    },
    {
      "cell_type": "code",
      "metadata": {
        "id": "aVy0bQJthvRP",
        "colab_type": "code",
        "outputId": "2ca81386-a724-41f5-aecd-d1aae505f1fe",
        "colab": {
          "base_uri": "https://localhost:8080/",
          "height": 35
        }
      },
      "source": [
        "features.shape"
      ],
      "execution_count": 0,
      "outputs": [
        {
          "output_type": "execute_result",
          "data": {
            "text/plain": [
              "(50000, 230)"
            ]
          },
          "metadata": {
            "tags": []
          },
          "execution_count": 47
        }
      ]
    },
    {
      "cell_type": "code",
      "metadata": {
        "id": "dC__R44Fh2UC",
        "colab_type": "code",
        "outputId": "3d78041e-0018-4a33-da61-53fbec0171ed",
        "colab": {
          "base_uri": "https://localhost:8080/",
          "height": 247
        }
      },
      "source": [
        "features.head()"
      ],
      "execution_count": 0,
      "outputs": [
        {
          "output_type": "execute_result",
          "data": {
            "text/html": [
              "<div>\n",
              "<style scoped>\n",
              "    .dataframe tbody tr th:only-of-type {\n",
              "        vertical-align: middle;\n",
              "    }\n",
              "\n",
              "    .dataframe tbody tr th {\n",
              "        vertical-align: top;\n",
              "    }\n",
              "\n",
              "    .dataframe thead th {\n",
              "        text-align: right;\n",
              "    }\n",
              "</style>\n",
              "<table border=\"1\" class=\"dataframe\">\n",
              "  <thead>\n",
              "    <tr style=\"text-align: right;\">\n",
              "      <th></th>\n",
              "      <th>Var1</th>\n",
              "      <th>Var2</th>\n",
              "      <th>Var3</th>\n",
              "      <th>Var4</th>\n",
              "      <th>Var5</th>\n",
              "      <th>Var6</th>\n",
              "      <th>Var7</th>\n",
              "      <th>Var8</th>\n",
              "      <th>Var9</th>\n",
              "      <th>Var10</th>\n",
              "      <th>Var11</th>\n",
              "      <th>Var12</th>\n",
              "      <th>Var13</th>\n",
              "      <th>Var14</th>\n",
              "      <th>Var15</th>\n",
              "      <th>Var16</th>\n",
              "      <th>Var17</th>\n",
              "      <th>Var18</th>\n",
              "      <th>Var19</th>\n",
              "      <th>Var20</th>\n",
              "      <th>Var21</th>\n",
              "      <th>Var22</th>\n",
              "      <th>Var23</th>\n",
              "      <th>Var24</th>\n",
              "      <th>Var25</th>\n",
              "      <th>Var26</th>\n",
              "      <th>Var27</th>\n",
              "      <th>Var28</th>\n",
              "      <th>Var29</th>\n",
              "      <th>Var30</th>\n",
              "      <th>Var31</th>\n",
              "      <th>Var32</th>\n",
              "      <th>Var33</th>\n",
              "      <th>Var34</th>\n",
              "      <th>Var35</th>\n",
              "      <th>Var36</th>\n",
              "      <th>Var37</th>\n",
              "      <th>Var38</th>\n",
              "      <th>Var39</th>\n",
              "      <th>Var40</th>\n",
              "      <th>...</th>\n",
              "      <th>Var191</th>\n",
              "      <th>Var192</th>\n",
              "      <th>Var193</th>\n",
              "      <th>Var194</th>\n",
              "      <th>Var195</th>\n",
              "      <th>Var196</th>\n",
              "      <th>Var197</th>\n",
              "      <th>Var198</th>\n",
              "      <th>Var199</th>\n",
              "      <th>Var200</th>\n",
              "      <th>Var201</th>\n",
              "      <th>Var202</th>\n",
              "      <th>Var203</th>\n",
              "      <th>Var204</th>\n",
              "      <th>Var205</th>\n",
              "      <th>Var206</th>\n",
              "      <th>Var207</th>\n",
              "      <th>Var208</th>\n",
              "      <th>Var209</th>\n",
              "      <th>Var210</th>\n",
              "      <th>Var211</th>\n",
              "      <th>Var212</th>\n",
              "      <th>Var213</th>\n",
              "      <th>Var214</th>\n",
              "      <th>Var215</th>\n",
              "      <th>Var216</th>\n",
              "      <th>Var217</th>\n",
              "      <th>Var218</th>\n",
              "      <th>Var219</th>\n",
              "      <th>Var220</th>\n",
              "      <th>Var221</th>\n",
              "      <th>Var222</th>\n",
              "      <th>Var223</th>\n",
              "      <th>Var224</th>\n",
              "      <th>Var225</th>\n",
              "      <th>Var226</th>\n",
              "      <th>Var227</th>\n",
              "      <th>Var228</th>\n",
              "      <th>Var229</th>\n",
              "      <th>Var230</th>\n",
              "    </tr>\n",
              "  </thead>\n",
              "  <tbody>\n",
              "    <tr>\n",
              "      <th>0</th>\n",
              "      <td></td>\n",
              "      <td></td>\n",
              "      <td></td>\n",
              "      <td></td>\n",
              "      <td></td>\n",
              "      <td>1526</td>\n",
              "      <td>7</td>\n",
              "      <td></td>\n",
              "      <td></td>\n",
              "      <td></td>\n",
              "      <td></td>\n",
              "      <td></td>\n",
              "      <td>184</td>\n",
              "      <td></td>\n",
              "      <td></td>\n",
              "      <td></td>\n",
              "      <td></td>\n",
              "      <td></td>\n",
              "      <td></td>\n",
              "      <td></td>\n",
              "      <td>464</td>\n",
              "      <td>580</td>\n",
              "      <td></td>\n",
              "      <td>14</td>\n",
              "      <td>128</td>\n",
              "      <td></td>\n",
              "      <td></td>\n",
              "      <td>166.56</td>\n",
              "      <td></td>\n",
              "      <td></td>\n",
              "      <td></td>\n",
              "      <td></td>\n",
              "      <td></td>\n",
              "      <td></td>\n",
              "      <td>0</td>\n",
              "      <td></td>\n",
              "      <td></td>\n",
              "      <td>3570</td>\n",
              "      <td></td>\n",
              "      <td></td>\n",
              "      <td>...</td>\n",
              "      <td></td>\n",
              "      <td>bZkvyxLkBI</td>\n",
              "      <td>RO12</td>\n",
              "      <td></td>\n",
              "      <td>taul</td>\n",
              "      <td>1K8T</td>\n",
              "      <td>lK27</td>\n",
              "      <td>ka_ns41</td>\n",
              "      <td>nQUveAzAF7</td>\n",
              "      <td></td>\n",
              "      <td></td>\n",
              "      <td>dXGu</td>\n",
              "      <td>9_Y1</td>\n",
              "      <td>FbIm</td>\n",
              "      <td>VpdQ</td>\n",
              "      <td>haYg</td>\n",
              "      <td>me75fM6ugJ</td>\n",
              "      <td>kIsH</td>\n",
              "      <td></td>\n",
              "      <td>uKAI</td>\n",
              "      <td>L84s</td>\n",
              "      <td>XfqtO3UdzaXh_</td>\n",
              "      <td></td>\n",
              "      <td></td>\n",
              "      <td></td>\n",
              "      <td>XTbPUYD</td>\n",
              "      <td>sH5Z</td>\n",
              "      <td>cJvF</td>\n",
              "      <td>FzaX</td>\n",
              "      <td>1YVfGrO</td>\n",
              "      <td>oslk</td>\n",
              "      <td>fXVEsaq</td>\n",
              "      <td>jySVZNlOJy</td>\n",
              "      <td></td>\n",
              "      <td></td>\n",
              "      <td>xb3V</td>\n",
              "      <td>RAYp</td>\n",
              "      <td>F2FyR07IdsN7I</td>\n",
              "      <td></td>\n",
              "      <td></td>\n",
              "    </tr>\n",
              "    <tr>\n",
              "      <th>1</th>\n",
              "      <td></td>\n",
              "      <td></td>\n",
              "      <td></td>\n",
              "      <td></td>\n",
              "      <td></td>\n",
              "      <td>525</td>\n",
              "      <td>0</td>\n",
              "      <td></td>\n",
              "      <td></td>\n",
              "      <td></td>\n",
              "      <td></td>\n",
              "      <td></td>\n",
              "      <td>0</td>\n",
              "      <td></td>\n",
              "      <td></td>\n",
              "      <td></td>\n",
              "      <td></td>\n",
              "      <td></td>\n",
              "      <td></td>\n",
              "      <td></td>\n",
              "      <td>168</td>\n",
              "      <td>210</td>\n",
              "      <td></td>\n",
              "      <td>2</td>\n",
              "      <td>24</td>\n",
              "      <td></td>\n",
              "      <td></td>\n",
              "      <td>353.52</td>\n",
              "      <td></td>\n",
              "      <td></td>\n",
              "      <td></td>\n",
              "      <td></td>\n",
              "      <td></td>\n",
              "      <td></td>\n",
              "      <td>0</td>\n",
              "      <td></td>\n",
              "      <td></td>\n",
              "      <td>4764966</td>\n",
              "      <td></td>\n",
              "      <td></td>\n",
              "      <td>...</td>\n",
              "      <td></td>\n",
              "      <td>CEat0G8rTN</td>\n",
              "      <td>RO12</td>\n",
              "      <td></td>\n",
              "      <td>taul</td>\n",
              "      <td>1K8T</td>\n",
              "      <td>2Ix5</td>\n",
              "      <td>qEdASpP</td>\n",
              "      <td>y2LIM01bE1</td>\n",
              "      <td></td>\n",
              "      <td></td>\n",
              "      <td>lg1t</td>\n",
              "      <td>9_Y1</td>\n",
              "      <td>k13i</td>\n",
              "      <td>sJzTlal</td>\n",
              "      <td>zm5i</td>\n",
              "      <td>me75fM6ugJ</td>\n",
              "      <td>kIsH</td>\n",
              "      <td></td>\n",
              "      <td>uKAI</td>\n",
              "      <td>L84s</td>\n",
              "      <td>NhsEn4L</td>\n",
              "      <td></td>\n",
              "      <td></td>\n",
              "      <td></td>\n",
              "      <td>kZJyVg2</td>\n",
              "      <td></td>\n",
              "      <td></td>\n",
              "      <td>FzaX</td>\n",
              "      <td>0AJo2f2</td>\n",
              "      <td>oslk</td>\n",
              "      <td>2Kb5FSF</td>\n",
              "      <td>LM8l689qOp</td>\n",
              "      <td></td>\n",
              "      <td></td>\n",
              "      <td>fKCe</td>\n",
              "      <td>RAYp</td>\n",
              "      <td>F2FyR07IdsN7I</td>\n",
              "      <td></td>\n",
              "      <td></td>\n",
              "    </tr>\n",
              "    <tr>\n",
              "      <th>2</th>\n",
              "      <td></td>\n",
              "      <td></td>\n",
              "      <td></td>\n",
              "      <td></td>\n",
              "      <td></td>\n",
              "      <td>5236</td>\n",
              "      <td>7</td>\n",
              "      <td></td>\n",
              "      <td></td>\n",
              "      <td></td>\n",
              "      <td></td>\n",
              "      <td></td>\n",
              "      <td>904</td>\n",
              "      <td></td>\n",
              "      <td></td>\n",
              "      <td></td>\n",
              "      <td></td>\n",
              "      <td></td>\n",
              "      <td></td>\n",
              "      <td></td>\n",
              "      <td>1212</td>\n",
              "      <td>1515</td>\n",
              "      <td></td>\n",
              "      <td>26</td>\n",
              "      <td>816</td>\n",
              "      <td></td>\n",
              "      <td></td>\n",
              "      <td>220.08</td>\n",
              "      <td></td>\n",
              "      <td></td>\n",
              "      <td></td>\n",
              "      <td></td>\n",
              "      <td></td>\n",
              "      <td></td>\n",
              "      <td>0</td>\n",
              "      <td></td>\n",
              "      <td></td>\n",
              "      <td>5883894</td>\n",
              "      <td></td>\n",
              "      <td></td>\n",
              "      <td>...</td>\n",
              "      <td></td>\n",
              "      <td>eOQt0GoOh3</td>\n",
              "      <td>AERks4l</td>\n",
              "      <td>SEuy</td>\n",
              "      <td>taul</td>\n",
              "      <td>1K8T</td>\n",
              "      <td>ffXs</td>\n",
              "      <td>NldASpP</td>\n",
              "      <td>y4g9XoZ</td>\n",
              "      <td>vynJTq9</td>\n",
              "      <td>smXZ</td>\n",
              "      <td>4bTR</td>\n",
              "      <td>9_Y1</td>\n",
              "      <td>MGOA</td>\n",
              "      <td>VpdQ</td>\n",
              "      <td>haYg</td>\n",
              "      <td>DHn_WUyBhW_whjA88g9bvA64_</td>\n",
              "      <td>kIsH</td>\n",
              "      <td></td>\n",
              "      <td>uKAI</td>\n",
              "      <td>L84s</td>\n",
              "      <td>UbxQ8lZ</td>\n",
              "      <td></td>\n",
              "      <td>TTGHfSv</td>\n",
              "      <td></td>\n",
              "      <td>pMWAe2U</td>\n",
              "      <td>bHR7</td>\n",
              "      <td>UYBR</td>\n",
              "      <td>FzaX</td>\n",
              "      <td>JFM1BiF</td>\n",
              "      <td>Al6ZaUT</td>\n",
              "      <td>NKv4yOc</td>\n",
              "      <td>jySVZNlOJy</td>\n",
              "      <td></td>\n",
              "      <td>kG3k</td>\n",
              "      <td>Qu4f</td>\n",
              "      <td>02N6s8f</td>\n",
              "      <td>ib5G6X1eUxUn6</td>\n",
              "      <td>am7c</td>\n",
              "      <td></td>\n",
              "    </tr>\n",
              "    <tr>\n",
              "      <th>3</th>\n",
              "      <td></td>\n",
              "      <td></td>\n",
              "      <td></td>\n",
              "      <td></td>\n",
              "      <td></td>\n",
              "      <td></td>\n",
              "      <td>0</td>\n",
              "      <td></td>\n",
              "      <td></td>\n",
              "      <td></td>\n",
              "      <td></td>\n",
              "      <td></td>\n",
              "      <td>0</td>\n",
              "      <td></td>\n",
              "      <td></td>\n",
              "      <td></td>\n",
              "      <td></td>\n",
              "      <td></td>\n",
              "      <td></td>\n",
              "      <td></td>\n",
              "      <td></td>\n",
              "      <td>0</td>\n",
              "      <td></td>\n",
              "      <td></td>\n",
              "      <td>0</td>\n",
              "      <td></td>\n",
              "      <td></td>\n",
              "      <td>22.08</td>\n",
              "      <td></td>\n",
              "      <td></td>\n",
              "      <td></td>\n",
              "      <td></td>\n",
              "      <td></td>\n",
              "      <td></td>\n",
              "      <td>0</td>\n",
              "      <td></td>\n",
              "      <td></td>\n",
              "      <td>0</td>\n",
              "      <td></td>\n",
              "      <td></td>\n",
              "      <td>...</td>\n",
              "      <td></td>\n",
              "      <td>jg69tYsGvO</td>\n",
              "      <td>RO12</td>\n",
              "      <td></td>\n",
              "      <td>taul</td>\n",
              "      <td>1K8T</td>\n",
              "      <td>ssAy</td>\n",
              "      <td>_ybO0dd</td>\n",
              "      <td>4hMlgkf58mhwh</td>\n",
              "      <td></td>\n",
              "      <td></td>\n",
              "      <td>W8mQ</td>\n",
              "      <td>9_Y1</td>\n",
              "      <td>YULl</td>\n",
              "      <td>VpdQ</td>\n",
              "      <td></td>\n",
              "      <td>me75fM6ugJ</td>\n",
              "      <td>kIsH</td>\n",
              "      <td></td>\n",
              "      <td>uKAI</td>\n",
              "      <td>Mtgm</td>\n",
              "      <td>NhsEn4L</td>\n",
              "      <td></td>\n",
              "      <td></td>\n",
              "      <td></td>\n",
              "      <td>kq0dQfu</td>\n",
              "      <td>eKej</td>\n",
              "      <td>UYBR</td>\n",
              "      <td>FzaX</td>\n",
              "      <td>L91KIiz</td>\n",
              "      <td>oslk</td>\n",
              "      <td>CE7uk3u</td>\n",
              "      <td>LM8l689qOp</td>\n",
              "      <td></td>\n",
              "      <td></td>\n",
              "      <td>FSa2</td>\n",
              "      <td>RAYp</td>\n",
              "      <td>F2FyR07IdsN7I</td>\n",
              "      <td></td>\n",
              "      <td></td>\n",
              "    </tr>\n",
              "    <tr>\n",
              "      <th>4</th>\n",
              "      <td></td>\n",
              "      <td></td>\n",
              "      <td></td>\n",
              "      <td></td>\n",
              "      <td></td>\n",
              "      <td>1029</td>\n",
              "      <td>7</td>\n",
              "      <td></td>\n",
              "      <td></td>\n",
              "      <td></td>\n",
              "      <td></td>\n",
              "      <td></td>\n",
              "      <td>3216</td>\n",
              "      <td></td>\n",
              "      <td></td>\n",
              "      <td></td>\n",
              "      <td></td>\n",
              "      <td></td>\n",
              "      <td></td>\n",
              "      <td></td>\n",
              "      <td>64</td>\n",
              "      <td>80</td>\n",
              "      <td></td>\n",
              "      <td>4</td>\n",
              "      <td>64</td>\n",
              "      <td></td>\n",
              "      <td></td>\n",
              "      <td>200</td>\n",
              "      <td></td>\n",
              "      <td></td>\n",
              "      <td></td>\n",
              "      <td></td>\n",
              "      <td></td>\n",
              "      <td></td>\n",
              "      <td>0</td>\n",
              "      <td></td>\n",
              "      <td></td>\n",
              "      <td>0</td>\n",
              "      <td></td>\n",
              "      <td></td>\n",
              "      <td>...</td>\n",
              "      <td></td>\n",
              "      <td>IXSgUHShse</td>\n",
              "      <td>RO12</td>\n",
              "      <td>SEuy</td>\n",
              "      <td>taul</td>\n",
              "      <td>1K8T</td>\n",
              "      <td>uNkU</td>\n",
              "      <td>EKR938I</td>\n",
              "      <td>ThrHXVS</td>\n",
              "      <td>0v21jmy</td>\n",
              "      <td>smXZ</td>\n",
              "      <td>xklU</td>\n",
              "      <td>9_Y1</td>\n",
              "      <td>RVjC</td>\n",
              "      <td>sJzTlal</td>\n",
              "      <td>6JmL</td>\n",
              "      <td>me75fM6ugJ</td>\n",
              "      <td>kIsH</td>\n",
              "      <td></td>\n",
              "      <td>uKAI</td>\n",
              "      <td>L84s</td>\n",
              "      <td>XfqtO3UdzaXh_</td>\n",
              "      <td></td>\n",
              "      <td>SJs3duv</td>\n",
              "      <td></td>\n",
              "      <td>11p4mKe</td>\n",
              "      <td>H3p7</td>\n",
              "      <td>UYBR</td>\n",
              "      <td>FzaX</td>\n",
              "      <td>OrnLfvc</td>\n",
              "      <td>oslk</td>\n",
              "      <td>1J2cvxe</td>\n",
              "      <td>LM8l689qOp</td>\n",
              "      <td></td>\n",
              "      <td>kG3k</td>\n",
              "      <td>FSa2</td>\n",
              "      <td>RAYp</td>\n",
              "      <td>F2FyR07IdsN7I</td>\n",
              "      <td>mj86</td>\n",
              "      <td></td>\n",
              "    </tr>\n",
              "  </tbody>\n",
              "</table>\n",
              "<p>5 rows × 230 columns</p>\n",
              "</div>"
            ],
            "text/plain": [
              "  Var1 Var2 Var3 Var4 Var5  ... Var226   Var227         Var228 Var229 Var230\n",
              "0                           ...   xb3V     RAYp  F2FyR07IdsN7I              \n",
              "1                           ...   fKCe     RAYp  F2FyR07IdsN7I              \n",
              "2                           ...   Qu4f  02N6s8f  ib5G6X1eUxUn6   am7c       \n",
              "3                           ...   FSa2     RAYp  F2FyR07IdsN7I              \n",
              "4                           ...   FSa2     RAYp  F2FyR07IdsN7I   mj86       \n",
              "\n",
              "[5 rows x 230 columns]"
            ]
          },
          "metadata": {
            "tags": []
          },
          "execution_count": 48
        }
      ]
    },
    {
      "cell_type": "code",
      "metadata": {
        "id": "iocs8g42ivAS",
        "colab_type": "code",
        "outputId": "40a601e8-f7de-4963-f400-1586a27961cc",
        "colab": {
          "base_uri": "https://localhost:8080/",
          "height": 198
        }
      },
      "source": [
        "outcome.head()"
      ],
      "execution_count": 0,
      "outputs": [
        {
          "output_type": "execute_result",
          "data": {
            "text/html": [
              "<div>\n",
              "<style scoped>\n",
              "    .dataframe tbody tr th:only-of-type {\n",
              "        vertical-align: middle;\n",
              "    }\n",
              "\n",
              "    .dataframe tbody tr th {\n",
              "        vertical-align: top;\n",
              "    }\n",
              "\n",
              "    .dataframe thead th {\n",
              "        text-align: right;\n",
              "    }\n",
              "</style>\n",
              "<table border=\"1\" class=\"dataframe\">\n",
              "  <thead>\n",
              "    <tr style=\"text-align: right;\">\n",
              "      <th></th>\n",
              "      <th>0</th>\n",
              "    </tr>\n",
              "  </thead>\n",
              "  <tbody>\n",
              "    <tr>\n",
              "      <th>0</th>\n",
              "      <td>-1</td>\n",
              "    </tr>\n",
              "    <tr>\n",
              "      <th>1</th>\n",
              "      <td>1</td>\n",
              "    </tr>\n",
              "    <tr>\n",
              "      <th>2</th>\n",
              "      <td>-1</td>\n",
              "    </tr>\n",
              "    <tr>\n",
              "      <th>3</th>\n",
              "      <td>-1</td>\n",
              "    </tr>\n",
              "    <tr>\n",
              "      <th>4</th>\n",
              "      <td>-1</td>\n",
              "    </tr>\n",
              "  </tbody>\n",
              "</table>\n",
              "</div>"
            ],
            "text/plain": [
              "   0\n",
              "0 -1\n",
              "1  1\n",
              "2 -1\n",
              "3 -1\n",
              "4 -1"
            ]
          },
          "metadata": {
            "tags": []
          },
          "execution_count": 49
        }
      ]
    },
    {
      "cell_type": "code",
      "metadata": {
        "id": "IMF7IzEQiz8M",
        "colab_type": "code",
        "outputId": "28b282cc-d72e-44cf-933b-1c5a0f01efda",
        "colab": {
          "base_uri": "https://localhost:8080/",
          "height": 35
        }
      },
      "source": [
        "np.unique(outcome)"
      ],
      "execution_count": 0,
      "outputs": [
        {
          "output_type": "execute_result",
          "data": {
            "text/plain": [
              "array([-1,  1])"
            ]
          },
          "metadata": {
            "tags": []
          },
          "execution_count": 50
        }
      ]
    },
    {
      "cell_type": "markdown",
      "metadata": {
        "id": "IdbxJt_xaG0H",
        "colab_type": "text"
      },
      "source": [
        "### Identificando as variáveis numéricas e categóricas"
      ]
    },
    {
      "cell_type": "code",
      "metadata": {
        "id": "-tYTkuZXjigK",
        "colab_type": "code",
        "colab": {}
      },
      "source": [
        "all_vars = np.array(features.columns)"
      ],
      "execution_count": 0,
      "outputs": []
    },
    {
      "cell_type": "code",
      "metadata": {
        "id": "9fQuNzUBjn1B",
        "colab_type": "code",
        "outputId": "8443f56d-55b0-4955-a65f-0fd9c1677bec",
        "colab": {
          "base_uri": "https://localhost:8080/",
          "height": 639
        }
      },
      "source": [
        "all_vars"
      ],
      "execution_count": 0,
      "outputs": [
        {
          "output_type": "execute_result",
          "data": {
            "text/plain": [
              "array(['Var1', 'Var2', 'Var3', 'Var4', 'Var5', 'Var6', 'Var7', 'Var8',\n",
              "       'Var9', 'Var10', 'Var11', 'Var12', 'Var13', 'Var14', 'Var15',\n",
              "       'Var16', 'Var17', 'Var18', 'Var19', 'Var20', 'Var21', 'Var22',\n",
              "       'Var23', 'Var24', 'Var25', 'Var26', 'Var27', 'Var28', 'Var29',\n",
              "       'Var30', 'Var31', 'Var32', 'Var33', 'Var34', 'Var35', 'Var36',\n",
              "       'Var37', 'Var38', 'Var39', 'Var40', 'Var41', 'Var42', 'Var43',\n",
              "       'Var44', 'Var45', 'Var46', 'Var47', 'Var48', 'Var49', 'Var50',\n",
              "       'Var51', 'Var52', 'Var53', 'Var54', 'Var55', 'Var56', 'Var57',\n",
              "       'Var58', 'Var59', 'Var60', 'Var61', 'Var62', 'Var63', 'Var64',\n",
              "       'Var65', 'Var66', 'Var67', 'Var68', 'Var69', 'Var70', 'Var71',\n",
              "       'Var72', 'Var73', 'Var74', 'Var75', 'Var76', 'Var77', 'Var78',\n",
              "       'Var79', 'Var80', 'Var81', 'Var82', 'Var83', 'Var84', 'Var85',\n",
              "       'Var86', 'Var87', 'Var88', 'Var89', 'Var90', 'Var91', 'Var92',\n",
              "       'Var93', 'Var94', 'Var95', 'Var96', 'Var97', 'Var98', 'Var99',\n",
              "       'Var100', 'Var101', 'Var102', 'Var103', 'Var104', 'Var105',\n",
              "       'Var106', 'Var107', 'Var108', 'Var109', 'Var110', 'Var111',\n",
              "       'Var112', 'Var113', 'Var114', 'Var115', 'Var116', 'Var117',\n",
              "       'Var118', 'Var119', 'Var120', 'Var121', 'Var122', 'Var123',\n",
              "       'Var124', 'Var125', 'Var126', 'Var127', 'Var128', 'Var129',\n",
              "       'Var130', 'Var131', 'Var132', 'Var133', 'Var134', 'Var135',\n",
              "       'Var136', 'Var137', 'Var138', 'Var139', 'Var140', 'Var141',\n",
              "       'Var142', 'Var143', 'Var144', 'Var145', 'Var146', 'Var147',\n",
              "       'Var148', 'Var149', 'Var150', 'Var151', 'Var152', 'Var153',\n",
              "       'Var154', 'Var155', 'Var156', 'Var157', 'Var158', 'Var159',\n",
              "       'Var160', 'Var161', 'Var162', 'Var163', 'Var164', 'Var165',\n",
              "       'Var166', 'Var167', 'Var168', 'Var169', 'Var170', 'Var171',\n",
              "       'Var172', 'Var173', 'Var174', 'Var175', 'Var176', 'Var177',\n",
              "       'Var178', 'Var179', 'Var180', 'Var181', 'Var182', 'Var183',\n",
              "       'Var184', 'Var185', 'Var186', 'Var187', 'Var188', 'Var189',\n",
              "       'Var190', 'Var191', 'Var192', 'Var193', 'Var194', 'Var195',\n",
              "       'Var196', 'Var197', 'Var198', 'Var199', 'Var200', 'Var201',\n",
              "       'Var202', 'Var203', 'Var204', 'Var205', 'Var206', 'Var207',\n",
              "       'Var208', 'Var209', 'Var210', 'Var211', 'Var212', 'Var213',\n",
              "       'Var214', 'Var215', 'Var216', 'Var217', 'Var218', 'Var219',\n",
              "       'Var220', 'Var221', 'Var222', 'Var223', 'Var224', 'Var225',\n",
              "       'Var226', 'Var227', 'Var228', 'Var229', 'Var230'], dtype=object)"
            ]
          },
          "metadata": {
            "tags": []
          },
          "execution_count": 52
        }
      ]
    },
    {
      "cell_type": "code",
      "metadata": {
        "id": "nTnkz32wjsso",
        "colab_type": "code",
        "outputId": "a7abffc7-7e0a-4e3f-8689-15a3bc8586e8",
        "colab": {
          "base_uri": "https://localhost:8080/",
          "height": 535
        }
      },
      "source": [
        "num_vars = np.array(all_vars[:190])\n",
        "num_vars"
      ],
      "execution_count": 0,
      "outputs": [
        {
          "output_type": "execute_result",
          "data": {
            "text/plain": [
              "array(['Var1', 'Var2', 'Var3', 'Var4', 'Var5', 'Var6', 'Var7', 'Var8',\n",
              "       'Var9', 'Var10', 'Var11', 'Var12', 'Var13', 'Var14', 'Var15',\n",
              "       'Var16', 'Var17', 'Var18', 'Var19', 'Var20', 'Var21', 'Var22',\n",
              "       'Var23', 'Var24', 'Var25', 'Var26', 'Var27', 'Var28', 'Var29',\n",
              "       'Var30', 'Var31', 'Var32', 'Var33', 'Var34', 'Var35', 'Var36',\n",
              "       'Var37', 'Var38', 'Var39', 'Var40', 'Var41', 'Var42', 'Var43',\n",
              "       'Var44', 'Var45', 'Var46', 'Var47', 'Var48', 'Var49', 'Var50',\n",
              "       'Var51', 'Var52', 'Var53', 'Var54', 'Var55', 'Var56', 'Var57',\n",
              "       'Var58', 'Var59', 'Var60', 'Var61', 'Var62', 'Var63', 'Var64',\n",
              "       'Var65', 'Var66', 'Var67', 'Var68', 'Var69', 'Var70', 'Var71',\n",
              "       'Var72', 'Var73', 'Var74', 'Var75', 'Var76', 'Var77', 'Var78',\n",
              "       'Var79', 'Var80', 'Var81', 'Var82', 'Var83', 'Var84', 'Var85',\n",
              "       'Var86', 'Var87', 'Var88', 'Var89', 'Var90', 'Var91', 'Var92',\n",
              "       'Var93', 'Var94', 'Var95', 'Var96', 'Var97', 'Var98', 'Var99',\n",
              "       'Var100', 'Var101', 'Var102', 'Var103', 'Var104', 'Var105',\n",
              "       'Var106', 'Var107', 'Var108', 'Var109', 'Var110', 'Var111',\n",
              "       'Var112', 'Var113', 'Var114', 'Var115', 'Var116', 'Var117',\n",
              "       'Var118', 'Var119', 'Var120', 'Var121', 'Var122', 'Var123',\n",
              "       'Var124', 'Var125', 'Var126', 'Var127', 'Var128', 'Var129',\n",
              "       'Var130', 'Var131', 'Var132', 'Var133', 'Var134', 'Var135',\n",
              "       'Var136', 'Var137', 'Var138', 'Var139', 'Var140', 'Var141',\n",
              "       'Var142', 'Var143', 'Var144', 'Var145', 'Var146', 'Var147',\n",
              "       'Var148', 'Var149', 'Var150', 'Var151', 'Var152', 'Var153',\n",
              "       'Var154', 'Var155', 'Var156', 'Var157', 'Var158', 'Var159',\n",
              "       'Var160', 'Var161', 'Var162', 'Var163', 'Var164', 'Var165',\n",
              "       'Var166', 'Var167', 'Var168', 'Var169', 'Var170', 'Var171',\n",
              "       'Var172', 'Var173', 'Var174', 'Var175', 'Var176', 'Var177',\n",
              "       'Var178', 'Var179', 'Var180', 'Var181', 'Var182', 'Var183',\n",
              "       'Var184', 'Var185', 'Var186', 'Var187', 'Var188', 'Var189',\n",
              "       'Var190'], dtype=object)"
            ]
          },
          "metadata": {
            "tags": []
          },
          "execution_count": 5
        }
      ]
    },
    {
      "cell_type": "code",
      "metadata": {
        "id": "Z3fpgHclkDmY",
        "colab_type": "code",
        "outputId": "379fcdcc-3e4d-4260-846e-62a6ed9f0d85",
        "colab": {
          "base_uri": "https://localhost:8080/",
          "height": 138
        }
      },
      "source": [
        "cat_vars = np.array(all_vars[190:])\n",
        "cat_vars"
      ],
      "execution_count": 0,
      "outputs": [
        {
          "output_type": "execute_result",
          "data": {
            "text/plain": [
              "array(['Var191', 'Var192', 'Var193', 'Var194', 'Var195', 'Var196',\n",
              "       'Var197', 'Var198', 'Var199', 'Var200', 'Var201', 'Var202',\n",
              "       'Var203', 'Var204', 'Var205', 'Var206', 'Var207', 'Var208',\n",
              "       'Var209', 'Var210', 'Var211', 'Var212', 'Var213', 'Var214',\n",
              "       'Var215', 'Var216', 'Var217', 'Var218', 'Var219', 'Var220',\n",
              "       'Var221', 'Var222', 'Var223', 'Var224', 'Var225', 'Var226',\n",
              "       'Var227', 'Var228', 'Var229', 'Var230'], dtype=object)"
            ]
          },
          "metadata": {
            "tags": []
          },
          "execution_count": 6
        }
      ]
    },
    {
      "cell_type": "markdown",
      "metadata": {
        "id": "WmGmn9WdaG0K",
        "colab_type": "text"
      },
      "source": [
        "### Verificando a consistência das variáveis"
      ]
    },
    {
      "cell_type": "code",
      "metadata": {
        "id": "-aF3MLF-qaQM",
        "colab_type": "code",
        "outputId": "818b2542-2129-45e3-9471-751b4d25f0ca",
        "colab": {
          "base_uri": "https://localhost:8080/",
          "height": 225
        }
      },
      "source": [
        "features.dtypes"
      ],
      "execution_count": 0,
      "outputs": [
        {
          "output_type": "execute_result",
          "data": {
            "text/plain": [
              "Var1      object\n",
              "Var2      object\n",
              "Var3      object\n",
              "Var4      object\n",
              "Var5      object\n",
              "           ...  \n",
              "Var226    object\n",
              "Var227    object\n",
              "Var228    object\n",
              "Var229    object\n",
              "Var230    object\n",
              "Length: 230, dtype: object"
            ]
          },
          "metadata": {
            "tags": []
          },
          "execution_count": 55
        }
      ]
    },
    {
      "cell_type": "code",
      "metadata": {
        "id": "1mVdW26UqwE9",
        "colab_type": "code",
        "outputId": "a497a87c-faac-4c1f-d6d0-36c422d9307b",
        "colab": {
          "base_uri": "https://localhost:8080/",
          "height": 380
        }
      },
      "source": [
        "var = features.groupby('Var1').size()\n",
        "var"
      ],
      "execution_count": 0,
      "outputs": [
        {
          "output_type": "execute_result",
          "data": {
            "text/plain": [
              "Var1\n",
              "       49298\n",
              "0        380\n",
              "120        1\n",
              "128        2\n",
              "152        1\n",
              "16        81\n",
              "24        46\n",
              "32        23\n",
              "360        1\n",
              "392        1\n",
              "40        10\n",
              "48         6\n",
              "536        1\n",
              "56         5\n",
              "64         1\n",
              "680        1\n",
              "72         3\n",
              "8        138\n",
              "80         1\n",
              "dtype: int64"
            ]
          },
          "metadata": {
            "tags": []
          },
          "execution_count": 56
        }
      ]
    },
    {
      "cell_type": "code",
      "metadata": {
        "id": "NOejyAQcrEx0",
        "colab_type": "code",
        "colab": {}
      },
      "source": [
        "counts_per_column = pd.DataFrame()\n",
        "for col in num_vars:\n",
        "  col_count = features.groupby(col).size()\n",
        "  counts_per_column = counts_per_column.append(col_count, ignore_index = True)"
      ],
      "execution_count": 0,
      "outputs": []
    },
    {
      "cell_type": "code",
      "metadata": {
        "id": "-Eep65yQsOnI",
        "colab_type": "code",
        "outputId": "1bf272ac-6c48-4125-b8e7-03733c553cf1",
        "colab": {
          "base_uri": "https://localhost:8080/",
          "height": 35
        }
      },
      "source": [
        "counts_per_column.shape"
      ],
      "execution_count": 0,
      "outputs": [
        {
          "output_type": "execute_result",
          "data": {
            "text/plain": [
              "(190, 351788)"
            ]
          },
          "metadata": {
            "tags": []
          },
          "execution_count": 8
        }
      ]
    },
    {
      "cell_type": "code",
      "metadata": {
        "id": "2yOjrvZNsUeg",
        "colab_type": "code",
        "outputId": "e8aa7f71-4591-4658-ee35-2455ff2fb1dc",
        "colab": {
          "base_uri": "https://localhost:8080/",
          "height": 247
        }
      },
      "source": [
        "counts_per_column.head()"
      ],
      "execution_count": 0,
      "outputs": [
        {
          "output_type": "execute_result",
          "data": {
            "text/html": [
              "<div>\n",
              "<style scoped>\n",
              "    .dataframe tbody tr th:only-of-type {\n",
              "        vertical-align: middle;\n",
              "    }\n",
              "\n",
              "    .dataframe tbody tr th {\n",
              "        vertical-align: top;\n",
              "    }\n",
              "\n",
              "    .dataframe thead th {\n",
              "        text-align: right;\n",
              "    }\n",
              "</style>\n",
              "<table border=\"1\" class=\"dataframe\">\n",
              "  <thead>\n",
              "    <tr style=\"text-align: right;\">\n",
              "      <th></th>\n",
              "      <th></th>\n",
              "      <th>0</th>\n",
              "      <th>120</th>\n",
              "      <th>128</th>\n",
              "      <th>152</th>\n",
              "      <th>16</th>\n",
              "      <th>24</th>\n",
              "      <th>32</th>\n",
              "      <th>360</th>\n",
              "      <th>392</th>\n",
              "      <th>40</th>\n",
              "      <th>48</th>\n",
              "      <th>536</th>\n",
              "      <th>56</th>\n",
              "      <th>64</th>\n",
              "      <th>680</th>\n",
              "      <th>72</th>\n",
              "      <th>8</th>\n",
              "      <th>80</th>\n",
              "      <th>5</th>\n",
              "      <th>102</th>\n",
              "      <th>105</th>\n",
              "      <th>10617</th>\n",
              "      <th>108</th>\n",
              "      <th>1083</th>\n",
              "      <th>111</th>\n",
              "      <th>1113</th>\n",
              "      <th>114</th>\n",
              "      <th>1155</th>\n",
              "      <th>117</th>\n",
              "      <th>12</th>\n",
              "      <th>123</th>\n",
              "      <th>1242</th>\n",
              "      <th>126</th>\n",
              "      <th>12633</th>\n",
              "      <th>129</th>\n",
              "      <th>12927</th>\n",
              "      <th>130668</th>\n",
              "      <th>1332</th>\n",
              "      <th>1344</th>\n",
              "      <th>...</th>\n",
              "      <th>6651.18</th>\n",
              "      <th>67723.29</th>\n",
              "      <th>6893.82</th>\n",
              "      <th>69126.48</th>\n",
              "      <th>69166.71</th>\n",
              "      <th>693.45</th>\n",
              "      <th>693.99</th>\n",
              "      <th>7.47</th>\n",
              "      <th>7030.17</th>\n",
              "      <th>70445.25</th>\n",
              "      <th>7135.65</th>\n",
              "      <th>72177.84</th>\n",
              "      <th>73467.99</th>\n",
              "      <th>7584.66</th>\n",
              "      <th>7597.979</th>\n",
              "      <th>76999.23</th>\n",
              "      <th>77.67</th>\n",
              "      <th>78230.79</th>\n",
              "      <th>7922.7</th>\n",
              "      <th>79562.08</th>\n",
              "      <th>8022.96</th>\n",
              "      <th>81838.62</th>\n",
              "      <th>82165.95</th>\n",
              "      <th>8328.149</th>\n",
              "      <th>843.57</th>\n",
              "      <th>8573.939</th>\n",
              "      <th>8615.25</th>\n",
              "      <th>8660.25</th>\n",
              "      <th>86645.08</th>\n",
              "      <th>87838.47</th>\n",
              "      <th>8900.46</th>\n",
              "      <th>920.88</th>\n",
              "      <th>9336.06</th>\n",
              "      <th>9379.709</th>\n",
              "      <th>9441.36</th>\n",
              "      <th>9607.05</th>\n",
              "      <th>966.15</th>\n",
              "      <th>9772.021</th>\n",
              "      <th>98.1</th>\n",
              "      <th>9857.88</th>\n",
              "    </tr>\n",
              "  </thead>\n",
              "  <tbody>\n",
              "    <tr>\n",
              "      <th>0</th>\n",
              "      <td>49298.0</td>\n",
              "      <td>380.0</td>\n",
              "      <td>1.0</td>\n",
              "      <td>2.0</td>\n",
              "      <td>1.0</td>\n",
              "      <td>81.0</td>\n",
              "      <td>46.0</td>\n",
              "      <td>23.0</td>\n",
              "      <td>1.0</td>\n",
              "      <td>1.0</td>\n",
              "      <td>10.0</td>\n",
              "      <td>6.0</td>\n",
              "      <td>1.0</td>\n",
              "      <td>5.0</td>\n",
              "      <td>1.0</td>\n",
              "      <td>1.0</td>\n",
              "      <td>3.0</td>\n",
              "      <td>138.0</td>\n",
              "      <td>1.0</td>\n",
              "      <td>NaN</td>\n",
              "      <td>NaN</td>\n",
              "      <td>NaN</td>\n",
              "      <td>NaN</td>\n",
              "      <td>NaN</td>\n",
              "      <td>NaN</td>\n",
              "      <td>NaN</td>\n",
              "      <td>NaN</td>\n",
              "      <td>NaN</td>\n",
              "      <td>NaN</td>\n",
              "      <td>NaN</td>\n",
              "      <td>NaN</td>\n",
              "      <td>NaN</td>\n",
              "      <td>NaN</td>\n",
              "      <td>NaN</td>\n",
              "      <td>NaN</td>\n",
              "      <td>NaN</td>\n",
              "      <td>NaN</td>\n",
              "      <td>NaN</td>\n",
              "      <td>NaN</td>\n",
              "      <td>NaN</td>\n",
              "      <td>...</td>\n",
              "      <td>NaN</td>\n",
              "      <td>NaN</td>\n",
              "      <td>NaN</td>\n",
              "      <td>NaN</td>\n",
              "      <td>NaN</td>\n",
              "      <td>NaN</td>\n",
              "      <td>NaN</td>\n",
              "      <td>NaN</td>\n",
              "      <td>NaN</td>\n",
              "      <td>NaN</td>\n",
              "      <td>NaN</td>\n",
              "      <td>NaN</td>\n",
              "      <td>NaN</td>\n",
              "      <td>NaN</td>\n",
              "      <td>NaN</td>\n",
              "      <td>NaN</td>\n",
              "      <td>NaN</td>\n",
              "      <td>NaN</td>\n",
              "      <td>NaN</td>\n",
              "      <td>NaN</td>\n",
              "      <td>NaN</td>\n",
              "      <td>NaN</td>\n",
              "      <td>NaN</td>\n",
              "      <td>NaN</td>\n",
              "      <td>NaN</td>\n",
              "      <td>NaN</td>\n",
              "      <td>NaN</td>\n",
              "      <td>NaN</td>\n",
              "      <td>NaN</td>\n",
              "      <td>NaN</td>\n",
              "      <td>NaN</td>\n",
              "      <td>NaN</td>\n",
              "      <td>NaN</td>\n",
              "      <td>NaN</td>\n",
              "      <td>NaN</td>\n",
              "      <td>NaN</td>\n",
              "      <td>NaN</td>\n",
              "      <td>NaN</td>\n",
              "      <td>NaN</td>\n",
              "      <td>NaN</td>\n",
              "    </tr>\n",
              "    <tr>\n",
              "      <th>1</th>\n",
              "      <td>48759.0</td>\n",
              "      <td>1240.0</td>\n",
              "      <td>NaN</td>\n",
              "      <td>NaN</td>\n",
              "      <td>NaN</td>\n",
              "      <td>NaN</td>\n",
              "      <td>NaN</td>\n",
              "      <td>NaN</td>\n",
              "      <td>NaN</td>\n",
              "      <td>NaN</td>\n",
              "      <td>NaN</td>\n",
              "      <td>NaN</td>\n",
              "      <td>NaN</td>\n",
              "      <td>NaN</td>\n",
              "      <td>NaN</td>\n",
              "      <td>NaN</td>\n",
              "      <td>NaN</td>\n",
              "      <td>NaN</td>\n",
              "      <td>NaN</td>\n",
              "      <td>1.0</td>\n",
              "      <td>NaN</td>\n",
              "      <td>NaN</td>\n",
              "      <td>NaN</td>\n",
              "      <td>NaN</td>\n",
              "      <td>NaN</td>\n",
              "      <td>NaN</td>\n",
              "      <td>NaN</td>\n",
              "      <td>NaN</td>\n",
              "      <td>NaN</td>\n",
              "      <td>NaN</td>\n",
              "      <td>NaN</td>\n",
              "      <td>NaN</td>\n",
              "      <td>NaN</td>\n",
              "      <td>NaN</td>\n",
              "      <td>NaN</td>\n",
              "      <td>NaN</td>\n",
              "      <td>NaN</td>\n",
              "      <td>NaN</td>\n",
              "      <td>NaN</td>\n",
              "      <td>NaN</td>\n",
              "      <td>...</td>\n",
              "      <td>NaN</td>\n",
              "      <td>NaN</td>\n",
              "      <td>NaN</td>\n",
              "      <td>NaN</td>\n",
              "      <td>NaN</td>\n",
              "      <td>NaN</td>\n",
              "      <td>NaN</td>\n",
              "      <td>NaN</td>\n",
              "      <td>NaN</td>\n",
              "      <td>NaN</td>\n",
              "      <td>NaN</td>\n",
              "      <td>NaN</td>\n",
              "      <td>NaN</td>\n",
              "      <td>NaN</td>\n",
              "      <td>NaN</td>\n",
              "      <td>NaN</td>\n",
              "      <td>NaN</td>\n",
              "      <td>NaN</td>\n",
              "      <td>NaN</td>\n",
              "      <td>NaN</td>\n",
              "      <td>NaN</td>\n",
              "      <td>NaN</td>\n",
              "      <td>NaN</td>\n",
              "      <td>NaN</td>\n",
              "      <td>NaN</td>\n",
              "      <td>NaN</td>\n",
              "      <td>NaN</td>\n",
              "      <td>NaN</td>\n",
              "      <td>NaN</td>\n",
              "      <td>NaN</td>\n",
              "      <td>NaN</td>\n",
              "      <td>NaN</td>\n",
              "      <td>NaN</td>\n",
              "      <td>NaN</td>\n",
              "      <td>NaN</td>\n",
              "      <td>NaN</td>\n",
              "      <td>NaN</td>\n",
              "      <td>NaN</td>\n",
              "      <td>NaN</td>\n",
              "      <td>NaN</td>\n",
              "    </tr>\n",
              "    <tr>\n",
              "      <th>2</th>\n",
              "      <td>48760.0</td>\n",
              "      <td>996.0</td>\n",
              "      <td>3.0</td>\n",
              "      <td>NaN</td>\n",
              "      <td>NaN</td>\n",
              "      <td>NaN</td>\n",
              "      <td>1.0</td>\n",
              "      <td>NaN</td>\n",
              "      <td>NaN</td>\n",
              "      <td>NaN</td>\n",
              "      <td>NaN</td>\n",
              "      <td>3.0</td>\n",
              "      <td>NaN</td>\n",
              "      <td>NaN</td>\n",
              "      <td>NaN</td>\n",
              "      <td>NaN</td>\n",
              "      <td>3.0</td>\n",
              "      <td>NaN</td>\n",
              "      <td>NaN</td>\n",
              "      <td>NaN</td>\n",
              "      <td>3.0</td>\n",
              "      <td>2.0</td>\n",
              "      <td>1.0</td>\n",
              "      <td>3.0</td>\n",
              "      <td>1.0</td>\n",
              "      <td>1.0</td>\n",
              "      <td>1.0</td>\n",
              "      <td>1.0</td>\n",
              "      <td>1.0</td>\n",
              "      <td>2.0</td>\n",
              "      <td>3.0</td>\n",
              "      <td>3.0</td>\n",
              "      <td>1.0</td>\n",
              "      <td>2.0</td>\n",
              "      <td>1.0</td>\n",
              "      <td>2.0</td>\n",
              "      <td>1.0</td>\n",
              "      <td>1.0</td>\n",
              "      <td>1.0</td>\n",
              "      <td>1.0</td>\n",
              "      <td>...</td>\n",
              "      <td>NaN</td>\n",
              "      <td>NaN</td>\n",
              "      <td>NaN</td>\n",
              "      <td>NaN</td>\n",
              "      <td>NaN</td>\n",
              "      <td>NaN</td>\n",
              "      <td>NaN</td>\n",
              "      <td>NaN</td>\n",
              "      <td>NaN</td>\n",
              "      <td>NaN</td>\n",
              "      <td>NaN</td>\n",
              "      <td>NaN</td>\n",
              "      <td>NaN</td>\n",
              "      <td>NaN</td>\n",
              "      <td>NaN</td>\n",
              "      <td>NaN</td>\n",
              "      <td>NaN</td>\n",
              "      <td>NaN</td>\n",
              "      <td>NaN</td>\n",
              "      <td>NaN</td>\n",
              "      <td>NaN</td>\n",
              "      <td>NaN</td>\n",
              "      <td>NaN</td>\n",
              "      <td>NaN</td>\n",
              "      <td>NaN</td>\n",
              "      <td>NaN</td>\n",
              "      <td>NaN</td>\n",
              "      <td>NaN</td>\n",
              "      <td>NaN</td>\n",
              "      <td>NaN</td>\n",
              "      <td>NaN</td>\n",
              "      <td>NaN</td>\n",
              "      <td>NaN</td>\n",
              "      <td>NaN</td>\n",
              "      <td>NaN</td>\n",
              "      <td>NaN</td>\n",
              "      <td>NaN</td>\n",
              "      <td>NaN</td>\n",
              "      <td>NaN</td>\n",
              "      <td>NaN</td>\n",
              "    </tr>\n",
              "    <tr>\n",
              "      <th>3</th>\n",
              "      <td>48421.0</td>\n",
              "      <td>1561.0</td>\n",
              "      <td>NaN</td>\n",
              "      <td>NaN</td>\n",
              "      <td>NaN</td>\n",
              "      <td>NaN</td>\n",
              "      <td>NaN</td>\n",
              "      <td>NaN</td>\n",
              "      <td>NaN</td>\n",
              "      <td>NaN</td>\n",
              "      <td>NaN</td>\n",
              "      <td>NaN</td>\n",
              "      <td>NaN</td>\n",
              "      <td>NaN</td>\n",
              "      <td>NaN</td>\n",
              "      <td>NaN</td>\n",
              "      <td>NaN</td>\n",
              "      <td>NaN</td>\n",
              "      <td>NaN</td>\n",
              "      <td>NaN</td>\n",
              "      <td>NaN</td>\n",
              "      <td>NaN</td>\n",
              "      <td>NaN</td>\n",
              "      <td>NaN</td>\n",
              "      <td>NaN</td>\n",
              "      <td>NaN</td>\n",
              "      <td>NaN</td>\n",
              "      <td>NaN</td>\n",
              "      <td>NaN</td>\n",
              "      <td>NaN</td>\n",
              "      <td>NaN</td>\n",
              "      <td>NaN</td>\n",
              "      <td>NaN</td>\n",
              "      <td>NaN</td>\n",
              "      <td>NaN</td>\n",
              "      <td>NaN</td>\n",
              "      <td>NaN</td>\n",
              "      <td>NaN</td>\n",
              "      <td>NaN</td>\n",
              "      <td>NaN</td>\n",
              "      <td>...</td>\n",
              "      <td>NaN</td>\n",
              "      <td>NaN</td>\n",
              "      <td>NaN</td>\n",
              "      <td>NaN</td>\n",
              "      <td>NaN</td>\n",
              "      <td>NaN</td>\n",
              "      <td>NaN</td>\n",
              "      <td>NaN</td>\n",
              "      <td>NaN</td>\n",
              "      <td>NaN</td>\n",
              "      <td>NaN</td>\n",
              "      <td>NaN</td>\n",
              "      <td>NaN</td>\n",
              "      <td>NaN</td>\n",
              "      <td>NaN</td>\n",
              "      <td>NaN</td>\n",
              "      <td>NaN</td>\n",
              "      <td>NaN</td>\n",
              "      <td>NaN</td>\n",
              "      <td>NaN</td>\n",
              "      <td>NaN</td>\n",
              "      <td>NaN</td>\n",
              "      <td>NaN</td>\n",
              "      <td>NaN</td>\n",
              "      <td>NaN</td>\n",
              "      <td>NaN</td>\n",
              "      <td>NaN</td>\n",
              "      <td>NaN</td>\n",
              "      <td>NaN</td>\n",
              "      <td>NaN</td>\n",
              "      <td>NaN</td>\n",
              "      <td>NaN</td>\n",
              "      <td>NaN</td>\n",
              "      <td>NaN</td>\n",
              "      <td>NaN</td>\n",
              "      <td>NaN</td>\n",
              "      <td>NaN</td>\n",
              "      <td>NaN</td>\n",
              "      <td>NaN</td>\n",
              "      <td>NaN</td>\n",
              "    </tr>\n",
              "    <tr>\n",
              "      <th>4</th>\n",
              "      <td>48513.0</td>\n",
              "      <td>898.0</td>\n",
              "      <td>NaN</td>\n",
              "      <td>NaN</td>\n",
              "      <td>NaN</td>\n",
              "      <td>NaN</td>\n",
              "      <td>NaN</td>\n",
              "      <td>NaN</td>\n",
              "      <td>NaN</td>\n",
              "      <td>NaN</td>\n",
              "      <td>NaN</td>\n",
              "      <td>NaN</td>\n",
              "      <td>NaN</td>\n",
              "      <td>NaN</td>\n",
              "      <td>NaN</td>\n",
              "      <td>NaN</td>\n",
              "      <td>NaN</td>\n",
              "      <td>NaN</td>\n",
              "      <td>NaN</td>\n",
              "      <td>NaN</td>\n",
              "      <td>NaN</td>\n",
              "      <td>NaN</td>\n",
              "      <td>NaN</td>\n",
              "      <td>NaN</td>\n",
              "      <td>NaN</td>\n",
              "      <td>NaN</td>\n",
              "      <td>NaN</td>\n",
              "      <td>NaN</td>\n",
              "      <td>NaN</td>\n",
              "      <td>NaN</td>\n",
              "      <td>NaN</td>\n",
              "      <td>NaN</td>\n",
              "      <td>NaN</td>\n",
              "      <td>NaN</td>\n",
              "      <td>NaN</td>\n",
              "      <td>NaN</td>\n",
              "      <td>NaN</td>\n",
              "      <td>NaN</td>\n",
              "      <td>NaN</td>\n",
              "      <td>NaN</td>\n",
              "      <td>...</td>\n",
              "      <td>NaN</td>\n",
              "      <td>NaN</td>\n",
              "      <td>NaN</td>\n",
              "      <td>NaN</td>\n",
              "      <td>NaN</td>\n",
              "      <td>NaN</td>\n",
              "      <td>NaN</td>\n",
              "      <td>NaN</td>\n",
              "      <td>NaN</td>\n",
              "      <td>NaN</td>\n",
              "      <td>NaN</td>\n",
              "      <td>NaN</td>\n",
              "      <td>NaN</td>\n",
              "      <td>NaN</td>\n",
              "      <td>NaN</td>\n",
              "      <td>NaN</td>\n",
              "      <td>NaN</td>\n",
              "      <td>NaN</td>\n",
              "      <td>NaN</td>\n",
              "      <td>NaN</td>\n",
              "      <td>NaN</td>\n",
              "      <td>NaN</td>\n",
              "      <td>NaN</td>\n",
              "      <td>NaN</td>\n",
              "      <td>NaN</td>\n",
              "      <td>NaN</td>\n",
              "      <td>NaN</td>\n",
              "      <td>NaN</td>\n",
              "      <td>NaN</td>\n",
              "      <td>NaN</td>\n",
              "      <td>NaN</td>\n",
              "      <td>NaN</td>\n",
              "      <td>NaN</td>\n",
              "      <td>NaN</td>\n",
              "      <td>NaN</td>\n",
              "      <td>NaN</td>\n",
              "      <td>NaN</td>\n",
              "      <td>NaN</td>\n",
              "      <td>NaN</td>\n",
              "      <td>NaN</td>\n",
              "    </tr>\n",
              "  </tbody>\n",
              "</table>\n",
              "<p>5 rows × 351788 columns</p>\n",
              "</div>"
            ],
            "text/plain": [
              "                 0  120  128  152  ...  9607.05  966.15  9772.021  98.1  9857.88\n",
              "0  49298.0   380.0  1.0  2.0  1.0  ...      NaN     NaN       NaN   NaN      NaN\n",
              "1  48759.0  1240.0  NaN  NaN  NaN  ...      NaN     NaN       NaN   NaN      NaN\n",
              "2  48760.0   996.0  3.0  NaN  NaN  ...      NaN     NaN       NaN   NaN      NaN\n",
              "3  48421.0  1561.0  NaN  NaN  NaN  ...      NaN     NaN       NaN   NaN      NaN\n",
              "4  48513.0   898.0  NaN  NaN  NaN  ...      NaN     NaN       NaN   NaN      NaN\n",
              "\n",
              "[5 rows x 351788 columns]"
            ]
          },
          "metadata": {
            "tags": []
          },
          "execution_count": 9
        }
      ]
    },
    {
      "cell_type": "code",
      "metadata": {
        "id": "kfahoB9TsZw_",
        "colab_type": "code",
        "outputId": "fd4b31e4-3f29-4520-f30c-8e115f39ba91",
        "colab": {
          "base_uri": "https://localhost:8080/",
          "height": 35
        }
      },
      "source": [
        "counts_per_column.T.shape"
      ],
      "execution_count": 0,
      "outputs": [
        {
          "output_type": "execute_result",
          "data": {
            "text/plain": [
              "(351788, 190)"
            ]
          },
          "metadata": {
            "tags": []
          },
          "execution_count": 10
        }
      ]
    },
    {
      "cell_type": "code",
      "metadata": {
        "id": "isqAkJnBsjPA",
        "colab_type": "code",
        "outputId": "3fa7a5c9-08cf-4fb3-e9ad-33c9bc3934ff",
        "colab": {
          "base_uri": "https://localhost:8080/",
          "height": 247
        }
      },
      "source": [
        "counts_per_column.T.head()"
      ],
      "execution_count": 0,
      "outputs": [
        {
          "output_type": "execute_result",
          "data": {
            "text/html": [
              "<div>\n",
              "<style scoped>\n",
              "    .dataframe tbody tr th:only-of-type {\n",
              "        vertical-align: middle;\n",
              "    }\n",
              "\n",
              "    .dataframe tbody tr th {\n",
              "        vertical-align: top;\n",
              "    }\n",
              "\n",
              "    .dataframe thead th {\n",
              "        text-align: right;\n",
              "    }\n",
              "</style>\n",
              "<table border=\"1\" class=\"dataframe\">\n",
              "  <thead>\n",
              "    <tr style=\"text-align: right;\">\n",
              "      <th></th>\n",
              "      <th>0</th>\n",
              "      <th>1</th>\n",
              "      <th>2</th>\n",
              "      <th>3</th>\n",
              "      <th>4</th>\n",
              "      <th>5</th>\n",
              "      <th>6</th>\n",
              "      <th>7</th>\n",
              "      <th>8</th>\n",
              "      <th>9</th>\n",
              "      <th>10</th>\n",
              "      <th>11</th>\n",
              "      <th>12</th>\n",
              "      <th>13</th>\n",
              "      <th>14</th>\n",
              "      <th>15</th>\n",
              "      <th>16</th>\n",
              "      <th>17</th>\n",
              "      <th>18</th>\n",
              "      <th>19</th>\n",
              "      <th>20</th>\n",
              "      <th>21</th>\n",
              "      <th>22</th>\n",
              "      <th>23</th>\n",
              "      <th>24</th>\n",
              "      <th>25</th>\n",
              "      <th>26</th>\n",
              "      <th>27</th>\n",
              "      <th>28</th>\n",
              "      <th>29</th>\n",
              "      <th>30</th>\n",
              "      <th>31</th>\n",
              "      <th>32</th>\n",
              "      <th>33</th>\n",
              "      <th>34</th>\n",
              "      <th>35</th>\n",
              "      <th>36</th>\n",
              "      <th>37</th>\n",
              "      <th>38</th>\n",
              "      <th>39</th>\n",
              "      <th>...</th>\n",
              "      <th>150</th>\n",
              "      <th>151</th>\n",
              "      <th>152</th>\n",
              "      <th>153</th>\n",
              "      <th>154</th>\n",
              "      <th>155</th>\n",
              "      <th>156</th>\n",
              "      <th>157</th>\n",
              "      <th>158</th>\n",
              "      <th>159</th>\n",
              "      <th>160</th>\n",
              "      <th>161</th>\n",
              "      <th>162</th>\n",
              "      <th>163</th>\n",
              "      <th>164</th>\n",
              "      <th>165</th>\n",
              "      <th>166</th>\n",
              "      <th>167</th>\n",
              "      <th>168</th>\n",
              "      <th>169</th>\n",
              "      <th>170</th>\n",
              "      <th>171</th>\n",
              "      <th>172</th>\n",
              "      <th>173</th>\n",
              "      <th>174</th>\n",
              "      <th>175</th>\n",
              "      <th>176</th>\n",
              "      <th>177</th>\n",
              "      <th>178</th>\n",
              "      <th>179</th>\n",
              "      <th>180</th>\n",
              "      <th>181</th>\n",
              "      <th>182</th>\n",
              "      <th>183</th>\n",
              "      <th>184</th>\n",
              "      <th>185</th>\n",
              "      <th>186</th>\n",
              "      <th>187</th>\n",
              "      <th>188</th>\n",
              "      <th>189</th>\n",
              "    </tr>\n",
              "  </thead>\n",
              "  <tbody>\n",
              "    <tr>\n",
              "      <th></th>\n",
              "      <td>49298.0</td>\n",
              "      <td>48759.0</td>\n",
              "      <td>48760.0</td>\n",
              "      <td>48421.0</td>\n",
              "      <td>48513.0</td>\n",
              "      <td>5529.0</td>\n",
              "      <td>5539.0</td>\n",
              "      <td>50000.0</td>\n",
              "      <td>49298.0</td>\n",
              "      <td>48513.0</td>\n",
              "      <td>48760.0</td>\n",
              "      <td>49442.0</td>\n",
              "      <td>5539.0</td>\n",
              "      <td>48760.0</td>\n",
              "      <td>50000.0</td>\n",
              "      <td>48513.0</td>\n",
              "      <td>48421.0</td>\n",
              "      <td>48421.0</td>\n",
              "      <td>48421.0</td>\n",
              "      <td>50000.0</td>\n",
              "      <td>5529.0</td>\n",
              "      <td>5009.0</td>\n",
              "      <td>48513.0</td>\n",
              "      <td>7230.0</td>\n",
              "      <td>5009.0</td>\n",
              "      <td>48513.0</td>\n",
              "      <td>48513.0</td>\n",
              "      <td>5011.0</td>\n",
              "      <td>49298.0</td>\n",
              "      <td>49298.0</td>\n",
              "      <td>50000.0</td>\n",
              "      <td>50000.0</td>\n",
              "      <td>49153.0</td>\n",
              "      <td>48759.0</td>\n",
              "      <td>5009.0</td>\n",
              "      <td>48759.0</td>\n",
              "      <td>48421.0</td>\n",
              "      <td>5009.0</td>\n",
              "      <td>50000.0</td>\n",
              "      <td>48759.0</td>\n",
              "      <td>...</td>\n",
              "      <td>49153.0</td>\n",
              "      <td>48421.0</td>\n",
              "      <td>5009.0</td>\n",
              "      <td>49298.0</td>\n",
              "      <td>48421.0</td>\n",
              "      <td>49306.0</td>\n",
              "      <td>48871.0</td>\n",
              "      <td>49127.0</td>\n",
              "      <td>48759.0</td>\n",
              "      <td>5009.0</td>\n",
              "      <td>48421.0</td>\n",
              "      <td>48759.0</td>\n",
              "      <td>5009.0</td>\n",
              "      <td>48421.0</td>\n",
              "      <td>49127.0</td>\n",
              "      <td>48513.0</td>\n",
              "      <td>50000.0</td>\n",
              "      <td>49298.0</td>\n",
              "      <td>50000.0</td>\n",
              "      <td>48759.0</td>\n",
              "      <td>48917.0</td>\n",
              "      <td>48513.0</td>\n",
              "      <td>5009.0</td>\n",
              "      <td>48421.0</td>\n",
              "      <td>50000.0</td>\n",
              "      <td>48760.0</td>\n",
              "      <td>48759.0</td>\n",
              "      <td>49354.0</td>\n",
              "      <td>48421.0</td>\n",
              "      <td>49298.0</td>\n",
              "      <td>5009.0</td>\n",
              "      <td>48421.0</td>\n",
              "      <td>48759.0</td>\n",
              "      <td>48759.0</td>\n",
              "      <td>50000.0</td>\n",
              "      <td>49298.0</td>\n",
              "      <td>49298.0</td>\n",
              "      <td>48759.0</td>\n",
              "      <td>28978.0</td>\n",
              "      <td>49667.0</td>\n",
              "    </tr>\n",
              "    <tr>\n",
              "      <th>0</th>\n",
              "      <td>380.0</td>\n",
              "      <td>1240.0</td>\n",
              "      <td>996.0</td>\n",
              "      <td>1561.0</td>\n",
              "      <td>898.0</td>\n",
              "      <td>976.0</td>\n",
              "      <td>13090.0</td>\n",
              "      <td>NaN</td>\n",
              "      <td>144.0</td>\n",
              "      <td>902.0</td>\n",
              "      <td>NaN</td>\n",
              "      <td>304.0</td>\n",
              "      <td>12258.0</td>\n",
              "      <td>1154.0</td>\n",
              "      <td>NaN</td>\n",
              "      <td>54.0</td>\n",
              "      <td>939.0</td>\n",
              "      <td>1200.0</td>\n",
              "      <td>1543.0</td>\n",
              "      <td>NaN</td>\n",
              "      <td>1815.0</td>\n",
              "      <td>2221.0</td>\n",
              "      <td>1052.0</td>\n",
              "      <td>16205.0</td>\n",
              "      <td>6629.0</td>\n",
              "      <td>1457.0</td>\n",
              "      <td>1467.0</td>\n",
              "      <td>388.0</td>\n",
              "      <td>694.0</td>\n",
              "      <td>195.0</td>\n",
              "      <td>NaN</td>\n",
              "      <td>NaN</td>\n",
              "      <td>523.0</td>\n",
              "      <td>1126.0</td>\n",
              "      <td>41219.0</td>\n",
              "      <td>692.0</td>\n",
              "      <td>964.0</td>\n",
              "      <td>9405.0</td>\n",
              "      <td>NaN</td>\n",
              "      <td>830.0</td>\n",
              "      <td>...</td>\n",
              "      <td>523.0</td>\n",
              "      <td>475.0</td>\n",
              "      <td>2221.0</td>\n",
              "      <td>273.0</td>\n",
              "      <td>1430.0</td>\n",
              "      <td>142.0</td>\n",
              "      <td>418.0</td>\n",
              "      <td>650.0</td>\n",
              "      <td>939.0</td>\n",
              "      <td>3848.0</td>\n",
              "      <td>1266.0</td>\n",
              "      <td>747.0</td>\n",
              "      <td>13457.0</td>\n",
              "      <td>1296.0</td>\n",
              "      <td>650.0</td>\n",
              "      <td>898.0</td>\n",
              "      <td>NaN</td>\n",
              "      <td>4.0</td>\n",
              "      <td>NaN</td>\n",
              "      <td>892.0</td>\n",
              "      <td>290.0</td>\n",
              "      <td>391.0</td>\n",
              "      <td>44857.0</td>\n",
              "      <td>964.0</td>\n",
              "      <td>NaN</td>\n",
              "      <td>1083.0</td>\n",
              "      <td>771.0</td>\n",
              "      <td>174.0</td>\n",
              "      <td>1289.0</td>\n",
              "      <td>144.0</td>\n",
              "      <td>41990.0</td>\n",
              "      <td>706.0</td>\n",
              "      <td>830.0</td>\n",
              "      <td>771.0</td>\n",
              "      <td>NaN</td>\n",
              "      <td>525.0</td>\n",
              "      <td>240.0</td>\n",
              "      <td>44.0</td>\n",
              "      <td>NaN</td>\n",
              "      <td>4.0</td>\n",
              "    </tr>\n",
              "    <tr>\n",
              "      <th>120</th>\n",
              "      <td>1.0</td>\n",
              "      <td>NaN</td>\n",
              "      <td>3.0</td>\n",
              "      <td>NaN</td>\n",
              "      <td>NaN</td>\n",
              "      <td>NaN</td>\n",
              "      <td>NaN</td>\n",
              "      <td>NaN</td>\n",
              "      <td>2.0</td>\n",
              "      <td>NaN</td>\n",
              "      <td>NaN</td>\n",
              "      <td>NaN</td>\n",
              "      <td>134.0</td>\n",
              "      <td>NaN</td>\n",
              "      <td>NaN</td>\n",
              "      <td>NaN</td>\n",
              "      <td>3.0</td>\n",
              "      <td>NaN</td>\n",
              "      <td>NaN</td>\n",
              "      <td>NaN</td>\n",
              "      <td>959.0</td>\n",
              "      <td>296.0</td>\n",
              "      <td>1.0</td>\n",
              "      <td>NaN</td>\n",
              "      <td>762.0</td>\n",
              "      <td>NaN</td>\n",
              "      <td>NaN</td>\n",
              "      <td>NaN</td>\n",
              "      <td>NaN</td>\n",
              "      <td>NaN</td>\n",
              "      <td>NaN</td>\n",
              "      <td>NaN</td>\n",
              "      <td>NaN</td>\n",
              "      <td>NaN</td>\n",
              "      <td>NaN</td>\n",
              "      <td>NaN</td>\n",
              "      <td>NaN</td>\n",
              "      <td>4.0</td>\n",
              "      <td>NaN</td>\n",
              "      <td>2.0</td>\n",
              "      <td>...</td>\n",
              "      <td>2.0</td>\n",
              "      <td>NaN</td>\n",
              "      <td>1.0</td>\n",
              "      <td>NaN</td>\n",
              "      <td>NaN</td>\n",
              "      <td>NaN</td>\n",
              "      <td>1.0</td>\n",
              "      <td>NaN</td>\n",
              "      <td>NaN</td>\n",
              "      <td>56.0</td>\n",
              "      <td>NaN</td>\n",
              "      <td>NaN</td>\n",
              "      <td>1.0</td>\n",
              "      <td>1.0</td>\n",
              "      <td>NaN</td>\n",
              "      <td>NaN</td>\n",
              "      <td>NaN</td>\n",
              "      <td>NaN</td>\n",
              "      <td>NaN</td>\n",
              "      <td>NaN</td>\n",
              "      <td>NaN</td>\n",
              "      <td>NaN</td>\n",
              "      <td>NaN</td>\n",
              "      <td>NaN</td>\n",
              "      <td>NaN</td>\n",
              "      <td>NaN</td>\n",
              "      <td>NaN</td>\n",
              "      <td>1.0</td>\n",
              "      <td>NaN</td>\n",
              "      <td>NaN</td>\n",
              "      <td>NaN</td>\n",
              "      <td>NaN</td>\n",
              "      <td>NaN</td>\n",
              "      <td>NaN</td>\n",
              "      <td>NaN</td>\n",
              "      <td>NaN</td>\n",
              "      <td>NaN</td>\n",
              "      <td>NaN</td>\n",
              "      <td>95.0</td>\n",
              "      <td>NaN</td>\n",
              "    </tr>\n",
              "    <tr>\n",
              "      <th>128</th>\n",
              "      <td>2.0</td>\n",
              "      <td>NaN</td>\n",
              "      <td>NaN</td>\n",
              "      <td>NaN</td>\n",
              "      <td>NaN</td>\n",
              "      <td>NaN</td>\n",
              "      <td>NaN</td>\n",
              "      <td>NaN</td>\n",
              "      <td>1.0</td>\n",
              "      <td>NaN</td>\n",
              "      <td>NaN</td>\n",
              "      <td>2.0</td>\n",
              "      <td>130.0</td>\n",
              "      <td>NaN</td>\n",
              "      <td>NaN</td>\n",
              "      <td>NaN</td>\n",
              "      <td>NaN</td>\n",
              "      <td>NaN</td>\n",
              "      <td>NaN</td>\n",
              "      <td>NaN</td>\n",
              "      <td>1680.0</td>\n",
              "      <td>NaN</td>\n",
              "      <td>NaN</td>\n",
              "      <td>NaN</td>\n",
              "      <td>703.0</td>\n",
              "      <td>NaN</td>\n",
              "      <td>NaN</td>\n",
              "      <td>NaN</td>\n",
              "      <td>NaN</td>\n",
              "      <td>NaN</td>\n",
              "      <td>NaN</td>\n",
              "      <td>NaN</td>\n",
              "      <td>NaN</td>\n",
              "      <td>NaN</td>\n",
              "      <td>NaN</td>\n",
              "      <td>NaN</td>\n",
              "      <td>NaN</td>\n",
              "      <td>NaN</td>\n",
              "      <td>NaN</td>\n",
              "      <td>NaN</td>\n",
              "      <td>...</td>\n",
              "      <td>1.0</td>\n",
              "      <td>NaN</td>\n",
              "      <td>NaN</td>\n",
              "      <td>NaN</td>\n",
              "      <td>NaN</td>\n",
              "      <td>NaN</td>\n",
              "      <td>2.0</td>\n",
              "      <td>NaN</td>\n",
              "      <td>NaN</td>\n",
              "      <td>46.0</td>\n",
              "      <td>NaN</td>\n",
              "      <td>NaN</td>\n",
              "      <td>NaN</td>\n",
              "      <td>NaN</td>\n",
              "      <td>NaN</td>\n",
              "      <td>NaN</td>\n",
              "      <td>NaN</td>\n",
              "      <td>NaN</td>\n",
              "      <td>NaN</td>\n",
              "      <td>NaN</td>\n",
              "      <td>NaN</td>\n",
              "      <td>NaN</td>\n",
              "      <td>NaN</td>\n",
              "      <td>NaN</td>\n",
              "      <td>NaN</td>\n",
              "      <td>NaN</td>\n",
              "      <td>NaN</td>\n",
              "      <td>NaN</td>\n",
              "      <td>NaN</td>\n",
              "      <td>NaN</td>\n",
              "      <td>NaN</td>\n",
              "      <td>NaN</td>\n",
              "      <td>NaN</td>\n",
              "      <td>NaN</td>\n",
              "      <td>NaN</td>\n",
              "      <td>NaN</td>\n",
              "      <td>NaN</td>\n",
              "      <td>NaN</td>\n",
              "      <td>NaN</td>\n",
              "      <td>NaN</td>\n",
              "    </tr>\n",
              "    <tr>\n",
              "      <th>152</th>\n",
              "      <td>1.0</td>\n",
              "      <td>NaN</td>\n",
              "      <td>NaN</td>\n",
              "      <td>NaN</td>\n",
              "      <td>NaN</td>\n",
              "      <td>NaN</td>\n",
              "      <td>NaN</td>\n",
              "      <td>NaN</td>\n",
              "      <td>1.0</td>\n",
              "      <td>NaN</td>\n",
              "      <td>NaN</td>\n",
              "      <td>NaN</td>\n",
              "      <td>124.0</td>\n",
              "      <td>NaN</td>\n",
              "      <td>NaN</td>\n",
              "      <td>3.0</td>\n",
              "      <td>NaN</td>\n",
              "      <td>NaN</td>\n",
              "      <td>NaN</td>\n",
              "      <td>NaN</td>\n",
              "      <td>968.0</td>\n",
              "      <td>NaN</td>\n",
              "      <td>NaN</td>\n",
              "      <td>1.0</td>\n",
              "      <td>664.0</td>\n",
              "      <td>NaN</td>\n",
              "      <td>NaN</td>\n",
              "      <td>1.0</td>\n",
              "      <td>NaN</td>\n",
              "      <td>NaN</td>\n",
              "      <td>NaN</td>\n",
              "      <td>NaN</td>\n",
              "      <td>NaN</td>\n",
              "      <td>NaN</td>\n",
              "      <td>NaN</td>\n",
              "      <td>NaN</td>\n",
              "      <td>NaN</td>\n",
              "      <td>NaN</td>\n",
              "      <td>NaN</td>\n",
              "      <td>NaN</td>\n",
              "      <td>...</td>\n",
              "      <td>NaN</td>\n",
              "      <td>NaN</td>\n",
              "      <td>NaN</td>\n",
              "      <td>NaN</td>\n",
              "      <td>NaN</td>\n",
              "      <td>NaN</td>\n",
              "      <td>NaN</td>\n",
              "      <td>NaN</td>\n",
              "      <td>NaN</td>\n",
              "      <td>31.0</td>\n",
              "      <td>NaN</td>\n",
              "      <td>NaN</td>\n",
              "      <td>NaN</td>\n",
              "      <td>NaN</td>\n",
              "      <td>NaN</td>\n",
              "      <td>NaN</td>\n",
              "      <td>NaN</td>\n",
              "      <td>NaN</td>\n",
              "      <td>NaN</td>\n",
              "      <td>NaN</td>\n",
              "      <td>NaN</td>\n",
              "      <td>NaN</td>\n",
              "      <td>NaN</td>\n",
              "      <td>NaN</td>\n",
              "      <td>NaN</td>\n",
              "      <td>NaN</td>\n",
              "      <td>NaN</td>\n",
              "      <td>NaN</td>\n",
              "      <td>NaN</td>\n",
              "      <td>NaN</td>\n",
              "      <td>NaN</td>\n",
              "      <td>NaN</td>\n",
              "      <td>NaN</td>\n",
              "      <td>NaN</td>\n",
              "      <td>NaN</td>\n",
              "      <td>NaN</td>\n",
              "      <td>NaN</td>\n",
              "      <td>NaN</td>\n",
              "      <td>NaN</td>\n",
              "      <td>NaN</td>\n",
              "    </tr>\n",
              "  </tbody>\n",
              "</table>\n",
              "<p>5 rows × 190 columns</p>\n",
              "</div>"
            ],
            "text/plain": [
              "         0        1        2        3    ...      186      187      188      189\n",
              "     49298.0  48759.0  48760.0  48421.0  ...  49298.0  48759.0  28978.0  49667.0\n",
              "0      380.0   1240.0    996.0   1561.0  ...    240.0     44.0      NaN      4.0\n",
              "120      1.0      NaN      3.0      NaN  ...      NaN      NaN     95.0      NaN\n",
              "128      2.0      NaN      NaN      NaN  ...      NaN      NaN      NaN      NaN\n",
              "152      1.0      NaN      NaN      NaN  ...      NaN      NaN      NaN      NaN\n",
              "\n",
              "[5 rows x 190 columns]"
            ]
          },
          "metadata": {
            "tags": []
          },
          "execution_count": 11
        }
      ]
    },
    {
      "cell_type": "code",
      "metadata": {
        "id": "yMm1JLVZs1hP",
        "colab_type": "code",
        "outputId": "91a4744f-6c97-48e1-d872-eaa5e5e4f070",
        "colab": {
          "base_uri": "https://localhost:8080/",
          "height": 121
        }
      },
      "source": [
        "counts_per_column = counts_per_column.T\n",
        "counts_per_column.index = counts_per_column.index.astype('str')\n",
        "counts_per_column.sort_index(inplace = True)\n",
        "print('Primeiras dez categorias: ', counts_per_column.index[:10])\n",
        "print('Últimas dez categorias: ', counts_per_column.index[(len(counts_per_column.index)-10):])"
      ],
      "execution_count": 0,
      "outputs": [
        {
          "output_type": "stream",
          "text": [
            "Primeiras dez categorias:  Index(['', '-10', '-1000060.0', '-10002.16', '-100034.8', '-1000420.0',\n",
            "       '-1000468.0', '-1000496.0', '-1000516.0', '-1000548.0'],\n",
            "      dtype='object')\n",
            "Últimas dez categorias:  Index(['9999040', '999920', '9999240', '99993', '9999400', '9999440',\n",
            "       '9999480', '99995', '99996', '999971'],\n",
            "      dtype='object')\n"
          ],
          "name": "stdout"
        }
      ]
    },
    {
      "cell_type": "code",
      "metadata": {
        "id": "Zfqpi0BnvmYT",
        "colab_type": "code",
        "colab": {}
      },
      "source": [
        "counts_per_column = pd.DataFrame()\n",
        "for col in cat_vars:\n",
        "  col_count = features.groupby(col).size()\n",
        "  counts_per_column = counts_per_column.append(col_count, ignore_index = True)"
      ],
      "execution_count": 0,
      "outputs": []
    },
    {
      "cell_type": "code",
      "metadata": {
        "id": "hvjW1pWpvxaR",
        "colab_type": "code",
        "outputId": "a9b2b61e-bb74-4924-990d-805279f167d4",
        "colab": {
          "base_uri": "https://localhost:8080/",
          "height": 121
        }
      },
      "source": [
        "counts_per_column = counts_per_column.T\n",
        "counts_per_column.index = counts_per_column.index.astype('str')\n",
        "counts_per_column.sort_index(inplace = True)\n",
        "print('Primeiras dez categorias: ', counts_per_column.index[:10])\n",
        "print('Últimas dez categorias: ', counts_per_column.index[(len(counts_per_column.index)-10):])"
      ],
      "execution_count": 0,
      "outputs": [
        {
          "output_type": "stream",
          "text": [
            "Primeiras dez categorias:  Index(['', '000J', '0062', '00AD', '00ARusu', '00AYONy', '00AhP4J', '00J8E9a',\n",
            "       '00JHTSP', '00L3'],\n",
            "      dtype='object')\n",
            "Últimas dez categorias:  Index(['zzQ9udm', 'zzQV', 'zzbGOGx', 'zzbGa54', 'zzcv6yg4s3UGv', 'zzfHvGh',\n",
            "       'zzfLM_S', 'zzfUfAI', 'zzfo6HG', 'zzpZ'],\n",
            "      dtype='object')\n"
          ],
          "name": "stdout"
        }
      ]
    },
    {
      "cell_type": "code",
      "metadata": {
        "id": "0jLkGf9uwgjJ",
        "colab_type": "code",
        "colab": {}
      },
      "source": [
        "features = features.replace('', np.nan)"
      ],
      "execution_count": 0,
      "outputs": []
    },
    {
      "cell_type": "code",
      "metadata": {
        "id": "w65STtXGwuH3",
        "colab_type": "code",
        "outputId": "c3363eea-02ac-45f6-cd13-047401ee307b",
        "colab": {
          "base_uri": "https://localhost:8080/",
          "height": 247
        }
      },
      "source": [
        "features.head()"
      ],
      "execution_count": 0,
      "outputs": [
        {
          "output_type": "execute_result",
          "data": {
            "text/html": [
              "<div>\n",
              "<style scoped>\n",
              "    .dataframe tbody tr th:only-of-type {\n",
              "        vertical-align: middle;\n",
              "    }\n",
              "\n",
              "    .dataframe tbody tr th {\n",
              "        vertical-align: top;\n",
              "    }\n",
              "\n",
              "    .dataframe thead th {\n",
              "        text-align: right;\n",
              "    }\n",
              "</style>\n",
              "<table border=\"1\" class=\"dataframe\">\n",
              "  <thead>\n",
              "    <tr style=\"text-align: right;\">\n",
              "      <th></th>\n",
              "      <th>Var1</th>\n",
              "      <th>Var2</th>\n",
              "      <th>Var3</th>\n",
              "      <th>Var4</th>\n",
              "      <th>Var5</th>\n",
              "      <th>Var6</th>\n",
              "      <th>Var7</th>\n",
              "      <th>Var8</th>\n",
              "      <th>Var9</th>\n",
              "      <th>Var10</th>\n",
              "      <th>Var11</th>\n",
              "      <th>Var12</th>\n",
              "      <th>Var13</th>\n",
              "      <th>Var14</th>\n",
              "      <th>Var15</th>\n",
              "      <th>Var16</th>\n",
              "      <th>Var17</th>\n",
              "      <th>Var18</th>\n",
              "      <th>Var19</th>\n",
              "      <th>Var20</th>\n",
              "      <th>Var21</th>\n",
              "      <th>Var22</th>\n",
              "      <th>Var23</th>\n",
              "      <th>Var24</th>\n",
              "      <th>Var25</th>\n",
              "      <th>Var26</th>\n",
              "      <th>Var27</th>\n",
              "      <th>Var28</th>\n",
              "      <th>Var29</th>\n",
              "      <th>Var30</th>\n",
              "      <th>Var31</th>\n",
              "      <th>Var32</th>\n",
              "      <th>Var33</th>\n",
              "      <th>Var34</th>\n",
              "      <th>Var35</th>\n",
              "      <th>Var36</th>\n",
              "      <th>Var37</th>\n",
              "      <th>Var38</th>\n",
              "      <th>Var39</th>\n",
              "      <th>Var40</th>\n",
              "      <th>...</th>\n",
              "      <th>Var191</th>\n",
              "      <th>Var192</th>\n",
              "      <th>Var193</th>\n",
              "      <th>Var194</th>\n",
              "      <th>Var195</th>\n",
              "      <th>Var196</th>\n",
              "      <th>Var197</th>\n",
              "      <th>Var198</th>\n",
              "      <th>Var199</th>\n",
              "      <th>Var200</th>\n",
              "      <th>Var201</th>\n",
              "      <th>Var202</th>\n",
              "      <th>Var203</th>\n",
              "      <th>Var204</th>\n",
              "      <th>Var205</th>\n",
              "      <th>Var206</th>\n",
              "      <th>Var207</th>\n",
              "      <th>Var208</th>\n",
              "      <th>Var209</th>\n",
              "      <th>Var210</th>\n",
              "      <th>Var211</th>\n",
              "      <th>Var212</th>\n",
              "      <th>Var213</th>\n",
              "      <th>Var214</th>\n",
              "      <th>Var215</th>\n",
              "      <th>Var216</th>\n",
              "      <th>Var217</th>\n",
              "      <th>Var218</th>\n",
              "      <th>Var219</th>\n",
              "      <th>Var220</th>\n",
              "      <th>Var221</th>\n",
              "      <th>Var222</th>\n",
              "      <th>Var223</th>\n",
              "      <th>Var224</th>\n",
              "      <th>Var225</th>\n",
              "      <th>Var226</th>\n",
              "      <th>Var227</th>\n",
              "      <th>Var228</th>\n",
              "      <th>Var229</th>\n",
              "      <th>Var230</th>\n",
              "    </tr>\n",
              "  </thead>\n",
              "  <tbody>\n",
              "    <tr>\n",
              "      <th>0</th>\n",
              "      <td>NaN</td>\n",
              "      <td>NaN</td>\n",
              "      <td>NaN</td>\n",
              "      <td>NaN</td>\n",
              "      <td>NaN</td>\n",
              "      <td>1526</td>\n",
              "      <td>7</td>\n",
              "      <td>NaN</td>\n",
              "      <td>NaN</td>\n",
              "      <td>NaN</td>\n",
              "      <td>NaN</td>\n",
              "      <td>NaN</td>\n",
              "      <td>184</td>\n",
              "      <td>NaN</td>\n",
              "      <td>NaN</td>\n",
              "      <td>NaN</td>\n",
              "      <td>NaN</td>\n",
              "      <td>NaN</td>\n",
              "      <td>NaN</td>\n",
              "      <td>NaN</td>\n",
              "      <td>464</td>\n",
              "      <td>580</td>\n",
              "      <td>NaN</td>\n",
              "      <td>14</td>\n",
              "      <td>128</td>\n",
              "      <td>NaN</td>\n",
              "      <td>NaN</td>\n",
              "      <td>166.56</td>\n",
              "      <td>NaN</td>\n",
              "      <td>NaN</td>\n",
              "      <td>NaN</td>\n",
              "      <td>NaN</td>\n",
              "      <td>NaN</td>\n",
              "      <td>NaN</td>\n",
              "      <td>0</td>\n",
              "      <td>NaN</td>\n",
              "      <td>NaN</td>\n",
              "      <td>3570</td>\n",
              "      <td>NaN</td>\n",
              "      <td>NaN</td>\n",
              "      <td>...</td>\n",
              "      <td>NaN</td>\n",
              "      <td>bZkvyxLkBI</td>\n",
              "      <td>RO12</td>\n",
              "      <td>NaN</td>\n",
              "      <td>taul</td>\n",
              "      <td>1K8T</td>\n",
              "      <td>lK27</td>\n",
              "      <td>ka_ns41</td>\n",
              "      <td>nQUveAzAF7</td>\n",
              "      <td>NaN</td>\n",
              "      <td>NaN</td>\n",
              "      <td>dXGu</td>\n",
              "      <td>9_Y1</td>\n",
              "      <td>FbIm</td>\n",
              "      <td>VpdQ</td>\n",
              "      <td>haYg</td>\n",
              "      <td>me75fM6ugJ</td>\n",
              "      <td>kIsH</td>\n",
              "      <td>NaN</td>\n",
              "      <td>uKAI</td>\n",
              "      <td>L84s</td>\n",
              "      <td>XfqtO3UdzaXh_</td>\n",
              "      <td>NaN</td>\n",
              "      <td>NaN</td>\n",
              "      <td>NaN</td>\n",
              "      <td>XTbPUYD</td>\n",
              "      <td>sH5Z</td>\n",
              "      <td>cJvF</td>\n",
              "      <td>FzaX</td>\n",
              "      <td>1YVfGrO</td>\n",
              "      <td>oslk</td>\n",
              "      <td>fXVEsaq</td>\n",
              "      <td>jySVZNlOJy</td>\n",
              "      <td>NaN</td>\n",
              "      <td>NaN</td>\n",
              "      <td>xb3V</td>\n",
              "      <td>RAYp</td>\n",
              "      <td>F2FyR07IdsN7I</td>\n",
              "      <td>NaN</td>\n",
              "      <td>NaN</td>\n",
              "    </tr>\n",
              "    <tr>\n",
              "      <th>1</th>\n",
              "      <td>NaN</td>\n",
              "      <td>NaN</td>\n",
              "      <td>NaN</td>\n",
              "      <td>NaN</td>\n",
              "      <td>NaN</td>\n",
              "      <td>525</td>\n",
              "      <td>0</td>\n",
              "      <td>NaN</td>\n",
              "      <td>NaN</td>\n",
              "      <td>NaN</td>\n",
              "      <td>NaN</td>\n",
              "      <td>NaN</td>\n",
              "      <td>0</td>\n",
              "      <td>NaN</td>\n",
              "      <td>NaN</td>\n",
              "      <td>NaN</td>\n",
              "      <td>NaN</td>\n",
              "      <td>NaN</td>\n",
              "      <td>NaN</td>\n",
              "      <td>NaN</td>\n",
              "      <td>168</td>\n",
              "      <td>210</td>\n",
              "      <td>NaN</td>\n",
              "      <td>2</td>\n",
              "      <td>24</td>\n",
              "      <td>NaN</td>\n",
              "      <td>NaN</td>\n",
              "      <td>353.52</td>\n",
              "      <td>NaN</td>\n",
              "      <td>NaN</td>\n",
              "      <td>NaN</td>\n",
              "      <td>NaN</td>\n",
              "      <td>NaN</td>\n",
              "      <td>NaN</td>\n",
              "      <td>0</td>\n",
              "      <td>NaN</td>\n",
              "      <td>NaN</td>\n",
              "      <td>4764966</td>\n",
              "      <td>NaN</td>\n",
              "      <td>NaN</td>\n",
              "      <td>...</td>\n",
              "      <td>NaN</td>\n",
              "      <td>CEat0G8rTN</td>\n",
              "      <td>RO12</td>\n",
              "      <td>NaN</td>\n",
              "      <td>taul</td>\n",
              "      <td>1K8T</td>\n",
              "      <td>2Ix5</td>\n",
              "      <td>qEdASpP</td>\n",
              "      <td>y2LIM01bE1</td>\n",
              "      <td>NaN</td>\n",
              "      <td>NaN</td>\n",
              "      <td>lg1t</td>\n",
              "      <td>9_Y1</td>\n",
              "      <td>k13i</td>\n",
              "      <td>sJzTlal</td>\n",
              "      <td>zm5i</td>\n",
              "      <td>me75fM6ugJ</td>\n",
              "      <td>kIsH</td>\n",
              "      <td>NaN</td>\n",
              "      <td>uKAI</td>\n",
              "      <td>L84s</td>\n",
              "      <td>NhsEn4L</td>\n",
              "      <td>NaN</td>\n",
              "      <td>NaN</td>\n",
              "      <td>NaN</td>\n",
              "      <td>kZJyVg2</td>\n",
              "      <td>NaN</td>\n",
              "      <td>NaN</td>\n",
              "      <td>FzaX</td>\n",
              "      <td>0AJo2f2</td>\n",
              "      <td>oslk</td>\n",
              "      <td>2Kb5FSF</td>\n",
              "      <td>LM8l689qOp</td>\n",
              "      <td>NaN</td>\n",
              "      <td>NaN</td>\n",
              "      <td>fKCe</td>\n",
              "      <td>RAYp</td>\n",
              "      <td>F2FyR07IdsN7I</td>\n",
              "      <td>NaN</td>\n",
              "      <td>NaN</td>\n",
              "    </tr>\n",
              "    <tr>\n",
              "      <th>2</th>\n",
              "      <td>NaN</td>\n",
              "      <td>NaN</td>\n",
              "      <td>NaN</td>\n",
              "      <td>NaN</td>\n",
              "      <td>NaN</td>\n",
              "      <td>5236</td>\n",
              "      <td>7</td>\n",
              "      <td>NaN</td>\n",
              "      <td>NaN</td>\n",
              "      <td>NaN</td>\n",
              "      <td>NaN</td>\n",
              "      <td>NaN</td>\n",
              "      <td>904</td>\n",
              "      <td>NaN</td>\n",
              "      <td>NaN</td>\n",
              "      <td>NaN</td>\n",
              "      <td>NaN</td>\n",
              "      <td>NaN</td>\n",
              "      <td>NaN</td>\n",
              "      <td>NaN</td>\n",
              "      <td>1212</td>\n",
              "      <td>1515</td>\n",
              "      <td>NaN</td>\n",
              "      <td>26</td>\n",
              "      <td>816</td>\n",
              "      <td>NaN</td>\n",
              "      <td>NaN</td>\n",
              "      <td>220.08</td>\n",
              "      <td>NaN</td>\n",
              "      <td>NaN</td>\n",
              "      <td>NaN</td>\n",
              "      <td>NaN</td>\n",
              "      <td>NaN</td>\n",
              "      <td>NaN</td>\n",
              "      <td>0</td>\n",
              "      <td>NaN</td>\n",
              "      <td>NaN</td>\n",
              "      <td>5883894</td>\n",
              "      <td>NaN</td>\n",
              "      <td>NaN</td>\n",
              "      <td>...</td>\n",
              "      <td>NaN</td>\n",
              "      <td>eOQt0GoOh3</td>\n",
              "      <td>AERks4l</td>\n",
              "      <td>SEuy</td>\n",
              "      <td>taul</td>\n",
              "      <td>1K8T</td>\n",
              "      <td>ffXs</td>\n",
              "      <td>NldASpP</td>\n",
              "      <td>y4g9XoZ</td>\n",
              "      <td>vynJTq9</td>\n",
              "      <td>smXZ</td>\n",
              "      <td>4bTR</td>\n",
              "      <td>9_Y1</td>\n",
              "      <td>MGOA</td>\n",
              "      <td>VpdQ</td>\n",
              "      <td>haYg</td>\n",
              "      <td>DHn_WUyBhW_whjA88g9bvA64_</td>\n",
              "      <td>kIsH</td>\n",
              "      <td>NaN</td>\n",
              "      <td>uKAI</td>\n",
              "      <td>L84s</td>\n",
              "      <td>UbxQ8lZ</td>\n",
              "      <td>NaN</td>\n",
              "      <td>TTGHfSv</td>\n",
              "      <td>NaN</td>\n",
              "      <td>pMWAe2U</td>\n",
              "      <td>bHR7</td>\n",
              "      <td>UYBR</td>\n",
              "      <td>FzaX</td>\n",
              "      <td>JFM1BiF</td>\n",
              "      <td>Al6ZaUT</td>\n",
              "      <td>NKv4yOc</td>\n",
              "      <td>jySVZNlOJy</td>\n",
              "      <td>NaN</td>\n",
              "      <td>kG3k</td>\n",
              "      <td>Qu4f</td>\n",
              "      <td>02N6s8f</td>\n",
              "      <td>ib5G6X1eUxUn6</td>\n",
              "      <td>am7c</td>\n",
              "      <td>NaN</td>\n",
              "    </tr>\n",
              "    <tr>\n",
              "      <th>3</th>\n",
              "      <td>NaN</td>\n",
              "      <td>NaN</td>\n",
              "      <td>NaN</td>\n",
              "      <td>NaN</td>\n",
              "      <td>NaN</td>\n",
              "      <td>NaN</td>\n",
              "      <td>0</td>\n",
              "      <td>NaN</td>\n",
              "      <td>NaN</td>\n",
              "      <td>NaN</td>\n",
              "      <td>NaN</td>\n",
              "      <td>NaN</td>\n",
              "      <td>0</td>\n",
              "      <td>NaN</td>\n",
              "      <td>NaN</td>\n",
              "      <td>NaN</td>\n",
              "      <td>NaN</td>\n",
              "      <td>NaN</td>\n",
              "      <td>NaN</td>\n",
              "      <td>NaN</td>\n",
              "      <td>NaN</td>\n",
              "      <td>0</td>\n",
              "      <td>NaN</td>\n",
              "      <td>NaN</td>\n",
              "      <td>0</td>\n",
              "      <td>NaN</td>\n",
              "      <td>NaN</td>\n",
              "      <td>22.08</td>\n",
              "      <td>NaN</td>\n",
              "      <td>NaN</td>\n",
              "      <td>NaN</td>\n",
              "      <td>NaN</td>\n",
              "      <td>NaN</td>\n",
              "      <td>NaN</td>\n",
              "      <td>0</td>\n",
              "      <td>NaN</td>\n",
              "      <td>NaN</td>\n",
              "      <td>0</td>\n",
              "      <td>NaN</td>\n",
              "      <td>NaN</td>\n",
              "      <td>...</td>\n",
              "      <td>NaN</td>\n",
              "      <td>jg69tYsGvO</td>\n",
              "      <td>RO12</td>\n",
              "      <td>NaN</td>\n",
              "      <td>taul</td>\n",
              "      <td>1K8T</td>\n",
              "      <td>ssAy</td>\n",
              "      <td>_ybO0dd</td>\n",
              "      <td>4hMlgkf58mhwh</td>\n",
              "      <td>NaN</td>\n",
              "      <td>NaN</td>\n",
              "      <td>W8mQ</td>\n",
              "      <td>9_Y1</td>\n",
              "      <td>YULl</td>\n",
              "      <td>VpdQ</td>\n",
              "      <td>NaN</td>\n",
              "      <td>me75fM6ugJ</td>\n",
              "      <td>kIsH</td>\n",
              "      <td>NaN</td>\n",
              "      <td>uKAI</td>\n",
              "      <td>Mtgm</td>\n",
              "      <td>NhsEn4L</td>\n",
              "      <td>NaN</td>\n",
              "      <td>NaN</td>\n",
              "      <td>NaN</td>\n",
              "      <td>kq0dQfu</td>\n",
              "      <td>eKej</td>\n",
              "      <td>UYBR</td>\n",
              "      <td>FzaX</td>\n",
              "      <td>L91KIiz</td>\n",
              "      <td>oslk</td>\n",
              "      <td>CE7uk3u</td>\n",
              "      <td>LM8l689qOp</td>\n",
              "      <td>NaN</td>\n",
              "      <td>NaN</td>\n",
              "      <td>FSa2</td>\n",
              "      <td>RAYp</td>\n",
              "      <td>F2FyR07IdsN7I</td>\n",
              "      <td>NaN</td>\n",
              "      <td>NaN</td>\n",
              "    </tr>\n",
              "    <tr>\n",
              "      <th>4</th>\n",
              "      <td>NaN</td>\n",
              "      <td>NaN</td>\n",
              "      <td>NaN</td>\n",
              "      <td>NaN</td>\n",
              "      <td>NaN</td>\n",
              "      <td>1029</td>\n",
              "      <td>7</td>\n",
              "      <td>NaN</td>\n",
              "      <td>NaN</td>\n",
              "      <td>NaN</td>\n",
              "      <td>NaN</td>\n",
              "      <td>NaN</td>\n",
              "      <td>3216</td>\n",
              "      <td>NaN</td>\n",
              "      <td>NaN</td>\n",
              "      <td>NaN</td>\n",
              "      <td>NaN</td>\n",
              "      <td>NaN</td>\n",
              "      <td>NaN</td>\n",
              "      <td>NaN</td>\n",
              "      <td>64</td>\n",
              "      <td>80</td>\n",
              "      <td>NaN</td>\n",
              "      <td>4</td>\n",
              "      <td>64</td>\n",
              "      <td>NaN</td>\n",
              "      <td>NaN</td>\n",
              "      <td>200</td>\n",
              "      <td>NaN</td>\n",
              "      <td>NaN</td>\n",
              "      <td>NaN</td>\n",
              "      <td>NaN</td>\n",
              "      <td>NaN</td>\n",
              "      <td>NaN</td>\n",
              "      <td>0</td>\n",
              "      <td>NaN</td>\n",
              "      <td>NaN</td>\n",
              "      <td>0</td>\n",
              "      <td>NaN</td>\n",
              "      <td>NaN</td>\n",
              "      <td>...</td>\n",
              "      <td>NaN</td>\n",
              "      <td>IXSgUHShse</td>\n",
              "      <td>RO12</td>\n",
              "      <td>SEuy</td>\n",
              "      <td>taul</td>\n",
              "      <td>1K8T</td>\n",
              "      <td>uNkU</td>\n",
              "      <td>EKR938I</td>\n",
              "      <td>ThrHXVS</td>\n",
              "      <td>0v21jmy</td>\n",
              "      <td>smXZ</td>\n",
              "      <td>xklU</td>\n",
              "      <td>9_Y1</td>\n",
              "      <td>RVjC</td>\n",
              "      <td>sJzTlal</td>\n",
              "      <td>6JmL</td>\n",
              "      <td>me75fM6ugJ</td>\n",
              "      <td>kIsH</td>\n",
              "      <td>NaN</td>\n",
              "      <td>uKAI</td>\n",
              "      <td>L84s</td>\n",
              "      <td>XfqtO3UdzaXh_</td>\n",
              "      <td>NaN</td>\n",
              "      <td>SJs3duv</td>\n",
              "      <td>NaN</td>\n",
              "      <td>11p4mKe</td>\n",
              "      <td>H3p7</td>\n",
              "      <td>UYBR</td>\n",
              "      <td>FzaX</td>\n",
              "      <td>OrnLfvc</td>\n",
              "      <td>oslk</td>\n",
              "      <td>1J2cvxe</td>\n",
              "      <td>LM8l689qOp</td>\n",
              "      <td>NaN</td>\n",
              "      <td>kG3k</td>\n",
              "      <td>FSa2</td>\n",
              "      <td>RAYp</td>\n",
              "      <td>F2FyR07IdsN7I</td>\n",
              "      <td>mj86</td>\n",
              "      <td>NaN</td>\n",
              "    </tr>\n",
              "  </tbody>\n",
              "</table>\n",
              "<p>5 rows × 230 columns</p>\n",
              "</div>"
            ],
            "text/plain": [
              "  Var1 Var2 Var3 Var4 Var5  ... Var226   Var227         Var228 Var229 Var230\n",
              "0  NaN  NaN  NaN  NaN  NaN  ...   xb3V     RAYp  F2FyR07IdsN7I    NaN    NaN\n",
              "1  NaN  NaN  NaN  NaN  NaN  ...   fKCe     RAYp  F2FyR07IdsN7I    NaN    NaN\n",
              "2  NaN  NaN  NaN  NaN  NaN  ...   Qu4f  02N6s8f  ib5G6X1eUxUn6   am7c    NaN\n",
              "3  NaN  NaN  NaN  NaN  NaN  ...   FSa2     RAYp  F2FyR07IdsN7I    NaN    NaN\n",
              "4  NaN  NaN  NaN  NaN  NaN  ...   FSa2     RAYp  F2FyR07IdsN7I   mj86    NaN\n",
              "\n",
              "[5 rows x 230 columns]"
            ]
          },
          "metadata": {
            "tags": []
          },
          "execution_count": 16
        }
      ]
    },
    {
      "cell_type": "code",
      "metadata": {
        "id": "oQGqP_T8xstF",
        "colab_type": "code",
        "colab": {}
      },
      "source": [
        "for col in num_vars:\n",
        "  features[col] = features[col].astype('float')\n",
        "for col in cat_vars:\n",
        "  features[col] = features[col].astype('category')"
      ],
      "execution_count": 0,
      "outputs": []
    },
    {
      "cell_type": "code",
      "metadata": {
        "id": "hs2BiDXEyAlr",
        "colab_type": "code",
        "outputId": "b76c2a9f-e11c-4d8c-bfff-dffc3e53b30f",
        "colab": {
          "base_uri": "https://localhost:8080/",
          "height": 225
        }
      },
      "source": [
        "features.dtypes"
      ],
      "execution_count": 0,
      "outputs": [
        {
          "output_type": "execute_result",
          "data": {
            "text/plain": [
              "Var1       float64\n",
              "Var2       float64\n",
              "Var3       float64\n",
              "Var4       float64\n",
              "Var5       float64\n",
              "            ...   \n",
              "Var226    category\n",
              "Var227    category\n",
              "Var228    category\n",
              "Var229    category\n",
              "Var230    category\n",
              "Length: 230, dtype: object"
            ]
          },
          "metadata": {
            "tags": []
          },
          "execution_count": 18
        }
      ]
    },
    {
      "cell_type": "markdown",
      "metadata": {
        "id": "_0kPbcnPaG0U",
        "colab_type": "text"
      },
      "source": [
        "### Seleção de variáveis"
      ]
    },
    {
      "cell_type": "markdown",
      "metadata": {
        "id": "zYPe3dtDaG0V",
        "colab_type": "text"
      },
      "source": [
        "#### Variáveis com muitos valores faltantes\n"
      ]
    },
    {
      "cell_type": "code",
      "metadata": {
        "id": "Sm9piHDa0MVt",
        "colab_type": "code",
        "outputId": "0612959e-4eed-42d7-f10e-f4390584f13e",
        "colab": {
          "base_uri": "https://localhost:8080/",
          "height": 427
        }
      },
      "source": [
        "features.isna()"
      ],
      "execution_count": 0,
      "outputs": [
        {
          "output_type": "execute_result",
          "data": {
            "text/html": [
              "<div>\n",
              "<style scoped>\n",
              "    .dataframe tbody tr th:only-of-type {\n",
              "        vertical-align: middle;\n",
              "    }\n",
              "\n",
              "    .dataframe tbody tr th {\n",
              "        vertical-align: top;\n",
              "    }\n",
              "\n",
              "    .dataframe thead th {\n",
              "        text-align: right;\n",
              "    }\n",
              "</style>\n",
              "<table border=\"1\" class=\"dataframe\">\n",
              "  <thead>\n",
              "    <tr style=\"text-align: right;\">\n",
              "      <th></th>\n",
              "      <th>Var1</th>\n",
              "      <th>Var2</th>\n",
              "      <th>Var3</th>\n",
              "      <th>Var4</th>\n",
              "      <th>Var5</th>\n",
              "      <th>Var6</th>\n",
              "      <th>Var7</th>\n",
              "      <th>Var8</th>\n",
              "      <th>Var9</th>\n",
              "      <th>Var10</th>\n",
              "      <th>Var11</th>\n",
              "      <th>Var12</th>\n",
              "      <th>Var13</th>\n",
              "      <th>Var14</th>\n",
              "      <th>Var15</th>\n",
              "      <th>Var16</th>\n",
              "      <th>Var17</th>\n",
              "      <th>Var18</th>\n",
              "      <th>Var19</th>\n",
              "      <th>Var20</th>\n",
              "      <th>Var21</th>\n",
              "      <th>Var22</th>\n",
              "      <th>Var23</th>\n",
              "      <th>Var24</th>\n",
              "      <th>Var25</th>\n",
              "      <th>Var26</th>\n",
              "      <th>Var27</th>\n",
              "      <th>Var28</th>\n",
              "      <th>Var29</th>\n",
              "      <th>Var30</th>\n",
              "      <th>Var31</th>\n",
              "      <th>Var32</th>\n",
              "      <th>Var33</th>\n",
              "      <th>Var34</th>\n",
              "      <th>Var35</th>\n",
              "      <th>Var36</th>\n",
              "      <th>Var37</th>\n",
              "      <th>Var38</th>\n",
              "      <th>Var39</th>\n",
              "      <th>Var40</th>\n",
              "      <th>...</th>\n",
              "      <th>Var191</th>\n",
              "      <th>Var192</th>\n",
              "      <th>Var193</th>\n",
              "      <th>Var194</th>\n",
              "      <th>Var195</th>\n",
              "      <th>Var196</th>\n",
              "      <th>Var197</th>\n",
              "      <th>Var198</th>\n",
              "      <th>Var199</th>\n",
              "      <th>Var200</th>\n",
              "      <th>Var201</th>\n",
              "      <th>Var202</th>\n",
              "      <th>Var203</th>\n",
              "      <th>Var204</th>\n",
              "      <th>Var205</th>\n",
              "      <th>Var206</th>\n",
              "      <th>Var207</th>\n",
              "      <th>Var208</th>\n",
              "      <th>Var209</th>\n",
              "      <th>Var210</th>\n",
              "      <th>Var211</th>\n",
              "      <th>Var212</th>\n",
              "      <th>Var213</th>\n",
              "      <th>Var214</th>\n",
              "      <th>Var215</th>\n",
              "      <th>Var216</th>\n",
              "      <th>Var217</th>\n",
              "      <th>Var218</th>\n",
              "      <th>Var219</th>\n",
              "      <th>Var220</th>\n",
              "      <th>Var221</th>\n",
              "      <th>Var222</th>\n",
              "      <th>Var223</th>\n",
              "      <th>Var224</th>\n",
              "      <th>Var225</th>\n",
              "      <th>Var226</th>\n",
              "      <th>Var227</th>\n",
              "      <th>Var228</th>\n",
              "      <th>Var229</th>\n",
              "      <th>Var230</th>\n",
              "    </tr>\n",
              "  </thead>\n",
              "  <tbody>\n",
              "    <tr>\n",
              "      <th>0</th>\n",
              "      <td>True</td>\n",
              "      <td>True</td>\n",
              "      <td>True</td>\n",
              "      <td>True</td>\n",
              "      <td>True</td>\n",
              "      <td>False</td>\n",
              "      <td>False</td>\n",
              "      <td>True</td>\n",
              "      <td>True</td>\n",
              "      <td>True</td>\n",
              "      <td>True</td>\n",
              "      <td>True</td>\n",
              "      <td>False</td>\n",
              "      <td>True</td>\n",
              "      <td>True</td>\n",
              "      <td>True</td>\n",
              "      <td>True</td>\n",
              "      <td>True</td>\n",
              "      <td>True</td>\n",
              "      <td>True</td>\n",
              "      <td>False</td>\n",
              "      <td>False</td>\n",
              "      <td>True</td>\n",
              "      <td>False</td>\n",
              "      <td>False</td>\n",
              "      <td>True</td>\n",
              "      <td>True</td>\n",
              "      <td>False</td>\n",
              "      <td>True</td>\n",
              "      <td>True</td>\n",
              "      <td>True</td>\n",
              "      <td>True</td>\n",
              "      <td>True</td>\n",
              "      <td>True</td>\n",
              "      <td>False</td>\n",
              "      <td>True</td>\n",
              "      <td>True</td>\n",
              "      <td>False</td>\n",
              "      <td>True</td>\n",
              "      <td>True</td>\n",
              "      <td>...</td>\n",
              "      <td>True</td>\n",
              "      <td>False</td>\n",
              "      <td>False</td>\n",
              "      <td>True</td>\n",
              "      <td>False</td>\n",
              "      <td>False</td>\n",
              "      <td>False</td>\n",
              "      <td>False</td>\n",
              "      <td>False</td>\n",
              "      <td>True</td>\n",
              "      <td>True</td>\n",
              "      <td>False</td>\n",
              "      <td>False</td>\n",
              "      <td>False</td>\n",
              "      <td>False</td>\n",
              "      <td>False</td>\n",
              "      <td>False</td>\n",
              "      <td>False</td>\n",
              "      <td>True</td>\n",
              "      <td>False</td>\n",
              "      <td>False</td>\n",
              "      <td>False</td>\n",
              "      <td>True</td>\n",
              "      <td>True</td>\n",
              "      <td>True</td>\n",
              "      <td>False</td>\n",
              "      <td>False</td>\n",
              "      <td>False</td>\n",
              "      <td>False</td>\n",
              "      <td>False</td>\n",
              "      <td>False</td>\n",
              "      <td>False</td>\n",
              "      <td>False</td>\n",
              "      <td>True</td>\n",
              "      <td>True</td>\n",
              "      <td>False</td>\n",
              "      <td>False</td>\n",
              "      <td>False</td>\n",
              "      <td>True</td>\n",
              "      <td>True</td>\n",
              "    </tr>\n",
              "    <tr>\n",
              "      <th>1</th>\n",
              "      <td>True</td>\n",
              "      <td>True</td>\n",
              "      <td>True</td>\n",
              "      <td>True</td>\n",
              "      <td>True</td>\n",
              "      <td>False</td>\n",
              "      <td>False</td>\n",
              "      <td>True</td>\n",
              "      <td>True</td>\n",
              "      <td>True</td>\n",
              "      <td>True</td>\n",
              "      <td>True</td>\n",
              "      <td>False</td>\n",
              "      <td>True</td>\n",
              "      <td>True</td>\n",
              "      <td>True</td>\n",
              "      <td>True</td>\n",
              "      <td>True</td>\n",
              "      <td>True</td>\n",
              "      <td>True</td>\n",
              "      <td>False</td>\n",
              "      <td>False</td>\n",
              "      <td>True</td>\n",
              "      <td>False</td>\n",
              "      <td>False</td>\n",
              "      <td>True</td>\n",
              "      <td>True</td>\n",
              "      <td>False</td>\n",
              "      <td>True</td>\n",
              "      <td>True</td>\n",
              "      <td>True</td>\n",
              "      <td>True</td>\n",
              "      <td>True</td>\n",
              "      <td>True</td>\n",
              "      <td>False</td>\n",
              "      <td>True</td>\n",
              "      <td>True</td>\n",
              "      <td>False</td>\n",
              "      <td>True</td>\n",
              "      <td>True</td>\n",
              "      <td>...</td>\n",
              "      <td>True</td>\n",
              "      <td>False</td>\n",
              "      <td>False</td>\n",
              "      <td>True</td>\n",
              "      <td>False</td>\n",
              "      <td>False</td>\n",
              "      <td>False</td>\n",
              "      <td>False</td>\n",
              "      <td>False</td>\n",
              "      <td>True</td>\n",
              "      <td>True</td>\n",
              "      <td>False</td>\n",
              "      <td>False</td>\n",
              "      <td>False</td>\n",
              "      <td>False</td>\n",
              "      <td>False</td>\n",
              "      <td>False</td>\n",
              "      <td>False</td>\n",
              "      <td>True</td>\n",
              "      <td>False</td>\n",
              "      <td>False</td>\n",
              "      <td>False</td>\n",
              "      <td>True</td>\n",
              "      <td>True</td>\n",
              "      <td>True</td>\n",
              "      <td>False</td>\n",
              "      <td>True</td>\n",
              "      <td>True</td>\n",
              "      <td>False</td>\n",
              "      <td>False</td>\n",
              "      <td>False</td>\n",
              "      <td>False</td>\n",
              "      <td>False</td>\n",
              "      <td>True</td>\n",
              "      <td>True</td>\n",
              "      <td>False</td>\n",
              "      <td>False</td>\n",
              "      <td>False</td>\n",
              "      <td>True</td>\n",
              "      <td>True</td>\n",
              "    </tr>\n",
              "    <tr>\n",
              "      <th>2</th>\n",
              "      <td>True</td>\n",
              "      <td>True</td>\n",
              "      <td>True</td>\n",
              "      <td>True</td>\n",
              "      <td>True</td>\n",
              "      <td>False</td>\n",
              "      <td>False</td>\n",
              "      <td>True</td>\n",
              "      <td>True</td>\n",
              "      <td>True</td>\n",
              "      <td>True</td>\n",
              "      <td>True</td>\n",
              "      <td>False</td>\n",
              "      <td>True</td>\n",
              "      <td>True</td>\n",
              "      <td>True</td>\n",
              "      <td>True</td>\n",
              "      <td>True</td>\n",
              "      <td>True</td>\n",
              "      <td>True</td>\n",
              "      <td>False</td>\n",
              "      <td>False</td>\n",
              "      <td>True</td>\n",
              "      <td>False</td>\n",
              "      <td>False</td>\n",
              "      <td>True</td>\n",
              "      <td>True</td>\n",
              "      <td>False</td>\n",
              "      <td>True</td>\n",
              "      <td>True</td>\n",
              "      <td>True</td>\n",
              "      <td>True</td>\n",
              "      <td>True</td>\n",
              "      <td>True</td>\n",
              "      <td>False</td>\n",
              "      <td>True</td>\n",
              "      <td>True</td>\n",
              "      <td>False</td>\n",
              "      <td>True</td>\n",
              "      <td>True</td>\n",
              "      <td>...</td>\n",
              "      <td>True</td>\n",
              "      <td>False</td>\n",
              "      <td>False</td>\n",
              "      <td>False</td>\n",
              "      <td>False</td>\n",
              "      <td>False</td>\n",
              "      <td>False</td>\n",
              "      <td>False</td>\n",
              "      <td>False</td>\n",
              "      <td>False</td>\n",
              "      <td>False</td>\n",
              "      <td>False</td>\n",
              "      <td>False</td>\n",
              "      <td>False</td>\n",
              "      <td>False</td>\n",
              "      <td>False</td>\n",
              "      <td>False</td>\n",
              "      <td>False</td>\n",
              "      <td>True</td>\n",
              "      <td>False</td>\n",
              "      <td>False</td>\n",
              "      <td>False</td>\n",
              "      <td>True</td>\n",
              "      <td>False</td>\n",
              "      <td>True</td>\n",
              "      <td>False</td>\n",
              "      <td>False</td>\n",
              "      <td>False</td>\n",
              "      <td>False</td>\n",
              "      <td>False</td>\n",
              "      <td>False</td>\n",
              "      <td>False</td>\n",
              "      <td>False</td>\n",
              "      <td>True</td>\n",
              "      <td>False</td>\n",
              "      <td>False</td>\n",
              "      <td>False</td>\n",
              "      <td>False</td>\n",
              "      <td>False</td>\n",
              "      <td>True</td>\n",
              "    </tr>\n",
              "    <tr>\n",
              "      <th>3</th>\n",
              "      <td>True</td>\n",
              "      <td>True</td>\n",
              "      <td>True</td>\n",
              "      <td>True</td>\n",
              "      <td>True</td>\n",
              "      <td>True</td>\n",
              "      <td>False</td>\n",
              "      <td>True</td>\n",
              "      <td>True</td>\n",
              "      <td>True</td>\n",
              "      <td>True</td>\n",
              "      <td>True</td>\n",
              "      <td>False</td>\n",
              "      <td>True</td>\n",
              "      <td>True</td>\n",
              "      <td>True</td>\n",
              "      <td>True</td>\n",
              "      <td>True</td>\n",
              "      <td>True</td>\n",
              "      <td>True</td>\n",
              "      <td>True</td>\n",
              "      <td>False</td>\n",
              "      <td>True</td>\n",
              "      <td>True</td>\n",
              "      <td>False</td>\n",
              "      <td>True</td>\n",
              "      <td>True</td>\n",
              "      <td>False</td>\n",
              "      <td>True</td>\n",
              "      <td>True</td>\n",
              "      <td>True</td>\n",
              "      <td>True</td>\n",
              "      <td>True</td>\n",
              "      <td>True</td>\n",
              "      <td>False</td>\n",
              "      <td>True</td>\n",
              "      <td>True</td>\n",
              "      <td>False</td>\n",
              "      <td>True</td>\n",
              "      <td>True</td>\n",
              "      <td>...</td>\n",
              "      <td>True</td>\n",
              "      <td>False</td>\n",
              "      <td>False</td>\n",
              "      <td>True</td>\n",
              "      <td>False</td>\n",
              "      <td>False</td>\n",
              "      <td>False</td>\n",
              "      <td>False</td>\n",
              "      <td>False</td>\n",
              "      <td>True</td>\n",
              "      <td>True</td>\n",
              "      <td>False</td>\n",
              "      <td>False</td>\n",
              "      <td>False</td>\n",
              "      <td>False</td>\n",
              "      <td>True</td>\n",
              "      <td>False</td>\n",
              "      <td>False</td>\n",
              "      <td>True</td>\n",
              "      <td>False</td>\n",
              "      <td>False</td>\n",
              "      <td>False</td>\n",
              "      <td>True</td>\n",
              "      <td>True</td>\n",
              "      <td>True</td>\n",
              "      <td>False</td>\n",
              "      <td>False</td>\n",
              "      <td>False</td>\n",
              "      <td>False</td>\n",
              "      <td>False</td>\n",
              "      <td>False</td>\n",
              "      <td>False</td>\n",
              "      <td>False</td>\n",
              "      <td>True</td>\n",
              "      <td>True</td>\n",
              "      <td>False</td>\n",
              "      <td>False</td>\n",
              "      <td>False</td>\n",
              "      <td>True</td>\n",
              "      <td>True</td>\n",
              "    </tr>\n",
              "    <tr>\n",
              "      <th>4</th>\n",
              "      <td>True</td>\n",
              "      <td>True</td>\n",
              "      <td>True</td>\n",
              "      <td>True</td>\n",
              "      <td>True</td>\n",
              "      <td>False</td>\n",
              "      <td>False</td>\n",
              "      <td>True</td>\n",
              "      <td>True</td>\n",
              "      <td>True</td>\n",
              "      <td>True</td>\n",
              "      <td>True</td>\n",
              "      <td>False</td>\n",
              "      <td>True</td>\n",
              "      <td>True</td>\n",
              "      <td>True</td>\n",
              "      <td>True</td>\n",
              "      <td>True</td>\n",
              "      <td>True</td>\n",
              "      <td>True</td>\n",
              "      <td>False</td>\n",
              "      <td>False</td>\n",
              "      <td>True</td>\n",
              "      <td>False</td>\n",
              "      <td>False</td>\n",
              "      <td>True</td>\n",
              "      <td>True</td>\n",
              "      <td>False</td>\n",
              "      <td>True</td>\n",
              "      <td>True</td>\n",
              "      <td>True</td>\n",
              "      <td>True</td>\n",
              "      <td>True</td>\n",
              "      <td>True</td>\n",
              "      <td>False</td>\n",
              "      <td>True</td>\n",
              "      <td>True</td>\n",
              "      <td>False</td>\n",
              "      <td>True</td>\n",
              "      <td>True</td>\n",
              "      <td>...</td>\n",
              "      <td>True</td>\n",
              "      <td>False</td>\n",
              "      <td>False</td>\n",
              "      <td>False</td>\n",
              "      <td>False</td>\n",
              "      <td>False</td>\n",
              "      <td>False</td>\n",
              "      <td>False</td>\n",
              "      <td>False</td>\n",
              "      <td>False</td>\n",
              "      <td>False</td>\n",
              "      <td>False</td>\n",
              "      <td>False</td>\n",
              "      <td>False</td>\n",
              "      <td>False</td>\n",
              "      <td>False</td>\n",
              "      <td>False</td>\n",
              "      <td>False</td>\n",
              "      <td>True</td>\n",
              "      <td>False</td>\n",
              "      <td>False</td>\n",
              "      <td>False</td>\n",
              "      <td>True</td>\n",
              "      <td>False</td>\n",
              "      <td>True</td>\n",
              "      <td>False</td>\n",
              "      <td>False</td>\n",
              "      <td>False</td>\n",
              "      <td>False</td>\n",
              "      <td>False</td>\n",
              "      <td>False</td>\n",
              "      <td>False</td>\n",
              "      <td>False</td>\n",
              "      <td>True</td>\n",
              "      <td>False</td>\n",
              "      <td>False</td>\n",
              "      <td>False</td>\n",
              "      <td>False</td>\n",
              "      <td>False</td>\n",
              "      <td>True</td>\n",
              "    </tr>\n",
              "    <tr>\n",
              "      <th>...</th>\n",
              "      <td>...</td>\n",
              "      <td>...</td>\n",
              "      <td>...</td>\n",
              "      <td>...</td>\n",
              "      <td>...</td>\n",
              "      <td>...</td>\n",
              "      <td>...</td>\n",
              "      <td>...</td>\n",
              "      <td>...</td>\n",
              "      <td>...</td>\n",
              "      <td>...</td>\n",
              "      <td>...</td>\n",
              "      <td>...</td>\n",
              "      <td>...</td>\n",
              "      <td>...</td>\n",
              "      <td>...</td>\n",
              "      <td>...</td>\n",
              "      <td>...</td>\n",
              "      <td>...</td>\n",
              "      <td>...</td>\n",
              "      <td>...</td>\n",
              "      <td>...</td>\n",
              "      <td>...</td>\n",
              "      <td>...</td>\n",
              "      <td>...</td>\n",
              "      <td>...</td>\n",
              "      <td>...</td>\n",
              "      <td>...</td>\n",
              "      <td>...</td>\n",
              "      <td>...</td>\n",
              "      <td>...</td>\n",
              "      <td>...</td>\n",
              "      <td>...</td>\n",
              "      <td>...</td>\n",
              "      <td>...</td>\n",
              "      <td>...</td>\n",
              "      <td>...</td>\n",
              "      <td>...</td>\n",
              "      <td>...</td>\n",
              "      <td>...</td>\n",
              "      <td>...</td>\n",
              "      <td>...</td>\n",
              "      <td>...</td>\n",
              "      <td>...</td>\n",
              "      <td>...</td>\n",
              "      <td>...</td>\n",
              "      <td>...</td>\n",
              "      <td>...</td>\n",
              "      <td>...</td>\n",
              "      <td>...</td>\n",
              "      <td>...</td>\n",
              "      <td>...</td>\n",
              "      <td>...</td>\n",
              "      <td>...</td>\n",
              "      <td>...</td>\n",
              "      <td>...</td>\n",
              "      <td>...</td>\n",
              "      <td>...</td>\n",
              "      <td>...</td>\n",
              "      <td>...</td>\n",
              "      <td>...</td>\n",
              "      <td>...</td>\n",
              "      <td>...</td>\n",
              "      <td>...</td>\n",
              "      <td>...</td>\n",
              "      <td>...</td>\n",
              "      <td>...</td>\n",
              "      <td>...</td>\n",
              "      <td>...</td>\n",
              "      <td>...</td>\n",
              "      <td>...</td>\n",
              "      <td>...</td>\n",
              "      <td>...</td>\n",
              "      <td>...</td>\n",
              "      <td>...</td>\n",
              "      <td>...</td>\n",
              "      <td>...</td>\n",
              "      <td>...</td>\n",
              "      <td>...</td>\n",
              "      <td>...</td>\n",
              "      <td>...</td>\n",
              "    </tr>\n",
              "    <tr>\n",
              "      <th>49995</th>\n",
              "      <td>True</td>\n",
              "      <td>True</td>\n",
              "      <td>True</td>\n",
              "      <td>True</td>\n",
              "      <td>True</td>\n",
              "      <td>False</td>\n",
              "      <td>False</td>\n",
              "      <td>True</td>\n",
              "      <td>True</td>\n",
              "      <td>True</td>\n",
              "      <td>True</td>\n",
              "      <td>True</td>\n",
              "      <td>False</td>\n",
              "      <td>True</td>\n",
              "      <td>True</td>\n",
              "      <td>True</td>\n",
              "      <td>True</td>\n",
              "      <td>True</td>\n",
              "      <td>True</td>\n",
              "      <td>True</td>\n",
              "      <td>False</td>\n",
              "      <td>False</td>\n",
              "      <td>True</td>\n",
              "      <td>False</td>\n",
              "      <td>False</td>\n",
              "      <td>True</td>\n",
              "      <td>True</td>\n",
              "      <td>False</td>\n",
              "      <td>True</td>\n",
              "      <td>True</td>\n",
              "      <td>True</td>\n",
              "      <td>True</td>\n",
              "      <td>True</td>\n",
              "      <td>True</td>\n",
              "      <td>False</td>\n",
              "      <td>True</td>\n",
              "      <td>True</td>\n",
              "      <td>False</td>\n",
              "      <td>True</td>\n",
              "      <td>True</td>\n",
              "      <td>...</td>\n",
              "      <td>True</td>\n",
              "      <td>False</td>\n",
              "      <td>False</td>\n",
              "      <td>True</td>\n",
              "      <td>False</td>\n",
              "      <td>False</td>\n",
              "      <td>False</td>\n",
              "      <td>False</td>\n",
              "      <td>False</td>\n",
              "      <td>True</td>\n",
              "      <td>True</td>\n",
              "      <td>False</td>\n",
              "      <td>False</td>\n",
              "      <td>False</td>\n",
              "      <td>False</td>\n",
              "      <td>False</td>\n",
              "      <td>False</td>\n",
              "      <td>False</td>\n",
              "      <td>True</td>\n",
              "      <td>False</td>\n",
              "      <td>False</td>\n",
              "      <td>False</td>\n",
              "      <td>True</td>\n",
              "      <td>True</td>\n",
              "      <td>True</td>\n",
              "      <td>False</td>\n",
              "      <td>False</td>\n",
              "      <td>False</td>\n",
              "      <td>False</td>\n",
              "      <td>False</td>\n",
              "      <td>False</td>\n",
              "      <td>False</td>\n",
              "      <td>False</td>\n",
              "      <td>True</td>\n",
              "      <td>True</td>\n",
              "      <td>False</td>\n",
              "      <td>False</td>\n",
              "      <td>False</td>\n",
              "      <td>True</td>\n",
              "      <td>True</td>\n",
              "    </tr>\n",
              "    <tr>\n",
              "      <th>49996</th>\n",
              "      <td>True</td>\n",
              "      <td>True</td>\n",
              "      <td>True</td>\n",
              "      <td>True</td>\n",
              "      <td>True</td>\n",
              "      <td>False</td>\n",
              "      <td>False</td>\n",
              "      <td>True</td>\n",
              "      <td>True</td>\n",
              "      <td>True</td>\n",
              "      <td>True</td>\n",
              "      <td>True</td>\n",
              "      <td>False</td>\n",
              "      <td>True</td>\n",
              "      <td>True</td>\n",
              "      <td>True</td>\n",
              "      <td>True</td>\n",
              "      <td>True</td>\n",
              "      <td>True</td>\n",
              "      <td>True</td>\n",
              "      <td>False</td>\n",
              "      <td>False</td>\n",
              "      <td>True</td>\n",
              "      <td>False</td>\n",
              "      <td>False</td>\n",
              "      <td>True</td>\n",
              "      <td>True</td>\n",
              "      <td>False</td>\n",
              "      <td>True</td>\n",
              "      <td>True</td>\n",
              "      <td>True</td>\n",
              "      <td>True</td>\n",
              "      <td>True</td>\n",
              "      <td>True</td>\n",
              "      <td>False</td>\n",
              "      <td>True</td>\n",
              "      <td>True</td>\n",
              "      <td>False</td>\n",
              "      <td>True</td>\n",
              "      <td>True</td>\n",
              "      <td>...</td>\n",
              "      <td>True</td>\n",
              "      <td>False</td>\n",
              "      <td>False</td>\n",
              "      <td>False</td>\n",
              "      <td>False</td>\n",
              "      <td>False</td>\n",
              "      <td>False</td>\n",
              "      <td>False</td>\n",
              "      <td>False</td>\n",
              "      <td>False</td>\n",
              "      <td>False</td>\n",
              "      <td>False</td>\n",
              "      <td>False</td>\n",
              "      <td>False</td>\n",
              "      <td>False</td>\n",
              "      <td>False</td>\n",
              "      <td>False</td>\n",
              "      <td>False</td>\n",
              "      <td>True</td>\n",
              "      <td>False</td>\n",
              "      <td>False</td>\n",
              "      <td>False</td>\n",
              "      <td>True</td>\n",
              "      <td>False</td>\n",
              "      <td>True</td>\n",
              "      <td>False</td>\n",
              "      <td>False</td>\n",
              "      <td>False</td>\n",
              "      <td>False</td>\n",
              "      <td>False</td>\n",
              "      <td>False</td>\n",
              "      <td>False</td>\n",
              "      <td>False</td>\n",
              "      <td>True</td>\n",
              "      <td>False</td>\n",
              "      <td>False</td>\n",
              "      <td>False</td>\n",
              "      <td>False</td>\n",
              "      <td>False</td>\n",
              "      <td>True</td>\n",
              "    </tr>\n",
              "    <tr>\n",
              "      <th>49997</th>\n",
              "      <td>True</td>\n",
              "      <td>True</td>\n",
              "      <td>True</td>\n",
              "      <td>True</td>\n",
              "      <td>True</td>\n",
              "      <td>False</td>\n",
              "      <td>False</td>\n",
              "      <td>True</td>\n",
              "      <td>True</td>\n",
              "      <td>True</td>\n",
              "      <td>True</td>\n",
              "      <td>True</td>\n",
              "      <td>False</td>\n",
              "      <td>True</td>\n",
              "      <td>True</td>\n",
              "      <td>True</td>\n",
              "      <td>True</td>\n",
              "      <td>True</td>\n",
              "      <td>True</td>\n",
              "      <td>True</td>\n",
              "      <td>False</td>\n",
              "      <td>False</td>\n",
              "      <td>True</td>\n",
              "      <td>False</td>\n",
              "      <td>False</td>\n",
              "      <td>True</td>\n",
              "      <td>True</td>\n",
              "      <td>False</td>\n",
              "      <td>True</td>\n",
              "      <td>True</td>\n",
              "      <td>True</td>\n",
              "      <td>True</td>\n",
              "      <td>True</td>\n",
              "      <td>True</td>\n",
              "      <td>False</td>\n",
              "      <td>True</td>\n",
              "      <td>True</td>\n",
              "      <td>False</td>\n",
              "      <td>True</td>\n",
              "      <td>True</td>\n",
              "      <td>...</td>\n",
              "      <td>True</td>\n",
              "      <td>False</td>\n",
              "      <td>False</td>\n",
              "      <td>True</td>\n",
              "      <td>False</td>\n",
              "      <td>False</td>\n",
              "      <td>False</td>\n",
              "      <td>False</td>\n",
              "      <td>False</td>\n",
              "      <td>False</td>\n",
              "      <td>True</td>\n",
              "      <td>False</td>\n",
              "      <td>False</td>\n",
              "      <td>False</td>\n",
              "      <td>False</td>\n",
              "      <td>False</td>\n",
              "      <td>False</td>\n",
              "      <td>False</td>\n",
              "      <td>True</td>\n",
              "      <td>False</td>\n",
              "      <td>False</td>\n",
              "      <td>False</td>\n",
              "      <td>True</td>\n",
              "      <td>False</td>\n",
              "      <td>True</td>\n",
              "      <td>False</td>\n",
              "      <td>False</td>\n",
              "      <td>False</td>\n",
              "      <td>False</td>\n",
              "      <td>False</td>\n",
              "      <td>False</td>\n",
              "      <td>False</td>\n",
              "      <td>False</td>\n",
              "      <td>True</td>\n",
              "      <td>False</td>\n",
              "      <td>False</td>\n",
              "      <td>False</td>\n",
              "      <td>False</td>\n",
              "      <td>True</td>\n",
              "      <td>True</td>\n",
              "    </tr>\n",
              "    <tr>\n",
              "      <th>49998</th>\n",
              "      <td>True</td>\n",
              "      <td>True</td>\n",
              "      <td>True</td>\n",
              "      <td>False</td>\n",
              "      <td>True</td>\n",
              "      <td>True</td>\n",
              "      <td>True</td>\n",
              "      <td>True</td>\n",
              "      <td>True</td>\n",
              "      <td>True</td>\n",
              "      <td>True</td>\n",
              "      <td>True</td>\n",
              "      <td>True</td>\n",
              "      <td>True</td>\n",
              "      <td>True</td>\n",
              "      <td>True</td>\n",
              "      <td>False</td>\n",
              "      <td>False</td>\n",
              "      <td>False</td>\n",
              "      <td>True</td>\n",
              "      <td>True</td>\n",
              "      <td>True</td>\n",
              "      <td>True</td>\n",
              "      <td>True</td>\n",
              "      <td>True</td>\n",
              "      <td>True</td>\n",
              "      <td>True</td>\n",
              "      <td>True</td>\n",
              "      <td>True</td>\n",
              "      <td>True</td>\n",
              "      <td>True</td>\n",
              "      <td>True</td>\n",
              "      <td>True</td>\n",
              "      <td>True</td>\n",
              "      <td>True</td>\n",
              "      <td>True</td>\n",
              "      <td>False</td>\n",
              "      <td>True</td>\n",
              "      <td>True</td>\n",
              "      <td>True</td>\n",
              "      <td>...</td>\n",
              "      <td>False</td>\n",
              "      <td>False</td>\n",
              "      <td>False</td>\n",
              "      <td>True</td>\n",
              "      <td>False</td>\n",
              "      <td>False</td>\n",
              "      <td>False</td>\n",
              "      <td>False</td>\n",
              "      <td>False</td>\n",
              "      <td>True</td>\n",
              "      <td>True</td>\n",
              "      <td>False</td>\n",
              "      <td>False</td>\n",
              "      <td>False</td>\n",
              "      <td>False</td>\n",
              "      <td>True</td>\n",
              "      <td>False</td>\n",
              "      <td>False</td>\n",
              "      <td>True</td>\n",
              "      <td>False</td>\n",
              "      <td>False</td>\n",
              "      <td>False</td>\n",
              "      <td>True</td>\n",
              "      <td>True</td>\n",
              "      <td>True</td>\n",
              "      <td>False</td>\n",
              "      <td>False</td>\n",
              "      <td>False</td>\n",
              "      <td>False</td>\n",
              "      <td>False</td>\n",
              "      <td>False</td>\n",
              "      <td>False</td>\n",
              "      <td>False</td>\n",
              "      <td>True</td>\n",
              "      <td>True</td>\n",
              "      <td>False</td>\n",
              "      <td>False</td>\n",
              "      <td>False</td>\n",
              "      <td>True</td>\n",
              "      <td>True</td>\n",
              "    </tr>\n",
              "    <tr>\n",
              "      <th>49999</th>\n",
              "      <td>True</td>\n",
              "      <td>True</td>\n",
              "      <td>True</td>\n",
              "      <td>True</td>\n",
              "      <td>True</td>\n",
              "      <td>False</td>\n",
              "      <td>False</td>\n",
              "      <td>True</td>\n",
              "      <td>True</td>\n",
              "      <td>True</td>\n",
              "      <td>True</td>\n",
              "      <td>True</td>\n",
              "      <td>False</td>\n",
              "      <td>True</td>\n",
              "      <td>True</td>\n",
              "      <td>True</td>\n",
              "      <td>True</td>\n",
              "      <td>True</td>\n",
              "      <td>True</td>\n",
              "      <td>True</td>\n",
              "      <td>False</td>\n",
              "      <td>False</td>\n",
              "      <td>True</td>\n",
              "      <td>False</td>\n",
              "      <td>False</td>\n",
              "      <td>True</td>\n",
              "      <td>True</td>\n",
              "      <td>False</td>\n",
              "      <td>True</td>\n",
              "      <td>True</td>\n",
              "      <td>True</td>\n",
              "      <td>True</td>\n",
              "      <td>True</td>\n",
              "      <td>True</td>\n",
              "      <td>False</td>\n",
              "      <td>True</td>\n",
              "      <td>True</td>\n",
              "      <td>False</td>\n",
              "      <td>True</td>\n",
              "      <td>True</td>\n",
              "      <td>...</td>\n",
              "      <td>True</td>\n",
              "      <td>False</td>\n",
              "      <td>False</td>\n",
              "      <td>True</td>\n",
              "      <td>False</td>\n",
              "      <td>False</td>\n",
              "      <td>False</td>\n",
              "      <td>False</td>\n",
              "      <td>False</td>\n",
              "      <td>True</td>\n",
              "      <td>True</td>\n",
              "      <td>False</td>\n",
              "      <td>False</td>\n",
              "      <td>False</td>\n",
              "      <td>False</td>\n",
              "      <td>False</td>\n",
              "      <td>False</td>\n",
              "      <td>False</td>\n",
              "      <td>True</td>\n",
              "      <td>False</td>\n",
              "      <td>False</td>\n",
              "      <td>False</td>\n",
              "      <td>True</td>\n",
              "      <td>True</td>\n",
              "      <td>True</td>\n",
              "      <td>False</td>\n",
              "      <td>False</td>\n",
              "      <td>False</td>\n",
              "      <td>False</td>\n",
              "      <td>False</td>\n",
              "      <td>False</td>\n",
              "      <td>False</td>\n",
              "      <td>False</td>\n",
              "      <td>True</td>\n",
              "      <td>True</td>\n",
              "      <td>False</td>\n",
              "      <td>False</td>\n",
              "      <td>False</td>\n",
              "      <td>True</td>\n",
              "      <td>True</td>\n",
              "    </tr>\n",
              "  </tbody>\n",
              "</table>\n",
              "<p>50000 rows × 230 columns</p>\n",
              "</div>"
            ],
            "text/plain": [
              "       Var1  Var2  Var3   Var4  Var5  ...  Var226  Var227  Var228  Var229  Var230\n",
              "0      True  True  True   True  True  ...   False   False   False    True    True\n",
              "1      True  True  True   True  True  ...   False   False   False    True    True\n",
              "2      True  True  True   True  True  ...   False   False   False   False    True\n",
              "3      True  True  True   True  True  ...   False   False   False    True    True\n",
              "4      True  True  True   True  True  ...   False   False   False   False    True\n",
              "...     ...   ...   ...    ...   ...  ...     ...     ...     ...     ...     ...\n",
              "49995  True  True  True   True  True  ...   False   False   False    True    True\n",
              "49996  True  True  True   True  True  ...   False   False   False   False    True\n",
              "49997  True  True  True   True  True  ...   False   False   False    True    True\n",
              "49998  True  True  True  False  True  ...   False   False   False    True    True\n",
              "49999  True  True  True   True  True  ...   False   False   False    True    True\n",
              "\n",
              "[50000 rows x 230 columns]"
            ]
          },
          "metadata": {
            "tags": []
          },
          "execution_count": 19
        }
      ]
    },
    {
      "cell_type": "code",
      "metadata": {
        "id": "rs5MqUhU0VSj",
        "colab_type": "code",
        "colab": {}
      },
      "source": [
        "empty_entries_per_column = features.isna().sum(axis = 0)"
      ],
      "execution_count": 0,
      "outputs": []
    },
    {
      "cell_type": "code",
      "metadata": {
        "id": "ixM9vQAq0gTL",
        "colab_type": "code",
        "outputId": "c3984c33-e140-4ec8-abe1-d9ad2673136a",
        "colab": {
          "base_uri": "https://localhost:8080/",
          "height": 225
        }
      },
      "source": [
        "empty_entries_per_column"
      ],
      "execution_count": 0,
      "outputs": [
        {
          "output_type": "execute_result",
          "data": {
            "text/plain": [
              "Var1      49298\n",
              "Var2      48759\n",
              "Var3      48760\n",
              "Var4      48421\n",
              "Var5      48513\n",
              "          ...  \n",
              "Var226        0\n",
              "Var227        0\n",
              "Var228        0\n",
              "Var229    28432\n",
              "Var230    50000\n",
              "Length: 230, dtype: int64"
            ]
          },
          "metadata": {
            "tags": []
          },
          "execution_count": 21
        }
      ]
    },
    {
      "cell_type": "code",
      "metadata": {
        "id": "Vdys6uGl0t7o",
        "colab_type": "code",
        "outputId": "39b0b30a-6bce-400f-911f-9352015012c3",
        "colab": {
          "base_uri": "https://localhost:8080/",
          "height": 285
        }
      },
      "source": [
        "fig, (ax1, ax2) = plt.subplots(1, 2)\n",
        "ax1.boxplot(empty_entries_per_column)\n",
        "ax2.hist(empty_entries_per_column)\n",
        "median = empty_entries_per_column.median()\n",
        "print(median)"
      ],
      "execution_count": 0,
      "outputs": [
        {
          "output_type": "stream",
          "text": [
            "48513.0\n"
          ],
          "name": "stdout"
        },
        {
          "output_type": "display_data",
          "data": {
            "image/png": "[encoded data removed]",
            "text/plain": [
              "<Figure size 432x288 with 2 Axes>"
            ]
          },
          "metadata": {
            "tags": []
          }
        }
      ]
    },
    {
      "cell_type": "code",
      "metadata": {
        "id": "CcC4TO39FR6o",
        "colab_type": "code",
        "outputId": "b170b4c8-1e6d-4990-fd73-de9dffee7003",
        "colab": {
          "base_uri": "https://localhost:8080/",
          "height": 35
        }
      },
      "source": [
        "num_entries = len(features)\n",
        "threshold = 0.25\n",
        "num_entries * threshold"
      ],
      "execution_count": 0,
      "outputs": [
        {
          "output_type": "execute_result",
          "data": {
            "text/plain": [
              "12500.0"
            ]
          },
          "metadata": {
            "tags": []
          },
          "execution_count": 23
        }
      ]
    },
    {
      "cell_type": "code",
      "metadata": {
        "id": "M2LPwybSFnOC",
        "colab_type": "code",
        "colab": {}
      },
      "source": [
        "keep_vars = np.array(features.columns[(empty_entries_per_column <= (num_entries * threshold))])"
      ],
      "execution_count": 0,
      "outputs": []
    },
    {
      "cell_type": "code",
      "metadata": {
        "id": "xRwcGsehF5yJ",
        "colab_type": "code",
        "outputId": "bc7a28ad-693e-489a-e140-a27266a5e8f1",
        "colab": {
          "base_uri": "https://localhost:8080/",
          "height": 207
        }
      },
      "source": [
        "keep_vars"
      ],
      "execution_count": 0,
      "outputs": [
        {
          "output_type": "execute_result",
          "data": {
            "text/plain": [
              "array(['Var6', 'Var7', 'Var13', 'Var21', 'Var22', 'Var24', 'Var25',\n",
              "       'Var28', 'Var35', 'Var38', 'Var44', 'Var57', 'Var65', 'Var73',\n",
              "       'Var74', 'Var76', 'Var78', 'Var81', 'Var83', 'Var85', 'Var109',\n",
              "       'Var112', 'Var113', 'Var119', 'Var123', 'Var125', 'Var132',\n",
              "       'Var133', 'Var134', 'Var140', 'Var143', 'Var144', 'Var149',\n",
              "       'Var153', 'Var160', 'Var163', 'Var173', 'Var181', 'Var192',\n",
              "       'Var193', 'Var195', 'Var196', 'Var197', 'Var198', 'Var199',\n",
              "       'Var202', 'Var203', 'Var204', 'Var205', 'Var206', 'Var207',\n",
              "       'Var208', 'Var210', 'Var211', 'Var212', 'Var216', 'Var217',\n",
              "       'Var218', 'Var219', 'Var220', 'Var221', 'Var222', 'Var223',\n",
              "       'Var226', 'Var227', 'Var228'], dtype=object)"
            ]
          },
          "metadata": {
            "tags": []
          },
          "execution_count": 25
        }
      ]
    },
    {
      "cell_type": "code",
      "metadata": {
        "id": "DeNE0KVlGIQ3",
        "colab_type": "code",
        "colab": {}
      },
      "source": [
        "num_vars = [elem for elem in num_vars if elem in keep_vars]\n",
        "cat_vars = [elem for elem in cat_vars if elem in keep_vars]"
      ],
      "execution_count": 0,
      "outputs": []
    },
    {
      "cell_type": "code",
      "metadata": {
        "id": "yI-K4nCbGkSb",
        "colab_type": "code",
        "outputId": "e1db63f5-b17e-4453-e9b1-e696a46b374f",
        "colab": {
          "base_uri": "https://localhost:8080/",
          "height": 35
        }
      },
      "source": [
        "len(num_vars)"
      ],
      "execution_count": 0,
      "outputs": [
        {
          "output_type": "execute_result",
          "data": {
            "text/plain": [
              "38"
            ]
          },
          "metadata": {
            "tags": []
          },
          "execution_count": 27
        }
      ]
    },
    {
      "cell_type": "code",
      "metadata": {
        "id": "kv-ydjd4Gp2_",
        "colab_type": "code",
        "outputId": "979a8b73-dc37-496a-9a40-4c8d25957c0b",
        "colab": {
          "base_uri": "https://localhost:8080/",
          "height": 35
        }
      },
      "source": [
        "len(cat_vars)"
      ],
      "execution_count": 0,
      "outputs": [
        {
          "output_type": "execute_result",
          "data": {
            "text/plain": [
              "28"
            ]
          },
          "metadata": {
            "tags": []
          },
          "execution_count": 28
        }
      ]
    },
    {
      "cell_type": "code",
      "metadata": {
        "id": "ssfKt4R8Hhya",
        "colab_type": "code",
        "colab": {}
      },
      "source": [
        "for col in num_vars:\n",
        "  col_mean = features[col].mean()\n",
        "  features[col] = features[col].fillna(col_mean)"
      ],
      "execution_count": 0,
      "outputs": []
    },
    {
      "cell_type": "code",
      "metadata": {
        "id": "6zD9-UW8H9M5",
        "colab_type": "code",
        "colab": {}
      },
      "source": [
        "for col in cat_vars:\n",
        "  features[col] = features[col].cat.add_categories('missing')\n",
        "  features[col] = features[col].fillna('missing')"
      ],
      "execution_count": 0,
      "outputs": []
    },
    {
      "cell_type": "code",
      "metadata": {
        "id": "pgP3KYVkIa2w",
        "colab_type": "code",
        "outputId": "2e3840fb-5d4c-445e-ecc7-6b6e4a05109a",
        "colab": {
          "base_uri": "https://localhost:8080/",
          "height": 247
        }
      },
      "source": [
        "features.head()"
      ],
      "execution_count": 0,
      "outputs": [
        {
          "output_type": "execute_result",
          "data": {
            "text/html": [
              "<div>\n",
              "<style scoped>\n",
              "    .dataframe tbody tr th:only-of-type {\n",
              "        vertical-align: middle;\n",
              "    }\n",
              "\n",
              "    .dataframe tbody tr th {\n",
              "        vertical-align: top;\n",
              "    }\n",
              "\n",
              "    .dataframe thead th {\n",
              "        text-align: right;\n",
              "    }\n",
              "</style>\n",
              "<table border=\"1\" class=\"dataframe\">\n",
              "  <thead>\n",
              "    <tr style=\"text-align: right;\">\n",
              "      <th></th>\n",
              "      <th>Var1</th>\n",
              "      <th>Var2</th>\n",
              "      <th>Var3</th>\n",
              "      <th>Var4</th>\n",
              "      <th>Var5</th>\n",
              "      <th>Var6</th>\n",
              "      <th>Var7</th>\n",
              "      <th>Var8</th>\n",
              "      <th>Var9</th>\n",
              "      <th>Var10</th>\n",
              "      <th>Var11</th>\n",
              "      <th>Var12</th>\n",
              "      <th>Var13</th>\n",
              "      <th>Var14</th>\n",
              "      <th>Var15</th>\n",
              "      <th>Var16</th>\n",
              "      <th>Var17</th>\n",
              "      <th>Var18</th>\n",
              "      <th>Var19</th>\n",
              "      <th>Var20</th>\n",
              "      <th>Var21</th>\n",
              "      <th>Var22</th>\n",
              "      <th>Var23</th>\n",
              "      <th>Var24</th>\n",
              "      <th>Var25</th>\n",
              "      <th>Var26</th>\n",
              "      <th>Var27</th>\n",
              "      <th>Var28</th>\n",
              "      <th>Var29</th>\n",
              "      <th>Var30</th>\n",
              "      <th>Var31</th>\n",
              "      <th>Var32</th>\n",
              "      <th>Var33</th>\n",
              "      <th>Var34</th>\n",
              "      <th>Var35</th>\n",
              "      <th>Var36</th>\n",
              "      <th>Var37</th>\n",
              "      <th>Var38</th>\n",
              "      <th>Var39</th>\n",
              "      <th>Var40</th>\n",
              "      <th>...</th>\n",
              "      <th>Var191</th>\n",
              "      <th>Var192</th>\n",
              "      <th>Var193</th>\n",
              "      <th>Var194</th>\n",
              "      <th>Var195</th>\n",
              "      <th>Var196</th>\n",
              "      <th>Var197</th>\n",
              "      <th>Var198</th>\n",
              "      <th>Var199</th>\n",
              "      <th>Var200</th>\n",
              "      <th>Var201</th>\n",
              "      <th>Var202</th>\n",
              "      <th>Var203</th>\n",
              "      <th>Var204</th>\n",
              "      <th>Var205</th>\n",
              "      <th>Var206</th>\n",
              "      <th>Var207</th>\n",
              "      <th>Var208</th>\n",
              "      <th>Var209</th>\n",
              "      <th>Var210</th>\n",
              "      <th>Var211</th>\n",
              "      <th>Var212</th>\n",
              "      <th>Var213</th>\n",
              "      <th>Var214</th>\n",
              "      <th>Var215</th>\n",
              "      <th>Var216</th>\n",
              "      <th>Var217</th>\n",
              "      <th>Var218</th>\n",
              "      <th>Var219</th>\n",
              "      <th>Var220</th>\n",
              "      <th>Var221</th>\n",
              "      <th>Var222</th>\n",
              "      <th>Var223</th>\n",
              "      <th>Var224</th>\n",
              "      <th>Var225</th>\n",
              "      <th>Var226</th>\n",
              "      <th>Var227</th>\n",
              "      <th>Var228</th>\n",
              "      <th>Var229</th>\n",
              "      <th>Var230</th>\n",
              "    </tr>\n",
              "  </thead>\n",
              "  <tbody>\n",
              "    <tr>\n",
              "      <th>0</th>\n",
              "      <td>NaN</td>\n",
              "      <td>NaN</td>\n",
              "      <td>NaN</td>\n",
              "      <td>NaN</td>\n",
              "      <td>NaN</td>\n",
              "      <td>1526.000000</td>\n",
              "      <td>7.0</td>\n",
              "      <td>NaN</td>\n",
              "      <td>NaN</td>\n",
              "      <td>NaN</td>\n",
              "      <td>NaN</td>\n",
              "      <td>NaN</td>\n",
              "      <td>184.0</td>\n",
              "      <td>NaN</td>\n",
              "      <td>NaN</td>\n",
              "      <td>NaN</td>\n",
              "      <td>NaN</td>\n",
              "      <td>NaN</td>\n",
              "      <td>NaN</td>\n",
              "      <td>NaN</td>\n",
              "      <td>464.000000</td>\n",
              "      <td>580.0</td>\n",
              "      <td>NaN</td>\n",
              "      <td>14.000000</td>\n",
              "      <td>128.0</td>\n",
              "      <td>NaN</td>\n",
              "      <td>NaN</td>\n",
              "      <td>166.56</td>\n",
              "      <td>NaN</td>\n",
              "      <td>NaN</td>\n",
              "      <td>NaN</td>\n",
              "      <td>NaN</td>\n",
              "      <td>NaN</td>\n",
              "      <td>NaN</td>\n",
              "      <td>0.0</td>\n",
              "      <td>NaN</td>\n",
              "      <td>NaN</td>\n",
              "      <td>3570.0</td>\n",
              "      <td>NaN</td>\n",
              "      <td>NaN</td>\n",
              "      <td>...</td>\n",
              "      <td>NaN</td>\n",
              "      <td>bZkvyxLkBI</td>\n",
              "      <td>RO12</td>\n",
              "      <td>NaN</td>\n",
              "      <td>taul</td>\n",
              "      <td>1K8T</td>\n",
              "      <td>lK27</td>\n",
              "      <td>ka_ns41</td>\n",
              "      <td>nQUveAzAF7</td>\n",
              "      <td>NaN</td>\n",
              "      <td>NaN</td>\n",
              "      <td>dXGu</td>\n",
              "      <td>9_Y1</td>\n",
              "      <td>FbIm</td>\n",
              "      <td>VpdQ</td>\n",
              "      <td>haYg</td>\n",
              "      <td>me75fM6ugJ</td>\n",
              "      <td>kIsH</td>\n",
              "      <td>NaN</td>\n",
              "      <td>uKAI</td>\n",
              "      <td>L84s</td>\n",
              "      <td>XfqtO3UdzaXh_</td>\n",
              "      <td>NaN</td>\n",
              "      <td>NaN</td>\n",
              "      <td>NaN</td>\n",
              "      <td>XTbPUYD</td>\n",
              "      <td>sH5Z</td>\n",
              "      <td>cJvF</td>\n",
              "      <td>FzaX</td>\n",
              "      <td>1YVfGrO</td>\n",
              "      <td>oslk</td>\n",
              "      <td>fXVEsaq</td>\n",
              "      <td>jySVZNlOJy</td>\n",
              "      <td>NaN</td>\n",
              "      <td>NaN</td>\n",
              "      <td>xb3V</td>\n",
              "      <td>RAYp</td>\n",
              "      <td>F2FyR07IdsN7I</td>\n",
              "      <td>NaN</td>\n",
              "      <td>NaN</td>\n",
              "    </tr>\n",
              "    <tr>\n",
              "      <th>1</th>\n",
              "      <td>NaN</td>\n",
              "      <td>NaN</td>\n",
              "      <td>NaN</td>\n",
              "      <td>NaN</td>\n",
              "      <td>NaN</td>\n",
              "      <td>525.000000</td>\n",
              "      <td>0.0</td>\n",
              "      <td>NaN</td>\n",
              "      <td>NaN</td>\n",
              "      <td>NaN</td>\n",
              "      <td>NaN</td>\n",
              "      <td>NaN</td>\n",
              "      <td>0.0</td>\n",
              "      <td>NaN</td>\n",
              "      <td>NaN</td>\n",
              "      <td>NaN</td>\n",
              "      <td>NaN</td>\n",
              "      <td>NaN</td>\n",
              "      <td>NaN</td>\n",
              "      <td>NaN</td>\n",
              "      <td>168.000000</td>\n",
              "      <td>210.0</td>\n",
              "      <td>NaN</td>\n",
              "      <td>2.000000</td>\n",
              "      <td>24.0</td>\n",
              "      <td>NaN</td>\n",
              "      <td>NaN</td>\n",
              "      <td>353.52</td>\n",
              "      <td>NaN</td>\n",
              "      <td>NaN</td>\n",
              "      <td>NaN</td>\n",
              "      <td>NaN</td>\n",
              "      <td>NaN</td>\n",
              "      <td>NaN</td>\n",
              "      <td>0.0</td>\n",
              "      <td>NaN</td>\n",
              "      <td>NaN</td>\n",
              "      <td>4764966.0</td>\n",
              "      <td>NaN</td>\n",
              "      <td>NaN</td>\n",
              "      <td>...</td>\n",
              "      <td>NaN</td>\n",
              "      <td>CEat0G8rTN</td>\n",
              "      <td>RO12</td>\n",
              "      <td>NaN</td>\n",
              "      <td>taul</td>\n",
              "      <td>1K8T</td>\n",
              "      <td>2Ix5</td>\n",
              "      <td>qEdASpP</td>\n",
              "      <td>y2LIM01bE1</td>\n",
              "      <td>NaN</td>\n",
              "      <td>NaN</td>\n",
              "      <td>lg1t</td>\n",
              "      <td>9_Y1</td>\n",
              "      <td>k13i</td>\n",
              "      <td>sJzTlal</td>\n",
              "      <td>zm5i</td>\n",
              "      <td>me75fM6ugJ</td>\n",
              "      <td>kIsH</td>\n",
              "      <td>NaN</td>\n",
              "      <td>uKAI</td>\n",
              "      <td>L84s</td>\n",
              "      <td>NhsEn4L</td>\n",
              "      <td>NaN</td>\n",
              "      <td>NaN</td>\n",
              "      <td>NaN</td>\n",
              "      <td>kZJyVg2</td>\n",
              "      <td>missing</td>\n",
              "      <td>missing</td>\n",
              "      <td>FzaX</td>\n",
              "      <td>0AJo2f2</td>\n",
              "      <td>oslk</td>\n",
              "      <td>2Kb5FSF</td>\n",
              "      <td>LM8l689qOp</td>\n",
              "      <td>NaN</td>\n",
              "      <td>NaN</td>\n",
              "      <td>fKCe</td>\n",
              "      <td>RAYp</td>\n",
              "      <td>F2FyR07IdsN7I</td>\n",
              "      <td>NaN</td>\n",
              "      <td>NaN</td>\n",
              "    </tr>\n",
              "    <tr>\n",
              "      <th>2</th>\n",
              "      <td>NaN</td>\n",
              "      <td>NaN</td>\n",
              "      <td>NaN</td>\n",
              "      <td>NaN</td>\n",
              "      <td>NaN</td>\n",
              "      <td>5236.000000</td>\n",
              "      <td>7.0</td>\n",
              "      <td>NaN</td>\n",
              "      <td>NaN</td>\n",
              "      <td>NaN</td>\n",
              "      <td>NaN</td>\n",
              "      <td>NaN</td>\n",
              "      <td>904.0</td>\n",
              "      <td>NaN</td>\n",
              "      <td>NaN</td>\n",
              "      <td>NaN</td>\n",
              "      <td>NaN</td>\n",
              "      <td>NaN</td>\n",
              "      <td>NaN</td>\n",
              "      <td>NaN</td>\n",
              "      <td>1212.000000</td>\n",
              "      <td>1515.0</td>\n",
              "      <td>NaN</td>\n",
              "      <td>26.000000</td>\n",
              "      <td>816.0</td>\n",
              "      <td>NaN</td>\n",
              "      <td>NaN</td>\n",
              "      <td>220.08</td>\n",
              "      <td>NaN</td>\n",
              "      <td>NaN</td>\n",
              "      <td>NaN</td>\n",
              "      <td>NaN</td>\n",
              "      <td>NaN</td>\n",
              "      <td>NaN</td>\n",
              "      <td>0.0</td>\n",
              "      <td>NaN</td>\n",
              "      <td>NaN</td>\n",
              "      <td>5883894.0</td>\n",
              "      <td>NaN</td>\n",
              "      <td>NaN</td>\n",
              "      <td>...</td>\n",
              "      <td>NaN</td>\n",
              "      <td>eOQt0GoOh3</td>\n",
              "      <td>AERks4l</td>\n",
              "      <td>SEuy</td>\n",
              "      <td>taul</td>\n",
              "      <td>1K8T</td>\n",
              "      <td>ffXs</td>\n",
              "      <td>NldASpP</td>\n",
              "      <td>y4g9XoZ</td>\n",
              "      <td>vynJTq9</td>\n",
              "      <td>smXZ</td>\n",
              "      <td>4bTR</td>\n",
              "      <td>9_Y1</td>\n",
              "      <td>MGOA</td>\n",
              "      <td>VpdQ</td>\n",
              "      <td>haYg</td>\n",
              "      <td>DHn_WUyBhW_whjA88g9bvA64_</td>\n",
              "      <td>kIsH</td>\n",
              "      <td>NaN</td>\n",
              "      <td>uKAI</td>\n",
              "      <td>L84s</td>\n",
              "      <td>UbxQ8lZ</td>\n",
              "      <td>NaN</td>\n",
              "      <td>TTGHfSv</td>\n",
              "      <td>NaN</td>\n",
              "      <td>pMWAe2U</td>\n",
              "      <td>bHR7</td>\n",
              "      <td>UYBR</td>\n",
              "      <td>FzaX</td>\n",
              "      <td>JFM1BiF</td>\n",
              "      <td>Al6ZaUT</td>\n",
              "      <td>NKv4yOc</td>\n",
              "      <td>jySVZNlOJy</td>\n",
              "      <td>NaN</td>\n",
              "      <td>kG3k</td>\n",
              "      <td>Qu4f</td>\n",
              "      <td>02N6s8f</td>\n",
              "      <td>ib5G6X1eUxUn6</td>\n",
              "      <td>am7c</td>\n",
              "      <td>NaN</td>\n",
              "    </tr>\n",
              "    <tr>\n",
              "      <th>3</th>\n",
              "      <td>NaN</td>\n",
              "      <td>NaN</td>\n",
              "      <td>NaN</td>\n",
              "      <td>NaN</td>\n",
              "      <td>NaN</td>\n",
              "      <td>1326.437116</td>\n",
              "      <td>0.0</td>\n",
              "      <td>NaN</td>\n",
              "      <td>NaN</td>\n",
              "      <td>NaN</td>\n",
              "      <td>NaN</td>\n",
              "      <td>NaN</td>\n",
              "      <td>0.0</td>\n",
              "      <td>NaN</td>\n",
              "      <td>NaN</td>\n",
              "      <td>NaN</td>\n",
              "      <td>NaN</td>\n",
              "      <td>NaN</td>\n",
              "      <td>NaN</td>\n",
              "      <td>NaN</td>\n",
              "      <td>234.518225</td>\n",
              "      <td>0.0</td>\n",
              "      <td>NaN</td>\n",
              "      <td>4.507926</td>\n",
              "      <td>0.0</td>\n",
              "      <td>NaN</td>\n",
              "      <td>NaN</td>\n",
              "      <td>22.08</td>\n",
              "      <td>NaN</td>\n",
              "      <td>NaN</td>\n",
              "      <td>NaN</td>\n",
              "      <td>NaN</td>\n",
              "      <td>NaN</td>\n",
              "      <td>NaN</td>\n",
              "      <td>0.0</td>\n",
              "      <td>NaN</td>\n",
              "      <td>NaN</td>\n",
              "      <td>0.0</td>\n",
              "      <td>NaN</td>\n",
              "      <td>NaN</td>\n",
              "      <td>...</td>\n",
              "      <td>NaN</td>\n",
              "      <td>jg69tYsGvO</td>\n",
              "      <td>RO12</td>\n",
              "      <td>NaN</td>\n",
              "      <td>taul</td>\n",
              "      <td>1K8T</td>\n",
              "      <td>ssAy</td>\n",
              "      <td>_ybO0dd</td>\n",
              "      <td>4hMlgkf58mhwh</td>\n",
              "      <td>NaN</td>\n",
              "      <td>NaN</td>\n",
              "      <td>W8mQ</td>\n",
              "      <td>9_Y1</td>\n",
              "      <td>YULl</td>\n",
              "      <td>VpdQ</td>\n",
              "      <td>missing</td>\n",
              "      <td>me75fM6ugJ</td>\n",
              "      <td>kIsH</td>\n",
              "      <td>NaN</td>\n",
              "      <td>uKAI</td>\n",
              "      <td>Mtgm</td>\n",
              "      <td>NhsEn4L</td>\n",
              "      <td>NaN</td>\n",
              "      <td>NaN</td>\n",
              "      <td>NaN</td>\n",
              "      <td>kq0dQfu</td>\n",
              "      <td>eKej</td>\n",
              "      <td>UYBR</td>\n",
              "      <td>FzaX</td>\n",
              "      <td>L91KIiz</td>\n",
              "      <td>oslk</td>\n",
              "      <td>CE7uk3u</td>\n",
              "      <td>LM8l689qOp</td>\n",
              "      <td>NaN</td>\n",
              "      <td>NaN</td>\n",
              "      <td>FSa2</td>\n",
              "      <td>RAYp</td>\n",
              "      <td>F2FyR07IdsN7I</td>\n",
              "      <td>NaN</td>\n",
              "      <td>NaN</td>\n",
              "    </tr>\n",
              "    <tr>\n",
              "      <th>4</th>\n",
              "      <td>NaN</td>\n",
              "      <td>NaN</td>\n",
              "      <td>NaN</td>\n",
              "      <td>NaN</td>\n",
              "      <td>NaN</td>\n",
              "      <td>1029.000000</td>\n",
              "      <td>7.0</td>\n",
              "      <td>NaN</td>\n",
              "      <td>NaN</td>\n",
              "      <td>NaN</td>\n",
              "      <td>NaN</td>\n",
              "      <td>NaN</td>\n",
              "      <td>3216.0</td>\n",
              "      <td>NaN</td>\n",
              "      <td>NaN</td>\n",
              "      <td>NaN</td>\n",
              "      <td>NaN</td>\n",
              "      <td>NaN</td>\n",
              "      <td>NaN</td>\n",
              "      <td>NaN</td>\n",
              "      <td>64.000000</td>\n",
              "      <td>80.0</td>\n",
              "      <td>NaN</td>\n",
              "      <td>4.000000</td>\n",
              "      <td>64.0</td>\n",
              "      <td>NaN</td>\n",
              "      <td>NaN</td>\n",
              "      <td>200.00</td>\n",
              "      <td>NaN</td>\n",
              "      <td>NaN</td>\n",
              "      <td>NaN</td>\n",
              "      <td>NaN</td>\n",
              "      <td>NaN</td>\n",
              "      <td>NaN</td>\n",
              "      <td>0.0</td>\n",
              "      <td>NaN</td>\n",
              "      <td>NaN</td>\n",
              "      <td>0.0</td>\n",
              "      <td>NaN</td>\n",
              "      <td>NaN</td>\n",
              "      <td>...</td>\n",
              "      <td>NaN</td>\n",
              "      <td>IXSgUHShse</td>\n",
              "      <td>RO12</td>\n",
              "      <td>SEuy</td>\n",
              "      <td>taul</td>\n",
              "      <td>1K8T</td>\n",
              "      <td>uNkU</td>\n",
              "      <td>EKR938I</td>\n",
              "      <td>ThrHXVS</td>\n",
              "      <td>0v21jmy</td>\n",
              "      <td>smXZ</td>\n",
              "      <td>xklU</td>\n",
              "      <td>9_Y1</td>\n",
              "      <td>RVjC</td>\n",
              "      <td>sJzTlal</td>\n",
              "      <td>6JmL</td>\n",
              "      <td>me75fM6ugJ</td>\n",
              "      <td>kIsH</td>\n",
              "      <td>NaN</td>\n",
              "      <td>uKAI</td>\n",
              "      <td>L84s</td>\n",
              "      <td>XfqtO3UdzaXh_</td>\n",
              "      <td>NaN</td>\n",
              "      <td>SJs3duv</td>\n",
              "      <td>NaN</td>\n",
              "      <td>11p4mKe</td>\n",
              "      <td>H3p7</td>\n",
              "      <td>UYBR</td>\n",
              "      <td>FzaX</td>\n",
              "      <td>OrnLfvc</td>\n",
              "      <td>oslk</td>\n",
              "      <td>1J2cvxe</td>\n",
              "      <td>LM8l689qOp</td>\n",
              "      <td>NaN</td>\n",
              "      <td>kG3k</td>\n",
              "      <td>FSa2</td>\n",
              "      <td>RAYp</td>\n",
              "      <td>F2FyR07IdsN7I</td>\n",
              "      <td>mj86</td>\n",
              "      <td>NaN</td>\n",
              "    </tr>\n",
              "  </tbody>\n",
              "</table>\n",
              "<p>5 rows × 230 columns</p>\n",
              "</div>"
            ],
            "text/plain": [
              "   Var1  Var2  Var3  Var4  Var5  ...  Var226   Var227         Var228  Var229  Var230\n",
              "0   NaN   NaN   NaN   NaN   NaN  ...    xb3V     RAYp  F2FyR07IdsN7I     NaN     NaN\n",
              "1   NaN   NaN   NaN   NaN   NaN  ...    fKCe     RAYp  F2FyR07IdsN7I     NaN     NaN\n",
              "2   NaN   NaN   NaN   NaN   NaN  ...    Qu4f  02N6s8f  ib5G6X1eUxUn6    am7c     NaN\n",
              "3   NaN   NaN   NaN   NaN   NaN  ...    FSa2     RAYp  F2FyR07IdsN7I     NaN     NaN\n",
              "4   NaN   NaN   NaN   NaN   NaN  ...    FSa2     RAYp  F2FyR07IdsN7I    mj86     NaN\n",
              "\n",
              "[5 rows x 230 columns]"
            ]
          },
          "metadata": {
            "tags": []
          },
          "execution_count": 31
        }
      ]
    },
    {
      "cell_type": "markdown",
      "metadata": {
        "id": "uefuj-7naG0d",
        "colab_type": "text"
      },
      "source": [
        "#### Variáveis categóricas com muitas categorias"
      ]
    },
    {
      "cell_type": "code",
      "metadata": {
        "id": "DwM595iFLYeO",
        "colab_type": "code",
        "colab": {}
      },
      "source": [
        "n_categories_per_feature = features[cat_vars].apply(lambda x: len(set(x)))"
      ],
      "execution_count": 0,
      "outputs": []
    },
    {
      "cell_type": "code",
      "metadata": {
        "id": "xjM0Fv3RL2-D",
        "colab_type": "code",
        "outputId": "51526945-a26b-4aad-a3a3-5983a86ff012",
        "colab": {
          "base_uri": "https://localhost:8080/",
          "height": 518
        }
      },
      "source": [
        "n_categories_per_feature"
      ],
      "execution_count": 0,
      "outputs": [
        {
          "output_type": "execute_result",
          "data": {
            "text/plain": [
              "Var192      362\n",
              "Var193       51\n",
              "Var195       23\n",
              "Var196        4\n",
              "Var197      226\n",
              "Var198     4291\n",
              "Var199     5074\n",
              "Var202     5714\n",
              "Var203        6\n",
              "Var204      100\n",
              "Var205        4\n",
              "Var206       22\n",
              "Var207       14\n",
              "Var208        3\n",
              "Var210        6\n",
              "Var211        2\n",
              "Var212       81\n",
              "Var216     2016\n",
              "Var217    13991\n",
              "Var218        3\n",
              "Var219       23\n",
              "Var220     4291\n",
              "Var221        7\n",
              "Var222     4291\n",
              "Var223        5\n",
              "Var226       23\n",
              "Var227        7\n",
              "Var228       30\n",
              "dtype: int64"
            ]
          },
          "metadata": {
            "tags": []
          },
          "execution_count": 33
        }
      ]
    },
    {
      "cell_type": "code",
      "metadata": {
        "id": "ImVN6x08MZYn",
        "colab_type": "code",
        "outputId": "8fcaee21-800c-4efa-83f4-ed397ce9ff6f",
        "colab": {
          "base_uri": "https://localhost:8080/",
          "height": 351
        }
      },
      "source": [
        "plt.hist(n_categories_per_feature)"
      ],
      "execution_count": 0,
      "outputs": [
        {
          "output_type": "execute_result",
          "data": {
            "text/plain": [
              "(array([21.,  1.,  0.,  4.,  1.,  0.,  0.,  0.,  0.,  1.]),\n",
              " array([2.00000e+00, 1.40090e+03, 2.79980e+03, 4.19870e+03, 5.59760e+03,\n",
              "        6.99650e+03, 8.39540e+03, 9.79430e+03, 1.11932e+04, 1.25921e+04,\n",
              "        1.39910e+04]),\n",
              " <a list of 10 Patch objects>)"
            ]
          },
          "metadata": {
            "tags": []
          },
          "execution_count": 34
        },
        {
          "output_type": "display_data",
          "data": {
            "image/png": "[encoded data removed]",
            "text/plain": [
              "<Figure size 432x288 with 1 Axes>"
            ]
          },
          "metadata": {
            "tags": []
          }
        }
      ]
    },
    {
      "cell_type": "code",
      "metadata": {
        "id": "qBZ8EIs1NTIV",
        "colab_type": "code",
        "colab": {}
      },
      "source": [
        "cat_vars = np.array(n_categories_per_feature[n_categories_per_feature < 1400].index)"
      ],
      "execution_count": 0,
      "outputs": []
    },
    {
      "cell_type": "code",
      "metadata": {
        "id": "g8K5I6wXNxLS",
        "colab_type": "code",
        "outputId": "017a4d48-b761-4f6b-88f8-8f57e2f7fa13",
        "colab": {
          "base_uri": "https://localhost:8080/",
          "height": 86
        }
      },
      "source": [
        "cat_vars"
      ],
      "execution_count": 0,
      "outputs": [
        {
          "output_type": "execute_result",
          "data": {
            "text/plain": [
              "array(['Var192', 'Var193', 'Var195', 'Var196', 'Var197', 'Var203',\n",
              "       'Var204', 'Var205', 'Var206', 'Var207', 'Var208', 'Var210',\n",
              "       'Var211', 'Var212', 'Var218', 'Var219', 'Var221', 'Var223',\n",
              "       'Var226', 'Var227', 'Var228'], dtype=object)"
            ]
          },
          "metadata": {
            "tags": []
          },
          "execution_count": 36
        }
      ]
    },
    {
      "cell_type": "code",
      "metadata": {
        "id": "BWEEhEHGN4o0",
        "colab_type": "code",
        "outputId": "9fa3e9ed-263c-4b54-bd28-1f0e616ac188",
        "colab": {
          "base_uri": "https://localhost:8080/",
          "height": 35
        }
      },
      "source": [
        "len(cat_vars)"
      ],
      "execution_count": 0,
      "outputs": [
        {
          "output_type": "execute_result",
          "data": {
            "text/plain": [
              "21"
            ]
          },
          "metadata": {
            "tags": []
          },
          "execution_count": 37
        }
      ]
    },
    {
      "cell_type": "code",
      "metadata": {
        "id": "ZbEr0k55OlXH",
        "colab_type": "code",
        "outputId": "2e5a988d-1570-4cc0-bd85-11c2d5cef53a",
        "colab": {
          "base_uri": "https://localhost:8080/",
          "height": 380
        }
      },
      "source": [
        "list(cat_vars)"
      ],
      "execution_count": 0,
      "outputs": [
        {
          "output_type": "execute_result",
          "data": {
            "text/plain": [
              "['Var192',\n",
              " 'Var193',\n",
              " 'Var195',\n",
              " 'Var196',\n",
              " 'Var197',\n",
              " 'Var203',\n",
              " 'Var204',\n",
              " 'Var205',\n",
              " 'Var206',\n",
              " 'Var207',\n",
              " 'Var208',\n",
              " 'Var210',\n",
              " 'Var211',\n",
              " 'Var212',\n",
              " 'Var218',\n",
              " 'Var219',\n",
              " 'Var221',\n",
              " 'Var223',\n",
              " 'Var226',\n",
              " 'Var227',\n",
              " 'Var228']"
            ]
          },
          "metadata": {
            "tags": []
          },
          "execution_count": 38
        }
      ]
    },
    {
      "cell_type": "code",
      "metadata": {
        "id": "DlmuJ8CCOZ88",
        "colab_type": "code",
        "colab": {}
      },
      "source": [
        "features = features[list(num_vars) + list(cat_vars)]"
      ],
      "execution_count": 0,
      "outputs": []
    },
    {
      "cell_type": "code",
      "metadata": {
        "id": "prmlEd4BOwLj",
        "colab_type": "code",
        "outputId": "2163ef80-3a3b-47fc-86cb-cf8208bcb086",
        "colab": {
          "base_uri": "https://localhost:8080/",
          "height": 35
        }
      },
      "source": [
        "features.shape"
      ],
      "execution_count": 0,
      "outputs": [
        {
          "output_type": "execute_result",
          "data": {
            "text/plain": [
              "(50000, 59)"
            ]
          },
          "metadata": {
            "tags": []
          },
          "execution_count": 40
        }
      ]
    },
    {
      "cell_type": "code",
      "metadata": {
        "id": "T6BwF5_RO0u0",
        "colab_type": "code",
        "outputId": "bea1baaa-1733-410b-aeb1-875e6bf50cb7",
        "colab": {
          "base_uri": "https://localhost:8080/",
          "height": 218
        }
      },
      "source": [
        "features.head()"
      ],
      "execution_count": 0,
      "outputs": [
        {
          "output_type": "execute_result",
          "data": {
            "text/html": [
              "<div>\n",
              "<style scoped>\n",
              "    .dataframe tbody tr th:only-of-type {\n",
              "        vertical-align: middle;\n",
              "    }\n",
              "\n",
              "    .dataframe tbody tr th {\n",
              "        vertical-align: top;\n",
              "    }\n",
              "\n",
              "    .dataframe thead th {\n",
              "        text-align: right;\n",
              "    }\n",
              "</style>\n",
              "<table border=\"1\" class=\"dataframe\">\n",
              "  <thead>\n",
              "    <tr style=\"text-align: right;\">\n",
              "      <th></th>\n",
              "      <th>Var6</th>\n",
              "      <th>Var7</th>\n",
              "      <th>Var13</th>\n",
              "      <th>Var21</th>\n",
              "      <th>Var22</th>\n",
              "      <th>Var24</th>\n",
              "      <th>Var25</th>\n",
              "      <th>Var28</th>\n",
              "      <th>Var35</th>\n",
              "      <th>Var38</th>\n",
              "      <th>Var44</th>\n",
              "      <th>Var57</th>\n",
              "      <th>Var65</th>\n",
              "      <th>Var73</th>\n",
              "      <th>Var74</th>\n",
              "      <th>Var76</th>\n",
              "      <th>Var78</th>\n",
              "      <th>Var81</th>\n",
              "      <th>Var83</th>\n",
              "      <th>Var85</th>\n",
              "      <th>Var109</th>\n",
              "      <th>Var112</th>\n",
              "      <th>Var113</th>\n",
              "      <th>Var119</th>\n",
              "      <th>Var123</th>\n",
              "      <th>Var125</th>\n",
              "      <th>Var132</th>\n",
              "      <th>Var133</th>\n",
              "      <th>Var134</th>\n",
              "      <th>Var140</th>\n",
              "      <th>Var143</th>\n",
              "      <th>Var144</th>\n",
              "      <th>Var149</th>\n",
              "      <th>Var153</th>\n",
              "      <th>Var160</th>\n",
              "      <th>Var163</th>\n",
              "      <th>Var173</th>\n",
              "      <th>Var181</th>\n",
              "      <th>Var192</th>\n",
              "      <th>Var193</th>\n",
              "      <th>Var195</th>\n",
              "      <th>Var196</th>\n",
              "      <th>Var197</th>\n",
              "      <th>Var203</th>\n",
              "      <th>Var204</th>\n",
              "      <th>Var205</th>\n",
              "      <th>Var206</th>\n",
              "      <th>Var207</th>\n",
              "      <th>Var208</th>\n",
              "      <th>Var210</th>\n",
              "      <th>Var211</th>\n",
              "      <th>Var212</th>\n",
              "      <th>Var218</th>\n",
              "      <th>Var219</th>\n",
              "      <th>Var221</th>\n",
              "      <th>Var223</th>\n",
              "      <th>Var226</th>\n",
              "      <th>Var227</th>\n",
              "      <th>Var228</th>\n",
              "    </tr>\n",
              "  </thead>\n",
              "  <tbody>\n",
              "    <tr>\n",
              "      <th>0</th>\n",
              "      <td>1526.000000</td>\n",
              "      <td>7.0</td>\n",
              "      <td>184.0</td>\n",
              "      <td>464.000000</td>\n",
              "      <td>580.0</td>\n",
              "      <td>14.000000</td>\n",
              "      <td>128.0</td>\n",
              "      <td>166.56</td>\n",
              "      <td>0.0</td>\n",
              "      <td>3570.0</td>\n",
              "      <td>0.0</td>\n",
              "      <td>4.076907</td>\n",
              "      <td>9.0</td>\n",
              "      <td>36.0</td>\n",
              "      <td>35.0</td>\n",
              "      <td>1350864.0</td>\n",
              "      <td>0.0</td>\n",
              "      <td>7333.110000</td>\n",
              "      <td>5.0</td>\n",
              "      <td>12.0</td>\n",
              "      <td>104.00000</td>\n",
              "      <td>168.0</td>\n",
              "      <td>117625.60</td>\n",
              "      <td>1175.000000</td>\n",
              "      <td>6.0</td>\n",
              "      <td>720.0</td>\n",
              "      <td>0.0</td>\n",
              "      <td>1212385.0</td>\n",
              "      <td>69134.0</td>\n",
              "      <td>185.0</td>\n",
              "      <td>0.0</td>\n",
              "      <td>9.000000</td>\n",
              "      <td>397579.000000</td>\n",
              "      <td>1812252.0</td>\n",
              "      <td>142.0</td>\n",
              "      <td>38418.0</td>\n",
              "      <td>0.0</td>\n",
              "      <td>0.0</td>\n",
              "      <td>bZkvyxLkBI</td>\n",
              "      <td>RO12</td>\n",
              "      <td>taul</td>\n",
              "      <td>1K8T</td>\n",
              "      <td>lK27</td>\n",
              "      <td>9_Y1</td>\n",
              "      <td>FbIm</td>\n",
              "      <td>VpdQ</td>\n",
              "      <td>haYg</td>\n",
              "      <td>me75fM6ugJ</td>\n",
              "      <td>kIsH</td>\n",
              "      <td>uKAI</td>\n",
              "      <td>L84s</td>\n",
              "      <td>XfqtO3UdzaXh_</td>\n",
              "      <td>cJvF</td>\n",
              "      <td>FzaX</td>\n",
              "      <td>oslk</td>\n",
              "      <td>jySVZNlOJy</td>\n",
              "      <td>xb3V</td>\n",
              "      <td>RAYp</td>\n",
              "      <td>F2FyR07IdsN7I</td>\n",
              "    </tr>\n",
              "    <tr>\n",
              "      <th>1</th>\n",
              "      <td>525.000000</td>\n",
              "      <td>0.0</td>\n",
              "      <td>0.0</td>\n",
              "      <td>168.000000</td>\n",
              "      <td>210.0</td>\n",
              "      <td>2.000000</td>\n",
              "      <td>24.0</td>\n",
              "      <td>353.52</td>\n",
              "      <td>0.0</td>\n",
              "      <td>4764966.0</td>\n",
              "      <td>0.0</td>\n",
              "      <td>5.408032</td>\n",
              "      <td>9.0</td>\n",
              "      <td>26.0</td>\n",
              "      <td>0.0</td>\n",
              "      <td>2872928.0</td>\n",
              "      <td>3.0</td>\n",
              "      <td>151098.900000</td>\n",
              "      <td>25.0</td>\n",
              "      <td>2.0</td>\n",
              "      <td>40.00000</td>\n",
              "      <td>40.0</td>\n",
              "      <td>-356411.60</td>\n",
              "      <td>590.000000</td>\n",
              "      <td>72.0</td>\n",
              "      <td>0.0</td>\n",
              "      <td>8.0</td>\n",
              "      <td>4136430.0</td>\n",
              "      <td>357038.0</td>\n",
              "      <td>0.0</td>\n",
              "      <td>0.0</td>\n",
              "      <td>9.000000</td>\n",
              "      <td>278334.000000</td>\n",
              "      <td>10439160.0</td>\n",
              "      <td>32.0</td>\n",
              "      <td>238572.0</td>\n",
              "      <td>0.0</td>\n",
              "      <td>0.0</td>\n",
              "      <td>CEat0G8rTN</td>\n",
              "      <td>RO12</td>\n",
              "      <td>taul</td>\n",
              "      <td>1K8T</td>\n",
              "      <td>2Ix5</td>\n",
              "      <td>9_Y1</td>\n",
              "      <td>k13i</td>\n",
              "      <td>sJzTlal</td>\n",
              "      <td>zm5i</td>\n",
              "      <td>me75fM6ugJ</td>\n",
              "      <td>kIsH</td>\n",
              "      <td>uKAI</td>\n",
              "      <td>L84s</td>\n",
              "      <td>NhsEn4L</td>\n",
              "      <td>missing</td>\n",
              "      <td>FzaX</td>\n",
              "      <td>oslk</td>\n",
              "      <td>LM8l689qOp</td>\n",
              "      <td>fKCe</td>\n",
              "      <td>RAYp</td>\n",
              "      <td>F2FyR07IdsN7I</td>\n",
              "    </tr>\n",
              "    <tr>\n",
              "      <th>2</th>\n",
              "      <td>5236.000000</td>\n",
              "      <td>7.0</td>\n",
              "      <td>904.0</td>\n",
              "      <td>1212.000000</td>\n",
              "      <td>1515.0</td>\n",
              "      <td>26.000000</td>\n",
              "      <td>816.0</td>\n",
              "      <td>220.08</td>\n",
              "      <td>0.0</td>\n",
              "      <td>5883894.0</td>\n",
              "      <td>0.0</td>\n",
              "      <td>6.599658</td>\n",
              "      <td>9.0</td>\n",
              "      <td>130.0</td>\n",
              "      <td>518.0</td>\n",
              "      <td>1675776.0</td>\n",
              "      <td>0.0</td>\n",
              "      <td>16211.580000</td>\n",
              "      <td>40.0</td>\n",
              "      <td>58.0</td>\n",
              "      <td>312.00000</td>\n",
              "      <td>336.0</td>\n",
              "      <td>405104.00</td>\n",
              "      <td>3230.000000</td>\n",
              "      <td>114.0</td>\n",
              "      <td>5967.0</td>\n",
              "      <td>0.0</td>\n",
              "      <td>3478905.0</td>\n",
              "      <td>248932.0</td>\n",
              "      <td>800.0</td>\n",
              "      <td>0.0</td>\n",
              "      <td>36.000000</td>\n",
              "      <td>320565.000000</td>\n",
              "      <td>9826360.0</td>\n",
              "      <td>206.0</td>\n",
              "      <td>434946.0</td>\n",
              "      <td>0.0</td>\n",
              "      <td>0.0</td>\n",
              "      <td>eOQt0GoOh3</td>\n",
              "      <td>AERks4l</td>\n",
              "      <td>taul</td>\n",
              "      <td>1K8T</td>\n",
              "      <td>ffXs</td>\n",
              "      <td>9_Y1</td>\n",
              "      <td>MGOA</td>\n",
              "      <td>VpdQ</td>\n",
              "      <td>haYg</td>\n",
              "      <td>DHn_WUyBhW_whjA88g9bvA64_</td>\n",
              "      <td>kIsH</td>\n",
              "      <td>uKAI</td>\n",
              "      <td>L84s</td>\n",
              "      <td>UbxQ8lZ</td>\n",
              "      <td>UYBR</td>\n",
              "      <td>FzaX</td>\n",
              "      <td>Al6ZaUT</td>\n",
              "      <td>jySVZNlOJy</td>\n",
              "      <td>Qu4f</td>\n",
              "      <td>02N6s8f</td>\n",
              "      <td>ib5G6X1eUxUn6</td>\n",
              "    </tr>\n",
              "    <tr>\n",
              "      <th>3</th>\n",
              "      <td>1326.437116</td>\n",
              "      <td>0.0</td>\n",
              "      <td>0.0</td>\n",
              "      <td>234.518225</td>\n",
              "      <td>0.0</td>\n",
              "      <td>4.507926</td>\n",
              "      <td>0.0</td>\n",
              "      <td>22.08</td>\n",
              "      <td>0.0</td>\n",
              "      <td>0.0</td>\n",
              "      <td>0.0</td>\n",
              "      <td>1.988250</td>\n",
              "      <td>9.0</td>\n",
              "      <td>12.0</td>\n",
              "      <td>0.0</td>\n",
              "      <td>0.0</td>\n",
              "      <td>0.0</td>\n",
              "      <td>103084.052693</td>\n",
              "      <td>0.0</td>\n",
              "      <td>0.0</td>\n",
              "      <td>60.88866</td>\n",
              "      <td>0.0</td>\n",
              "      <td>-275703.60</td>\n",
              "      <td>916.112185</td>\n",
              "      <td>0.0</td>\n",
              "      <td>0.0</td>\n",
              "      <td>0.0</td>\n",
              "      <td>0.0</td>\n",
              "      <td>0.0</td>\n",
              "      <td>0.0</td>\n",
              "      <td>0.0</td>\n",
              "      <td>11.727665</td>\n",
              "      <td>294920.804255</td>\n",
              "      <td>0.0</td>\n",
              "      <td>0.0</td>\n",
              "      <td>0.0</td>\n",
              "      <td>0.0</td>\n",
              "      <td>0.0</td>\n",
              "      <td>jg69tYsGvO</td>\n",
              "      <td>RO12</td>\n",
              "      <td>taul</td>\n",
              "      <td>1K8T</td>\n",
              "      <td>ssAy</td>\n",
              "      <td>9_Y1</td>\n",
              "      <td>YULl</td>\n",
              "      <td>VpdQ</td>\n",
              "      <td>missing</td>\n",
              "      <td>me75fM6ugJ</td>\n",
              "      <td>kIsH</td>\n",
              "      <td>uKAI</td>\n",
              "      <td>Mtgm</td>\n",
              "      <td>NhsEn4L</td>\n",
              "      <td>UYBR</td>\n",
              "      <td>FzaX</td>\n",
              "      <td>oslk</td>\n",
              "      <td>LM8l689qOp</td>\n",
              "      <td>FSa2</td>\n",
              "      <td>RAYp</td>\n",
              "      <td>F2FyR07IdsN7I</td>\n",
              "    </tr>\n",
              "    <tr>\n",
              "      <th>4</th>\n",
              "      <td>1029.000000</td>\n",
              "      <td>7.0</td>\n",
              "      <td>3216.0</td>\n",
              "      <td>64.000000</td>\n",
              "      <td>80.0</td>\n",
              "      <td>4.000000</td>\n",
              "      <td>64.0</td>\n",
              "      <td>200.00</td>\n",
              "      <td>0.0</td>\n",
              "      <td>0.0</td>\n",
              "      <td>0.0</td>\n",
              "      <td>4.552446</td>\n",
              "      <td>18.0</td>\n",
              "      <td>82.0</td>\n",
              "      <td>224.0</td>\n",
              "      <td>784448.0</td>\n",
              "      <td>0.0</td>\n",
              "      <td>37423.500000</td>\n",
              "      <td>0.0</td>\n",
              "      <td>0.0</td>\n",
              "      <td>32.00000</td>\n",
              "      <td>56.0</td>\n",
              "      <td>10714.84</td>\n",
              "      <td>215.000000</td>\n",
              "      <td>0.0</td>\n",
              "      <td>15111.0</td>\n",
              "      <td>0.0</td>\n",
              "      <td>150650.0</td>\n",
              "      <td>66046.0</td>\n",
              "      <td>3255.0</td>\n",
              "      <td>0.0</td>\n",
              "      <td>9.000000</td>\n",
              "      <td>267162.000000</td>\n",
              "      <td>644836.0</td>\n",
              "      <td>2.0</td>\n",
              "      <td>0.0</td>\n",
              "      <td>0.0</td>\n",
              "      <td>0.0</td>\n",
              "      <td>IXSgUHShse</td>\n",
              "      <td>RO12</td>\n",
              "      <td>taul</td>\n",
              "      <td>1K8T</td>\n",
              "      <td>uNkU</td>\n",
              "      <td>9_Y1</td>\n",
              "      <td>RVjC</td>\n",
              "      <td>sJzTlal</td>\n",
              "      <td>6JmL</td>\n",
              "      <td>me75fM6ugJ</td>\n",
              "      <td>kIsH</td>\n",
              "      <td>uKAI</td>\n",
              "      <td>L84s</td>\n",
              "      <td>XfqtO3UdzaXh_</td>\n",
              "      <td>UYBR</td>\n",
              "      <td>FzaX</td>\n",
              "      <td>oslk</td>\n",
              "      <td>LM8l689qOp</td>\n",
              "      <td>FSa2</td>\n",
              "      <td>RAYp</td>\n",
              "      <td>F2FyR07IdsN7I</td>\n",
              "    </tr>\n",
              "  </tbody>\n",
              "</table>\n",
              "</div>"
            ],
            "text/plain": [
              "          Var6  Var7   Var13  ...  Var226   Var227         Var228\n",
              "0  1526.000000   7.0   184.0  ...    xb3V     RAYp  F2FyR07IdsN7I\n",
              "1   525.000000   0.0     0.0  ...    fKCe     RAYp  F2FyR07IdsN7I\n",
              "2  5236.000000   7.0   904.0  ...    Qu4f  02N6s8f  ib5G6X1eUxUn6\n",
              "3  1326.437116   0.0     0.0  ...    FSa2     RAYp  F2FyR07IdsN7I\n",
              "4  1029.000000   7.0  3216.0  ...    FSa2     RAYp  F2FyR07IdsN7I\n",
              "\n",
              "[5 rows x 59 columns]"
            ]
          },
          "metadata": {
            "tags": []
          },
          "execution_count": 41
        }
      ]
    },
    {
      "cell_type": "markdown",
      "metadata": {
        "id": "iOEJO03maG0m",
        "colab_type": "text"
      },
      "source": [
        "#### Seleção de variáveis baseada em árvore de decisão"
      ]
    },
    {
      "cell_type": "markdown",
      "metadata": {
        "id": "Uz16K8ExUzIx",
        "colab_type": "text"
      },
      "source": [
        "Seleção de atributos: https://scikit-learn.org/stable/modules/feature_selection.html"
      ]
    },
    {
      "cell_type": "markdown",
      "metadata": {
        "id": "wTWKI-vpVrIe",
        "colab_type": "text"
      },
      "source": [
        "1 - Palio\n",
        "2 - Gol\n",
        "3 - Uno\n",
        "\n",
        "Palio - 1 0 0\n",
        "Gol - 0 1 0\n",
        "Uno - 0 1 1"
      ]
    },
    {
      "cell_type": "code",
      "metadata": {
        "id": "yZcyYB2PVVgE",
        "colab_type": "code",
        "colab": {}
      },
      "source": [
        "features_c = pd.get_dummies(features)"
      ],
      "execution_count": 0,
      "outputs": []
    },
    {
      "cell_type": "code",
      "metadata": {
        "id": "M5FmhvgMWqee",
        "colab_type": "code",
        "outputId": "fb6dba7a-9d82-4d54-b6df-90bb26ebb2ea",
        "colab": {
          "base_uri": "https://localhost:8080/",
          "height": 35
        }
      },
      "source": [
        "features_c.shape"
      ],
      "execution_count": 0,
      "outputs": [
        {
          "output_type": "execute_result",
          "data": {
            "text/plain": [
              "(50000, 1052)"
            ]
          },
          "metadata": {
            "tags": []
          },
          "execution_count": 43
        }
      ]
    },
    {
      "cell_type": "code",
      "metadata": {
        "id": "1Hx4BrXLWvRr",
        "colab_type": "code",
        "outputId": "add80441-4e19-4581-a786-4afdb704a461",
        "colab": {
          "base_uri": "https://localhost:8080/",
          "height": 247
        }
      },
      "source": [
        "features_c.head()"
      ],
      "execution_count": 0,
      "outputs": [
        {
          "output_type": "execute_result",
          "data": {
            "text/html": [
              "<div>\n",
              "<style scoped>\n",
              "    .dataframe tbody tr th:only-of-type {\n",
              "        vertical-align: middle;\n",
              "    }\n",
              "\n",
              "    .dataframe tbody tr th {\n",
              "        vertical-align: top;\n",
              "    }\n",
              "\n",
              "    .dataframe thead th {\n",
              "        text-align: right;\n",
              "    }\n",
              "</style>\n",
              "<table border=\"1\" class=\"dataframe\">\n",
              "  <thead>\n",
              "    <tr style=\"text-align: right;\">\n",
              "      <th></th>\n",
              "      <th>Var6</th>\n",
              "      <th>Var7</th>\n",
              "      <th>Var13</th>\n",
              "      <th>Var21</th>\n",
              "      <th>Var22</th>\n",
              "      <th>Var24</th>\n",
              "      <th>Var25</th>\n",
              "      <th>Var28</th>\n",
              "      <th>Var35</th>\n",
              "      <th>Var38</th>\n",
              "      <th>Var44</th>\n",
              "      <th>Var57</th>\n",
              "      <th>Var65</th>\n",
              "      <th>Var73</th>\n",
              "      <th>Var74</th>\n",
              "      <th>Var76</th>\n",
              "      <th>Var78</th>\n",
              "      <th>Var81</th>\n",
              "      <th>Var83</th>\n",
              "      <th>Var85</th>\n",
              "      <th>Var109</th>\n",
              "      <th>Var112</th>\n",
              "      <th>Var113</th>\n",
              "      <th>Var119</th>\n",
              "      <th>Var123</th>\n",
              "      <th>Var125</th>\n",
              "      <th>Var132</th>\n",
              "      <th>Var133</th>\n",
              "      <th>Var134</th>\n",
              "      <th>Var140</th>\n",
              "      <th>Var143</th>\n",
              "      <th>Var144</th>\n",
              "      <th>Var149</th>\n",
              "      <th>Var153</th>\n",
              "      <th>Var160</th>\n",
              "      <th>Var163</th>\n",
              "      <th>Var173</th>\n",
              "      <th>Var181</th>\n",
              "      <th>Var192_0G9vyxdMWg</th>\n",
              "      <th>Var192_0kQTmBU3gb</th>\n",
              "      <th>...</th>\n",
              "      <th>Var226_missing</th>\n",
              "      <th>Var227_02N6s8f</th>\n",
              "      <th>Var227_6fzt</th>\n",
              "      <th>Var227_RAYp</th>\n",
              "      <th>Var227_ZI9m</th>\n",
              "      <th>Var227_nIGXDli</th>\n",
              "      <th>Var227_nIGjgSB</th>\n",
              "      <th>Var227_vJ_w8kB</th>\n",
              "      <th>Var227_missing</th>\n",
              "      <th>Var228_0pzBWGkV3fbsGZN52DH</th>\n",
              "      <th>Var228_4rd_</th>\n",
              "      <th>Var228_55YFVY9</th>\n",
              "      <th>Var228_5oZS</th>\n",
              "      <th>Var228_6nxx00q6gnIF8ePJ3P3AEfZ1N</th>\n",
              "      <th>Var228_9VmiOykV3fbsAg65e4w</th>\n",
              "      <th>Var228_DU8B</th>\n",
              "      <th>Var228_F2FcTt7IdMT_v</th>\n",
              "      <th>Var228_F2FyR07IdsN7I</th>\n",
              "      <th>Var228_JnGLH58smNxIYcGK39k</th>\n",
              "      <th>Var228_NoEd</th>\n",
              "      <th>Var228_R4y5gQQWY8OodqDV</th>\n",
              "      <th>Var228_RjBDiL8f9CQYc21fICscNNpj6</th>\n",
              "      <th>Var228_SbOd7O8ky1wGNxp0Arj0Xs</th>\n",
              "      <th>Var228_TCU50_Yjmm6GIBZ0lL_</th>\n",
              "      <th>Var228_VjDE</th>\n",
              "      <th>Var228_WfJ2BB2SFSqauljlfOB</th>\n",
              "      <th>Var228_WfJYmPMksSqa1pajvfG</th>\n",
              "      <th>Var228_ZeaF</th>\n",
              "      <th>Var228_Zy3gnGM</th>\n",
              "      <th>Var228__URKn_77G3QyQHSVQ2N1RKmtW</th>\n",
              "      <th>Var228__cTCyH95OE93jSkoIBT</th>\n",
              "      <th>Var228_am14IcfM7tWLrUmRT52KtA</th>\n",
              "      <th>Var228_b9qbUNk0dML_Mvi2</th>\n",
              "      <th>Var228_d0LtHjWeaXyArdN4sxU_saXqH</th>\n",
              "      <th>Var228_ib5G6X1eUxUn6</th>\n",
              "      <th>Var228_iyHGyLCEkQ</th>\n",
              "      <th>Var228_n1OBWGkV3fbsHR75taC</th>\n",
              "      <th>Var228_r_7E</th>\n",
              "      <th>Var228_xwM2aC7IdeMC0</th>\n",
              "      <th>Var228_missing</th>\n",
              "    </tr>\n",
              "  </thead>\n",
              "  <tbody>\n",
              "    <tr>\n",
              "      <th>0</th>\n",
              "      <td>1526.000000</td>\n",
              "      <td>7.0</td>\n",
              "      <td>184.0</td>\n",
              "      <td>464.000000</td>\n",
              "      <td>580.0</td>\n",
              "      <td>14.000000</td>\n",
              "      <td>128.0</td>\n",
              "      <td>166.56</td>\n",
              "      <td>0.0</td>\n",
              "      <td>3570.0</td>\n",
              "      <td>0.0</td>\n",
              "      <td>4.076907</td>\n",
              "      <td>9.0</td>\n",
              "      <td>36.0</td>\n",
              "      <td>35.0</td>\n",
              "      <td>1350864.0</td>\n",
              "      <td>0.0</td>\n",
              "      <td>7333.110000</td>\n",
              "      <td>5.0</td>\n",
              "      <td>12.0</td>\n",
              "      <td>104.00000</td>\n",
              "      <td>168.0</td>\n",
              "      <td>117625.60</td>\n",
              "      <td>1175.000000</td>\n",
              "      <td>6.0</td>\n",
              "      <td>720.0</td>\n",
              "      <td>0.0</td>\n",
              "      <td>1212385.0</td>\n",
              "      <td>69134.0</td>\n",
              "      <td>185.0</td>\n",
              "      <td>0.0</td>\n",
              "      <td>9.000000</td>\n",
              "      <td>397579.000000</td>\n",
              "      <td>1812252.0</td>\n",
              "      <td>142.0</td>\n",
              "      <td>38418.0</td>\n",
              "      <td>0.0</td>\n",
              "      <td>0.0</td>\n",
              "      <td>0</td>\n",
              "      <td>0</td>\n",
              "      <td>...</td>\n",
              "      <td>0</td>\n",
              "      <td>0</td>\n",
              "      <td>0</td>\n",
              "      <td>1</td>\n",
              "      <td>0</td>\n",
              "      <td>0</td>\n",
              "      <td>0</td>\n",
              "      <td>0</td>\n",
              "      <td>0</td>\n",
              "      <td>0</td>\n",
              "      <td>0</td>\n",
              "      <td>0</td>\n",
              "      <td>0</td>\n",
              "      <td>0</td>\n",
              "      <td>0</td>\n",
              "      <td>0</td>\n",
              "      <td>0</td>\n",
              "      <td>1</td>\n",
              "      <td>0</td>\n",
              "      <td>0</td>\n",
              "      <td>0</td>\n",
              "      <td>0</td>\n",
              "      <td>0</td>\n",
              "      <td>0</td>\n",
              "      <td>0</td>\n",
              "      <td>0</td>\n",
              "      <td>0</td>\n",
              "      <td>0</td>\n",
              "      <td>0</td>\n",
              "      <td>0</td>\n",
              "      <td>0</td>\n",
              "      <td>0</td>\n",
              "      <td>0</td>\n",
              "      <td>0</td>\n",
              "      <td>0</td>\n",
              "      <td>0</td>\n",
              "      <td>0</td>\n",
              "      <td>0</td>\n",
              "      <td>0</td>\n",
              "      <td>0</td>\n",
              "    </tr>\n",
              "    <tr>\n",
              "      <th>1</th>\n",
              "      <td>525.000000</td>\n",
              "      <td>0.0</td>\n",
              "      <td>0.0</td>\n",
              "      <td>168.000000</td>\n",
              "      <td>210.0</td>\n",
              "      <td>2.000000</td>\n",
              "      <td>24.0</td>\n",
              "      <td>353.52</td>\n",
              "      <td>0.0</td>\n",
              "      <td>4764966.0</td>\n",
              "      <td>0.0</td>\n",
              "      <td>5.408032</td>\n",
              "      <td>9.0</td>\n",
              "      <td>26.0</td>\n",
              "      <td>0.0</td>\n",
              "      <td>2872928.0</td>\n",
              "      <td>3.0</td>\n",
              "      <td>151098.900000</td>\n",
              "      <td>25.0</td>\n",
              "      <td>2.0</td>\n",
              "      <td>40.00000</td>\n",
              "      <td>40.0</td>\n",
              "      <td>-356411.60</td>\n",
              "      <td>590.000000</td>\n",
              "      <td>72.0</td>\n",
              "      <td>0.0</td>\n",
              "      <td>8.0</td>\n",
              "      <td>4136430.0</td>\n",
              "      <td>357038.0</td>\n",
              "      <td>0.0</td>\n",
              "      <td>0.0</td>\n",
              "      <td>9.000000</td>\n",
              "      <td>278334.000000</td>\n",
              "      <td>10439160.0</td>\n",
              "      <td>32.0</td>\n",
              "      <td>238572.0</td>\n",
              "      <td>0.0</td>\n",
              "      <td>0.0</td>\n",
              "      <td>0</td>\n",
              "      <td>0</td>\n",
              "      <td>...</td>\n",
              "      <td>0</td>\n",
              "      <td>0</td>\n",
              "      <td>0</td>\n",
              "      <td>1</td>\n",
              "      <td>0</td>\n",
              "      <td>0</td>\n",
              "      <td>0</td>\n",
              "      <td>0</td>\n",
              "      <td>0</td>\n",
              "      <td>0</td>\n",
              "      <td>0</td>\n",
              "      <td>0</td>\n",
              "      <td>0</td>\n",
              "      <td>0</td>\n",
              "      <td>0</td>\n",
              "      <td>0</td>\n",
              "      <td>0</td>\n",
              "      <td>1</td>\n",
              "      <td>0</td>\n",
              "      <td>0</td>\n",
              "      <td>0</td>\n",
              "      <td>0</td>\n",
              "      <td>0</td>\n",
              "      <td>0</td>\n",
              "      <td>0</td>\n",
              "      <td>0</td>\n",
              "      <td>0</td>\n",
              "      <td>0</td>\n",
              "      <td>0</td>\n",
              "      <td>0</td>\n",
              "      <td>0</td>\n",
              "      <td>0</td>\n",
              "      <td>0</td>\n",
              "      <td>0</td>\n",
              "      <td>0</td>\n",
              "      <td>0</td>\n",
              "      <td>0</td>\n",
              "      <td>0</td>\n",
              "      <td>0</td>\n",
              "      <td>0</td>\n",
              "    </tr>\n",
              "    <tr>\n",
              "      <th>2</th>\n",
              "      <td>5236.000000</td>\n",
              "      <td>7.0</td>\n",
              "      <td>904.0</td>\n",
              "      <td>1212.000000</td>\n",
              "      <td>1515.0</td>\n",
              "      <td>26.000000</td>\n",
              "      <td>816.0</td>\n",
              "      <td>220.08</td>\n",
              "      <td>0.0</td>\n",
              "      <td>5883894.0</td>\n",
              "      <td>0.0</td>\n",
              "      <td>6.599658</td>\n",
              "      <td>9.0</td>\n",
              "      <td>130.0</td>\n",
              "      <td>518.0</td>\n",
              "      <td>1675776.0</td>\n",
              "      <td>0.0</td>\n",
              "      <td>16211.580000</td>\n",
              "      <td>40.0</td>\n",
              "      <td>58.0</td>\n",
              "      <td>312.00000</td>\n",
              "      <td>336.0</td>\n",
              "      <td>405104.00</td>\n",
              "      <td>3230.000000</td>\n",
              "      <td>114.0</td>\n",
              "      <td>5967.0</td>\n",
              "      <td>0.0</td>\n",
              "      <td>3478905.0</td>\n",
              "      <td>248932.0</td>\n",
              "      <td>800.0</td>\n",
              "      <td>0.0</td>\n",
              "      <td>36.000000</td>\n",
              "      <td>320565.000000</td>\n",
              "      <td>9826360.0</td>\n",
              "      <td>206.0</td>\n",
              "      <td>434946.0</td>\n",
              "      <td>0.0</td>\n",
              "      <td>0.0</td>\n",
              "      <td>0</td>\n",
              "      <td>0</td>\n",
              "      <td>...</td>\n",
              "      <td>0</td>\n",
              "      <td>1</td>\n",
              "      <td>0</td>\n",
              "      <td>0</td>\n",
              "      <td>0</td>\n",
              "      <td>0</td>\n",
              "      <td>0</td>\n",
              "      <td>0</td>\n",
              "      <td>0</td>\n",
              "      <td>0</td>\n",
              "      <td>0</td>\n",
              "      <td>0</td>\n",
              "      <td>0</td>\n",
              "      <td>0</td>\n",
              "      <td>0</td>\n",
              "      <td>0</td>\n",
              "      <td>0</td>\n",
              "      <td>0</td>\n",
              "      <td>0</td>\n",
              "      <td>0</td>\n",
              "      <td>0</td>\n",
              "      <td>0</td>\n",
              "      <td>0</td>\n",
              "      <td>0</td>\n",
              "      <td>0</td>\n",
              "      <td>0</td>\n",
              "      <td>0</td>\n",
              "      <td>0</td>\n",
              "      <td>0</td>\n",
              "      <td>0</td>\n",
              "      <td>0</td>\n",
              "      <td>0</td>\n",
              "      <td>0</td>\n",
              "      <td>0</td>\n",
              "      <td>1</td>\n",
              "      <td>0</td>\n",
              "      <td>0</td>\n",
              "      <td>0</td>\n",
              "      <td>0</td>\n",
              "      <td>0</td>\n",
              "    </tr>\n",
              "    <tr>\n",
              "      <th>3</th>\n",
              "      <td>1326.437116</td>\n",
              "      <td>0.0</td>\n",
              "      <td>0.0</td>\n",
              "      <td>234.518225</td>\n",
              "      <td>0.0</td>\n",
              "      <td>4.507926</td>\n",
              "      <td>0.0</td>\n",
              "      <td>22.08</td>\n",
              "      <td>0.0</td>\n",
              "      <td>0.0</td>\n",
              "      <td>0.0</td>\n",
              "      <td>1.988250</td>\n",
              "      <td>9.0</td>\n",
              "      <td>12.0</td>\n",
              "      <td>0.0</td>\n",
              "      <td>0.0</td>\n",
              "      <td>0.0</td>\n",
              "      <td>103084.052693</td>\n",
              "      <td>0.0</td>\n",
              "      <td>0.0</td>\n",
              "      <td>60.88866</td>\n",
              "      <td>0.0</td>\n",
              "      <td>-275703.60</td>\n",
              "      <td>916.112185</td>\n",
              "      <td>0.0</td>\n",
              "      <td>0.0</td>\n",
              "      <td>0.0</td>\n",
              "      <td>0.0</td>\n",
              "      <td>0.0</td>\n",
              "      <td>0.0</td>\n",
              "      <td>0.0</td>\n",
              "      <td>11.727665</td>\n",
              "      <td>294920.804255</td>\n",
              "      <td>0.0</td>\n",
              "      <td>0.0</td>\n",
              "      <td>0.0</td>\n",
              "      <td>0.0</td>\n",
              "      <td>0.0</td>\n",
              "      <td>0</td>\n",
              "      <td>0</td>\n",
              "      <td>...</td>\n",
              "      <td>0</td>\n",
              "      <td>0</td>\n",
              "      <td>0</td>\n",
              "      <td>1</td>\n",
              "      <td>0</td>\n",
              "      <td>0</td>\n",
              "      <td>0</td>\n",
              "      <td>0</td>\n",
              "      <td>0</td>\n",
              "      <td>0</td>\n",
              "      <td>0</td>\n",
              "      <td>0</td>\n",
              "      <td>0</td>\n",
              "      <td>0</td>\n",
              "      <td>0</td>\n",
              "      <td>0</td>\n",
              "      <td>0</td>\n",
              "      <td>1</td>\n",
              "      <td>0</td>\n",
              "      <td>0</td>\n",
              "      <td>0</td>\n",
              "      <td>0</td>\n",
              "      <td>0</td>\n",
              "      <td>0</td>\n",
              "      <td>0</td>\n",
              "      <td>0</td>\n",
              "      <td>0</td>\n",
              "      <td>0</td>\n",
              "      <td>0</td>\n",
              "      <td>0</td>\n",
              "      <td>0</td>\n",
              "      <td>0</td>\n",
              "      <td>0</td>\n",
              "      <td>0</td>\n",
              "      <td>0</td>\n",
              "      <td>0</td>\n",
              "      <td>0</td>\n",
              "      <td>0</td>\n",
              "      <td>0</td>\n",
              "      <td>0</td>\n",
              "    </tr>\n",
              "    <tr>\n",
              "      <th>4</th>\n",
              "      <td>1029.000000</td>\n",
              "      <td>7.0</td>\n",
              "      <td>3216.0</td>\n",
              "      <td>64.000000</td>\n",
              "      <td>80.0</td>\n",
              "      <td>4.000000</td>\n",
              "      <td>64.0</td>\n",
              "      <td>200.00</td>\n",
              "      <td>0.0</td>\n",
              "      <td>0.0</td>\n",
              "      <td>0.0</td>\n",
              "      <td>4.552446</td>\n",
              "      <td>18.0</td>\n",
              "      <td>82.0</td>\n",
              "      <td>224.0</td>\n",
              "      <td>784448.0</td>\n",
              "      <td>0.0</td>\n",
              "      <td>37423.500000</td>\n",
              "      <td>0.0</td>\n",
              "      <td>0.0</td>\n",
              "      <td>32.00000</td>\n",
              "      <td>56.0</td>\n",
              "      <td>10714.84</td>\n",
              "      <td>215.000000</td>\n",
              "      <td>0.0</td>\n",
              "      <td>15111.0</td>\n",
              "      <td>0.0</td>\n",
              "      <td>150650.0</td>\n",
              "      <td>66046.0</td>\n",
              "      <td>3255.0</td>\n",
              "      <td>0.0</td>\n",
              "      <td>9.000000</td>\n",
              "      <td>267162.000000</td>\n",
              "      <td>644836.0</td>\n",
              "      <td>2.0</td>\n",
              "      <td>0.0</td>\n",
              "      <td>0.0</td>\n",
              "      <td>0.0</td>\n",
              "      <td>0</td>\n",
              "      <td>0</td>\n",
              "      <td>...</td>\n",
              "      <td>0</td>\n",
              "      <td>0</td>\n",
              "      <td>0</td>\n",
              "      <td>1</td>\n",
              "      <td>0</td>\n",
              "      <td>0</td>\n",
              "      <td>0</td>\n",
              "      <td>0</td>\n",
              "      <td>0</td>\n",
              "      <td>0</td>\n",
              "      <td>0</td>\n",
              "      <td>0</td>\n",
              "      <td>0</td>\n",
              "      <td>0</td>\n",
              "      <td>0</td>\n",
              "      <td>0</td>\n",
              "      <td>0</td>\n",
              "      <td>1</td>\n",
              "      <td>0</td>\n",
              "      <td>0</td>\n",
              "      <td>0</td>\n",
              "      <td>0</td>\n",
              "      <td>0</td>\n",
              "      <td>0</td>\n",
              "      <td>0</td>\n",
              "      <td>0</td>\n",
              "      <td>0</td>\n",
              "      <td>0</td>\n",
              "      <td>0</td>\n",
              "      <td>0</td>\n",
              "      <td>0</td>\n",
              "      <td>0</td>\n",
              "      <td>0</td>\n",
              "      <td>0</td>\n",
              "      <td>0</td>\n",
              "      <td>0</td>\n",
              "      <td>0</td>\n",
              "      <td>0</td>\n",
              "      <td>0</td>\n",
              "      <td>0</td>\n",
              "    </tr>\n",
              "  </tbody>\n",
              "</table>\n",
              "<p>5 rows × 1052 columns</p>\n",
              "</div>"
            ],
            "text/plain": [
              "          Var6  Var7   Var13  ...  Var228_r_7E  Var228_xwM2aC7IdeMC0  Var228_missing\n",
              "0  1526.000000   7.0   184.0  ...            0                     0               0\n",
              "1   525.000000   0.0     0.0  ...            0                     0               0\n",
              "2  5236.000000   7.0   904.0  ...            0                     0               0\n",
              "3  1326.437116   0.0     0.0  ...            0                     0               0\n",
              "4  1029.000000   7.0  3216.0  ...            0                     0               0\n",
              "\n",
              "[5 rows x 1052 columns]"
            ]
          },
          "metadata": {
            "tags": []
          },
          "execution_count": 44
        }
      ]
    },
    {
      "cell_type": "markdown",
      "metadata": {
        "id": "TDT-Ok-_b-O0",
        "colab_type": "text"
      },
      "source": [
        "Random Forest x Extra Tree: https://www.thekerneltrip.com/statistics/random-forest-vs-extra-tree/"
      ]
    },
    {
      "cell_type": "code",
      "metadata": {
        "id": "pGMv5okxcTty",
        "colab_type": "code",
        "outputId": "45a0e4a2-6777-426c-b459-cfed32882ddb",
        "colab": {
          "base_uri": "https://localhost:8080/",
          "height": 35
        }
      },
      "source": [
        "np.array(outcome).ravel()"
      ],
      "execution_count": 0,
      "outputs": [
        {
          "output_type": "execute_result",
          "data": {
            "text/plain": [
              "array([-1,  1, -1, ..., -1, -1, -1])"
            ]
          },
          "metadata": {
            "tags": []
          },
          "execution_count": 45
        }
      ]
    },
    {
      "cell_type": "code",
      "metadata": {
        "id": "9xtGKxPzZUEW",
        "colab_type": "code",
        "colab": {}
      },
      "source": [
        "def etc_importances(features, outcome):\n",
        "  model = ExtraTreesClassifier(n_estimators = 200, criterion = 'entropy', verbose = 0)\n",
        "  model.fit(features, np.array(outcome).ravel())\n",
        "  \n",
        "  importances = model.feature_importances_\n",
        "  variables = np.array(features.columns)\n",
        "  indices = np.argsort(importances)[::-1]\n",
        "  importances = importances[indices]\n",
        "  variables = variables[indices]\n",
        "  \n",
        "  return variables, importances"
      ],
      "execution_count": 0,
      "outputs": []
    },
    {
      "cell_type": "code",
      "metadata": {
        "id": "uake7_KGdyXV",
        "colab_type": "code",
        "colab": {}
      },
      "source": [
        "variables, importances = etc_importances(features_c, outcome)"
      ],
      "execution_count": 0,
      "outputs": []
    },
    {
      "cell_type": "code",
      "metadata": {
        "id": "TAFQHSHdepCT",
        "colab_type": "code",
        "outputId": "776895c9-5903-4a3c-ba5f-e30283a04e5a",
        "colab": {
          "base_uri": "https://localhost:8080/",
          "height": 52
        }
      },
      "source": [
        "importances"
      ],
      "execution_count": 0,
      "outputs": [
        {
          "output_type": "execute_result",
          "data": {
            "text/plain": [
              "array([0.01819073, 0.01760868, 0.01726286, ..., 0.        , 0.        ,\n",
              "       0.        ])"
            ]
          },
          "metadata": {
            "tags": []
          },
          "execution_count": 48
        }
      ]
    },
    {
      "cell_type": "code",
      "metadata": {
        "id": "1MlVL5queuks",
        "colab_type": "code",
        "outputId": "726ca8eb-0104-4138-c160-6549779ee24c",
        "colab": {
          "base_uri": "https://localhost:8080/",
          "height": 52
        }
      },
      "source": [
        "variables"
      ],
      "execution_count": 0,
      "outputs": [
        {
          "output_type": "execute_result",
          "data": {
            "text/plain": [
              "array(['Var57', 'Var73', 'Var113', ..., 'Var212_missing',\n",
              "       'Var219_6krWwfF', 'Var228_missing'], dtype=object)"
            ]
          },
          "metadata": {
            "tags": []
          },
          "execution_count": 49
        }
      ]
    },
    {
      "cell_type": "code",
      "metadata": {
        "id": "S2JMbjCNez30",
        "colab_type": "code",
        "outputId": "d8757676-dc94-44a1-ce94-de1e396cbc04",
        "colab": {
          "base_uri": "https://localhost:8080/",
          "height": 35
        }
      },
      "source": [
        "variables[0]"
      ],
      "execution_count": 0,
      "outputs": [
        {
          "output_type": "execute_result",
          "data": {
            "text/plain": [
              "'Var57'"
            ]
          },
          "metadata": {
            "tags": []
          },
          "execution_count": 50
        }
      ]
    },
    {
      "cell_type": "code",
      "metadata": {
        "id": "Hta09gPue3dd",
        "colab_type": "code",
        "outputId": "f1bf6b78-74ad-4841-b2d9-4a3eaed23a27",
        "colab": {
          "base_uri": "https://localhost:8080/",
          "height": 35
        }
      },
      "source": [
        "importances[0]"
      ],
      "execution_count": 0,
      "outputs": [
        {
          "output_type": "execute_result",
          "data": {
            "text/plain": [
              "0.018190734346165905"
            ]
          },
          "metadata": {
            "tags": []
          },
          "execution_count": 51
        }
      ]
    },
    {
      "cell_type": "code",
      "metadata": {
        "id": "gFxU510Me7mE",
        "colab_type": "code",
        "outputId": "986e6790-3c45-433d-f48b-e98c15e44a5e",
        "colab": {
          "base_uri": "https://localhost:8080/",
          "height": 35
        }
      },
      "source": [
        "variables[1051]"
      ],
      "execution_count": 0,
      "outputs": [
        {
          "output_type": "execute_result",
          "data": {
            "text/plain": [
              "'Var228_missing'"
            ]
          },
          "metadata": {
            "tags": []
          },
          "execution_count": 52
        }
      ]
    },
    {
      "cell_type": "code",
      "metadata": {
        "id": "BoBt6ivwfCw1",
        "colab_type": "code",
        "outputId": "fb0ef03b-fc82-450e-d9f2-7633b244bcda",
        "colab": {
          "base_uri": "https://localhost:8080/",
          "height": 35
        }
      },
      "source": [
        "importances[1051]"
      ],
      "execution_count": 0,
      "outputs": [
        {
          "output_type": "execute_result",
          "data": {
            "text/plain": [
              "0.0"
            ]
          },
          "metadata": {
            "tags": []
          },
          "execution_count": 53
        }
      ]
    },
    {
      "cell_type": "code",
      "metadata": {
        "id": "IVnZqLF0tLVf",
        "colab_type": "code",
        "colab": {}
      },
      "source": [
        "def sum_and_plot_importances(variables, importances):\n",
        "  sum_importances = pd.DataFrame()\n",
        "  for i in range(importances.size):\n",
        "    sum_importance = importances[:(i+1)].sum()\n",
        "    this_variable = pd.Series([variables[i], sum_importance])\n",
        "    sum_importances = sum_importances.append(this_variable, ignore_index = True)\n",
        "  plt.scatter(sum_importances.index, sum_importances.iloc[:,1])\n",
        "  return sum_importances"
      ],
      "execution_count": 0,
      "outputs": []
    },
    {
      "cell_type": "code",
      "metadata": {
        "id": "ntMmw-gRuM4D",
        "colab_type": "code",
        "outputId": "11210adb-32cf-48d6-93a5-5ecbb449d889",
        "colab": {
          "base_uri": "https://localhost:8080/",
          "height": 265
        }
      },
      "source": [
        "sum_importances = sum_and_plot_importances(variables, importances)"
      ],
      "execution_count": 0,
      "outputs": [
        {
          "output_type": "display_data",
          "data": {
            "image/png": "[encoded data removed]",
            "text/plain": [
              "<Figure size 432x288 with 1 Axes>"
            ]
          },
          "metadata": {
            "tags": []
          }
        }
      ]
    },
    {
      "cell_type": "code",
      "metadata": {
        "id": "4Zgd9bpPwZpV",
        "colab_type": "code",
        "outputId": "c931515d-ed84-4656-ed4a-33192808323d",
        "colab": {
          "base_uri": "https://localhost:8080/",
          "height": 407
        }
      },
      "source": [
        "sum_importances"
      ],
      "execution_count": 0,
      "outputs": [
        {
          "output_type": "execute_result",
          "data": {
            "text/html": [
              "<div>\n",
              "<style scoped>\n",
              "    .dataframe tbody tr th:only-of-type {\n",
              "        vertical-align: middle;\n",
              "    }\n",
              "\n",
              "    .dataframe tbody tr th {\n",
              "        vertical-align: top;\n",
              "    }\n",
              "\n",
              "    .dataframe thead th {\n",
              "        text-align: right;\n",
              "    }\n",
              "</style>\n",
              "<table border=\"1\" class=\"dataframe\">\n",
              "  <thead>\n",
              "    <tr style=\"text-align: right;\">\n",
              "      <th></th>\n",
              "      <th>0</th>\n",
              "      <th>1</th>\n",
              "    </tr>\n",
              "  </thead>\n",
              "  <tbody>\n",
              "    <tr>\n",
              "      <th>0</th>\n",
              "      <td>Var57</td>\n",
              "      <td>0.018191</td>\n",
              "    </tr>\n",
              "    <tr>\n",
              "      <th>1</th>\n",
              "      <td>Var73</td>\n",
              "      <td>0.035799</td>\n",
              "    </tr>\n",
              "    <tr>\n",
              "      <th>2</th>\n",
              "      <td>Var113</td>\n",
              "      <td>0.053062</td>\n",
              "    </tr>\n",
              "    <tr>\n",
              "      <th>3</th>\n",
              "      <td>Var153</td>\n",
              "      <td>0.066772</td>\n",
              "    </tr>\n",
              "    <tr>\n",
              "      <th>4</th>\n",
              "      <td>Var81</td>\n",
              "      <td>0.080410</td>\n",
              "    </tr>\n",
              "    <tr>\n",
              "      <th>...</th>\n",
              "      <td>...</td>\n",
              "      <td>...</td>\n",
              "    </tr>\n",
              "    <tr>\n",
              "      <th>1047</th>\n",
              "      <td>Var197_bkoB</td>\n",
              "      <td>1.000000</td>\n",
              "    </tr>\n",
              "    <tr>\n",
              "      <th>1048</th>\n",
              "      <td>Var197_AuRO</td>\n",
              "      <td>1.000000</td>\n",
              "    </tr>\n",
              "    <tr>\n",
              "      <th>1049</th>\n",
              "      <td>Var212_missing</td>\n",
              "      <td>1.000000</td>\n",
              "    </tr>\n",
              "    <tr>\n",
              "      <th>1050</th>\n",
              "      <td>Var219_6krWwfF</td>\n",
              "      <td>1.000000</td>\n",
              "    </tr>\n",
              "    <tr>\n",
              "      <th>1051</th>\n",
              "      <td>Var228_missing</td>\n",
              "      <td>1.000000</td>\n",
              "    </tr>\n",
              "  </tbody>\n",
              "</table>\n",
              "<p>1052 rows × 2 columns</p>\n",
              "</div>"
            ],
            "text/plain": [
              "                   0         1\n",
              "0              Var57  0.018191\n",
              "1              Var73  0.035799\n",
              "2             Var113  0.053062\n",
              "3             Var153  0.066772\n",
              "4              Var81  0.080410\n",
              "...              ...       ...\n",
              "1047     Var197_bkoB  1.000000\n",
              "1048     Var197_AuRO  1.000000\n",
              "1049  Var212_missing  1.000000\n",
              "1050  Var219_6krWwfF  1.000000\n",
              "1051  Var228_missing  1.000000\n",
              "\n",
              "[1052 rows x 2 columns]"
            ]
          },
          "metadata": {
            "tags": []
          },
          "execution_count": 56
        }
      ]
    },
    {
      "cell_type": "code",
      "metadata": {
        "id": "57nqhSC6wG-R",
        "colab_type": "code",
        "colab": {}
      },
      "source": [
        "def keep_vars(features, sum_importances, threshold):\n",
        "  keep_vars = list(sum_importances[sum_importances.iloc[:, 1] <= threshold].iloc[:, 0])\n",
        "  features = features.loc[:, keep_vars]\n",
        "  \n",
        "  return features"
      ],
      "execution_count": 0,
      "outputs": []
    },
    {
      "cell_type": "code",
      "metadata": {
        "id": "xf1RwGm0xQpU",
        "colab_type": "code",
        "colab": {}
      },
      "source": [
        "features_c = keep_vars(features_c, sum_importances, threshold = 0.99)"
      ],
      "execution_count": 0,
      "outputs": []
    },
    {
      "cell_type": "code",
      "metadata": {
        "id": "PIu554yRxdGG",
        "colab_type": "code",
        "outputId": "3d1869f2-84c0-4a65-a278-71caf7707743",
        "colab": {
          "base_uri": "https://localhost:8080/",
          "height": 35
        }
      },
      "source": [
        "features_c.shape"
      ],
      "execution_count": 0,
      "outputs": [
        {
          "output_type": "execute_result",
          "data": {
            "text/plain": [
              "(50000, 685)"
            ]
          },
          "metadata": {
            "tags": []
          },
          "execution_count": 59
        }
      ]
    },
    {
      "cell_type": "code",
      "metadata": {
        "id": "M0EvCcItxl1n",
        "colab_type": "code",
        "outputId": "d6af7e3a-bd8b-4619-9c70-1e5f5428b473",
        "colab": {
          "base_uri": "https://localhost:8080/",
          "height": 247
        }
      },
      "source": [
        "features_c.head()"
      ],
      "execution_count": 0,
      "outputs": [
        {
          "output_type": "execute_result",
          "data": {
            "text/html": [
              "<div>\n",
              "<style scoped>\n",
              "    .dataframe tbody tr th:only-of-type {\n",
              "        vertical-align: middle;\n",
              "    }\n",
              "\n",
              "    .dataframe tbody tr th {\n",
              "        vertical-align: top;\n",
              "    }\n",
              "\n",
              "    .dataframe thead th {\n",
              "        text-align: right;\n",
              "    }\n",
              "</style>\n",
              "<table border=\"1\" class=\"dataframe\">\n",
              "  <thead>\n",
              "    <tr style=\"text-align: right;\">\n",
              "      <th></th>\n",
              "      <th>Var57</th>\n",
              "      <th>Var73</th>\n",
              "      <th>Var113</th>\n",
              "      <th>Var153</th>\n",
              "      <th>Var81</th>\n",
              "      <th>Var133</th>\n",
              "      <th>Var134</th>\n",
              "      <th>Var38</th>\n",
              "      <th>Var76</th>\n",
              "      <th>Var28</th>\n",
              "      <th>Var6</th>\n",
              "      <th>Var25</th>\n",
              "      <th>Var119</th>\n",
              "      <th>Var22</th>\n",
              "      <th>Var123</th>\n",
              "      <th>Var163</th>\n",
              "      <th>Var160</th>\n",
              "      <th>Var21</th>\n",
              "      <th>Var112</th>\n",
              "      <th>Var149</th>\n",
              "      <th>Var83</th>\n",
              "      <th>Var109</th>\n",
              "      <th>Var85</th>\n",
              "      <th>Var125</th>\n",
              "      <th>Var24</th>\n",
              "      <th>Var13</th>\n",
              "      <th>Var144</th>\n",
              "      <th>Var140</th>\n",
              "      <th>Var7</th>\n",
              "      <th>Var65</th>\n",
              "      <th>Var74</th>\n",
              "      <th>Var205_VpdQ</th>\n",
              "      <th>Var223_LM8l689qOp</th>\n",
              "      <th>Var205_sJzTlal</th>\n",
              "      <th>Var205_09_Q</th>\n",
              "      <th>Var218_missing</th>\n",
              "      <th>Var132</th>\n",
              "      <th>Var218_cJvF</th>\n",
              "      <th>Var206_IYzP</th>\n",
              "      <th>Var219_FzaX</th>\n",
              "      <th>...</th>\n",
              "      <th>Var192_AKDr4RXktW</th>\n",
              "      <th>Var192_NFqq9at_88</th>\n",
              "      <th>Var197_NbV4</th>\n",
              "      <th>Var197_L_LK</th>\n",
              "      <th>Var212_MeOIHRG3F9</th>\n",
              "      <th>Var192_7Cwt0Gdc_a</th>\n",
              "      <th>Var192_H7er4Rdc_a</th>\n",
              "      <th>Var195_I9xt3GMcxUnBZ</th>\n",
              "      <th>Var207_0MCPoln</th>\n",
              "      <th>Var212_4ylQpLr46xum2hHQ</th>\n",
              "      <th>Var207_5iay</th>\n",
              "      <th>Var192_IXSt0GoOh3</th>\n",
              "      <th>Var192_Yddr4R4FLE</th>\n",
              "      <th>Var197_nCqp</th>\n",
              "      <th>Var212_QsQAxv5</th>\n",
              "      <th>Var197_W5sH</th>\n",
              "      <th>Var192_86ct0Gdncc</th>\n",
              "      <th>Var197_plfw</th>\n",
              "      <th>Var219_FqMWi1g</th>\n",
              "      <th>Var193_NRCqczK</th>\n",
              "      <th>Var195_ev6I</th>\n",
              "      <th>Var197_z8at</th>\n",
              "      <th>Var192_dPsBcmRZ57</th>\n",
              "      <th>Var212_TVE1uh4F_wOi_</th>\n",
              "      <th>Var197_EbEb</th>\n",
              "      <th>Var212_6z7lZp6XhQkon</th>\n",
              "      <th>Var192_l0JOj17ejg</th>\n",
              "      <th>Var192_xOXTmBkF1Q</th>\n",
              "      <th>Var212_fnfcPDe</th>\n",
              "      <th>Var193_LrdVolaSGUfkVeWC</th>\n",
              "      <th>Var192_zKnrjIPxRp</th>\n",
              "      <th>Var228_DU8B</th>\n",
              "      <th>Var192_bZkPe2fHUn</th>\n",
              "      <th>Var193_X2uI6IsGev</th>\n",
              "      <th>Var204_7JiV</th>\n",
              "      <th>Var197_gEzH</th>\n",
              "      <th>Var228_d0LtHjWeaXyArdN4sxU_saXqH</th>\n",
              "      <th>Var195_bsZtYxFjzA</th>\n",
              "      <th>Var192_9u0r4Rdncc</th>\n",
              "      <th>Var195_TnJpfvsJgF</th>\n",
              "    </tr>\n",
              "  </thead>\n",
              "  <tbody>\n",
              "    <tr>\n",
              "      <th>0</th>\n",
              "      <td>4.076907</td>\n",
              "      <td>36.0</td>\n",
              "      <td>117625.60</td>\n",
              "      <td>1812252.0</td>\n",
              "      <td>7333.110000</td>\n",
              "      <td>1212385.0</td>\n",
              "      <td>69134.0</td>\n",
              "      <td>3570.0</td>\n",
              "      <td>1350864.0</td>\n",
              "      <td>166.56</td>\n",
              "      <td>1526.000000</td>\n",
              "      <td>128.0</td>\n",
              "      <td>1175.000000</td>\n",
              "      <td>580.0</td>\n",
              "      <td>6.0</td>\n",
              "      <td>38418.0</td>\n",
              "      <td>142.0</td>\n",
              "      <td>464.000000</td>\n",
              "      <td>168.0</td>\n",
              "      <td>397579.000000</td>\n",
              "      <td>5.0</td>\n",
              "      <td>104.00000</td>\n",
              "      <td>12.0</td>\n",
              "      <td>720.0</td>\n",
              "      <td>14.000000</td>\n",
              "      <td>184.0</td>\n",
              "      <td>9.000000</td>\n",
              "      <td>185.0</td>\n",
              "      <td>7.0</td>\n",
              "      <td>9.0</td>\n",
              "      <td>35.0</td>\n",
              "      <td>1</td>\n",
              "      <td>0</td>\n",
              "      <td>0</td>\n",
              "      <td>0</td>\n",
              "      <td>0</td>\n",
              "      <td>0.0</td>\n",
              "      <td>1</td>\n",
              "      <td>0</td>\n",
              "      <td>1</td>\n",
              "      <td>...</td>\n",
              "      <td>0</td>\n",
              "      <td>0</td>\n",
              "      <td>0</td>\n",
              "      <td>0</td>\n",
              "      <td>0</td>\n",
              "      <td>0</td>\n",
              "      <td>0</td>\n",
              "      <td>0</td>\n",
              "      <td>0</td>\n",
              "      <td>0</td>\n",
              "      <td>0</td>\n",
              "      <td>0</td>\n",
              "      <td>0</td>\n",
              "      <td>0</td>\n",
              "      <td>0</td>\n",
              "      <td>0</td>\n",
              "      <td>0</td>\n",
              "      <td>0</td>\n",
              "      <td>0</td>\n",
              "      <td>0</td>\n",
              "      <td>0</td>\n",
              "      <td>0</td>\n",
              "      <td>0</td>\n",
              "      <td>0</td>\n",
              "      <td>0</td>\n",
              "      <td>0</td>\n",
              "      <td>0</td>\n",
              "      <td>0</td>\n",
              "      <td>0</td>\n",
              "      <td>0</td>\n",
              "      <td>0</td>\n",
              "      <td>0</td>\n",
              "      <td>0</td>\n",
              "      <td>0</td>\n",
              "      <td>0</td>\n",
              "      <td>0</td>\n",
              "      <td>0</td>\n",
              "      <td>0</td>\n",
              "      <td>0</td>\n",
              "      <td>0</td>\n",
              "    </tr>\n",
              "    <tr>\n",
              "      <th>1</th>\n",
              "      <td>5.408032</td>\n",
              "      <td>26.0</td>\n",
              "      <td>-356411.60</td>\n",
              "      <td>10439160.0</td>\n",
              "      <td>151098.900000</td>\n",
              "      <td>4136430.0</td>\n",
              "      <td>357038.0</td>\n",
              "      <td>4764966.0</td>\n",
              "      <td>2872928.0</td>\n",
              "      <td>353.52</td>\n",
              "      <td>525.000000</td>\n",
              "      <td>24.0</td>\n",
              "      <td>590.000000</td>\n",
              "      <td>210.0</td>\n",
              "      <td>72.0</td>\n",
              "      <td>238572.0</td>\n",
              "      <td>32.0</td>\n",
              "      <td>168.000000</td>\n",
              "      <td>40.0</td>\n",
              "      <td>278334.000000</td>\n",
              "      <td>25.0</td>\n",
              "      <td>40.00000</td>\n",
              "      <td>2.0</td>\n",
              "      <td>0.0</td>\n",
              "      <td>2.000000</td>\n",
              "      <td>0.0</td>\n",
              "      <td>9.000000</td>\n",
              "      <td>0.0</td>\n",
              "      <td>0.0</td>\n",
              "      <td>9.0</td>\n",
              "      <td>0.0</td>\n",
              "      <td>0</td>\n",
              "      <td>1</td>\n",
              "      <td>1</td>\n",
              "      <td>0</td>\n",
              "      <td>1</td>\n",
              "      <td>8.0</td>\n",
              "      <td>0</td>\n",
              "      <td>0</td>\n",
              "      <td>1</td>\n",
              "      <td>...</td>\n",
              "      <td>0</td>\n",
              "      <td>0</td>\n",
              "      <td>0</td>\n",
              "      <td>0</td>\n",
              "      <td>0</td>\n",
              "      <td>0</td>\n",
              "      <td>0</td>\n",
              "      <td>0</td>\n",
              "      <td>0</td>\n",
              "      <td>0</td>\n",
              "      <td>0</td>\n",
              "      <td>0</td>\n",
              "      <td>0</td>\n",
              "      <td>0</td>\n",
              "      <td>0</td>\n",
              "      <td>0</td>\n",
              "      <td>0</td>\n",
              "      <td>0</td>\n",
              "      <td>0</td>\n",
              "      <td>0</td>\n",
              "      <td>0</td>\n",
              "      <td>0</td>\n",
              "      <td>0</td>\n",
              "      <td>0</td>\n",
              "      <td>0</td>\n",
              "      <td>0</td>\n",
              "      <td>0</td>\n",
              "      <td>0</td>\n",
              "      <td>0</td>\n",
              "      <td>0</td>\n",
              "      <td>0</td>\n",
              "      <td>0</td>\n",
              "      <td>0</td>\n",
              "      <td>0</td>\n",
              "      <td>0</td>\n",
              "      <td>0</td>\n",
              "      <td>0</td>\n",
              "      <td>0</td>\n",
              "      <td>0</td>\n",
              "      <td>0</td>\n",
              "    </tr>\n",
              "    <tr>\n",
              "      <th>2</th>\n",
              "      <td>6.599658</td>\n",
              "      <td>130.0</td>\n",
              "      <td>405104.00</td>\n",
              "      <td>9826360.0</td>\n",
              "      <td>16211.580000</td>\n",
              "      <td>3478905.0</td>\n",
              "      <td>248932.0</td>\n",
              "      <td>5883894.0</td>\n",
              "      <td>1675776.0</td>\n",
              "      <td>220.08</td>\n",
              "      <td>5236.000000</td>\n",
              "      <td>816.0</td>\n",
              "      <td>3230.000000</td>\n",
              "      <td>1515.0</td>\n",
              "      <td>114.0</td>\n",
              "      <td>434946.0</td>\n",
              "      <td>206.0</td>\n",
              "      <td>1212.000000</td>\n",
              "      <td>336.0</td>\n",
              "      <td>320565.000000</td>\n",
              "      <td>40.0</td>\n",
              "      <td>312.00000</td>\n",
              "      <td>58.0</td>\n",
              "      <td>5967.0</td>\n",
              "      <td>26.000000</td>\n",
              "      <td>904.0</td>\n",
              "      <td>36.000000</td>\n",
              "      <td>800.0</td>\n",
              "      <td>7.0</td>\n",
              "      <td>9.0</td>\n",
              "      <td>518.0</td>\n",
              "      <td>1</td>\n",
              "      <td>0</td>\n",
              "      <td>0</td>\n",
              "      <td>0</td>\n",
              "      <td>0</td>\n",
              "      <td>0.0</td>\n",
              "      <td>0</td>\n",
              "      <td>0</td>\n",
              "      <td>1</td>\n",
              "      <td>...</td>\n",
              "      <td>0</td>\n",
              "      <td>0</td>\n",
              "      <td>0</td>\n",
              "      <td>0</td>\n",
              "      <td>0</td>\n",
              "      <td>0</td>\n",
              "      <td>0</td>\n",
              "      <td>0</td>\n",
              "      <td>0</td>\n",
              "      <td>0</td>\n",
              "      <td>0</td>\n",
              "      <td>0</td>\n",
              "      <td>0</td>\n",
              "      <td>0</td>\n",
              "      <td>0</td>\n",
              "      <td>0</td>\n",
              "      <td>0</td>\n",
              "      <td>0</td>\n",
              "      <td>0</td>\n",
              "      <td>0</td>\n",
              "      <td>0</td>\n",
              "      <td>0</td>\n",
              "      <td>0</td>\n",
              "      <td>0</td>\n",
              "      <td>0</td>\n",
              "      <td>0</td>\n",
              "      <td>0</td>\n",
              "      <td>0</td>\n",
              "      <td>0</td>\n",
              "      <td>0</td>\n",
              "      <td>0</td>\n",
              "      <td>0</td>\n",
              "      <td>0</td>\n",
              "      <td>0</td>\n",
              "      <td>0</td>\n",
              "      <td>0</td>\n",
              "      <td>0</td>\n",
              "      <td>0</td>\n",
              "      <td>0</td>\n",
              "      <td>0</td>\n",
              "    </tr>\n",
              "    <tr>\n",
              "      <th>3</th>\n",
              "      <td>1.988250</td>\n",
              "      <td>12.0</td>\n",
              "      <td>-275703.60</td>\n",
              "      <td>0.0</td>\n",
              "      <td>103084.052693</td>\n",
              "      <td>0.0</td>\n",
              "      <td>0.0</td>\n",
              "      <td>0.0</td>\n",
              "      <td>0.0</td>\n",
              "      <td>22.08</td>\n",
              "      <td>1326.437116</td>\n",
              "      <td>0.0</td>\n",
              "      <td>916.112185</td>\n",
              "      <td>0.0</td>\n",
              "      <td>0.0</td>\n",
              "      <td>0.0</td>\n",
              "      <td>0.0</td>\n",
              "      <td>234.518225</td>\n",
              "      <td>0.0</td>\n",
              "      <td>294920.804255</td>\n",
              "      <td>0.0</td>\n",
              "      <td>60.88866</td>\n",
              "      <td>0.0</td>\n",
              "      <td>0.0</td>\n",
              "      <td>4.507926</td>\n",
              "      <td>0.0</td>\n",
              "      <td>11.727665</td>\n",
              "      <td>0.0</td>\n",
              "      <td>0.0</td>\n",
              "      <td>9.0</td>\n",
              "      <td>0.0</td>\n",
              "      <td>1</td>\n",
              "      <td>1</td>\n",
              "      <td>0</td>\n",
              "      <td>0</td>\n",
              "      <td>0</td>\n",
              "      <td>0.0</td>\n",
              "      <td>0</td>\n",
              "      <td>0</td>\n",
              "      <td>1</td>\n",
              "      <td>...</td>\n",
              "      <td>0</td>\n",
              "      <td>0</td>\n",
              "      <td>0</td>\n",
              "      <td>0</td>\n",
              "      <td>0</td>\n",
              "      <td>0</td>\n",
              "      <td>0</td>\n",
              "      <td>0</td>\n",
              "      <td>0</td>\n",
              "      <td>0</td>\n",
              "      <td>0</td>\n",
              "      <td>0</td>\n",
              "      <td>0</td>\n",
              "      <td>0</td>\n",
              "      <td>0</td>\n",
              "      <td>0</td>\n",
              "      <td>0</td>\n",
              "      <td>0</td>\n",
              "      <td>0</td>\n",
              "      <td>0</td>\n",
              "      <td>0</td>\n",
              "      <td>0</td>\n",
              "      <td>0</td>\n",
              "      <td>0</td>\n",
              "      <td>0</td>\n",
              "      <td>0</td>\n",
              "      <td>0</td>\n",
              "      <td>0</td>\n",
              "      <td>0</td>\n",
              "      <td>0</td>\n",
              "      <td>0</td>\n",
              "      <td>0</td>\n",
              "      <td>0</td>\n",
              "      <td>0</td>\n",
              "      <td>0</td>\n",
              "      <td>0</td>\n",
              "      <td>0</td>\n",
              "      <td>0</td>\n",
              "      <td>0</td>\n",
              "      <td>0</td>\n",
              "    </tr>\n",
              "    <tr>\n",
              "      <th>4</th>\n",
              "      <td>4.552446</td>\n",
              "      <td>82.0</td>\n",
              "      <td>10714.84</td>\n",
              "      <td>644836.0</td>\n",
              "      <td>37423.500000</td>\n",
              "      <td>150650.0</td>\n",
              "      <td>66046.0</td>\n",
              "      <td>0.0</td>\n",
              "      <td>784448.0</td>\n",
              "      <td>200.00</td>\n",
              "      <td>1029.000000</td>\n",
              "      <td>64.0</td>\n",
              "      <td>215.000000</td>\n",
              "      <td>80.0</td>\n",
              "      <td>0.0</td>\n",
              "      <td>0.0</td>\n",
              "      <td>2.0</td>\n",
              "      <td>64.000000</td>\n",
              "      <td>56.0</td>\n",
              "      <td>267162.000000</td>\n",
              "      <td>0.0</td>\n",
              "      <td>32.00000</td>\n",
              "      <td>0.0</td>\n",
              "      <td>15111.0</td>\n",
              "      <td>4.000000</td>\n",
              "      <td>3216.0</td>\n",
              "      <td>9.000000</td>\n",
              "      <td>3255.0</td>\n",
              "      <td>7.0</td>\n",
              "      <td>18.0</td>\n",
              "      <td>224.0</td>\n",
              "      <td>0</td>\n",
              "      <td>1</td>\n",
              "      <td>1</td>\n",
              "      <td>0</td>\n",
              "      <td>0</td>\n",
              "      <td>0.0</td>\n",
              "      <td>0</td>\n",
              "      <td>0</td>\n",
              "      <td>1</td>\n",
              "      <td>...</td>\n",
              "      <td>0</td>\n",
              "      <td>0</td>\n",
              "      <td>0</td>\n",
              "      <td>0</td>\n",
              "      <td>0</td>\n",
              "      <td>0</td>\n",
              "      <td>0</td>\n",
              "      <td>0</td>\n",
              "      <td>0</td>\n",
              "      <td>0</td>\n",
              "      <td>0</td>\n",
              "      <td>0</td>\n",
              "      <td>0</td>\n",
              "      <td>0</td>\n",
              "      <td>0</td>\n",
              "      <td>0</td>\n",
              "      <td>0</td>\n",
              "      <td>0</td>\n",
              "      <td>0</td>\n",
              "      <td>0</td>\n",
              "      <td>0</td>\n",
              "      <td>0</td>\n",
              "      <td>0</td>\n",
              "      <td>0</td>\n",
              "      <td>0</td>\n",
              "      <td>0</td>\n",
              "      <td>0</td>\n",
              "      <td>0</td>\n",
              "      <td>0</td>\n",
              "      <td>0</td>\n",
              "      <td>0</td>\n",
              "      <td>0</td>\n",
              "      <td>0</td>\n",
              "      <td>0</td>\n",
              "      <td>0</td>\n",
              "      <td>0</td>\n",
              "      <td>0</td>\n",
              "      <td>0</td>\n",
              "      <td>0</td>\n",
              "      <td>0</td>\n",
              "    </tr>\n",
              "  </tbody>\n",
              "</table>\n",
              "<p>5 rows × 685 columns</p>\n",
              "</div>"
            ],
            "text/plain": [
              "      Var57  Var73  ...  Var192_9u0r4Rdncc  Var195_TnJpfvsJgF\n",
              "0  4.076907   36.0  ...                  0                  0\n",
              "1  5.408032   26.0  ...                  0                  0\n",
              "2  6.599658  130.0  ...                  0                  0\n",
              "3  1.988250   12.0  ...                  0                  0\n",
              "4  4.552446   82.0  ...                  0                  0\n",
              "\n",
              "[5 rows x 685 columns]"
            ]
          },
          "metadata": {
            "tags": []
          },
          "execution_count": 60
        }
      ]
    },
    {
      "cell_type": "markdown",
      "metadata": {
        "id": "s-fRiHEaaG05",
        "colab_type": "text"
      },
      "source": [
        "## Dividindo os dados em dataset para treino e dataset para teste"
      ]
    },
    {
      "cell_type": "code",
      "metadata": {
        "id": "4N1GHeClzgjo",
        "colab_type": "code",
        "colab": {}
      },
      "source": [
        "def split_datasets(features, outcome, test_size = 0.2):\n",
        "  X_train, X_test, y_train, y_test = train_test_split(features, outcome, test_size = test_size,\n",
        "                                                      stratify = outcome, random_state = 0)\n",
        "  y_train, y_test = np.array(y_train).ravel(), np.array(y_test).ravel()\n",
        "  \n",
        "  return X_train, X_test, y_train, y_test"
      ],
      "execution_count": 0,
      "outputs": []
    },
    {
      "cell_type": "code",
      "metadata": {
        "id": "Je2oGnPa0T00",
        "colab_type": "code",
        "colab": {}
      },
      "source": [
        "X_train, X_test, y_train, y_test = split_datasets(features_c, outcome)"
      ],
      "execution_count": 0,
      "outputs": []
    },
    {
      "cell_type": "code",
      "metadata": {
        "id": "Q1lkwMjv0a_t",
        "colab_type": "code",
        "outputId": "f9d0ad75-0145-475c-bbe9-8370285ac955",
        "colab": {
          "base_uri": "https://localhost:8080/",
          "height": 35
        }
      },
      "source": [
        "X_train.shape"
      ],
      "execution_count": 0,
      "outputs": [
        {
          "output_type": "execute_result",
          "data": {
            "text/plain": [
              "(40000, 685)"
            ]
          },
          "metadata": {
            "tags": []
          },
          "execution_count": 63
        }
      ]
    },
    {
      "cell_type": "code",
      "metadata": {
        "id": "zNbMjwqI0fgk",
        "colab_type": "code",
        "outputId": "671e9764-6d7f-4d52-cd01-6d4a0ed48beb",
        "colab": {
          "base_uri": "https://localhost:8080/",
          "height": 35
        }
      },
      "source": [
        "X_test.shape"
      ],
      "execution_count": 0,
      "outputs": [
        {
          "output_type": "execute_result",
          "data": {
            "text/plain": [
              "(10000, 685)"
            ]
          },
          "metadata": {
            "tags": []
          },
          "execution_count": 64
        }
      ]
    },
    {
      "cell_type": "markdown",
      "metadata": {
        "id": "pF9FqvAeaG0_",
        "colab_type": "text"
      },
      "source": [
        "### Modelagem preliminar"
      ]
    },
    {
      "cell_type": "markdown",
      "metadata": {
        "id": "_pY-AanZDKA0",
        "colab_type": "text"
      },
      "source": [
        "AUC e ROC: https://medium.com/bio-data-blog/entenda-o-que-%C3%A9-auc-e-roc-nos-modelos-de-machine-learning-8191fb4df772"
      ]
    },
    {
      "cell_type": "markdown",
      "metadata": {
        "id": "dYbTZBEPaG1A",
        "colab_type": "text"
      },
      "source": [
        "#### Random Forest Classifier"
      ]
    },
    {
      "cell_type": "code",
      "metadata": {
        "id": "HM58NJ9oDWg6",
        "colab_type": "code",
        "colab": {}
      },
      "source": [
        "def rfc_test(X_train, y_train, n_estimators = 100, cv = 5):\n",
        "  np.random.seed(0)\n",
        "  rfc = RandomForestClassifier(n_estimators = n_estimators, random_state = 0, n_jobs = -1)\n",
        "  cv_scores = cross_val_score(rfc, X_train, y_train, scoring = 'roc_auc', cv = cv, n_jobs = -1)\n",
        "  print('Média dos cinco testes: ', cv_scores.mean())"
      ],
      "execution_count": 0,
      "outputs": []
    },
    {
      "cell_type": "code",
      "metadata": {
        "id": "8uCjhGEOFBM3",
        "colab_type": "code",
        "outputId": "3ada4fcf-2701-45e9-d43e-828a9f2a2c83",
        "colab": {
          "base_uri": "https://localhost:8080/",
          "height": 35
        }
      },
      "source": [
        "rfc_test(X_train, y_train)"
      ],
      "execution_count": 0,
      "outputs": [
        {
          "output_type": "stream",
          "text": [
            "Média dos cinco testes:  0.6270653481157445\n"
          ],
          "name": "stdout"
        }
      ]
    },
    {
      "cell_type": "markdown",
      "metadata": {
        "id": "kQ_BDoUHaG1D",
        "colab_type": "text"
      },
      "source": [
        "#### Gradient Boosting Classifer\n",
        "\n",
        "Métodos com árvores de decisão: https://iaexpert.com.br/index.php/2019/04/18/xgboost-a-evolucao-das-arvores-de-decisao/\n",
        "\n",
        "Gradient Boosting: https://scikit-learn.org/stable/modules/generated/sklearn.ensemble.GradientBoostingClassifier.html"
      ]
    },
    {
      "cell_type": "code",
      "metadata": {
        "id": "wbN0Gq8wGhS0",
        "colab_type": "code",
        "colab": {}
      },
      "source": [
        "def gbc_test(X_train, y_train, n_estimators = 100, learning_rate = 0.1, cv = 5):\n",
        "  np.random.seed(0)\n",
        "  gbc = GradientBoostingClassifier(n_estimators = n_estimators, learning_rate = learning_rate,\n",
        "                                  random_state = 0)\n",
        "  cv_scores = cross_val_score(gbc, X_train, y_train, scoring = 'roc_auc', cv = cv, n_jobs = -1)\n",
        "  print('Média dos cinco testes: ', cv_scores.mean())"
      ],
      "execution_count": 0,
      "outputs": []
    },
    {
      "cell_type": "code",
      "metadata": {
        "id": "wuF2vxz0HoX2",
        "colab_type": "code",
        "outputId": "3e14495b-2ee2-4b77-93ce-568123e6ce20",
        "colab": {
          "base_uri": "https://localhost:8080/",
          "height": 89
        }
      },
      "source": [
        "gbc_test(X_train, y_train)"
      ],
      "execution_count": 0,
      "outputs": [
        {
          "output_type": "stream",
          "text": [
            "/usr/local/lib/python3.6/dist-packages/joblib/externals/loky/process_executor.py:706: UserWarning: A worker stopped while some jobs were given to the executor. This can be caused by a too short worker timeout or by a memory leak.\n",
            "  \"timeout or by a memory leak.\", UserWarning\n"
          ],
          "name": "stderr"
        },
        {
          "output_type": "stream",
          "text": [
            "Média dos cinco testes:  0.6706719415230211\n"
          ],
          "name": "stdout"
        }
      ]
    },
    {
      "cell_type": "markdown",
      "metadata": {
        "id": "1L51GttIaG1I",
        "colab_type": "text"
      },
      "source": [
        "## Otimizando o modelo GBC"
      ]
    },
    {
      "cell_type": "markdown",
      "metadata": {
        "id": "YDZ0BTl2aG1J",
        "colab_type": "text"
      },
      "source": [
        "### Otimizando `n_estimators` para `learning_rate` = 0.1"
      ]
    },
    {
      "cell_type": "code",
      "metadata": {
        "id": "9eFw1nzgKfn9",
        "colab_type": "code",
        "colab": {}
      },
      "source": [
        "def optimize(n_estimators, learning_rate, min_samples_split, min_samples_leaf,\n",
        "             max_depth, max_features, subsample, params, cv = 5):\n",
        "  np.random.seed(0)\n",
        "  gbc = GradientBoostingClassifier(n_estimators = n_estimators,\n",
        "                                  learning_rate = learning_rate,\n",
        "                                  min_samples_split = min_samples_split,\n",
        "                                  min_samples_leaf = min_samples_leaf,\n",
        "                                  max_depth = max_depth,\n",
        "                                  max_features = max_features,\n",
        "                                  subsample = subsample,\n",
        "                                  random_state = 0)\n",
        "  grid_search = GridSearchCV(estimator = gbc, param_grid = params, scoring = 'roc_auc',\n",
        "                             n_jobs = -1, iid = False, cv = cv)\n",
        "  grid_search.fit(X_train, y_train)\n",
        "  results = grid_search.cv_results_\n",
        "  best_params = grid_search.best_params_\n",
        "  best_score = grid_search.best_score_\n",
        "  print(best_params, best_score)\n",
        "  \n",
        "  return gbc, best_params, best_score"
      ],
      "execution_count": 0,
      "outputs": []
    },
    {
      "cell_type": "code",
      "metadata": {
        "id": "lnKnVqrLMuya",
        "colab_type": "code",
        "colab": {}
      },
      "source": [
        "# Variáveis para coletar os resultados\n",
        "models = np.array([])\n",
        "opt_params = dict()\n",
        "scores = np.array([])"
      ],
      "execution_count": 0,
      "outputs": []
    },
    {
      "cell_type": "code",
      "metadata": {
        "id": "LnKqvbOLNV8S",
        "colab_type": "code",
        "colab": {}
      },
      "source": [
        "# MODELO 0\n",
        "learning_rate = 0.1\n",
        "n_estimators = None\n",
        "max_depth = 8\n",
        "min_samples_split = 250\n",
        "min_samples_leaf = 20\n",
        "max_features = 'sqrt'\n",
        "subsample = 0.8\n",
        "params = {'n_estimators': range(50, 151, 10)}"
      ],
      "execution_count": 0,
      "outputs": []
    },
    {
      "cell_type": "code",
      "metadata": {
        "id": "jgh1kV6XOT2U",
        "colab_type": "code",
        "outputId": "fe5e633c-b7de-4c9b-8572-bbbfd6475601",
        "colab": {
          "base_uri": "https://localhost:8080/",
          "height": 89
        }
      },
      "source": [
        "gbc, opt_param, score = optimize(n_estimators = n_estimators,\n",
        "                                 learning_rate = learning_rate,\n",
        "                                 min_samples_split = min_samples_split,\n",
        "                                 min_samples_leaf = min_samples_leaf,\n",
        "                                 max_depth = max_depth,\n",
        "                                 max_features = max_features,\n",
        "                                 subsample = subsample,\n",
        "                                 params = params)"
      ],
      "execution_count": 0,
      "outputs": [
        {
          "output_type": "stream",
          "text": [
            "/usr/local/lib/python3.6/dist-packages/joblib/externals/loky/process_executor.py:706: UserWarning: A worker stopped while some jobs were given to the executor. This can be caused by a too short worker timeout or by a memory leak.\n",
            "  \"timeout or by a memory leak.\", UserWarning\n"
          ],
          "name": "stderr"
        },
        {
          "output_type": "stream",
          "text": [
            "{'n_estimators': 100} 0.6678568093735979\n"
          ],
          "name": "stdout"
        }
      ]
    },
    {
      "cell_type": "code",
      "metadata": {
        "id": "MyAtX-lHRkk9",
        "colab_type": "code",
        "colab": {}
      },
      "source": [
        "# Atualizando as variáveis com os resultados\n",
        "models = np.append(models, gbc)\n",
        "opt_params = {**opt_params, **opt_param}\n",
        "scores = np.append(scores, score)"
      ],
      "execution_count": 0,
      "outputs": []
    },
    {
      "cell_type": "code",
      "metadata": {
        "id": "QbrWmwcRS-DX",
        "colab_type": "code",
        "outputId": "0fcca7ff-b56b-4c6c-be33-321cf35a2779",
        "colab": {
          "base_uri": "https://localhost:8080/",
          "height": 190
        }
      },
      "source": [
        "models"
      ],
      "execution_count": 0,
      "outputs": [
        {
          "output_type": "execute_result",
          "data": {
            "text/plain": [
              "array([GradientBoostingClassifier(criterion='friedman_mse', init=None,\n",
              "                           learning_rate=0.1, loss='deviance', max_depth=8,\n",
              "                           max_features='sqrt', max_leaf_nodes=None,\n",
              "                           min_impurity_decrease=0.0, min_impurity_split=None,\n",
              "                           min_samples_leaf=20, min_samples_split=250,\n",
              "                           min_weight_fraction_leaf=0.0, n_estimators=None,\n",
              "                           n_iter_no_change=None, presort='auto',\n",
              "                           random_state=0, subsample=0.8, tol=0.0001,\n",
              "                           validation_fraction=0.1, verbose=0,\n",
              "                           warm_start=False)], dtype=object)"
            ]
          },
          "metadata": {
            "tags": []
          },
          "execution_count": 74
        }
      ]
    },
    {
      "cell_type": "code",
      "metadata": {
        "id": "677OR2qNTSpO",
        "colab_type": "code",
        "outputId": "f2d1cfa5-e336-4ffd-c922-b9283d011f6e",
        "colab": {
          "base_uri": "https://localhost:8080/",
          "height": 86
        }
      },
      "source": [
        "opt_params"
      ],
      "execution_count": 0,
      "outputs": [
        {
          "output_type": "execute_result",
          "data": {
            "text/plain": [
              "{'max_depth': 5,\n",
              " 'min_samples_leaf': 50,\n",
              " 'min_samples_split': 300,\n",
              " 'n_estimators': 100}"
            ]
          },
          "metadata": {
            "tags": []
          },
          "execution_count": 99
        }
      ]
    },
    {
      "cell_type": "code",
      "metadata": {
        "id": "otUFC_PqTZEJ",
        "colab_type": "code",
        "outputId": "7c28a76b-af83-4171-bacd-76d080faf571",
        "colab": {
          "base_uri": "https://localhost:8080/",
          "height": 35
        }
      },
      "source": [
        "scores"
      ],
      "execution_count": 0,
      "outputs": [
        {
          "output_type": "execute_result",
          "data": {
            "text/plain": [
              "array([0.66785681])"
            ]
          },
          "metadata": {
            "tags": []
          },
          "execution_count": 76
        }
      ]
    },
    {
      "cell_type": "markdown",
      "metadata": {
        "id": "Jtvi1dmPaG1Q",
        "colab_type": "text"
      },
      "source": [
        "### Otimizando `max_depth` e `min_samples_split`"
      ]
    },
    {
      "cell_type": "code",
      "metadata": {
        "id": "BPqoHZhDTzqf",
        "colab_type": "code",
        "colab": {}
      },
      "source": [
        "# MODELO 1\n",
        "n_estimators = opt_params['n_estimators']\n",
        "max_depth = None\n",
        "min_samples_split = None\n",
        "min_samples_leaf = 20\n",
        "max_features = 'sqrt'\n",
        "subsample = 0.8\n",
        "params = {'max_depth': range(3, 12, 2), 'min_samples_split': range(150, 401, 50)}"
      ],
      "execution_count": 0,
      "outputs": []
    },
    {
      "cell_type": "code",
      "metadata": {
        "id": "rK-SrpDNfzWt",
        "colab_type": "code",
        "outputId": "136028ee-e55c-49d3-cd07-3eeef528f0a9",
        "colab": {
          "base_uri": "https://localhost:8080/",
          "height": 89
        }
      },
      "source": [
        "gbc, opt_param, score = optimize(n_estimators = n_estimators,\n",
        "                                 learning_rate = learning_rate,\n",
        "                                 min_samples_split = min_samples_split,\n",
        "                                 min_samples_leaf = min_samples_leaf,\n",
        "                                 max_depth = max_depth,\n",
        "                                 max_features = max_features,\n",
        "                                 subsample = subsample,\n",
        "                                 params = params)"
      ],
      "execution_count": 0,
      "outputs": [
        {
          "output_type": "stream",
          "text": [
            "/usr/local/lib/python3.6/dist-packages/joblib/externals/loky/process_executor.py:706: UserWarning: A worker stopped while some jobs were given to the executor. This can be caused by a too short worker timeout or by a memory leak.\n",
            "  \"timeout or by a memory leak.\", UserWarning\n"
          ],
          "name": "stderr"
        },
        {
          "output_type": "stream",
          "text": [
            "{'max_depth': 5, 'min_samples_split': 300} 0.6717933267554128\n"
          ],
          "name": "stdout"
        }
      ]
    },
    {
      "cell_type": "code",
      "metadata": {
        "id": "sgpBjrvd1qWb",
        "colab_type": "code",
        "colab": {}
      },
      "source": [
        "# Atualizando as variáveis com os resultados\n",
        "models = np.append(models, gbc)\n",
        "opt_params = {**opt_params, **opt_param}\n",
        "scores = np.append(scores, score)"
      ],
      "execution_count": 0,
      "outputs": []
    },
    {
      "cell_type": "markdown",
      "metadata": {
        "id": "TVEq8ZtoaG1V",
        "colab_type": "text"
      },
      "source": [
        "### Otimizando `min_samples_leaf`"
      ]
    },
    {
      "cell_type": "code",
      "metadata": {
        "id": "vFHG16aQBDWi",
        "colab_type": "code",
        "colab": {}
      },
      "source": [
        "# MODELO 2\n",
        "max_depth = opt_params['max_depth']\n",
        "min_samples_split = opt_params['min_samples_split']\n",
        "min_samples_leaf = None\n",
        "max_features = 'sqrt'\n",
        "subsample = 0.8\n",
        "params = {'min_samples_leaf': range(25, 61, 5)}"
      ],
      "execution_count": 0,
      "outputs": []
    },
    {
      "cell_type": "code",
      "metadata": {
        "id": "R2SRxO9ICzdN",
        "colab_type": "code",
        "outputId": "78c3831d-04a6-42f6-8883-75dcfc1a0b84",
        "colab": {
          "base_uri": "https://localhost:8080/",
          "height": 89
        }
      },
      "source": [
        "gbc, opt_param, score = optimize(n_estimators = n_estimators,\n",
        "                                 learning_rate = learning_rate,\n",
        "                                 min_samples_split = min_samples_split,\n",
        "                                 min_samples_leaf = min_samples_leaf,\n",
        "                                 max_depth = max_depth,\n",
        "                                 max_features = max_features,\n",
        "                                 subsample = subsample,\n",
        "                                 params = params)"
      ],
      "execution_count": 0,
      "outputs": [
        {
          "output_type": "stream",
          "text": [
            "/usr/local/lib/python3.6/dist-packages/joblib/externals/loky/process_executor.py:706: UserWarning: A worker stopped while some jobs were given to the executor. This can be caused by a too short worker timeout or by a memory leak.\n",
            "  \"timeout or by a memory leak.\", UserWarning\n"
          ],
          "name": "stderr"
        },
        {
          "output_type": "stream",
          "text": [
            "{'min_samples_leaf': 40} 0.6725498735641025\n"
          ],
          "name": "stdout"
        }
      ]
    },
    {
      "cell_type": "code",
      "metadata": {
        "id": "_gECB3b9EEc6",
        "colab_type": "code",
        "colab": {}
      },
      "source": [
        "# Atualizando as variáveis com os resultados\n",
        "models = np.append(models, gbc)\n",
        "opt_params = {**opt_params, **opt_param}\n",
        "scores = np.append(scores, score)"
      ],
      "execution_count": 0,
      "outputs": []
    },
    {
      "cell_type": "code",
      "metadata": {
        "id": "MSn_uDXPEHEy",
        "colab_type": "code",
        "outputId": "c5ee788d-ad1f-42b2-c370-1b60348630b2",
        "colab": {
          "base_uri": "https://localhost:8080/",
          "height": 86
        }
      },
      "source": [
        "opt_params"
      ],
      "execution_count": 0,
      "outputs": [
        {
          "output_type": "execute_result",
          "data": {
            "text/plain": [
              "{'max_depth': 5,\n",
              " 'min_samples_leaf': 50,\n",
              " 'min_samples_split': 300,\n",
              " 'n_estimators': 100}"
            ]
          },
          "metadata": {
            "tags": []
          },
          "execution_count": 100
        }
      ]
    },
    {
      "cell_type": "markdown",
      "metadata": {
        "id": "VA0wTCyhaG1a",
        "colab_type": "text"
      },
      "source": [
        "### Otimizando `max_features`"
      ]
    },
    {
      "cell_type": "code",
      "metadata": {
        "id": "eTtPMKNvEdq7",
        "colab_type": "code",
        "colab": {}
      },
      "source": [
        "# MODELO 3\n",
        "min_samples_leaf = opt_params['min_samples_leaf']\n",
        "max_features = None\n",
        "subsample = 0.8\n",
        "params = {'max_features': range(21, 31, 1)}"
      ],
      "execution_count": 0,
      "outputs": []
    },
    {
      "cell_type": "code",
      "metadata": {
        "id": "xjXgyUVtE1Ye",
        "colab_type": "code",
        "outputId": "b42482cc-233e-4310-dd28-9f9854e92b7c",
        "colab": {
          "base_uri": "https://localhost:8080/",
          "height": 89
        }
      },
      "source": [
        "gbc, opt_param, score = optimize(n_estimators = n_estimators,\n",
        "                                 learning_rate = learning_rate,\n",
        "                                 min_samples_split = min_samples_split,\n",
        "                                 min_samples_leaf = min_samples_leaf,\n",
        "                                 max_depth = max_depth,\n",
        "                                 max_features = max_features,\n",
        "                                 subsample = subsample,\n",
        "                                 params = params)"
      ],
      "execution_count": 0,
      "outputs": [
        {
          "output_type": "stream",
          "text": [
            "/usr/local/lib/python3.6/dist-packages/joblib/externals/loky/process_executor.py:706: UserWarning: A worker stopped while some jobs were given to the executor. This can be caused by a too short worker timeout or by a memory leak.\n",
            "  \"timeout or by a memory leak.\", UserWarning\n"
          ],
          "name": "stderr"
        },
        {
          "output_type": "stream",
          "text": [
            "{'max_features': 29} 0.671950883796194\n"
          ],
          "name": "stdout"
        }
      ]
    },
    {
      "cell_type": "code",
      "metadata": {
        "id": "tlMmD4a0s8YM",
        "colab_type": "code",
        "colab": {}
      },
      "source": [
        "# Atualizando as variáveis com os resultados\n",
        "models = np.append(models, gbc)\n",
        "opt_params = {**opt_params, **opt_param}\n",
        "scores = np.append(scores, score)"
      ],
      "execution_count": 0,
      "outputs": []
    },
    {
      "cell_type": "code",
      "metadata": {
        "id": "lo_PLcIss-PL",
        "colab_type": "code",
        "outputId": "6b2929c4-18c1-4f9f-e740-6d9afd2ff53a",
        "colab": {
          "base_uri": "https://localhost:8080/",
          "height": 104
        }
      },
      "source": [
        "opt_params"
      ],
      "execution_count": 0,
      "outputs": [
        {
          "output_type": "execute_result",
          "data": {
            "text/plain": [
              "{'max_depth': 5,\n",
              " 'max_features': 29,\n",
              " 'min_samples_leaf': 50,\n",
              " 'min_samples_split': 300,\n",
              " 'n_estimators': 100}"
            ]
          },
          "metadata": {
            "tags": []
          },
          "execution_count": 104
        }
      ]
    },
    {
      "cell_type": "markdown",
      "metadata": {
        "id": "G7AjTWouaG1d",
        "colab_type": "text"
      },
      "source": [
        "### Otimizando `subsample`"
      ]
    },
    {
      "cell_type": "code",
      "metadata": {
        "id": "NI_c7j3itPsL",
        "colab_type": "code",
        "colab": {}
      },
      "source": [
        "max_features = opt_params['max_features']\n",
        "subsample = None\n",
        "params = {'subsample': np.append(np.arange(0.6, 1, 0.05), 1)}"
      ],
      "execution_count": 0,
      "outputs": []
    },
    {
      "cell_type": "code",
      "metadata": {
        "id": "2SuyN0T_tmzK",
        "colab_type": "code",
        "outputId": "6dbcb8e5-fd72-4dd2-b0d1-7feed8c33f49",
        "colab": {
          "base_uri": "https://localhost:8080/",
          "height": 35
        }
      },
      "source": [
        "np.append(np.arange(0.6, 1, 0.05), 1)"
      ],
      "execution_count": 0,
      "outputs": [
        {
          "output_type": "execute_result",
          "data": {
            "text/plain": [
              "array([0.6 , 0.65, 0.7 , 0.75, 0.8 , 0.85, 0.9 , 0.95, 1.  ])"
            ]
          },
          "metadata": {
            "tags": []
          },
          "execution_count": 111
        }
      ]
    },
    {
      "cell_type": "code",
      "metadata": {
        "id": "pGiZQM1_uf_c",
        "colab_type": "code",
        "outputId": "c60b3858-d30b-4357-80f9-513f52e9a145",
        "colab": {
          "base_uri": "https://localhost:8080/",
          "height": 89
        }
      },
      "source": [
        "gbc, opt_param, score = optimize(n_estimators = n_estimators,\n",
        "                                 learning_rate = learning_rate,\n",
        "                                 min_samples_split = min_samples_split,\n",
        "                                 min_samples_leaf = min_samples_leaf,\n",
        "                                 max_depth = max_depth,\n",
        "                                 max_features = max_features,\n",
        "                                 subsample = subsample,\n",
        "                                 params = params)"
      ],
      "execution_count": 0,
      "outputs": [
        {
          "output_type": "stream",
          "text": [
            "/usr/local/lib/python3.6/dist-packages/joblib/externals/loky/process_executor.py:706: UserWarning: A worker stopped while some jobs were given to the executor. This can be caused by a too short worker timeout or by a memory leak.\n",
            "  \"timeout or by a memory leak.\", UserWarning\n"
          ],
          "name": "stderr"
        },
        {
          "output_type": "stream",
          "text": [
            "{'subsample': 0.9000000000000002} 0.674138668383038\n"
          ],
          "name": "stdout"
        }
      ]
    },
    {
      "cell_type": "code",
      "metadata": {
        "id": "cGE7tcS3wCCJ",
        "colab_type": "code",
        "colab": {}
      },
      "source": [
        "# Atualizando as variáveis com os resultados\n",
        "models = np.append(models, gbc)\n",
        "opt_params = {**opt_params, **opt_param}\n",
        "scores = np.append(scores, score)"
      ],
      "execution_count": 0,
      "outputs": []
    },
    {
      "cell_type": "code",
      "metadata": {
        "id": "gwlYIU1CwD1N",
        "colab_type": "code",
        "outputId": "f7d12e0e-6aec-433a-f51b-198b770d0371",
        "colab": {
          "base_uri": "https://localhost:8080/",
          "height": 121
        }
      },
      "source": [
        "opt_params"
      ],
      "execution_count": 0,
      "outputs": [
        {
          "output_type": "execute_result",
          "data": {
            "text/plain": [
              "{'max_depth': 5,\n",
              " 'max_features': 29,\n",
              " 'min_samples_leaf': 50,\n",
              " 'min_samples_split': 300,\n",
              " 'n_estimators': 100,\n",
              " 'subsample': 0.9000000000000002}"
            ]
          },
          "metadata": {
            "tags": []
          },
          "execution_count": 114
        }
      ]
    },
    {
      "cell_type": "code",
      "metadata": {
        "id": "0nu3p7YmxQhq",
        "colab_type": "code",
        "outputId": "d8cb202c-3cc9-4c27-f24a-d0125e50eef2",
        "colab": {
          "base_uri": "https://localhost:8080/",
          "height": 52
        }
      },
      "source": [
        "scores"
      ],
      "execution_count": 0,
      "outputs": [
        {
          "output_type": "execute_result",
          "data": {
            "text/plain": [
              "array([0.66785681, 0.67179333, 0.67254987, 0.67134409, 0.67195088,\n",
              "       0.67413867])"
            ]
          },
          "metadata": {
            "tags": []
          },
          "execution_count": 115
        }
      ]
    },
    {
      "cell_type": "markdown",
      "metadata": {
        "id": "c1rgPcM_aG1i",
        "colab_type": "text"
      },
      "source": [
        "### Otimizando `n_estimators` e `learning_rate`"
      ]
    },
    {
      "cell_type": "code",
      "metadata": {
        "id": "fWbTPuGSwsSU",
        "colab_type": "code",
        "colab": {}
      },
      "source": [
        "def optimize2(n_estimators, learning_rate, min_samples_split, min_samples_leaf,\n",
        "             max_depth, max_features, subsample, cv = 5):\n",
        "  np.random.seed(0)\n",
        "  gbc = GradientBoostingClassifier(n_estimators = n_estimators,\n",
        "                                  learning_rate = learning_rate,\n",
        "                                  min_samples_split = min_samples_split,\n",
        "                                  min_samples_leaf = min_samples_leaf,\n",
        "                                  max_depth = max_depth,\n",
        "                                  max_features = max_features,\n",
        "                                  subsample = subsample,\n",
        "                                  random_state = 0)\n",
        "  cv_scores = cross_val_score(gbc, X_train, y_train, scoring = 'roc_auc', cv = cv, n_jobs = -1)\n",
        "  score = cv_scores.mean()\n",
        "  plt.plot(np.append(scores, score))\n",
        "  plt.title('n_estimators = {} / learning rate = {}'.format(n_estimators, learning_rate))\n",
        "  \n",
        "  return gbc, score\n"
      ],
      "execution_count": 0,
      "outputs": []
    },
    {
      "cell_type": "code",
      "metadata": {
        "id": "O5vCEtptx4F_",
        "colab_type": "code",
        "colab": {}
      },
      "source": [
        "learning_rate = 0.1\n",
        "n_estimators = opt_params['n_estimators']"
      ],
      "execution_count": 0,
      "outputs": []
    },
    {
      "cell_type": "code",
      "metadata": {
        "id": "kMoJQDXMyWTh",
        "colab_type": "code",
        "colab": {}
      },
      "source": [
        "# MODELO 5\n",
        "subsample = opt_params['subsample']\n",
        "learning_rate /= 2\n",
        "n_estimators *= 2"
      ],
      "execution_count": 0,
      "outputs": []
    },
    {
      "cell_type": "code",
      "metadata": {
        "id": "lJj9KHnkypdf",
        "colab_type": "code",
        "outputId": "c31501fb-f0bf-4642-9fb0-841cc47154b2",
        "colab": {
          "base_uri": "https://localhost:8080/",
          "height": 35
        }
      },
      "source": [
        "learning_rate, n_estimators"
      ],
      "execution_count": 0,
      "outputs": [
        {
          "output_type": "execute_result",
          "data": {
            "text/plain": [
              "(0.05, 200)"
            ]
          },
          "metadata": {
            "tags": []
          },
          "execution_count": 120
        }
      ]
    },
    {
      "cell_type": "code",
      "metadata": {
        "id": "ZaUzN2WCy69c",
        "colab_type": "code",
        "outputId": "29d675c2-9673-43bf-9b9a-261483f9380d",
        "colab": {
          "base_uri": "https://localhost:8080/",
          "height": 335
        }
      },
      "source": [
        "gbc, score = optimize2(n_estimators = n_estimators,\n",
        "                       learning_rate = learning_rate,\n",
        "                       min_samples_split = min_samples_split,\n",
        "                       min_samples_leaf = min_samples_leaf,\n",
        "                       max_depth = max_depth,\n",
        "                       max_features = max_features,\n",
        "                       subsample = subsample)"
      ],
      "execution_count": 0,
      "outputs": [
        {
          "output_type": "stream",
          "text": [
            "/usr/local/lib/python3.6/dist-packages/joblib/externals/loky/process_executor.py:706: UserWarning: A worker stopped while some jobs were given to the executor. This can be caused by a too short worker timeout or by a memory leak.\n",
            "  \"timeout or by a memory leak.\", UserWarning\n"
          ],
          "name": "stderr"
        },
        {
          "output_type": "display_data",
          "data": {
            "image/png": "[encoded data removed]",
            "text/plain": [
              "<Figure size 432x288 with 1 Axes>"
            ]
          },
          "metadata": {
            "tags": []
          }
        }
      ]
    },
    {
      "cell_type": "code",
      "metadata": {
        "id": "J2PHN6r40-Cr",
        "colab_type": "code",
        "outputId": "3c6b8a1b-88c7-4db4-dd12-0f282c5bbbff",
        "colab": {
          "base_uri": "https://localhost:8080/",
          "height": 35
        }
      },
      "source": [
        "score"
      ],
      "execution_count": 0,
      "outputs": [
        {
          "output_type": "execute_result",
          "data": {
            "text/plain": [
              "0.6738332585225517"
            ]
          },
          "metadata": {
            "tags": []
          },
          "execution_count": 127
        }
      ]
    },
    {
      "cell_type": "code",
      "metadata": {
        "id": "tX_u2sZB0vUJ",
        "colab_type": "code",
        "outputId": "4ddc8725-3671-412f-d16a-4d9dd9374060",
        "colab": {
          "base_uri": "https://localhost:8080/",
          "height": 52
        }
      },
      "source": [
        "scores"
      ],
      "execution_count": 0,
      "outputs": [
        {
          "output_type": "execute_result",
          "data": {
            "text/plain": [
              "array([0.66785681, 0.67179333, 0.67254987, 0.67134409, 0.67195088,\n",
              "       0.67413867, 0.67383326])"
            ]
          },
          "metadata": {
            "tags": []
          },
          "execution_count": 129
        }
      ]
    },
    {
      "cell_type": "code",
      "metadata": {
        "id": "65ChSHrG1MK4",
        "colab_type": "code",
        "colab": {}
      },
      "source": [
        "# Atualizando as variáveis com os resultados\n",
        "models = np.append(models, gbc)\n",
        "scores = np.append(scores, score)"
      ],
      "execution_count": 0,
      "outputs": []
    },
    {
      "cell_type": "code",
      "metadata": {
        "id": "1Av6G4pY1oGs",
        "colab_type": "code",
        "outputId": "1c9152cf-38a0-4ca2-b10d-0916d4dc9129",
        "colab": {
          "base_uri": "https://localhost:8080/",
          "height": 35
        }
      },
      "source": [
        "# MODELO 6\n",
        "learning_rate /= 5\n",
        "n_estimators *= 5\n",
        "learning_rate, n_estimators"
      ],
      "execution_count": 0,
      "outputs": [
        {
          "output_type": "execute_result",
          "data": {
            "text/plain": [
              "(0.01, 1000)"
            ]
          },
          "metadata": {
            "tags": []
          },
          "execution_count": 130
        }
      ]
    },
    {
      "cell_type": "code",
      "metadata": {
        "id": "_tsuMyJa14ch",
        "colab_type": "code",
        "outputId": "7a0ef1fd-d153-430f-886a-901c98ac9afd",
        "colab": {
          "base_uri": "https://localhost:8080/",
          "height": 335
        }
      },
      "source": [
        "gbc, score = optimize2(n_estimators = n_estimators,\n",
        "                       learning_rate = learning_rate,\n",
        "                       min_samples_split = min_samples_split,\n",
        "                       min_samples_leaf = min_samples_leaf,\n",
        "                       max_depth = max_depth,\n",
        "                       max_features = max_features,\n",
        "                       subsample = subsample)"
      ],
      "execution_count": 0,
      "outputs": [
        {
          "output_type": "stream",
          "text": [
            "/usr/local/lib/python3.6/dist-packages/joblib/externals/loky/process_executor.py:706: UserWarning: A worker stopped while some jobs were given to the executor. This can be caused by a too short worker timeout or by a memory leak.\n",
            "  \"timeout or by a memory leak.\", UserWarning\n"
          ],
          "name": "stderr"
        },
        {
          "output_type": "display_data",
          "data": {
            "image/png": "[encoded data removed]",
            "text/plain": [
              "<Figure size 432x288 with 1 Axes>"
            ]
          },
          "metadata": {
            "tags": []
          }
        }
      ]
    },
    {
      "cell_type": "code",
      "metadata": {
        "id": "NuAl6kTE3PoY",
        "colab_type": "code",
        "colab": {}
      },
      "source": [
        "# Atualizando as variáveis com os resultados\n",
        "models = np.append(models, gbc)\n",
        "scores = np.append(scores, score)"
      ],
      "execution_count": 0,
      "outputs": []
    },
    {
      "cell_type": "code",
      "metadata": {
        "id": "1kj1Srbl3TrU",
        "colab_type": "code",
        "outputId": "98faa3c2-090c-4df1-c6ae-fa07c3878995",
        "colab": {
          "base_uri": "https://localhost:8080/",
          "height": 52
        }
      },
      "source": [
        "scores"
      ],
      "execution_count": 0,
      "outputs": [
        {
          "output_type": "execute_result",
          "data": {
            "text/plain": [
              "array([0.66785681, 0.67179333, 0.67254987, 0.67134409, 0.67195088,\n",
              "       0.67413867, 0.67383326, 0.67424078])"
            ]
          },
          "metadata": {
            "tags": []
          },
          "execution_count": 133
        }
      ]
    },
    {
      "cell_type": "code",
      "metadata": {
        "id": "o1xvZQbg3mgL",
        "colab_type": "code",
        "outputId": "0d9c3285-8100-424b-a84b-ec95b03989c4",
        "colab": {
          "base_uri": "https://localhost:8080/",
          "height": 35
        }
      },
      "source": [
        "# MODELO 7\n",
        "learning_rate /= 2\n",
        "n_estimators *= 2\n",
        "learning_rate, n_estimators"
      ],
      "execution_count": 0,
      "outputs": [
        {
          "output_type": "execute_result",
          "data": {
            "text/plain": [
              "(0.005, 2000)"
            ]
          },
          "metadata": {
            "tags": []
          },
          "execution_count": 134
        }
      ]
    },
    {
      "cell_type": "code",
      "metadata": {
        "id": "K_GV1QaJ32hl",
        "colab_type": "code",
        "outputId": "ada46830-ac0d-43d7-aa7b-307da78532f0",
        "colab": {
          "base_uri": "https://localhost:8080/",
          "height": 335
        }
      },
      "source": [
        "gbc, score = optimize2(n_estimators = n_estimators,\n",
        "                       learning_rate = learning_rate,\n",
        "                       min_samples_split = min_samples_split,\n",
        "                       min_samples_leaf = min_samples_leaf,\n",
        "                       max_depth = max_depth,\n",
        "                       max_features = max_features,\n",
        "                       subsample = subsample)"
      ],
      "execution_count": 0,
      "outputs": [
        {
          "output_type": "stream",
          "text": [
            "/usr/local/lib/python3.6/dist-packages/joblib/externals/loky/process_executor.py:706: UserWarning: A worker stopped while some jobs were given to the executor. This can be caused by a too short worker timeout or by a memory leak.\n",
            "  \"timeout or by a memory leak.\", UserWarning\n"
          ],
          "name": "stderr"
        },
        {
          "output_type": "display_data",
          "data": {
            "image/png": "[encoded data removed]",
            "text/plain": [
              "<Figure size 432x288 with 1 Axes>"
            ]
          },
          "metadata": {
            "tags": []
          }
        }
      ]
    },
    {
      "cell_type": "code",
      "metadata": {
        "id": "cX-waeyH6QiF",
        "colab_type": "code",
        "colab": {}
      },
      "source": [
        "# Atualizando as variáveis com os resultados\n",
        "models = np.append(models, gbc)\n",
        "scores = np.append(scores, score)"
      ],
      "execution_count": 0,
      "outputs": []
    },
    {
      "cell_type": "code",
      "metadata": {
        "id": "0tI__YeX6R0X",
        "colab_type": "code",
        "outputId": "cf9faae6-0653-46b0-aace-79d7c52846dd",
        "colab": {
          "base_uri": "https://localhost:8080/",
          "height": 52
        }
      },
      "source": [
        "scores"
      ],
      "execution_count": 0,
      "outputs": [
        {
          "output_type": "execute_result",
          "data": {
            "text/plain": [
              "array([0.66785681, 0.67179333, 0.67254987, 0.67134409, 0.67195088,\n",
              "       0.67413867, 0.67383326, 0.67424078, 0.67602434])"
            ]
          },
          "metadata": {
            "tags": []
          },
          "execution_count": 137
        }
      ]
    },
    {
      "cell_type": "code",
      "metadata": {
        "id": "W9G7LNeh6n46",
        "colab_type": "code",
        "outputId": "ca8eae0a-e377-4c99-ca05-089bf4501cb5",
        "colab": {
          "base_uri": "https://localhost:8080/",
          "height": 35
        }
      },
      "source": [
        "# MODELO 8\n",
        "learning_rate /= 5\n",
        "n_estimators *= 5\n",
        "learning_rate, n_estimators"
      ],
      "execution_count": 0,
      "outputs": [
        {
          "output_type": "execute_result",
          "data": {
            "text/plain": [
              "(0.001, 10000)"
            ]
          },
          "metadata": {
            "tags": []
          },
          "execution_count": 138
        }
      ]
    },
    {
      "cell_type": "code",
      "metadata": {
        "id": "6m31bODO65u5",
        "colab_type": "code",
        "outputId": "2a3fcf9c-abf6-4c47-bd6e-76a875e62737",
        "colab": {
          "base_uri": "https://localhost:8080/",
          "height": 281
        }
      },
      "source": [
        "gbc, score = optimize2(n_estimators = n_estimators,\n",
        "                       learning_rate = learning_rate,\n",
        "                       min_samples_split = min_samples_split,\n",
        "                       min_samples_leaf = min_samples_leaf,\n",
        "                       max_depth = max_depth,\n",
        "                       max_features = max_features,\n",
        "                       subsample = subsample)"
      ],
      "execution_count": 0,
      "outputs": [
        {
          "output_type": "display_data",
          "data": {
            "image/png": "[encoded data removed]",
            "text/plain": [
              "<Figure size 432x288 with 1 Axes>"
            ]
          },
          "metadata": {
            "tags": []
          }
        }
      ]
    },
    {
      "cell_type": "code",
      "metadata": {
        "id": "YlzIW10tEwmw",
        "colab_type": "code",
        "colab": {}
      },
      "source": [
        "# Atualizando as variáveis com os resultados\n",
        "models = np.append(models, gbc)\n",
        "scores = np.append(scores, score)"
      ],
      "execution_count": 0,
      "outputs": []
    },
    {
      "cell_type": "code",
      "metadata": {
        "id": "8ezLEsAfEyZ8",
        "colab_type": "code",
        "outputId": "982add3e-a23c-4e50-afe2-698ae5624b5a",
        "colab": {
          "base_uri": "https://localhost:8080/",
          "height": 52
        }
      },
      "source": [
        "scores"
      ],
      "execution_count": 0,
      "outputs": [
        {
          "output_type": "execute_result",
          "data": {
            "text/plain": [
              "array([0.66785681, 0.67179333, 0.67254987, 0.67134409, 0.67195088,\n",
              "       0.67413867, 0.67383326, 0.67424078, 0.67602434, 0.67565592])"
            ]
          },
          "metadata": {
            "tags": []
          },
          "execution_count": 141
        }
      ]
    },
    {
      "cell_type": "code",
      "metadata": {
        "id": "kl_mAxV-FgWp",
        "colab_type": "code",
        "outputId": "4218b8fc-8b4f-4a1b-8049-6ee1cdc49030",
        "colab": {
          "base_uri": "https://localhost:8080/",
          "height": 35
        }
      },
      "source": [
        "print('Modelo de melhor desempenho: ', scores.argmax(), ' - AUC: ', max(scores))"
      ],
      "execution_count": 0,
      "outputs": [
        {
          "output_type": "stream",
          "text": [
            "Modelo de melhor desempenho:  8  - AUC:  0.6760243412893268\n"
          ],
          "name": "stdout"
        }
      ]
    },
    {
      "cell_type": "code",
      "metadata": {
        "id": "VLmOu-o5GX66",
        "colab_type": "code",
        "colab": {}
      },
      "source": [
        "best_model = models[scores.argmax()]"
      ],
      "execution_count": 0,
      "outputs": []
    },
    {
      "cell_type": "code",
      "metadata": {
        "id": "YVQ0CWikGsh2",
        "colab_type": "code",
        "outputId": "e37ee08d-93eb-4d90-e818-05183c601e0e",
        "colab": {
          "base_uri": "https://localhost:8080/",
          "height": 190
        }
      },
      "source": [
        "best_model.fit(X_train, y_train)"
      ],
      "execution_count": 0,
      "outputs": [
        {
          "output_type": "execute_result",
          "data": {
            "text/plain": [
              "GradientBoostingClassifier(criterion='friedman_mse', init=None,\n",
              "                           learning_rate=0.005, loss='deviance', max_depth=5,\n",
              "                           max_features=29, max_leaf_nodes=None,\n",
              "                           min_impurity_decrease=0.0, min_impurity_split=None,\n",
              "                           min_samples_leaf=50, min_samples_split=300,\n",
              "                           min_weight_fraction_leaf=0.0, n_estimators=2000,\n",
              "                           n_iter_no_change=None, presort='auto',\n",
              "                           random_state=0, subsample=0.9000000000000002,\n",
              "                           tol=0.0001, validation_fraction=0.1, verbose=0,\n",
              "                           warm_start=False)"
            ]
          },
          "metadata": {
            "tags": []
          },
          "execution_count": 145
        }
      ]
    },
    {
      "cell_type": "code",
      "metadata": {
        "id": "NgFyFThbMxWz",
        "colab_type": "code",
        "colab": {}
      },
      "source": [
        "y_pred_probs = best_model.predict_proba(X_test)"
      ],
      "execution_count": 0,
      "outputs": []
    },
    {
      "cell_type": "code",
      "metadata": {
        "id": "Ts86VeZ8M5Ws",
        "colab_type": "code",
        "outputId": "b2c4a6c8-2d56-4a66-80dc-abfee35e2df4",
        "colab": {
          "base_uri": "https://localhost:8080/",
          "height": 138
        }
      },
      "source": [
        "y_pred_probs"
      ],
      "execution_count": 0,
      "outputs": [
        {
          "output_type": "execute_result",
          "data": {
            "text/plain": [
              "array([[0.84254021, 0.15745979],\n",
              "       [0.96644017, 0.03355983],\n",
              "       [0.9460464 , 0.0539536 ],\n",
              "       ...,\n",
              "       [0.93890001, 0.06109999],\n",
              "       [0.94081498, 0.05918502],\n",
              "       [0.86984601, 0.13015399]])"
            ]
          },
          "metadata": {
            "tags": []
          },
          "execution_count": 147
        }
      ]
    },
    {
      "cell_type": "code",
      "metadata": {
        "id": "XmoI2qXtNRHh",
        "colab_type": "code",
        "outputId": "8a3e60b9-e758-472a-a879-532f731a39aa",
        "colab": {
          "base_uri": "https://localhost:8080/",
          "height": 52
        }
      },
      "source": [
        "y_pred_probs[:, 1]"
      ],
      "execution_count": 0,
      "outputs": [
        {
          "output_type": "execute_result",
          "data": {
            "text/plain": [
              "array([0.15745979, 0.03355983, 0.0539536 , ..., 0.06109999, 0.05918502,\n",
              "       0.13015399])"
            ]
          },
          "metadata": {
            "tags": []
          },
          "execution_count": 148
        }
      ]
    },
    {
      "cell_type": "code",
      "metadata": {
        "id": "IystfGfaNGJW",
        "colab_type": "code",
        "outputId": "1b2dd2ab-dc1c-47da-970e-718e7f0008cd",
        "colab": {
          "base_uri": "https://localhost:8080/",
          "height": 35
        }
      },
      "source": [
        "roc_auc_score(y_test, y_pred_probs[:, 1])"
      ],
      "execution_count": 0,
      "outputs": [
        {
          "output_type": "execute_result",
          "data": {
            "text/plain": [
              "0.686824939672801"
            ]
          },
          "metadata": {
            "tags": []
          },
          "execution_count": 149
        }
      ]
    },
    {
      "cell_type": "markdown",
      "metadata": {
        "id": "iQh-3LhLOJA5",
        "colab_type": "text"
      },
      "source": [
        "## Resultados KDD Cup 2009\n",
        "\n",
        "https://www.kdd.org/kdd-cup/view/kdd-cup-2009/Results\n",
        "\n",
        "## Conclusões\n",
        "\n",
        "> Nesse exercício, foi possível modelar a possibilidade do cancelamento da conta com uma área sob a curva (AUC) de 0.6868\n",
        "\n",
        "> É bom lembrar que AUC = 0.5 indica a linha de base, no caso de um modelo que faz predições aleatórias, e AUC = 1.0 indica um modelo ideal, que faz predições perfeitas\n",
        "\n",
        "> Pode parecer que o AUC alcançado não é muito alto, mas também temos que considerar que o score mais alto no desafio público foi de 0.76\n",
        "\n",
        "> Isso indica que, muito possivelmente, os dados fornecidos não são suficientes para fazer a modelagem perfeita do cancelamento da conta, e isso é sempre algo que devemos levar em consideração quando estamos tentando desenvolver modelos para problemas que não temos qualquer conhecimento prévio\n",
        "\n",
        "> Fazendo uma analogia simples, seria como tentar predizer o peso de uma pessoa usando uma base de dados com apenas peso e altura de uma população: nós até conseguiríamos uma resposta razoável, já que as duas variáveis são correlacionadas, mas ela não seria perfeita simplesmente porque mais variáveis têm impacto no peso além da altura. É possível, portanto, que o maior score indique o melhor modelo que esses dados são capazes de fornecer\n",
        "\n",
        "> Também devemos nos lembrar de que esses desafios geralmente são lançados sem que exista uma resposta prévia, eles servem justamente para que a própria comunidade tente encontrar soluções e comparar seus resultados entre si, e não com um \"padrão ouro\" ou a \"resposta certa\"\n",
        "\n",
        "> Esses desafios são uma ótima oportunidade para se familiarizar com o ambiente real da carreira de um cientista de dados, e para conhecer e implementar na prática métodos e abordagens novas.\n",
        "\n",
        "## Melhorias\n",
        "\n",
        "> Testar outros modelos sempre é uma opção que se deve considerar. Nesse exercício, nós paramos nos classificadores do tipo gradient boosting, mas também poderíamos ter considerado modelos baseados em árvores de decisão mais novos, como o XGBoost, e até em redes neurais\n",
        "\n",
        "> Os dados estão mascarados, o que dificulta qualquer feature engineering, já que para isso geralmente nós tentamos transformar as variáveis em função do conhecimento prévio que temos sobre elas. Por exemplo, se tivéssemos datas, poderíamos criar uma nova variável refletindo as estações do ano, se julgássemos relevante, mas nesse exercício ficamos restritos a tratar os dados com métricas estritamente numéricas, como o número de categorias que uma variável categórica possui, por não sabermos a que a variável se refere\n",
        "\n",
        "> Mesmo com essas restrições, a seleção das melhores variáveis pode ser feita apenas considerando a natureza dos dados, e não da própria variável, e é possível testar outros métodos de seleção além daquele que nós usamos (seleção baseada em árvore de decisão)\n",
        "\n",
        "> Também é possível melhorar o processo de fine-tuning da seguinte maneira: primeiro nós treinamos um hiperparâmetro num intervalo maior, por exemplo, [1, 2, 3, 4, 5], e depois que nós descobrimos o melhor parâmetro nessa faixa, por exemplo [2], podemos treinar de novo nas imediações desse valor, por exemplo [1.5, 2, 2.5], e assim por diante\n",
        "\n",
        "> Ao final do treinamento apresentado no exercício (MODELO 8), nós observamos que a métrica continuava em tendência de aumentar, então talvez seja interessante continuar testando outros valores para learning rate/número de épocas\n",
        "\n",
        "> Também é útil fazer um grid search com todos os parâmetros ao mesmo tempo, já que não necessariamente cada parâmetro se comporta da forma independente que nós consideramos, mas para isso é bom usar poucos valores para cada parâmetro (por isso é bom fazer uma seleção prévia da forma que nós fizemos), ou teríamos um número de modelos excessivamente grande pra testar, o que demanda maior capacidade de processamento"
      ]
    },
    {
      "cell_type": "markdown",
      "metadata": {
        "id": "RoUutZU0aG17",
        "colab_type": "text"
      },
      "source": [
        "# Etapa 2: Modelando 'appetency' (tendência a usar novos produtos ou serviços)\n",
        "\n",
        "O modelo para a nova variável de saída só precisa ser atualizado a partir da seleção de variáveis através de árvore de decisão. Primeiro carregaremos os dados correspondentes à variável `appetency`, depois presseguiremos com o pré-processamento do dataframe `features` até o final, repetindo o processo descrito acima."
      ]
    },
    {
      "cell_type": "code",
      "metadata": {
        "id": "l8jgXYDSaG17",
        "colab_type": "code",
        "colab": {}
      },
      "source": [
        "outcome = pd.read_csv('orange_small_train_appetency.labels', header = None)"
      ],
      "execution_count": 0,
      "outputs": []
    },
    {
      "cell_type": "code",
      "metadata": {
        "id": "m0fXoDsjaG19",
        "colab_type": "code",
        "colab": {}
      },
      "source": [
        "features_a = pd.get_dummies(features)"
      ],
      "execution_count": 0,
      "outputs": []
    },
    {
      "cell_type": "code",
      "metadata": {
        "id": "K6DkTojAaG1-",
        "colab_type": "code",
        "colab": {}
      },
      "source": [
        "variables, importances = etc_importances(features_a, outcome)\n",
        "sum_importances = sum_and_plot_importances(variables, importances)"
      ],
      "execution_count": 0,
      "outputs": []
    },
    {
      "cell_type": "code",
      "metadata": {
        "id": "_eh3AOXraG1_",
        "colab_type": "code",
        "colab": {}
      },
      "source": [
        "features_a = keep_vars(features_a, sum_importances, threshold = 0.99)\n",
        "features_a.shape"
      ],
      "execution_count": 0,
      "outputs": []
    },
    {
      "cell_type": "code",
      "metadata": {
        "id": "S_Ir0d9_aG2A",
        "colab_type": "code",
        "colab": {}
      },
      "source": [
        "X_train, X_test, y_train, y_test = split_datasets(features_a, outcome)"
      ],
      "execution_count": 0,
      "outputs": []
    },
    {
      "cell_type": "code",
      "metadata": {
        "id": "p1HvcA9haG2C",
        "colab_type": "code",
        "colab": {}
      },
      "source": [
        "rfc_test(X_train, y_train)"
      ],
      "execution_count": 0,
      "outputs": []
    },
    {
      "cell_type": "code",
      "metadata": {
        "id": "tEWFZdqMaG2E",
        "colab_type": "code",
        "colab": {}
      },
      "source": [
        "gbc_test(X_train, y_train)"
      ],
      "execution_count": 0,
      "outputs": []
    },
    {
      "cell_type": "code",
      "metadata": {
        "id": "YFQAXzoIaG2G",
        "colab_type": "code",
        "colab": {}
      },
      "source": [
        "models = np.array([])\n",
        "opt_params = dict()\n",
        "scores = np.array([])"
      ],
      "execution_count": 0,
      "outputs": []
    },
    {
      "cell_type": "code",
      "metadata": {
        "id": "t8bzSJ_1aG2H",
        "colab_type": "code",
        "colab": {}
      },
      "source": [
        "### MODELO 0\n",
        "\n",
        "learning_rate = 0.1\n",
        "n_estimators = None\n",
        "max_depth = 8\n",
        "min_samples_split = 250\n",
        "min_samples_leaf = 20\n",
        "max_features = 'sqrt'\n",
        "subsample = 0.8\n",
        "params = {'n_estimators': range(10, 101, 10)}\n",
        "\n",
        "gbc, opt_param, score = optimize(n_estimators = n_estimators,\n",
        "                                 learning_rate = learning_rate,\n",
        "                                 min_samples_split = min_samples_split,\n",
        "                                 min_samples_leaf = min_samples_leaf,\n",
        "                                 max_depth = max_depth,\n",
        "                                 max_features = max_features,\n",
        "                                 subsample = subsample,\n",
        "                                 params = params)"
      ],
      "execution_count": 0,
      "outputs": []
    },
    {
      "cell_type": "code",
      "metadata": {
        "id": "EqSkNul4aG2I",
        "colab_type": "code",
        "colab": {}
      },
      "source": [
        "models = np.append(models, gbc);\n",
        "opt_params = {**opt_params, **opt_param}\n",
        "scores = np.append(scores, score);"
      ],
      "execution_count": 0,
      "outputs": []
    },
    {
      "cell_type": "code",
      "metadata": {
        "id": "enKxPwtuaG2L",
        "colab_type": "code",
        "colab": {}
      },
      "source": [
        "### MODELO 1\n",
        "\n",
        "n_estimators = opt_params['n_estimators']\n",
        "max_depth = None\n",
        "min_samples_split = None\n",
        "min_samples_leaf = 20\n",
        "max_features = 'sqrt'\n",
        "subsample = 0.8\n",
        "params = {'max_depth': range(1, 7, 1), 'min_samples_split': range(50, 151, 50)}\n",
        "\n",
        "gbc, opt_param, score = optimize(n_estimators = n_estimators,\n",
        "                                 learning_rate = learning_rate,\n",
        "                                 min_samples_split = min_samples_split,\n",
        "                                 min_samples_leaf = min_samples_leaf,\n",
        "                                 max_depth = max_depth,\n",
        "                                 max_features = max_features,\n",
        "                                 subsample = subsample,\n",
        "                                 params = params)"
      ],
      "execution_count": 0,
      "outputs": []
    },
    {
      "cell_type": "code",
      "metadata": {
        "id": "YoJfcIsxaG2M",
        "colab_type": "code",
        "colab": {}
      },
      "source": [
        "models = np.append(models, gbc);\n",
        "opt_params = {**opt_params, **opt_param}\n",
        "scores = np.append(scores, score);"
      ],
      "execution_count": 0,
      "outputs": []
    },
    {
      "cell_type": "code",
      "metadata": {
        "id": "iOwwGtOMaG2N",
        "colab_type": "code",
        "colab": {}
      },
      "source": [
        "### MODELO 2\n",
        "\n",
        "max_depth = opt_params['max_depth']\n",
        "min_samples_split = opt_params['min_samples_split']\n",
        "min_samples_leaf = None\n",
        "max_features = 'sqrt'\n",
        "subsample = 0.8\n",
        "params = {'min_samples_leaf': range(1, 11, 1)}\n",
        "\n",
        "gbc, opt_param, score = optimize(n_estimators = n_estimators,\n",
        "                                 learning_rate = learning_rate,\n",
        "                                 min_samples_split = min_samples_split,\n",
        "                                 min_samples_leaf = min_samples_leaf,\n",
        "                                 max_depth = max_depth,\n",
        "                                 max_features = max_features,\n",
        "                                 subsample = subsample,\n",
        "                                 params = params)"
      ],
      "execution_count": 0,
      "outputs": []
    },
    {
      "cell_type": "code",
      "metadata": {
        "id": "pNtelzIsaG2P",
        "colab_type": "code",
        "colab": {}
      },
      "source": [
        "models = np.append(models, gbc);\n",
        "opt_params = {**opt_params, **opt_param}\n",
        "scores = np.append(scores, score);"
      ],
      "execution_count": 0,
      "outputs": []
    },
    {
      "cell_type": "code",
      "metadata": {
        "id": "Epx-k7AyaG2Q",
        "colab_type": "code",
        "colab": {}
      },
      "source": [
        "### MODELO 3\n",
        "\n",
        "min_samples_leaf = opt_params['min_samples_leaf']\n",
        "max_features = None\n",
        "subsample = 0.8\n",
        "params = {'max_features': range(21, 31, 1)}\n",
        "\n",
        "gbc, opt_param, score = optimize(n_estimators = n_estimators,\n",
        "                                 learning_rate = learning_rate,\n",
        "                                 min_samples_split = min_samples_split,\n",
        "                                 min_samples_leaf = min_samples_leaf,\n",
        "                                 max_depth = max_depth,\n",
        "                                 max_features = max_features,\n",
        "                                 subsample = subsample,\n",
        "                                 params = params)"
      ],
      "execution_count": 0,
      "outputs": []
    },
    {
      "cell_type": "code",
      "metadata": {
        "id": "rTaThuQyaG2R",
        "colab_type": "code",
        "colab": {}
      },
      "source": [
        "models = np.append(models, gbc);\n",
        "opt_params = {**opt_params, **opt_param}\n",
        "scores = np.append(scores, score);"
      ],
      "execution_count": 0,
      "outputs": []
    },
    {
      "cell_type": "code",
      "metadata": {
        "id": "vB8WUEZ9aG2S",
        "colab_type": "code",
        "colab": {}
      },
      "source": [
        "### MODELO 4\n",
        "\n",
        "max_features =  opt_params['max_features']\n",
        "subsample = None\n",
        "params = {'subsample': np.append(np.arange(0.6, 1, 0.05), 1)}\n",
        "\n",
        "gbc, opt_param, score = optimize(n_estimators = n_estimators,\n",
        "                                 learning_rate = learning_rate,\n",
        "                                 min_samples_split = min_samples_split,\n",
        "                                 min_samples_leaf = min_samples_leaf,\n",
        "                                 max_depth = max_depth,\n",
        "                                 max_features = max_features,\n",
        "                                 subsample = subsample,\n",
        "                                 params = params)"
      ],
      "execution_count": 0,
      "outputs": []
    },
    {
      "cell_type": "code",
      "metadata": {
        "id": "tYfgEtzuaG2T",
        "colab_type": "code",
        "colab": {}
      },
      "source": [
        "models = np.append(models, gbc);\n",
        "opt_params = {**opt_params, **opt_param}\n",
        "scores = np.append(scores, score);"
      ],
      "execution_count": 0,
      "outputs": []
    },
    {
      "cell_type": "code",
      "metadata": {
        "id": "uIcR1WvEaG2X",
        "colab_type": "code",
        "colab": {}
      },
      "source": [
        "learning_rate = 0.1\n",
        "n_estimators = opt_params['n_estimators']"
      ],
      "execution_count": 0,
      "outputs": []
    },
    {
      "cell_type": "code",
      "metadata": {
        "id": "dkWOz150aG2Y",
        "colab_type": "code",
        "colab": {}
      },
      "source": [
        "### MODELO 5\n",
        "\n",
        "subsample = opt_params['subsample']\n",
        "learning_rate /= 2\n",
        "n_estimators *= 2\n",
        "\n",
        "gbc, score = optimize_2(n_estimators = n_estimators,\n",
        "                        learning_rate = learning_rate,\n",
        "                        min_samples_split = min_samples_split,\n",
        "                        min_samples_leaf = min_samples_leaf,\n",
        "                        max_depth = max_depth,\n",
        "                        max_features = max_features,\n",
        "                        subsample = subsample,\n",
        "                        params = params)"
      ],
      "execution_count": 0,
      "outputs": []
    },
    {
      "cell_type": "code",
      "metadata": {
        "id": "PpccH-tuaG2a",
        "colab_type": "code",
        "colab": {}
      },
      "source": [
        "models = np.append(models, gbc);\n",
        "scores = np.append(scores, score);"
      ],
      "execution_count": 0,
      "outputs": []
    },
    {
      "cell_type": "code",
      "metadata": {
        "id": "faBU9brsaG2b",
        "colab_type": "code",
        "colab": {}
      },
      "source": [
        "### MODELO 6\n",
        "\n",
        "learning_rate /= 5\n",
        "n_estimators *= 5\n",
        "\n",
        "gbc, score = optimize_2(n_estimators = n_estimators,\n",
        "                        learning_rate = learning_rate,\n",
        "                        min_samples_split = min_samples_split,\n",
        "                        min_samples_leaf = min_samples_leaf,\n",
        "                        max_depth = max_depth,\n",
        "                        max_features = max_features,\n",
        "                        subsample = subsample,\n",
        "                        params = params)"
      ],
      "execution_count": 0,
      "outputs": []
    },
    {
      "cell_type": "code",
      "metadata": {
        "id": "LANJb7LWaG2c",
        "colab_type": "code",
        "colab": {}
      },
      "source": [
        "models = np.append(models, gbc);\n",
        "scores = np.append(scores, score);"
      ],
      "execution_count": 0,
      "outputs": []
    },
    {
      "cell_type": "code",
      "metadata": {
        "id": "4jHHIqL4aG2e",
        "colab_type": "code",
        "colab": {}
      },
      "source": [
        "### MODELO 7\n",
        "\n",
        "learning_rate /= 2\n",
        "n_estimators *= 2\n",
        "\n",
        "gbc, score = optimize_2(n_estimators = n_estimators,\n",
        "                        learning_rate = learning_rate,\n",
        "                        min_samples_split = min_samples_split,\n",
        "                        min_samples_leaf = min_samples_leaf,\n",
        "                        max_depth = max_depth,\n",
        "                        max_features = max_features,\n",
        "                        subsample = subsample,\n",
        "                        params = params)"
      ],
      "execution_count": 0,
      "outputs": []
    },
    {
      "cell_type": "code",
      "metadata": {
        "id": "Hr4v4gOdaG2g",
        "colab_type": "code",
        "colab": {}
      },
      "source": [
        "models = np.append(models, gbc);\n",
        "scores = np.append(scores, score);"
      ],
      "execution_count": 0,
      "outputs": []
    },
    {
      "cell_type": "code",
      "metadata": {
        "id": "Ywx_kZ2kaG2h",
        "colab_type": "code",
        "colab": {}
      },
      "source": [
        "### MODELO 8\n",
        "\n",
        "learning_rate /= 5\n",
        "n_estimators *= 5\n",
        "\n",
        "gbc, score = optimize_2(n_estimators = n_estimators,\n",
        "                        learning_rate = learning_rate,\n",
        "                        min_samples_split = min_samples_split,\n",
        "                        min_samples_leaf = min_samples_leaf,\n",
        "                        max_depth = max_depth,\n",
        "                        max_features = max_features,\n",
        "                        subsample = subsample,\n",
        "                        params = params)"
      ],
      "execution_count": 0,
      "outputs": []
    },
    {
      "cell_type": "code",
      "metadata": {
        "id": "PMzil0qKaG2j",
        "colab_type": "code",
        "colab": {}
      },
      "source": [
        "models = np.append(models, gbc);\n",
        "scores = np.append(scores, score);"
      ],
      "execution_count": 0,
      "outputs": []
    },
    {
      "cell_type": "code",
      "metadata": {
        "id": "-Cr7twI5aG2n",
        "colab_type": "code",
        "colab": {}
      },
      "source": [
        "print('Modelo de melhor desempenho: ', scores.argmax(), ' - AUC: ', max(scores))"
      ],
      "execution_count": 0,
      "outputs": []
    },
    {
      "cell_type": "code",
      "metadata": {
        "scrolled": true,
        "id": "zORLdedGaG2q",
        "colab_type": "code",
        "colab": {}
      },
      "source": [
        "best_model = models[scores.argmax()]\n",
        "best_model.fit(X_train, y_train)"
      ],
      "execution_count": 0,
      "outputs": []
    },
    {
      "cell_type": "code",
      "metadata": {
        "id": "wtvM4IvbaG2t",
        "colab_type": "code",
        "colab": {}
      },
      "source": [
        "y_pred_probs = best_model.predict_proba(X_test)\n",
        "roc_auc_score(y_test, y_pred_probs[:, 1])"
      ],
      "execution_count": 0,
      "outputs": []
    },
    {
      "cell_type": "markdown",
      "metadata": {
        "id": "vhX2wtGtaG2u",
        "colab_type": "text"
      },
      "source": [
        "**Conclusão:** O modelo otimizado atingiu AUC de `0.7955` no dataset de teste."
      ]
    },
    {
      "cell_type": "markdown",
      "metadata": {
        "id": "uE9aL9RraG2u",
        "colab_type": "text"
      },
      "source": [
        "# Etapa 3: Modelando 'upselling' (propensão para comprar upgrades)"
      ]
    },
    {
      "cell_type": "code",
      "metadata": {
        "id": "UDOjpQvqaG2v",
        "colab_type": "code",
        "colab": {}
      },
      "source": [
        "outcome = pd.read_csv(path + 'orange_small_train_upselling.labels', header = None)"
      ],
      "execution_count": 0,
      "outputs": []
    },
    {
      "cell_type": "code",
      "metadata": {
        "id": "YqpD43ggaG2x",
        "colab_type": "code",
        "colab": {}
      },
      "source": [
        "features_u = pd.get_dummies(features)"
      ],
      "execution_count": 0,
      "outputs": []
    },
    {
      "cell_type": "code",
      "metadata": {
        "id": "lAhWlwD4aG2y",
        "colab_type": "code",
        "colab": {}
      },
      "source": [
        "variables, importances = etc_importances(features_u, outcome)\n",
        "sum_importances = sum_and_plot_importances(variables, importances)"
      ],
      "execution_count": 0,
      "outputs": []
    },
    {
      "cell_type": "code",
      "metadata": {
        "id": "E6RDA2uvaG2z",
        "colab_type": "code",
        "colab": {}
      },
      "source": [
        "features_u = keep_vars(features_u, sum_importances, threshold = 0.99)\n",
        "features_u.shape"
      ],
      "execution_count": 0,
      "outputs": []
    },
    {
      "cell_type": "code",
      "metadata": {
        "id": "T_1ARtp7aG20",
        "colab_type": "code",
        "colab": {}
      },
      "source": [
        "X_train, X_test, y_train, y_test = split_datasets(features_u, outcome)"
      ],
      "execution_count": 0,
      "outputs": []
    },
    {
      "cell_type": "code",
      "metadata": {
        "id": "uy_MQSboaG21",
        "colab_type": "code",
        "colab": {}
      },
      "source": [
        "rfc_test(X_train, y_train)"
      ],
      "execution_count": 0,
      "outputs": []
    },
    {
      "cell_type": "code",
      "metadata": {
        "id": "L5npzc9aaG21",
        "colab_type": "code",
        "colab": {}
      },
      "source": [
        "gbc_test(X_train, y_train)"
      ],
      "execution_count": 0,
      "outputs": []
    },
    {
      "cell_type": "code",
      "metadata": {
        "id": "x8tbG0kraG22",
        "colab_type": "code",
        "colab": {}
      },
      "source": [
        "models = np.array([])\n",
        "opt_params = dict()\n",
        "scores = np.array([])"
      ],
      "execution_count": 0,
      "outputs": []
    },
    {
      "cell_type": "code",
      "metadata": {
        "id": "myHHVzEAaG23",
        "colab_type": "code",
        "colab": {}
      },
      "source": [
        "### MODELO 0\n",
        "\n",
        "learning_rate = 0.1\n",
        "n_estimators = None\n",
        "max_depth = 8\n",
        "min_samples_split = 250\n",
        "min_samples_leaf = 20\n",
        "max_features = 'sqrt'\n",
        "subsample = 0.8\n",
        "params = {'n_estimators': range(50, 101, 10)}\n",
        "\n",
        "gbc, opt_param, score = optimize(n_estimators = n_estimators,\n",
        "                                 learning_rate = learning_rate,\n",
        "                                 min_samples_split = min_samples_split,\n",
        "                                 min_samples_leaf = min_samples_leaf,\n",
        "                                 max_depth = max_depth,\n",
        "                                 max_features = max_features,\n",
        "                                 subsample = subsample,\n",
        "                                 params = params)"
      ],
      "execution_count": 0,
      "outputs": []
    },
    {
      "cell_type": "code",
      "metadata": {
        "id": "jt_zx34QaG24",
        "colab_type": "code",
        "colab": {}
      },
      "source": [
        "models = np.append(models, gbc);\n",
        "opt_params = {**opt_params, **opt_param}\n",
        "scores = np.append(scores, score);"
      ],
      "execution_count": 0,
      "outputs": []
    },
    {
      "cell_type": "code",
      "metadata": {
        "id": "nQiCLVhZaG25",
        "colab_type": "code",
        "colab": {}
      },
      "source": [
        "### MODELO 1\n",
        "\n",
        "n_estimators = opt_params['n_estimators']\n",
        "max_depth = None\n",
        "min_samples_split = None\n",
        "min_samples_leaf = 20\n",
        "max_features = 'sqrt'\n",
        "subsample = 0.8\n",
        "params = {'max_depth': range(3, 12, 2), 'min_samples_split': range(150, 401, 50)}\n",
        "\n",
        "gbc, opt_param, score = optimize(n_estimators = n_estimators,\n",
        "                                 learning_rate = learning_rate,\n",
        "                                 min_samples_split = min_samples_split,\n",
        "                                 min_samples_leaf = min_samples_leaf,\n",
        "                                 max_depth = max_depth,\n",
        "                                 max_features = max_features,\n",
        "                                 subsample = subsample,\n",
        "                                 params = params)"
      ],
      "execution_count": 0,
      "outputs": []
    },
    {
      "cell_type": "code",
      "metadata": {
        "id": "trmNlMGBaG26",
        "colab_type": "code",
        "colab": {}
      },
      "source": [
        "models = np.append(models, gbc);\n",
        "opt_params = {**opt_params, **opt_param}\n",
        "scores = np.append(scores, score);"
      ],
      "execution_count": 0,
      "outputs": []
    },
    {
      "cell_type": "code",
      "metadata": {
        "id": "vmwTYYUWaG27",
        "colab_type": "code",
        "colab": {}
      },
      "source": [
        "### MODELO 2\n",
        "\n",
        "max_depth = opt_params['max_depth']\n",
        "min_samples_split = opt_params['min_samples_split']\n",
        "min_samples_leaf = None\n",
        "max_features = 'sqrt'\n",
        "subsample = 0.8\n",
        "params = {'min_samples_leaf': range(5, 50, 5)}\n",
        "\n",
        "gbc, opt_param, score = optimize(n_estimators = n_estimators,\n",
        "                                 learning_rate = learning_rate,\n",
        "                                 min_samples_split = min_samples_split,\n",
        "                                 min_samples_leaf = min_samples_leaf,\n",
        "                                 max_depth = max_depth,\n",
        "                                 max_features = max_features,\n",
        "                                 subsample = subsample,\n",
        "                                 params = params)"
      ],
      "execution_count": 0,
      "outputs": []
    },
    {
      "cell_type": "code",
      "metadata": {
        "id": "7L-Elb7CaG28",
        "colab_type": "code",
        "colab": {}
      },
      "source": [
        "models = np.append(models, gbc);\n",
        "opt_params = {**opt_params, **opt_param}\n",
        "scores = np.append(scores, score);"
      ],
      "execution_count": 0,
      "outputs": []
    },
    {
      "cell_type": "code",
      "metadata": {
        "id": "t21aTiBOaG29",
        "colab_type": "code",
        "colab": {}
      },
      "source": [
        "### MODELO 3\n",
        "\n",
        "min_samples_leaf = opt_params['min_samples_leaf']\n",
        "max_features = None\n",
        "subsample = 0.8\n",
        "params = {'max_features': range(20, 31, 1)}\n",
        "\n",
        "gbc, opt_param, score = optimize(n_estimators = n_estimators,\n",
        "                                 learning_rate = learning_rate,\n",
        "                                 min_samples_split = min_samples_split,\n",
        "                                 min_samples_leaf = min_samples_leaf,\n",
        "                                 max_depth = max_depth,\n",
        "                                 max_features = max_features,\n",
        "                                 subsample = subsample,\n",
        "                                 params = params)"
      ],
      "execution_count": 0,
      "outputs": []
    },
    {
      "cell_type": "code",
      "metadata": {
        "id": "qPR9P3xhaG2-",
        "colab_type": "code",
        "colab": {}
      },
      "source": [
        "models = np.append(models, gbc);\n",
        "opt_params = {**opt_params, **opt_param}\n",
        "scores = np.append(scores, score);"
      ],
      "execution_count": 0,
      "outputs": []
    },
    {
      "cell_type": "code",
      "metadata": {
        "id": "B2Og_EHXaG2_",
        "colab_type": "code",
        "colab": {}
      },
      "source": [
        "### MODELO 4\n",
        "\n",
        "max_features =  opt_params['max_features']\n",
        "subsample = None\n",
        "params = {'subsample': np.append(np.arange(0.6, 1, 0.05), 1)}\n",
        "\n",
        "gbc, opt_param, score = optimize(n_estimators = n_estimators,\n",
        "                                 learning_rate = learning_rate,\n",
        "                                 min_samples_split = min_samples_split,\n",
        "                                 min_samples_leaf = min_samples_leaf,\n",
        "                                 max_depth = max_depth,\n",
        "                                 max_features = max_features,\n",
        "                                 subsample = subsample,\n",
        "                                 params = params)"
      ],
      "execution_count": 0,
      "outputs": []
    },
    {
      "cell_type": "code",
      "metadata": {
        "id": "FK5je3EjaG3B",
        "colab_type": "code",
        "colab": {}
      },
      "source": [
        "models = np.append(models, gbc);\n",
        "opt_params = {**opt_params, **opt_param}\n",
        "scores = np.append(scores, score);"
      ],
      "execution_count": 0,
      "outputs": []
    },
    {
      "cell_type": "code",
      "metadata": {
        "id": "Rdjl2rJdaG3C",
        "colab_type": "code",
        "colab": {}
      },
      "source": [
        "learning_rate = 0.1\n",
        "n_estimators = opt_params['n_estimators']"
      ],
      "execution_count": 0,
      "outputs": []
    },
    {
      "cell_type": "code",
      "metadata": {
        "id": "JubVZRywaG3D",
        "colab_type": "code",
        "colab": {}
      },
      "source": [
        "### MODELO 5\n",
        "\n",
        "subsample = opt_params['subsample']\n",
        "learning_rate /= 2\n",
        "n_estimators *= 2\n",
        "\n",
        "gbc, score = optimize_2(n_estimators = n_estimators,\n",
        "                        learning_rate = learning_rate,\n",
        "                        min_samples_split = min_samples_split,\n",
        "                        min_samples_leaf = min_samples_leaf,\n",
        "                        max_depth = max_depth,\n",
        "                        max_features = max_features,\n",
        "                        subsample = subsample,\n",
        "                        params = params)"
      ],
      "execution_count": 0,
      "outputs": []
    },
    {
      "cell_type": "code",
      "metadata": {
        "id": "usNyiYMyaG3E",
        "colab_type": "code",
        "colab": {}
      },
      "source": [
        "models = np.append(models, gbc);\n",
        "scores = np.append(scores, score);"
      ],
      "execution_count": 0,
      "outputs": []
    },
    {
      "cell_type": "code",
      "metadata": {
        "id": "3YOVcvl8aG3G",
        "colab_type": "code",
        "colab": {}
      },
      "source": [
        "### MODELO 6\n",
        "\n",
        "learning_rate /= 5\n",
        "n_estimators *= 5\n",
        "\n",
        "gbc, score = optimize_2(n_estimators = n_estimators,\n",
        "                        learning_rate = learning_rate,\n",
        "                        min_samples_split = min_samples_split,\n",
        "                        min_samples_leaf = min_samples_leaf,\n",
        "                        max_depth = max_depth,\n",
        "                        max_features = max_features,\n",
        "                        subsample = subsample,\n",
        "                        params = params)"
      ],
      "execution_count": 0,
      "outputs": []
    },
    {
      "cell_type": "code",
      "metadata": {
        "id": "IPPuuoJFaG3H",
        "colab_type": "code",
        "colab": {}
      },
      "source": [
        "models = np.append(models, gbc);\n",
        "scores = np.append(scores, score);"
      ],
      "execution_count": 0,
      "outputs": []
    },
    {
      "cell_type": "code",
      "metadata": {
        "id": "FfcMWRFyaG3J",
        "colab_type": "code",
        "colab": {}
      },
      "source": [
        "### MODELO 7\n",
        "\n",
        "learning_rate /= 2\n",
        "n_estimators *= 2\n",
        "\n",
        "gbc, score = optimize_2(n_estimators = n_estimators,\n",
        "                        learning_rate = learning_rate,\n",
        "                        min_samples_split = min_samples_split,\n",
        "                        min_samples_leaf = min_samples_leaf,\n",
        "                        max_depth = max_depth,\n",
        "                        max_features = max_features,\n",
        "                        subsample = subsample,\n",
        "                        params = params)"
      ],
      "execution_count": 0,
      "outputs": []
    },
    {
      "cell_type": "code",
      "metadata": {
        "id": "59TWlwNDaG3J",
        "colab_type": "code",
        "colab": {}
      },
      "source": [
        "models = np.append(models, gbc);\n",
        "scores = np.append(scores, score);"
      ],
      "execution_count": 0,
      "outputs": []
    },
    {
      "cell_type": "code",
      "metadata": {
        "id": "jxsCN0j-aG3K",
        "colab_type": "code",
        "colab": {}
      },
      "source": [
        "### MODELO 8\n",
        "\n",
        "learning_rate /= 5\n",
        "n_estimators *= 5\n",
        "\n",
        "gbc, score = optimize_2(n_estimators = n_estimators,\n",
        "                        learning_rate = learning_rate,\n",
        "                        min_samples_split = min_samples_split,\n",
        "                        min_samples_leaf = min_samples_leaf,\n",
        "                        max_depth = max_depth,\n",
        "                        max_features = max_features,\n",
        "                        subsample = subsample,\n",
        "                        params = params)"
      ],
      "execution_count": 0,
      "outputs": []
    },
    {
      "cell_type": "code",
      "metadata": {
        "id": "0iOI0FEIaG3L",
        "colab_type": "code",
        "colab": {}
      },
      "source": [
        "models = np.append(models, gbc);\n",
        "scores = np.append(scores, score);"
      ],
      "execution_count": 0,
      "outputs": []
    },
    {
      "cell_type": "code",
      "metadata": {
        "id": "Rp6-dnhvaG3M",
        "colab_type": "code",
        "colab": {}
      },
      "source": [
        "print('Modelo de melhor desempenho: ', scores.argmax(), ' - AUC: ', max(scores))"
      ],
      "execution_count": 0,
      "outputs": []
    },
    {
      "cell_type": "code",
      "metadata": {
        "id": "tyBjHz4DaG3N",
        "colab_type": "code",
        "colab": {}
      },
      "source": [
        "best_model = models[scores.argmax()]\n",
        "best_model.fit(X_train, y_train)"
      ],
      "execution_count": 0,
      "outputs": []
    },
    {
      "cell_type": "code",
      "metadata": {
        "id": "LW_t0-VAaG3O",
        "colab_type": "code",
        "colab": {}
      },
      "source": [
        "y_pred_probs = best_model.predict_proba(X_test)\n",
        "roc_auc_score(y_test, y_pred_probs[:, 1])"
      ],
      "execution_count": 0,
      "outputs": []
    },
    {
      "cell_type": "markdown",
      "metadata": {
        "id": "EBstwbxcaG3P",
        "colab_type": "text"
      },
      "source": [
        "**Conclusão:** O modelo otimizado atingiu AUC de `0.7622` no dataset de teste."
      ]
    }
  ]
}