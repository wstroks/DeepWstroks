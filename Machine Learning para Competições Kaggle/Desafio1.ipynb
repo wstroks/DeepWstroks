{
  "nbformat": 4,
  "nbformat_minor": 0,
  "metadata": {
    "colab": {
      "name": "Desafio1.ipynb",
      "provenance": [],
      "collapsed_sections": [
        "HFtOlQVlgVk4"
      ],
      "toc_visible": true,
      "authorship_tag": "ABX9TyP5TQJom3ODxSc9i1EGqvI5",
      "include_colab_link": true
    },
    "kernelspec": {
      "name": "python3",
      "display_name": "Python 3"
    }
  },
  "cells": [
    {
      "cell_type": "markdown",
      "metadata": {
        "id": "view-in-github",
        "colab_type": "text"
      },
      "source": [
        "<a href=\"https://colab.research.google.com/github/wstroks/DeepWstroks/blob/master/Machine%20Learning%20para%20Competi%C3%A7%C3%B5es%20Kaggle/Desafio1.ipynb\" target=\"_parent\"><img src=\"https://colab.research.google.com/assets/colab-badge.svg\" alt=\"Open In Colab\"/></a>"
      ]
    },
    {
      "cell_type": "markdown",
      "metadata": {
        "id": "FkmHTxVMUBgb",
        "colab_type": "text"
      },
      "source": [
        "## Informação da Competição e Curso"
      ]
    },
    {
      "cell_type": "markdown",
      "metadata": {
        "id": "aJjBvAiNaG0A",
        "colab_type": "text"
      },
      "source": [
        "A Administração de Relacionamento com o Consumidor é um elemento-chave das estratégias modernas de marketing. A maneira mais prática de adquirir conhecimento sobre consumidores é produzindo pontuações. Uma pontuação é a saída de um modelo e serve como avaliação de todas as instâncias de uma variável-alvo que se pretenda explicar. Ferramentas que produzem pontuações permitem projetar informações quantificáveis em uma dada população. A pontuação é calculada usando variáveis de entrada que descrevem as instâncias. As pontuações são então usadas pelo sistema de informação, por exemplo, para personalizar o relacionamento com o consumidor.\n",
        "\n",
        "Em 2009, a conferência Knowledge Discovery and Data Mining (KDD) lançou um desafio envolvendo aprendizagem de máquina. Ela disponibilizou dados de consumidores da empresa de telecomunicações francesa Orange, que deveriam ser utilizados para a construção de um modelo capaz de prever três comportamentos do consumidor. A planilha fornecida tem 50000 instâncias e 230 variáveis, sendo as primeiras 190 variáveis numéricas e as demais 40 categóricas. As variáveis de saída do modelo eram o cancelamento da conta ('churn'), a tendência de usar novos produtos e serviços ('appetency') e a propensão para comprar upgrades ou adicionais com maior margem de lucro quando apresentados (upselling), fornecidos de forma binária (-1 para *não*, 1 para *sim*).\n",
        "\n",
        "O trabalho apresentado aqui envolve a criação de um modelo para predição de *churn*, *appetency* e *upselling* com base nos dados fornecidos dos clientes da Orange. O critério para avaliação do modelo será a métrica AUC, que dimensiona o trade-off entre taxa de falsos positivos e taxa de verdadeiros positivos: quanto mais próximo de 1, menor o trade-off e melhor o modelo.\n",
        "\n",
        "Detalhes sobre a competição: https://www.kdd.org/kdd-cup/view/kdd-cup-2009"
      ]
    },
    {
      "cell_type": "markdown",
      "metadata": {
        "id": "HFtOlQVlgVk4",
        "colab_type": "text"
      },
      "source": [
        "## O que é UAC?! (Area Under The Curve)\n"
      ]
    },
    {
      "cell_type": "markdown",
      "metadata": {
        "id": "0vVYsZ_ykuVO",
        "colab_type": "text"
      },
      "source": [
        "\n",
        "As curvas AUC e ROC estão entre as métricas mais utilizadas para a avaliação de um modelo de Machine Learning.\n",
        "A curva AUC é derivada da curva ROC, então vamos inicialmente entender a curva ROC, que significa “Receiver Operating Characteristic”.\n",
        "\n",
        "\n",
        "A curva ROC mostra o quão bom o modelo criado pode distinguir entre duas coisas (já que é utilizado para classificação). Essas duas coisas podem ser 0 ou 1, ou positivo e negativo. Os melhores modelos conseguem distinguir com precisão o binômio.\n",
        "\n",
        "### O ROC possui dois parâmetros:\n",
        "\n",
        "1.   Taxa de verdadeiro positivo (True Positive Rate), que é dado por true positives / (true positives + false negatives)\n",
        "2.   Taxa de falso positivo (False Positive Rate), que é dado por false positives / (false positives + true negatives)\n",
        "\n",
        "Uma curva ROC traça “True Positive Rate vs. False Positive Rate” em diferentes limiares de classificação (veja figura abaixo).\n",
        "\n",
        "Assim, na tentativa de simplificar a análise da ROC, a AUC (“area under the ROC curve”) nada mais é que uma maneira de resumir a curva ROC em um único valor, agregando todos os limiares da ROC, calculando a “área sob a curva”.\n",
        "\n",
        "### AUC\n",
        "\n",
        "O valor do AUC varia de 0,0 até 1,0 e o limiar entre a classe é 0,5. Ou seja, acima desse limite, o algoritmo classifica em uma classe e abaixo na outra classe.\n",
        "Quanto maior o AUC, melhor.\n",
        "\n",
        "![alt text](https://miro.medium.com/max/1400/1*RqK5DjVxcj4qZsCdN4FOSQ.png)\n",
        "\n",
        "Um modelo cujas previsões estão 100% erradas tem uma AUC de 0, enquanto um modelo cujas previsões são 100% corretas tem uma AUC de 1. Cada modelo apresentará um valor de AUC, o que irá te auxiliar na escolha do melhor, como na figura abaixo:\n",
        "\n",
        "O interessante do AUC é que a métrica é invariante em escala, uma vez que trabalha com precisão das classificações ao invés de seus valores absolutos. Além disso, também mede a qualidade das previsões do modelo, independentemente do limiar de classificação.\n",
        "\n",
        "\n",
        "### Fontes  [link 1](https://medium.com/bio-data-blog/entenda-o-que-%C3%A9-auc-e-roc-nos-modelos-de-machine-learning-8191fb4df772) [link 2](https://medium.com/@eam.avelar/o-que-%C3%A9-auc-e-roc-nos-modelos-de-machine-learning-2e2c4112033d)\n",
        "\n",
        "\n"
      ]
    },
    {
      "cell_type": "markdown",
      "metadata": {
        "id": "ADmPPkiAkZwv",
        "colab_type": "text"
      },
      "source": [
        "## Etapa 1: Modelo de cancelamento de conta ('churn')"
      ]
    },
    {
      "cell_type": "code",
      "metadata": {
        "id": "X8DjliAOljUQ",
        "colab_type": "code",
        "colab": {}
      },
      "source": [
        "import pandas as pd\n",
        "import numpy as np\n",
        "from sklearn.ensemble import ExtraTreesClassifier, RandomForestClassifier, GradientBoostingClassifier\n",
        "from matplotlib import pyplot as plt\n",
        "from sklearn.metrics import roc_auc_score\n",
        "from sklearn.model_selection import train_test_split, cross_val_score, GridSearchCV"
      ],
      "execution_count": 0,
      "outputs": []
    },
    {
      "cell_type": "markdown",
      "metadata": {
        "id": "hb6qSPzu8K_a",
        "colab_type": "text"
      },
      "source": [
        "#### Arquivos que são utilizados para rodar o desafio importados do my drive (train, test, etc)\n",
        "\n",
        "[link text](https://drive.google.com/drive/folders/11jBTS4Gknv9ZBmAEB-CxYTIK9k7jbNtT?usp=sharing)\n",
        "\n",
        "---\n",
        "\n"
      ]
    },
    {
      "cell_type": "code",
      "metadata": {
        "id": "pjDx5Q8Rzecy",
        "colab_type": "code",
        "colab": {
          "base_uri": "https://localhost:8080/",
          "height": 34
        },
        "outputId": "8fbd0d91-3132-4e45-c141-cdf6e340935c"
      },
      "source": [
        "from google.colab import drive\n",
        "drive.mount('/content/drive')"
      ],
      "execution_count": 152,
      "outputs": [
        {
          "output_type": "stream",
          "text": [
            "Drive already mounted at /content/drive; to attempt to forcibly remount, call drive.mount(\"/content/drive\", force_remount=True).\n"
          ],
          "name": "stdout"
        }
      ]
    },
    {
      "cell_type": "markdown",
      "metadata": {
        "id": "z7mHeuC0o1GF",
        "colab_type": "text"
      },
      "source": [
        "### Carregando dados\n",
        "\n",
        "upload atraves do files"
      ]
    },
    {
      "cell_type": "code",
      "metadata": {
        "id": "sVnJcbjEowNN",
        "colab_type": "code",
        "colab": {}
      },
      "source": [
        "recursos = pd.read_csv('/content/drive/My Drive/Desafio/orange_small_train.data', sep='\\t', na_filter=False)\n",
        "resultado = pd.read_csv('/content/drive/My Drive/Desafio/orange_small_train_churn.labels', header=None)\n"
      ],
      "execution_count": 0,
      "outputs": []
    },
    {
      "cell_type": "markdown",
      "metadata": {
        "id": "YofXpt57sf87",
        "colab_type": "text"
      },
      "source": [
        "#### 50 mil dados e 230 colunas"
      ]
    },
    {
      "cell_type": "code",
      "metadata": {
        "id": "3EcwD3n5r-q9",
        "colab_type": "code",
        "outputId": "7447f5cd-9c28-4791-e991-b4fcff3c5049",
        "colab": {
          "base_uri": "https://localhost:8080/",
          "height": 34
        }
      },
      "source": [
        "recursos.shape\n"
      ],
      "execution_count": 154,
      "outputs": [
        {
          "output_type": "execute_result",
          "data": {
            "text/plain": [
              "(50000, 230)"
            ]
          },
          "metadata": {
            "tags": []
          },
          "execution_count": 154
        }
      ]
    },
    {
      "cell_type": "code",
      "metadata": {
        "id": "Eaa8nPWwsY4N",
        "colab_type": "code",
        "outputId": "30fcc350-89b3-4b70-b62a-5abf10732f80",
        "colab": {
          "base_uri": "https://localhost:8080/",
          "height": 253
        }
      },
      "source": [
        "recursos.head()"
      ],
      "execution_count": 155,
      "outputs": [
        {
          "output_type": "execute_result",
          "data": {
            "text/html": [
              "<div>\n",
              "<style scoped>\n",
              "    .dataframe tbody tr th:only-of-type {\n",
              "        vertical-align: middle;\n",
              "    }\n",
              "\n",
              "    .dataframe tbody tr th {\n",
              "        vertical-align: top;\n",
              "    }\n",
              "\n",
              "    .dataframe thead th {\n",
              "        text-align: right;\n",
              "    }\n",
              "</style>\n",
              "<table border=\"1\" class=\"dataframe\">\n",
              "  <thead>\n",
              "    <tr style=\"text-align: right;\">\n",
              "      <th></th>\n",
              "      <th>Var1</th>\n",
              "      <th>Var2</th>\n",
              "      <th>Var3</th>\n",
              "      <th>Var4</th>\n",
              "      <th>Var5</th>\n",
              "      <th>Var6</th>\n",
              "      <th>Var7</th>\n",
              "      <th>Var8</th>\n",
              "      <th>Var9</th>\n",
              "      <th>Var10</th>\n",
              "      <th>Var11</th>\n",
              "      <th>Var12</th>\n",
              "      <th>Var13</th>\n",
              "      <th>Var14</th>\n",
              "      <th>Var15</th>\n",
              "      <th>Var16</th>\n",
              "      <th>Var17</th>\n",
              "      <th>Var18</th>\n",
              "      <th>Var19</th>\n",
              "      <th>Var20</th>\n",
              "      <th>Var21</th>\n",
              "      <th>Var22</th>\n",
              "      <th>Var23</th>\n",
              "      <th>Var24</th>\n",
              "      <th>Var25</th>\n",
              "      <th>Var26</th>\n",
              "      <th>Var27</th>\n",
              "      <th>Var28</th>\n",
              "      <th>Var29</th>\n",
              "      <th>Var30</th>\n",
              "      <th>Var31</th>\n",
              "      <th>Var32</th>\n",
              "      <th>Var33</th>\n",
              "      <th>Var34</th>\n",
              "      <th>Var35</th>\n",
              "      <th>Var36</th>\n",
              "      <th>Var37</th>\n",
              "      <th>Var38</th>\n",
              "      <th>Var39</th>\n",
              "      <th>Var40</th>\n",
              "      <th>...</th>\n",
              "      <th>Var191</th>\n",
              "      <th>Var192</th>\n",
              "      <th>Var193</th>\n",
              "      <th>Var194</th>\n",
              "      <th>Var195</th>\n",
              "      <th>Var196</th>\n",
              "      <th>Var197</th>\n",
              "      <th>Var198</th>\n",
              "      <th>Var199</th>\n",
              "      <th>Var200</th>\n",
              "      <th>Var201</th>\n",
              "      <th>Var202</th>\n",
              "      <th>Var203</th>\n",
              "      <th>Var204</th>\n",
              "      <th>Var205</th>\n",
              "      <th>Var206</th>\n",
              "      <th>Var207</th>\n",
              "      <th>Var208</th>\n",
              "      <th>Var209</th>\n",
              "      <th>Var210</th>\n",
              "      <th>Var211</th>\n",
              "      <th>Var212</th>\n",
              "      <th>Var213</th>\n",
              "      <th>Var214</th>\n",
              "      <th>Var215</th>\n",
              "      <th>Var216</th>\n",
              "      <th>Var217</th>\n",
              "      <th>Var218</th>\n",
              "      <th>Var219</th>\n",
              "      <th>Var220</th>\n",
              "      <th>Var221</th>\n",
              "      <th>Var222</th>\n",
              "      <th>Var223</th>\n",
              "      <th>Var224</th>\n",
              "      <th>Var225</th>\n",
              "      <th>Var226</th>\n",
              "      <th>Var227</th>\n",
              "      <th>Var228</th>\n",
              "      <th>Var229</th>\n",
              "      <th>Var230</th>\n",
              "    </tr>\n",
              "  </thead>\n",
              "  <tbody>\n",
              "    <tr>\n",
              "      <th>0</th>\n",
              "      <td></td>\n",
              "      <td></td>\n",
              "      <td></td>\n",
              "      <td></td>\n",
              "      <td></td>\n",
              "      <td>1526</td>\n",
              "      <td>7</td>\n",
              "      <td></td>\n",
              "      <td></td>\n",
              "      <td></td>\n",
              "      <td></td>\n",
              "      <td></td>\n",
              "      <td>184</td>\n",
              "      <td></td>\n",
              "      <td></td>\n",
              "      <td></td>\n",
              "      <td></td>\n",
              "      <td></td>\n",
              "      <td></td>\n",
              "      <td></td>\n",
              "      <td>464</td>\n",
              "      <td>580</td>\n",
              "      <td></td>\n",
              "      <td>14</td>\n",
              "      <td>128</td>\n",
              "      <td></td>\n",
              "      <td></td>\n",
              "      <td>166.56</td>\n",
              "      <td></td>\n",
              "      <td></td>\n",
              "      <td></td>\n",
              "      <td></td>\n",
              "      <td></td>\n",
              "      <td></td>\n",
              "      <td>0</td>\n",
              "      <td></td>\n",
              "      <td></td>\n",
              "      <td>3570</td>\n",
              "      <td></td>\n",
              "      <td></td>\n",
              "      <td>...</td>\n",
              "      <td></td>\n",
              "      <td>bZkvyxLkBI</td>\n",
              "      <td>RO12</td>\n",
              "      <td></td>\n",
              "      <td>taul</td>\n",
              "      <td>1K8T</td>\n",
              "      <td>lK27</td>\n",
              "      <td>ka_ns41</td>\n",
              "      <td>nQUveAzAF7</td>\n",
              "      <td></td>\n",
              "      <td></td>\n",
              "      <td>dXGu</td>\n",
              "      <td>9_Y1</td>\n",
              "      <td>FbIm</td>\n",
              "      <td>VpdQ</td>\n",
              "      <td>haYg</td>\n",
              "      <td>me75fM6ugJ</td>\n",
              "      <td>kIsH</td>\n",
              "      <td></td>\n",
              "      <td>uKAI</td>\n",
              "      <td>L84s</td>\n",
              "      <td>XfqtO3UdzaXh_</td>\n",
              "      <td></td>\n",
              "      <td></td>\n",
              "      <td></td>\n",
              "      <td>XTbPUYD</td>\n",
              "      <td>sH5Z</td>\n",
              "      <td>cJvF</td>\n",
              "      <td>FzaX</td>\n",
              "      <td>1YVfGrO</td>\n",
              "      <td>oslk</td>\n",
              "      <td>fXVEsaq</td>\n",
              "      <td>jySVZNlOJy</td>\n",
              "      <td></td>\n",
              "      <td></td>\n",
              "      <td>xb3V</td>\n",
              "      <td>RAYp</td>\n",
              "      <td>F2FyR07IdsN7I</td>\n",
              "      <td></td>\n",
              "      <td></td>\n",
              "    </tr>\n",
              "    <tr>\n",
              "      <th>1</th>\n",
              "      <td></td>\n",
              "      <td></td>\n",
              "      <td></td>\n",
              "      <td></td>\n",
              "      <td></td>\n",
              "      <td>525</td>\n",
              "      <td>0</td>\n",
              "      <td></td>\n",
              "      <td></td>\n",
              "      <td></td>\n",
              "      <td></td>\n",
              "      <td></td>\n",
              "      <td>0</td>\n",
              "      <td></td>\n",
              "      <td></td>\n",
              "      <td></td>\n",
              "      <td></td>\n",
              "      <td></td>\n",
              "      <td></td>\n",
              "      <td></td>\n",
              "      <td>168</td>\n",
              "      <td>210</td>\n",
              "      <td></td>\n",
              "      <td>2</td>\n",
              "      <td>24</td>\n",
              "      <td></td>\n",
              "      <td></td>\n",
              "      <td>353.52</td>\n",
              "      <td></td>\n",
              "      <td></td>\n",
              "      <td></td>\n",
              "      <td></td>\n",
              "      <td></td>\n",
              "      <td></td>\n",
              "      <td>0</td>\n",
              "      <td></td>\n",
              "      <td></td>\n",
              "      <td>4764966</td>\n",
              "      <td></td>\n",
              "      <td></td>\n",
              "      <td>...</td>\n",
              "      <td></td>\n",
              "      <td>CEat0G8rTN</td>\n",
              "      <td>RO12</td>\n",
              "      <td></td>\n",
              "      <td>taul</td>\n",
              "      <td>1K8T</td>\n",
              "      <td>2Ix5</td>\n",
              "      <td>qEdASpP</td>\n",
              "      <td>y2LIM01bE1</td>\n",
              "      <td></td>\n",
              "      <td></td>\n",
              "      <td>lg1t</td>\n",
              "      <td>9_Y1</td>\n",
              "      <td>k13i</td>\n",
              "      <td>sJzTlal</td>\n",
              "      <td>zm5i</td>\n",
              "      <td>me75fM6ugJ</td>\n",
              "      <td>kIsH</td>\n",
              "      <td></td>\n",
              "      <td>uKAI</td>\n",
              "      <td>L84s</td>\n",
              "      <td>NhsEn4L</td>\n",
              "      <td></td>\n",
              "      <td></td>\n",
              "      <td></td>\n",
              "      <td>kZJyVg2</td>\n",
              "      <td></td>\n",
              "      <td></td>\n",
              "      <td>FzaX</td>\n",
              "      <td>0AJo2f2</td>\n",
              "      <td>oslk</td>\n",
              "      <td>2Kb5FSF</td>\n",
              "      <td>LM8l689qOp</td>\n",
              "      <td></td>\n",
              "      <td></td>\n",
              "      <td>fKCe</td>\n",
              "      <td>RAYp</td>\n",
              "      <td>F2FyR07IdsN7I</td>\n",
              "      <td></td>\n",
              "      <td></td>\n",
              "    </tr>\n",
              "    <tr>\n",
              "      <th>2</th>\n",
              "      <td></td>\n",
              "      <td></td>\n",
              "      <td></td>\n",
              "      <td></td>\n",
              "      <td></td>\n",
              "      <td>5236</td>\n",
              "      <td>7</td>\n",
              "      <td></td>\n",
              "      <td></td>\n",
              "      <td></td>\n",
              "      <td></td>\n",
              "      <td></td>\n",
              "      <td>904</td>\n",
              "      <td></td>\n",
              "      <td></td>\n",
              "      <td></td>\n",
              "      <td></td>\n",
              "      <td></td>\n",
              "      <td></td>\n",
              "      <td></td>\n",
              "      <td>1212</td>\n",
              "      <td>1515</td>\n",
              "      <td></td>\n",
              "      <td>26</td>\n",
              "      <td>816</td>\n",
              "      <td></td>\n",
              "      <td></td>\n",
              "      <td>220.08</td>\n",
              "      <td></td>\n",
              "      <td></td>\n",
              "      <td></td>\n",
              "      <td></td>\n",
              "      <td></td>\n",
              "      <td></td>\n",
              "      <td>0</td>\n",
              "      <td></td>\n",
              "      <td></td>\n",
              "      <td>5883894</td>\n",
              "      <td></td>\n",
              "      <td></td>\n",
              "      <td>...</td>\n",
              "      <td></td>\n",
              "      <td>eOQt0GoOh3</td>\n",
              "      <td>AERks4l</td>\n",
              "      <td>SEuy</td>\n",
              "      <td>taul</td>\n",
              "      <td>1K8T</td>\n",
              "      <td>ffXs</td>\n",
              "      <td>NldASpP</td>\n",
              "      <td>y4g9XoZ</td>\n",
              "      <td>vynJTq9</td>\n",
              "      <td>smXZ</td>\n",
              "      <td>4bTR</td>\n",
              "      <td>9_Y1</td>\n",
              "      <td>MGOA</td>\n",
              "      <td>VpdQ</td>\n",
              "      <td>haYg</td>\n",
              "      <td>DHn_WUyBhW_whjA88g9bvA64_</td>\n",
              "      <td>kIsH</td>\n",
              "      <td></td>\n",
              "      <td>uKAI</td>\n",
              "      <td>L84s</td>\n",
              "      <td>UbxQ8lZ</td>\n",
              "      <td></td>\n",
              "      <td>TTGHfSv</td>\n",
              "      <td></td>\n",
              "      <td>pMWAe2U</td>\n",
              "      <td>bHR7</td>\n",
              "      <td>UYBR</td>\n",
              "      <td>FzaX</td>\n",
              "      <td>JFM1BiF</td>\n",
              "      <td>Al6ZaUT</td>\n",
              "      <td>NKv4yOc</td>\n",
              "      <td>jySVZNlOJy</td>\n",
              "      <td></td>\n",
              "      <td>kG3k</td>\n",
              "      <td>Qu4f</td>\n",
              "      <td>02N6s8f</td>\n",
              "      <td>ib5G6X1eUxUn6</td>\n",
              "      <td>am7c</td>\n",
              "      <td></td>\n",
              "    </tr>\n",
              "    <tr>\n",
              "      <th>3</th>\n",
              "      <td></td>\n",
              "      <td></td>\n",
              "      <td></td>\n",
              "      <td></td>\n",
              "      <td></td>\n",
              "      <td></td>\n",
              "      <td>0</td>\n",
              "      <td></td>\n",
              "      <td></td>\n",
              "      <td></td>\n",
              "      <td></td>\n",
              "      <td></td>\n",
              "      <td>0</td>\n",
              "      <td></td>\n",
              "      <td></td>\n",
              "      <td></td>\n",
              "      <td></td>\n",
              "      <td></td>\n",
              "      <td></td>\n",
              "      <td></td>\n",
              "      <td></td>\n",
              "      <td>0</td>\n",
              "      <td></td>\n",
              "      <td></td>\n",
              "      <td>0</td>\n",
              "      <td></td>\n",
              "      <td></td>\n",
              "      <td>22.08</td>\n",
              "      <td></td>\n",
              "      <td></td>\n",
              "      <td></td>\n",
              "      <td></td>\n",
              "      <td></td>\n",
              "      <td></td>\n",
              "      <td>0</td>\n",
              "      <td></td>\n",
              "      <td></td>\n",
              "      <td>0</td>\n",
              "      <td></td>\n",
              "      <td></td>\n",
              "      <td>...</td>\n",
              "      <td></td>\n",
              "      <td>jg69tYsGvO</td>\n",
              "      <td>RO12</td>\n",
              "      <td></td>\n",
              "      <td>taul</td>\n",
              "      <td>1K8T</td>\n",
              "      <td>ssAy</td>\n",
              "      <td>_ybO0dd</td>\n",
              "      <td>4hMlgkf58mhwh</td>\n",
              "      <td></td>\n",
              "      <td></td>\n",
              "      <td>W8mQ</td>\n",
              "      <td>9_Y1</td>\n",
              "      <td>YULl</td>\n",
              "      <td>VpdQ</td>\n",
              "      <td></td>\n",
              "      <td>me75fM6ugJ</td>\n",
              "      <td>kIsH</td>\n",
              "      <td></td>\n",
              "      <td>uKAI</td>\n",
              "      <td>Mtgm</td>\n",
              "      <td>NhsEn4L</td>\n",
              "      <td></td>\n",
              "      <td></td>\n",
              "      <td></td>\n",
              "      <td>kq0dQfu</td>\n",
              "      <td>eKej</td>\n",
              "      <td>UYBR</td>\n",
              "      <td>FzaX</td>\n",
              "      <td>L91KIiz</td>\n",
              "      <td>oslk</td>\n",
              "      <td>CE7uk3u</td>\n",
              "      <td>LM8l689qOp</td>\n",
              "      <td></td>\n",
              "      <td></td>\n",
              "      <td>FSa2</td>\n",
              "      <td>RAYp</td>\n",
              "      <td>F2FyR07IdsN7I</td>\n",
              "      <td></td>\n",
              "      <td></td>\n",
              "    </tr>\n",
              "    <tr>\n",
              "      <th>4</th>\n",
              "      <td></td>\n",
              "      <td></td>\n",
              "      <td></td>\n",
              "      <td></td>\n",
              "      <td></td>\n",
              "      <td>1029</td>\n",
              "      <td>7</td>\n",
              "      <td></td>\n",
              "      <td></td>\n",
              "      <td></td>\n",
              "      <td></td>\n",
              "      <td></td>\n",
              "      <td>3216</td>\n",
              "      <td></td>\n",
              "      <td></td>\n",
              "      <td></td>\n",
              "      <td></td>\n",
              "      <td></td>\n",
              "      <td></td>\n",
              "      <td></td>\n",
              "      <td>64</td>\n",
              "      <td>80</td>\n",
              "      <td></td>\n",
              "      <td>4</td>\n",
              "      <td>64</td>\n",
              "      <td></td>\n",
              "      <td></td>\n",
              "      <td>200</td>\n",
              "      <td></td>\n",
              "      <td></td>\n",
              "      <td></td>\n",
              "      <td></td>\n",
              "      <td></td>\n",
              "      <td></td>\n",
              "      <td>0</td>\n",
              "      <td></td>\n",
              "      <td></td>\n",
              "      <td>0</td>\n",
              "      <td></td>\n",
              "      <td></td>\n",
              "      <td>...</td>\n",
              "      <td></td>\n",
              "      <td>IXSgUHShse</td>\n",
              "      <td>RO12</td>\n",
              "      <td>SEuy</td>\n",
              "      <td>taul</td>\n",
              "      <td>1K8T</td>\n",
              "      <td>uNkU</td>\n",
              "      <td>EKR938I</td>\n",
              "      <td>ThrHXVS</td>\n",
              "      <td>0v21jmy</td>\n",
              "      <td>smXZ</td>\n",
              "      <td>xklU</td>\n",
              "      <td>9_Y1</td>\n",
              "      <td>RVjC</td>\n",
              "      <td>sJzTlal</td>\n",
              "      <td>6JmL</td>\n",
              "      <td>me75fM6ugJ</td>\n",
              "      <td>kIsH</td>\n",
              "      <td></td>\n",
              "      <td>uKAI</td>\n",
              "      <td>L84s</td>\n",
              "      <td>XfqtO3UdzaXh_</td>\n",
              "      <td></td>\n",
              "      <td>SJs3duv</td>\n",
              "      <td></td>\n",
              "      <td>11p4mKe</td>\n",
              "      <td>H3p7</td>\n",
              "      <td>UYBR</td>\n",
              "      <td>FzaX</td>\n",
              "      <td>OrnLfvc</td>\n",
              "      <td>oslk</td>\n",
              "      <td>1J2cvxe</td>\n",
              "      <td>LM8l689qOp</td>\n",
              "      <td></td>\n",
              "      <td>kG3k</td>\n",
              "      <td>FSa2</td>\n",
              "      <td>RAYp</td>\n",
              "      <td>F2FyR07IdsN7I</td>\n",
              "      <td>mj86</td>\n",
              "      <td></td>\n",
              "    </tr>\n",
              "  </tbody>\n",
              "</table>\n",
              "<p>5 rows × 230 columns</p>\n",
              "</div>"
            ],
            "text/plain": [
              "  Var1 Var2 Var3 Var4 Var5  ... Var226   Var227         Var228 Var229 Var230\n",
              "0                           ...   xb3V     RAYp  F2FyR07IdsN7I              \n",
              "1                           ...   fKCe     RAYp  F2FyR07IdsN7I              \n",
              "2                           ...   Qu4f  02N6s8f  ib5G6X1eUxUn6   am7c       \n",
              "3                           ...   FSa2     RAYp  F2FyR07IdsN7I              \n",
              "4                           ...   FSa2     RAYp  F2FyR07IdsN7I   mj86       \n",
              "\n",
              "[5 rows x 230 columns]"
            ]
          },
          "metadata": {
            "tags": []
          },
          "execution_count": 155
        }
      ]
    },
    {
      "cell_type": "code",
      "metadata": {
        "id": "isFaz3NvtR98",
        "colab_type": "code",
        "outputId": "02cad9ff-beb9-44af-e934-de5d910eb98e",
        "colab": {
          "base_uri": "https://localhost:8080/",
          "height": 204
        }
      },
      "source": [
        "resultado.head()"
      ],
      "execution_count": 156,
      "outputs": [
        {
          "output_type": "execute_result",
          "data": {
            "text/html": [
              "<div>\n",
              "<style scoped>\n",
              "    .dataframe tbody tr th:only-of-type {\n",
              "        vertical-align: middle;\n",
              "    }\n",
              "\n",
              "    .dataframe tbody tr th {\n",
              "        vertical-align: top;\n",
              "    }\n",
              "\n",
              "    .dataframe thead th {\n",
              "        text-align: right;\n",
              "    }\n",
              "</style>\n",
              "<table border=\"1\" class=\"dataframe\">\n",
              "  <thead>\n",
              "    <tr style=\"text-align: right;\">\n",
              "      <th></th>\n",
              "      <th>0</th>\n",
              "    </tr>\n",
              "  </thead>\n",
              "  <tbody>\n",
              "    <tr>\n",
              "      <th>0</th>\n",
              "      <td>-1</td>\n",
              "    </tr>\n",
              "    <tr>\n",
              "      <th>1</th>\n",
              "      <td>1</td>\n",
              "    </tr>\n",
              "    <tr>\n",
              "      <th>2</th>\n",
              "      <td>-1</td>\n",
              "    </tr>\n",
              "    <tr>\n",
              "      <th>3</th>\n",
              "      <td>-1</td>\n",
              "    </tr>\n",
              "    <tr>\n",
              "      <th>4</th>\n",
              "      <td>-1</td>\n",
              "    </tr>\n",
              "  </tbody>\n",
              "</table>\n",
              "</div>"
            ],
            "text/plain": [
              "   0\n",
              "0 -1\n",
              "1  1\n",
              "2 -1\n",
              "3 -1\n",
              "4 -1"
            ]
          },
          "metadata": {
            "tags": []
          },
          "execution_count": 156
        }
      ]
    },
    {
      "cell_type": "code",
      "metadata": {
        "id": "I-McUiP3tWLs",
        "colab_type": "code",
        "outputId": "a4503dd9-8996-4feb-e49e-ce37bdf6f304",
        "colab": {
          "base_uri": "https://localhost:8080/",
          "height": 34
        }
      },
      "source": [
        "np.unique(resultado)"
      ],
      "execution_count": 157,
      "outputs": [
        {
          "output_type": "execute_result",
          "data": {
            "text/plain": [
              "array([-1,  1])"
            ]
          },
          "metadata": {
            "tags": []
          },
          "execution_count": 157
        }
      ]
    },
    {
      "cell_type": "markdown",
      "metadata": {
        "id": "sa0xtzowtgWx",
        "colab_type": "text"
      },
      "source": [
        " ### Identificar as variaveis numericas e categóricas (As primeiras 190 variáveis numéricas e as demais 40 categóricas)"
      ]
    },
    {
      "cell_type": "code",
      "metadata": {
        "id": "LJlopWFcvcXA",
        "colab_type": "code",
        "colab": {}
      },
      "source": [
        "todas_as_variaveis = np.array(recursos.columns)"
      ],
      "execution_count": 0,
      "outputs": []
    },
    {
      "cell_type": "code",
      "metadata": {
        "id": "PuWo5V1Bvuhr",
        "colab_type": "code",
        "outputId": "df4fc36e-4505-47b4-c2b3-6fee78bec5a3",
        "colab": {
          "base_uri": "https://localhost:8080/",
          "height": 629
        }
      },
      "source": [
        "todas_as_variaveis"
      ],
      "execution_count": 159,
      "outputs": [
        {
          "output_type": "execute_result",
          "data": {
            "text/plain": [
              "array(['Var1', 'Var2', 'Var3', 'Var4', 'Var5', 'Var6', 'Var7', 'Var8',\n",
              "       'Var9', 'Var10', 'Var11', 'Var12', 'Var13', 'Var14', 'Var15',\n",
              "       'Var16', 'Var17', 'Var18', 'Var19', 'Var20', 'Var21', 'Var22',\n",
              "       'Var23', 'Var24', 'Var25', 'Var26', 'Var27', 'Var28', 'Var29',\n",
              "       'Var30', 'Var31', 'Var32', 'Var33', 'Var34', 'Var35', 'Var36',\n",
              "       'Var37', 'Var38', 'Var39', 'Var40', 'Var41', 'Var42', 'Var43',\n",
              "       'Var44', 'Var45', 'Var46', 'Var47', 'Var48', 'Var49', 'Var50',\n",
              "       'Var51', 'Var52', 'Var53', 'Var54', 'Var55', 'Var56', 'Var57',\n",
              "       'Var58', 'Var59', 'Var60', 'Var61', 'Var62', 'Var63', 'Var64',\n",
              "       'Var65', 'Var66', 'Var67', 'Var68', 'Var69', 'Var70', 'Var71',\n",
              "       'Var72', 'Var73', 'Var74', 'Var75', 'Var76', 'Var77', 'Var78',\n",
              "       'Var79', 'Var80', 'Var81', 'Var82', 'Var83', 'Var84', 'Var85',\n",
              "       'Var86', 'Var87', 'Var88', 'Var89', 'Var90', 'Var91', 'Var92',\n",
              "       'Var93', 'Var94', 'Var95', 'Var96', 'Var97', 'Var98', 'Var99',\n",
              "       'Var100', 'Var101', 'Var102', 'Var103', 'Var104', 'Var105',\n",
              "       'Var106', 'Var107', 'Var108', 'Var109', 'Var110', 'Var111',\n",
              "       'Var112', 'Var113', 'Var114', 'Var115', 'Var116', 'Var117',\n",
              "       'Var118', 'Var119', 'Var120', 'Var121', 'Var122', 'Var123',\n",
              "       'Var124', 'Var125', 'Var126', 'Var127', 'Var128', 'Var129',\n",
              "       'Var130', 'Var131', 'Var132', 'Var133', 'Var134', 'Var135',\n",
              "       'Var136', 'Var137', 'Var138', 'Var139', 'Var140', 'Var141',\n",
              "       'Var142', 'Var143', 'Var144', 'Var145', 'Var146', 'Var147',\n",
              "       'Var148', 'Var149', 'Var150', 'Var151', 'Var152', 'Var153',\n",
              "       'Var154', 'Var155', 'Var156', 'Var157', 'Var158', 'Var159',\n",
              "       'Var160', 'Var161', 'Var162', 'Var163', 'Var164', 'Var165',\n",
              "       'Var166', 'Var167', 'Var168', 'Var169', 'Var170', 'Var171',\n",
              "       'Var172', 'Var173', 'Var174', 'Var175', 'Var176', 'Var177',\n",
              "       'Var178', 'Var179', 'Var180', 'Var181', 'Var182', 'Var183',\n",
              "       'Var184', 'Var185', 'Var186', 'Var187', 'Var188', 'Var189',\n",
              "       'Var190', 'Var191', 'Var192', 'Var193', 'Var194', 'Var195',\n",
              "       'Var196', 'Var197', 'Var198', 'Var199', 'Var200', 'Var201',\n",
              "       'Var202', 'Var203', 'Var204', 'Var205', 'Var206', 'Var207',\n",
              "       'Var208', 'Var209', 'Var210', 'Var211', 'Var212', 'Var213',\n",
              "       'Var214', 'Var215', 'Var216', 'Var217', 'Var218', 'Var219',\n",
              "       'Var220', 'Var221', 'Var222', 'Var223', 'Var224', 'Var225',\n",
              "       'Var226', 'Var227', 'Var228', 'Var229', 'Var230'], dtype=object)"
            ]
          },
          "metadata": {
            "tags": []
          },
          "execution_count": 159
        }
      ]
    },
    {
      "cell_type": "code",
      "metadata": {
        "id": "ho87J9SAvwlj",
        "colab_type": "code",
        "outputId": "d746f596-5bd1-4578-8bc8-6ee39e2f5190",
        "colab": {
          "base_uri": "https://localhost:8080/",
          "height": 527
        }
      },
      "source": [
        "numericas_variaveis = np.array(todas_as_variaveis[:190])\n",
        "numericas_variaveis"
      ],
      "execution_count": 160,
      "outputs": [
        {
          "output_type": "execute_result",
          "data": {
            "text/plain": [
              "array(['Var1', 'Var2', 'Var3', 'Var4', 'Var5', 'Var6', 'Var7', 'Var8',\n",
              "       'Var9', 'Var10', 'Var11', 'Var12', 'Var13', 'Var14', 'Var15',\n",
              "       'Var16', 'Var17', 'Var18', 'Var19', 'Var20', 'Var21', 'Var22',\n",
              "       'Var23', 'Var24', 'Var25', 'Var26', 'Var27', 'Var28', 'Var29',\n",
              "       'Var30', 'Var31', 'Var32', 'Var33', 'Var34', 'Var35', 'Var36',\n",
              "       'Var37', 'Var38', 'Var39', 'Var40', 'Var41', 'Var42', 'Var43',\n",
              "       'Var44', 'Var45', 'Var46', 'Var47', 'Var48', 'Var49', 'Var50',\n",
              "       'Var51', 'Var52', 'Var53', 'Var54', 'Var55', 'Var56', 'Var57',\n",
              "       'Var58', 'Var59', 'Var60', 'Var61', 'Var62', 'Var63', 'Var64',\n",
              "       'Var65', 'Var66', 'Var67', 'Var68', 'Var69', 'Var70', 'Var71',\n",
              "       'Var72', 'Var73', 'Var74', 'Var75', 'Var76', 'Var77', 'Var78',\n",
              "       'Var79', 'Var80', 'Var81', 'Var82', 'Var83', 'Var84', 'Var85',\n",
              "       'Var86', 'Var87', 'Var88', 'Var89', 'Var90', 'Var91', 'Var92',\n",
              "       'Var93', 'Var94', 'Var95', 'Var96', 'Var97', 'Var98', 'Var99',\n",
              "       'Var100', 'Var101', 'Var102', 'Var103', 'Var104', 'Var105',\n",
              "       'Var106', 'Var107', 'Var108', 'Var109', 'Var110', 'Var111',\n",
              "       'Var112', 'Var113', 'Var114', 'Var115', 'Var116', 'Var117',\n",
              "       'Var118', 'Var119', 'Var120', 'Var121', 'Var122', 'Var123',\n",
              "       'Var124', 'Var125', 'Var126', 'Var127', 'Var128', 'Var129',\n",
              "       'Var130', 'Var131', 'Var132', 'Var133', 'Var134', 'Var135',\n",
              "       'Var136', 'Var137', 'Var138', 'Var139', 'Var140', 'Var141',\n",
              "       'Var142', 'Var143', 'Var144', 'Var145', 'Var146', 'Var147',\n",
              "       'Var148', 'Var149', 'Var150', 'Var151', 'Var152', 'Var153',\n",
              "       'Var154', 'Var155', 'Var156', 'Var157', 'Var158', 'Var159',\n",
              "       'Var160', 'Var161', 'Var162', 'Var163', 'Var164', 'Var165',\n",
              "       'Var166', 'Var167', 'Var168', 'Var169', 'Var170', 'Var171',\n",
              "       'Var172', 'Var173', 'Var174', 'Var175', 'Var176', 'Var177',\n",
              "       'Var178', 'Var179', 'Var180', 'Var181', 'Var182', 'Var183',\n",
              "       'Var184', 'Var185', 'Var186', 'Var187', 'Var188', 'Var189',\n",
              "       'Var190'], dtype=object)"
            ]
          },
          "metadata": {
            "tags": []
          },
          "execution_count": 160
        }
      ]
    },
    {
      "cell_type": "code",
      "metadata": {
        "id": "CpSfm7OFwIu-",
        "colab_type": "code",
        "outputId": "72b975c5-0fe7-470e-9686-135b6d391783",
        "colab": {
          "base_uri": "https://localhost:8080/",
          "height": 136
        }
      },
      "source": [
        "categoricas_variaveis = np.array(todas_as_variaveis[190:])\n",
        "categoricas_variaveis"
      ],
      "execution_count": 161,
      "outputs": [
        {
          "output_type": "execute_result",
          "data": {
            "text/plain": [
              "array(['Var191', 'Var192', 'Var193', 'Var194', 'Var195', 'Var196',\n",
              "       'Var197', 'Var198', 'Var199', 'Var200', 'Var201', 'Var202',\n",
              "       'Var203', 'Var204', 'Var205', 'Var206', 'Var207', 'Var208',\n",
              "       'Var209', 'Var210', 'Var211', 'Var212', 'Var213', 'Var214',\n",
              "       'Var215', 'Var216', 'Var217', 'Var218', 'Var219', 'Var220',\n",
              "       'Var221', 'Var222', 'Var223', 'Var224', 'Var225', 'Var226',\n",
              "       'Var227', 'Var228', 'Var229', 'Var230'], dtype=object)"
            ]
          },
          "metadata": {
            "tags": []
          },
          "execution_count": 161
        }
      ]
    },
    {
      "cell_type": "code",
      "metadata": {
        "id": "Z4IANL1VopEs",
        "colab_type": "code",
        "outputId": "f2303e79-1fd5-479a-bb49-994ac5ae25d9",
        "colab": {
          "base_uri": "https://localhost:8080/",
          "height": 374
        }
      },
      "source": [
        "var = recursos.groupby('Var1').size()\n",
        "var"
      ],
      "execution_count": 162,
      "outputs": [
        {
          "output_type": "execute_result",
          "data": {
            "text/plain": [
              "Var1\n",
              "       49298\n",
              "0        380\n",
              "120        1\n",
              "128        2\n",
              "152        1\n",
              "16        81\n",
              "24        46\n",
              "32        23\n",
              "360        1\n",
              "392        1\n",
              "40        10\n",
              "48         6\n",
              "536        1\n",
              "56         5\n",
              "64         1\n",
              "680        1\n",
              "72         3\n",
              "8        138\n",
              "80         1\n",
              "dtype: int64"
            ]
          },
          "metadata": {
            "tags": []
          },
          "execution_count": 162
        }
      ]
    },
    {
      "cell_type": "code",
      "metadata": {
        "id": "z5rDDRMDrdDa",
        "colab_type": "code",
        "colab": {}
      },
      "source": [
        "contador_de_colunas = pd.DataFrame()\n",
        "for colunas in numericas_variaveis:\n",
        "  coluna_contador= recursos.groupby(colunas).size()\n",
        "  contador_de_colunas= contador_de_colunas.append(coluna_contador, ignore_index= True)"
      ],
      "execution_count": 0,
      "outputs": []
    },
    {
      "cell_type": "code",
      "metadata": {
        "id": "eVq_zyPbsNOR",
        "colab_type": "code",
        "outputId": "a3df70eb-9fae-446f-c4aa-b77ae714de9c",
        "colab": {
          "base_uri": "https://localhost:8080/",
          "height": 34
        }
      },
      "source": [
        "contador_de_colunas.shape"
      ],
      "execution_count": 164,
      "outputs": [
        {
          "output_type": "execute_result",
          "data": {
            "text/plain": [
              "(190, 351788)"
            ]
          },
          "metadata": {
            "tags": []
          },
          "execution_count": 164
        }
      ]
    },
    {
      "cell_type": "code",
      "metadata": {
        "id": "j0HhBUnQsUUw",
        "colab_type": "code",
        "outputId": "2f8ff760-c98b-4e88-f54a-45f326c68707",
        "colab": {
          "base_uri": "https://localhost:8080/",
          "height": 253
        }
      },
      "source": [
        "contador_de_colunas.head()"
      ],
      "execution_count": 165,
      "outputs": [
        {
          "output_type": "execute_result",
          "data": {
            "text/html": [
              "<div>\n",
              "<style scoped>\n",
              "    .dataframe tbody tr th:only-of-type {\n",
              "        vertical-align: middle;\n",
              "    }\n",
              "\n",
              "    .dataframe tbody tr th {\n",
              "        vertical-align: top;\n",
              "    }\n",
              "\n",
              "    .dataframe thead th {\n",
              "        text-align: right;\n",
              "    }\n",
              "</style>\n",
              "<table border=\"1\" class=\"dataframe\">\n",
              "  <thead>\n",
              "    <tr style=\"text-align: right;\">\n",
              "      <th></th>\n",
              "      <th></th>\n",
              "      <th>0</th>\n",
              "      <th>120</th>\n",
              "      <th>128</th>\n",
              "      <th>152</th>\n",
              "      <th>16</th>\n",
              "      <th>24</th>\n",
              "      <th>32</th>\n",
              "      <th>360</th>\n",
              "      <th>392</th>\n",
              "      <th>40</th>\n",
              "      <th>48</th>\n",
              "      <th>536</th>\n",
              "      <th>56</th>\n",
              "      <th>64</th>\n",
              "      <th>680</th>\n",
              "      <th>72</th>\n",
              "      <th>8</th>\n",
              "      <th>80</th>\n",
              "      <th>5</th>\n",
              "      <th>102</th>\n",
              "      <th>105</th>\n",
              "      <th>10617</th>\n",
              "      <th>108</th>\n",
              "      <th>1083</th>\n",
              "      <th>111</th>\n",
              "      <th>1113</th>\n",
              "      <th>114</th>\n",
              "      <th>1155</th>\n",
              "      <th>117</th>\n",
              "      <th>12</th>\n",
              "      <th>123</th>\n",
              "      <th>1242</th>\n",
              "      <th>126</th>\n",
              "      <th>12633</th>\n",
              "      <th>129</th>\n",
              "      <th>12927</th>\n",
              "      <th>130668</th>\n",
              "      <th>1332</th>\n",
              "      <th>1344</th>\n",
              "      <th>...</th>\n",
              "      <th>6651.18</th>\n",
              "      <th>67723.29</th>\n",
              "      <th>6893.82</th>\n",
              "      <th>69126.48</th>\n",
              "      <th>69166.71</th>\n",
              "      <th>693.45</th>\n",
              "      <th>693.99</th>\n",
              "      <th>7.47</th>\n",
              "      <th>7030.17</th>\n",
              "      <th>70445.25</th>\n",
              "      <th>7135.65</th>\n",
              "      <th>72177.84</th>\n",
              "      <th>73467.99</th>\n",
              "      <th>7584.66</th>\n",
              "      <th>7597.979</th>\n",
              "      <th>76999.23</th>\n",
              "      <th>77.67</th>\n",
              "      <th>78230.79</th>\n",
              "      <th>7922.7</th>\n",
              "      <th>79562.08</th>\n",
              "      <th>8022.96</th>\n",
              "      <th>81838.62</th>\n",
              "      <th>82165.95</th>\n",
              "      <th>8328.149</th>\n",
              "      <th>843.57</th>\n",
              "      <th>8573.939</th>\n",
              "      <th>8615.25</th>\n",
              "      <th>8660.25</th>\n",
              "      <th>86645.08</th>\n",
              "      <th>87838.47</th>\n",
              "      <th>8900.46</th>\n",
              "      <th>920.88</th>\n",
              "      <th>9336.06</th>\n",
              "      <th>9379.709</th>\n",
              "      <th>9441.36</th>\n",
              "      <th>9607.05</th>\n",
              "      <th>966.15</th>\n",
              "      <th>9772.021</th>\n",
              "      <th>98.1</th>\n",
              "      <th>9857.88</th>\n",
              "    </tr>\n",
              "  </thead>\n",
              "  <tbody>\n",
              "    <tr>\n",
              "      <th>0</th>\n",
              "      <td>49298.0</td>\n",
              "      <td>380.0</td>\n",
              "      <td>1.0</td>\n",
              "      <td>2.0</td>\n",
              "      <td>1.0</td>\n",
              "      <td>81.0</td>\n",
              "      <td>46.0</td>\n",
              "      <td>23.0</td>\n",
              "      <td>1.0</td>\n",
              "      <td>1.0</td>\n",
              "      <td>10.0</td>\n",
              "      <td>6.0</td>\n",
              "      <td>1.0</td>\n",
              "      <td>5.0</td>\n",
              "      <td>1.0</td>\n",
              "      <td>1.0</td>\n",
              "      <td>3.0</td>\n",
              "      <td>138.0</td>\n",
              "      <td>1.0</td>\n",
              "      <td>NaN</td>\n",
              "      <td>NaN</td>\n",
              "      <td>NaN</td>\n",
              "      <td>NaN</td>\n",
              "      <td>NaN</td>\n",
              "      <td>NaN</td>\n",
              "      <td>NaN</td>\n",
              "      <td>NaN</td>\n",
              "      <td>NaN</td>\n",
              "      <td>NaN</td>\n",
              "      <td>NaN</td>\n",
              "      <td>NaN</td>\n",
              "      <td>NaN</td>\n",
              "      <td>NaN</td>\n",
              "      <td>NaN</td>\n",
              "      <td>NaN</td>\n",
              "      <td>NaN</td>\n",
              "      <td>NaN</td>\n",
              "      <td>NaN</td>\n",
              "      <td>NaN</td>\n",
              "      <td>NaN</td>\n",
              "      <td>...</td>\n",
              "      <td>NaN</td>\n",
              "      <td>NaN</td>\n",
              "      <td>NaN</td>\n",
              "      <td>NaN</td>\n",
              "      <td>NaN</td>\n",
              "      <td>NaN</td>\n",
              "      <td>NaN</td>\n",
              "      <td>NaN</td>\n",
              "      <td>NaN</td>\n",
              "      <td>NaN</td>\n",
              "      <td>NaN</td>\n",
              "      <td>NaN</td>\n",
              "      <td>NaN</td>\n",
              "      <td>NaN</td>\n",
              "      <td>NaN</td>\n",
              "      <td>NaN</td>\n",
              "      <td>NaN</td>\n",
              "      <td>NaN</td>\n",
              "      <td>NaN</td>\n",
              "      <td>NaN</td>\n",
              "      <td>NaN</td>\n",
              "      <td>NaN</td>\n",
              "      <td>NaN</td>\n",
              "      <td>NaN</td>\n",
              "      <td>NaN</td>\n",
              "      <td>NaN</td>\n",
              "      <td>NaN</td>\n",
              "      <td>NaN</td>\n",
              "      <td>NaN</td>\n",
              "      <td>NaN</td>\n",
              "      <td>NaN</td>\n",
              "      <td>NaN</td>\n",
              "      <td>NaN</td>\n",
              "      <td>NaN</td>\n",
              "      <td>NaN</td>\n",
              "      <td>NaN</td>\n",
              "      <td>NaN</td>\n",
              "      <td>NaN</td>\n",
              "      <td>NaN</td>\n",
              "      <td>NaN</td>\n",
              "    </tr>\n",
              "    <tr>\n",
              "      <th>1</th>\n",
              "      <td>48759.0</td>\n",
              "      <td>1240.0</td>\n",
              "      <td>NaN</td>\n",
              "      <td>NaN</td>\n",
              "      <td>NaN</td>\n",
              "      <td>NaN</td>\n",
              "      <td>NaN</td>\n",
              "      <td>NaN</td>\n",
              "      <td>NaN</td>\n",
              "      <td>NaN</td>\n",
              "      <td>NaN</td>\n",
              "      <td>NaN</td>\n",
              "      <td>NaN</td>\n",
              "      <td>NaN</td>\n",
              "      <td>NaN</td>\n",
              "      <td>NaN</td>\n",
              "      <td>NaN</td>\n",
              "      <td>NaN</td>\n",
              "      <td>NaN</td>\n",
              "      <td>1.0</td>\n",
              "      <td>NaN</td>\n",
              "      <td>NaN</td>\n",
              "      <td>NaN</td>\n",
              "      <td>NaN</td>\n",
              "      <td>NaN</td>\n",
              "      <td>NaN</td>\n",
              "      <td>NaN</td>\n",
              "      <td>NaN</td>\n",
              "      <td>NaN</td>\n",
              "      <td>NaN</td>\n",
              "      <td>NaN</td>\n",
              "      <td>NaN</td>\n",
              "      <td>NaN</td>\n",
              "      <td>NaN</td>\n",
              "      <td>NaN</td>\n",
              "      <td>NaN</td>\n",
              "      <td>NaN</td>\n",
              "      <td>NaN</td>\n",
              "      <td>NaN</td>\n",
              "      <td>NaN</td>\n",
              "      <td>...</td>\n",
              "      <td>NaN</td>\n",
              "      <td>NaN</td>\n",
              "      <td>NaN</td>\n",
              "      <td>NaN</td>\n",
              "      <td>NaN</td>\n",
              "      <td>NaN</td>\n",
              "      <td>NaN</td>\n",
              "      <td>NaN</td>\n",
              "      <td>NaN</td>\n",
              "      <td>NaN</td>\n",
              "      <td>NaN</td>\n",
              "      <td>NaN</td>\n",
              "      <td>NaN</td>\n",
              "      <td>NaN</td>\n",
              "      <td>NaN</td>\n",
              "      <td>NaN</td>\n",
              "      <td>NaN</td>\n",
              "      <td>NaN</td>\n",
              "      <td>NaN</td>\n",
              "      <td>NaN</td>\n",
              "      <td>NaN</td>\n",
              "      <td>NaN</td>\n",
              "      <td>NaN</td>\n",
              "      <td>NaN</td>\n",
              "      <td>NaN</td>\n",
              "      <td>NaN</td>\n",
              "      <td>NaN</td>\n",
              "      <td>NaN</td>\n",
              "      <td>NaN</td>\n",
              "      <td>NaN</td>\n",
              "      <td>NaN</td>\n",
              "      <td>NaN</td>\n",
              "      <td>NaN</td>\n",
              "      <td>NaN</td>\n",
              "      <td>NaN</td>\n",
              "      <td>NaN</td>\n",
              "      <td>NaN</td>\n",
              "      <td>NaN</td>\n",
              "      <td>NaN</td>\n",
              "      <td>NaN</td>\n",
              "    </tr>\n",
              "    <tr>\n",
              "      <th>2</th>\n",
              "      <td>48760.0</td>\n",
              "      <td>996.0</td>\n",
              "      <td>3.0</td>\n",
              "      <td>NaN</td>\n",
              "      <td>NaN</td>\n",
              "      <td>NaN</td>\n",
              "      <td>1.0</td>\n",
              "      <td>NaN</td>\n",
              "      <td>NaN</td>\n",
              "      <td>NaN</td>\n",
              "      <td>NaN</td>\n",
              "      <td>3.0</td>\n",
              "      <td>NaN</td>\n",
              "      <td>NaN</td>\n",
              "      <td>NaN</td>\n",
              "      <td>NaN</td>\n",
              "      <td>3.0</td>\n",
              "      <td>NaN</td>\n",
              "      <td>NaN</td>\n",
              "      <td>NaN</td>\n",
              "      <td>3.0</td>\n",
              "      <td>2.0</td>\n",
              "      <td>1.0</td>\n",
              "      <td>3.0</td>\n",
              "      <td>1.0</td>\n",
              "      <td>1.0</td>\n",
              "      <td>1.0</td>\n",
              "      <td>1.0</td>\n",
              "      <td>1.0</td>\n",
              "      <td>2.0</td>\n",
              "      <td>3.0</td>\n",
              "      <td>3.0</td>\n",
              "      <td>1.0</td>\n",
              "      <td>2.0</td>\n",
              "      <td>1.0</td>\n",
              "      <td>2.0</td>\n",
              "      <td>1.0</td>\n",
              "      <td>1.0</td>\n",
              "      <td>1.0</td>\n",
              "      <td>1.0</td>\n",
              "      <td>...</td>\n",
              "      <td>NaN</td>\n",
              "      <td>NaN</td>\n",
              "      <td>NaN</td>\n",
              "      <td>NaN</td>\n",
              "      <td>NaN</td>\n",
              "      <td>NaN</td>\n",
              "      <td>NaN</td>\n",
              "      <td>NaN</td>\n",
              "      <td>NaN</td>\n",
              "      <td>NaN</td>\n",
              "      <td>NaN</td>\n",
              "      <td>NaN</td>\n",
              "      <td>NaN</td>\n",
              "      <td>NaN</td>\n",
              "      <td>NaN</td>\n",
              "      <td>NaN</td>\n",
              "      <td>NaN</td>\n",
              "      <td>NaN</td>\n",
              "      <td>NaN</td>\n",
              "      <td>NaN</td>\n",
              "      <td>NaN</td>\n",
              "      <td>NaN</td>\n",
              "      <td>NaN</td>\n",
              "      <td>NaN</td>\n",
              "      <td>NaN</td>\n",
              "      <td>NaN</td>\n",
              "      <td>NaN</td>\n",
              "      <td>NaN</td>\n",
              "      <td>NaN</td>\n",
              "      <td>NaN</td>\n",
              "      <td>NaN</td>\n",
              "      <td>NaN</td>\n",
              "      <td>NaN</td>\n",
              "      <td>NaN</td>\n",
              "      <td>NaN</td>\n",
              "      <td>NaN</td>\n",
              "      <td>NaN</td>\n",
              "      <td>NaN</td>\n",
              "      <td>NaN</td>\n",
              "      <td>NaN</td>\n",
              "    </tr>\n",
              "    <tr>\n",
              "      <th>3</th>\n",
              "      <td>48421.0</td>\n",
              "      <td>1561.0</td>\n",
              "      <td>NaN</td>\n",
              "      <td>NaN</td>\n",
              "      <td>NaN</td>\n",
              "      <td>NaN</td>\n",
              "      <td>NaN</td>\n",
              "      <td>NaN</td>\n",
              "      <td>NaN</td>\n",
              "      <td>NaN</td>\n",
              "      <td>NaN</td>\n",
              "      <td>NaN</td>\n",
              "      <td>NaN</td>\n",
              "      <td>NaN</td>\n",
              "      <td>NaN</td>\n",
              "      <td>NaN</td>\n",
              "      <td>NaN</td>\n",
              "      <td>NaN</td>\n",
              "      <td>NaN</td>\n",
              "      <td>NaN</td>\n",
              "      <td>NaN</td>\n",
              "      <td>NaN</td>\n",
              "      <td>NaN</td>\n",
              "      <td>NaN</td>\n",
              "      <td>NaN</td>\n",
              "      <td>NaN</td>\n",
              "      <td>NaN</td>\n",
              "      <td>NaN</td>\n",
              "      <td>NaN</td>\n",
              "      <td>NaN</td>\n",
              "      <td>NaN</td>\n",
              "      <td>NaN</td>\n",
              "      <td>NaN</td>\n",
              "      <td>NaN</td>\n",
              "      <td>NaN</td>\n",
              "      <td>NaN</td>\n",
              "      <td>NaN</td>\n",
              "      <td>NaN</td>\n",
              "      <td>NaN</td>\n",
              "      <td>NaN</td>\n",
              "      <td>...</td>\n",
              "      <td>NaN</td>\n",
              "      <td>NaN</td>\n",
              "      <td>NaN</td>\n",
              "      <td>NaN</td>\n",
              "      <td>NaN</td>\n",
              "      <td>NaN</td>\n",
              "      <td>NaN</td>\n",
              "      <td>NaN</td>\n",
              "      <td>NaN</td>\n",
              "      <td>NaN</td>\n",
              "      <td>NaN</td>\n",
              "      <td>NaN</td>\n",
              "      <td>NaN</td>\n",
              "      <td>NaN</td>\n",
              "      <td>NaN</td>\n",
              "      <td>NaN</td>\n",
              "      <td>NaN</td>\n",
              "      <td>NaN</td>\n",
              "      <td>NaN</td>\n",
              "      <td>NaN</td>\n",
              "      <td>NaN</td>\n",
              "      <td>NaN</td>\n",
              "      <td>NaN</td>\n",
              "      <td>NaN</td>\n",
              "      <td>NaN</td>\n",
              "      <td>NaN</td>\n",
              "      <td>NaN</td>\n",
              "      <td>NaN</td>\n",
              "      <td>NaN</td>\n",
              "      <td>NaN</td>\n",
              "      <td>NaN</td>\n",
              "      <td>NaN</td>\n",
              "      <td>NaN</td>\n",
              "      <td>NaN</td>\n",
              "      <td>NaN</td>\n",
              "      <td>NaN</td>\n",
              "      <td>NaN</td>\n",
              "      <td>NaN</td>\n",
              "      <td>NaN</td>\n",
              "      <td>NaN</td>\n",
              "    </tr>\n",
              "    <tr>\n",
              "      <th>4</th>\n",
              "      <td>48513.0</td>\n",
              "      <td>898.0</td>\n",
              "      <td>NaN</td>\n",
              "      <td>NaN</td>\n",
              "      <td>NaN</td>\n",
              "      <td>NaN</td>\n",
              "      <td>NaN</td>\n",
              "      <td>NaN</td>\n",
              "      <td>NaN</td>\n",
              "      <td>NaN</td>\n",
              "      <td>NaN</td>\n",
              "      <td>NaN</td>\n",
              "      <td>NaN</td>\n",
              "      <td>NaN</td>\n",
              "      <td>NaN</td>\n",
              "      <td>NaN</td>\n",
              "      <td>NaN</td>\n",
              "      <td>NaN</td>\n",
              "      <td>NaN</td>\n",
              "      <td>NaN</td>\n",
              "      <td>NaN</td>\n",
              "      <td>NaN</td>\n",
              "      <td>NaN</td>\n",
              "      <td>NaN</td>\n",
              "      <td>NaN</td>\n",
              "      <td>NaN</td>\n",
              "      <td>NaN</td>\n",
              "      <td>NaN</td>\n",
              "      <td>NaN</td>\n",
              "      <td>NaN</td>\n",
              "      <td>NaN</td>\n",
              "      <td>NaN</td>\n",
              "      <td>NaN</td>\n",
              "      <td>NaN</td>\n",
              "      <td>NaN</td>\n",
              "      <td>NaN</td>\n",
              "      <td>NaN</td>\n",
              "      <td>NaN</td>\n",
              "      <td>NaN</td>\n",
              "      <td>NaN</td>\n",
              "      <td>...</td>\n",
              "      <td>NaN</td>\n",
              "      <td>NaN</td>\n",
              "      <td>NaN</td>\n",
              "      <td>NaN</td>\n",
              "      <td>NaN</td>\n",
              "      <td>NaN</td>\n",
              "      <td>NaN</td>\n",
              "      <td>NaN</td>\n",
              "      <td>NaN</td>\n",
              "      <td>NaN</td>\n",
              "      <td>NaN</td>\n",
              "      <td>NaN</td>\n",
              "      <td>NaN</td>\n",
              "      <td>NaN</td>\n",
              "      <td>NaN</td>\n",
              "      <td>NaN</td>\n",
              "      <td>NaN</td>\n",
              "      <td>NaN</td>\n",
              "      <td>NaN</td>\n",
              "      <td>NaN</td>\n",
              "      <td>NaN</td>\n",
              "      <td>NaN</td>\n",
              "      <td>NaN</td>\n",
              "      <td>NaN</td>\n",
              "      <td>NaN</td>\n",
              "      <td>NaN</td>\n",
              "      <td>NaN</td>\n",
              "      <td>NaN</td>\n",
              "      <td>NaN</td>\n",
              "      <td>NaN</td>\n",
              "      <td>NaN</td>\n",
              "      <td>NaN</td>\n",
              "      <td>NaN</td>\n",
              "      <td>NaN</td>\n",
              "      <td>NaN</td>\n",
              "      <td>NaN</td>\n",
              "      <td>NaN</td>\n",
              "      <td>NaN</td>\n",
              "      <td>NaN</td>\n",
              "      <td>NaN</td>\n",
              "    </tr>\n",
              "  </tbody>\n",
              "</table>\n",
              "<p>5 rows × 351788 columns</p>\n",
              "</div>"
            ],
            "text/plain": [
              "                 0  120  128  152  ...  9607.05  966.15  9772.021  98.1  9857.88\n",
              "0  49298.0   380.0  1.0  2.0  1.0  ...      NaN     NaN       NaN   NaN      NaN\n",
              "1  48759.0  1240.0  NaN  NaN  NaN  ...      NaN     NaN       NaN   NaN      NaN\n",
              "2  48760.0   996.0  3.0  NaN  NaN  ...      NaN     NaN       NaN   NaN      NaN\n",
              "3  48421.0  1561.0  NaN  NaN  NaN  ...      NaN     NaN       NaN   NaN      NaN\n",
              "4  48513.0   898.0  NaN  NaN  NaN  ...      NaN     NaN       NaN   NaN      NaN\n",
              "\n",
              "[5 rows x 351788 columns]"
            ]
          },
          "metadata": {
            "tags": []
          },
          "execution_count": 165
        }
      ]
    },
    {
      "cell_type": "markdown",
      "metadata": {
        "id": "OMxfJqgAsdtd",
        "colab_type": "text"
      },
      "source": [
        "### visualizar a Matriz transposta"
      ]
    },
    {
      "cell_type": "code",
      "metadata": {
        "id": "ll8B5lxFsg14",
        "colab_type": "code",
        "outputId": "46535483-f6e1-4c04-a74b-c1924214f198",
        "colab": {
          "base_uri": "https://localhost:8080/",
          "height": 34
        }
      },
      "source": [
        "contador_de_colunas.T.shape"
      ],
      "execution_count": 166,
      "outputs": [
        {
          "output_type": "execute_result",
          "data": {
            "text/plain": [
              "(351788, 190)"
            ]
          },
          "metadata": {
            "tags": []
          },
          "execution_count": 166
        }
      ]
    },
    {
      "cell_type": "code",
      "metadata": {
        "id": "mupJwFVEsthg",
        "colab_type": "code",
        "outputId": "298a5522-f8d1-4bc6-ac3f-03a50ed19eb1",
        "colab": {
          "base_uri": "https://localhost:8080/",
          "height": 253
        }
      },
      "source": [
        "contador_de_colunas.T.head()"
      ],
      "execution_count": 167,
      "outputs": [
        {
          "output_type": "execute_result",
          "data": {
            "text/html": [
              "<div>\n",
              "<style scoped>\n",
              "    .dataframe tbody tr th:only-of-type {\n",
              "        vertical-align: middle;\n",
              "    }\n",
              "\n",
              "    .dataframe tbody tr th {\n",
              "        vertical-align: top;\n",
              "    }\n",
              "\n",
              "    .dataframe thead th {\n",
              "        text-align: right;\n",
              "    }\n",
              "</style>\n",
              "<table border=\"1\" class=\"dataframe\">\n",
              "  <thead>\n",
              "    <tr style=\"text-align: right;\">\n",
              "      <th></th>\n",
              "      <th>0</th>\n",
              "      <th>1</th>\n",
              "      <th>2</th>\n",
              "      <th>3</th>\n",
              "      <th>4</th>\n",
              "      <th>5</th>\n",
              "      <th>6</th>\n",
              "      <th>7</th>\n",
              "      <th>8</th>\n",
              "      <th>9</th>\n",
              "      <th>10</th>\n",
              "      <th>11</th>\n",
              "      <th>12</th>\n",
              "      <th>13</th>\n",
              "      <th>14</th>\n",
              "      <th>15</th>\n",
              "      <th>16</th>\n",
              "      <th>17</th>\n",
              "      <th>18</th>\n",
              "      <th>19</th>\n",
              "      <th>20</th>\n",
              "      <th>21</th>\n",
              "      <th>22</th>\n",
              "      <th>23</th>\n",
              "      <th>24</th>\n",
              "      <th>25</th>\n",
              "      <th>26</th>\n",
              "      <th>27</th>\n",
              "      <th>28</th>\n",
              "      <th>29</th>\n",
              "      <th>30</th>\n",
              "      <th>31</th>\n",
              "      <th>32</th>\n",
              "      <th>33</th>\n",
              "      <th>34</th>\n",
              "      <th>35</th>\n",
              "      <th>36</th>\n",
              "      <th>37</th>\n",
              "      <th>38</th>\n",
              "      <th>39</th>\n",
              "      <th>...</th>\n",
              "      <th>150</th>\n",
              "      <th>151</th>\n",
              "      <th>152</th>\n",
              "      <th>153</th>\n",
              "      <th>154</th>\n",
              "      <th>155</th>\n",
              "      <th>156</th>\n",
              "      <th>157</th>\n",
              "      <th>158</th>\n",
              "      <th>159</th>\n",
              "      <th>160</th>\n",
              "      <th>161</th>\n",
              "      <th>162</th>\n",
              "      <th>163</th>\n",
              "      <th>164</th>\n",
              "      <th>165</th>\n",
              "      <th>166</th>\n",
              "      <th>167</th>\n",
              "      <th>168</th>\n",
              "      <th>169</th>\n",
              "      <th>170</th>\n",
              "      <th>171</th>\n",
              "      <th>172</th>\n",
              "      <th>173</th>\n",
              "      <th>174</th>\n",
              "      <th>175</th>\n",
              "      <th>176</th>\n",
              "      <th>177</th>\n",
              "      <th>178</th>\n",
              "      <th>179</th>\n",
              "      <th>180</th>\n",
              "      <th>181</th>\n",
              "      <th>182</th>\n",
              "      <th>183</th>\n",
              "      <th>184</th>\n",
              "      <th>185</th>\n",
              "      <th>186</th>\n",
              "      <th>187</th>\n",
              "      <th>188</th>\n",
              "      <th>189</th>\n",
              "    </tr>\n",
              "  </thead>\n",
              "  <tbody>\n",
              "    <tr>\n",
              "      <th></th>\n",
              "      <td>49298.0</td>\n",
              "      <td>48759.0</td>\n",
              "      <td>48760.0</td>\n",
              "      <td>48421.0</td>\n",
              "      <td>48513.0</td>\n",
              "      <td>5529.0</td>\n",
              "      <td>5539.0</td>\n",
              "      <td>50000.0</td>\n",
              "      <td>49298.0</td>\n",
              "      <td>48513.0</td>\n",
              "      <td>48760.0</td>\n",
              "      <td>49442.0</td>\n",
              "      <td>5539.0</td>\n",
              "      <td>48760.0</td>\n",
              "      <td>50000.0</td>\n",
              "      <td>48513.0</td>\n",
              "      <td>48421.0</td>\n",
              "      <td>48421.0</td>\n",
              "      <td>48421.0</td>\n",
              "      <td>50000.0</td>\n",
              "      <td>5529.0</td>\n",
              "      <td>5009.0</td>\n",
              "      <td>48513.0</td>\n",
              "      <td>7230.0</td>\n",
              "      <td>5009.0</td>\n",
              "      <td>48513.0</td>\n",
              "      <td>48513.0</td>\n",
              "      <td>5011.0</td>\n",
              "      <td>49298.0</td>\n",
              "      <td>49298.0</td>\n",
              "      <td>50000.0</td>\n",
              "      <td>50000.0</td>\n",
              "      <td>49153.0</td>\n",
              "      <td>48759.0</td>\n",
              "      <td>5009.0</td>\n",
              "      <td>48759.0</td>\n",
              "      <td>48421.0</td>\n",
              "      <td>5009.0</td>\n",
              "      <td>50000.0</td>\n",
              "      <td>48759.0</td>\n",
              "      <td>...</td>\n",
              "      <td>49153.0</td>\n",
              "      <td>48421.0</td>\n",
              "      <td>5009.0</td>\n",
              "      <td>49298.0</td>\n",
              "      <td>48421.0</td>\n",
              "      <td>49306.0</td>\n",
              "      <td>48871.0</td>\n",
              "      <td>49127.0</td>\n",
              "      <td>48759.0</td>\n",
              "      <td>5009.0</td>\n",
              "      <td>48421.0</td>\n",
              "      <td>48759.0</td>\n",
              "      <td>5009.0</td>\n",
              "      <td>48421.0</td>\n",
              "      <td>49127.0</td>\n",
              "      <td>48513.0</td>\n",
              "      <td>50000.0</td>\n",
              "      <td>49298.0</td>\n",
              "      <td>50000.0</td>\n",
              "      <td>48759.0</td>\n",
              "      <td>48917.0</td>\n",
              "      <td>48513.0</td>\n",
              "      <td>5009.0</td>\n",
              "      <td>48421.0</td>\n",
              "      <td>50000.0</td>\n",
              "      <td>48760.0</td>\n",
              "      <td>48759.0</td>\n",
              "      <td>49354.0</td>\n",
              "      <td>48421.0</td>\n",
              "      <td>49298.0</td>\n",
              "      <td>5009.0</td>\n",
              "      <td>48421.0</td>\n",
              "      <td>48759.0</td>\n",
              "      <td>48759.0</td>\n",
              "      <td>50000.0</td>\n",
              "      <td>49298.0</td>\n",
              "      <td>49298.0</td>\n",
              "      <td>48759.0</td>\n",
              "      <td>28978.0</td>\n",
              "      <td>49667.0</td>\n",
              "    </tr>\n",
              "    <tr>\n",
              "      <th>0</th>\n",
              "      <td>380.0</td>\n",
              "      <td>1240.0</td>\n",
              "      <td>996.0</td>\n",
              "      <td>1561.0</td>\n",
              "      <td>898.0</td>\n",
              "      <td>976.0</td>\n",
              "      <td>13090.0</td>\n",
              "      <td>NaN</td>\n",
              "      <td>144.0</td>\n",
              "      <td>902.0</td>\n",
              "      <td>NaN</td>\n",
              "      <td>304.0</td>\n",
              "      <td>12258.0</td>\n",
              "      <td>1154.0</td>\n",
              "      <td>NaN</td>\n",
              "      <td>54.0</td>\n",
              "      <td>939.0</td>\n",
              "      <td>1200.0</td>\n",
              "      <td>1543.0</td>\n",
              "      <td>NaN</td>\n",
              "      <td>1815.0</td>\n",
              "      <td>2221.0</td>\n",
              "      <td>1052.0</td>\n",
              "      <td>16205.0</td>\n",
              "      <td>6629.0</td>\n",
              "      <td>1457.0</td>\n",
              "      <td>1467.0</td>\n",
              "      <td>388.0</td>\n",
              "      <td>694.0</td>\n",
              "      <td>195.0</td>\n",
              "      <td>NaN</td>\n",
              "      <td>NaN</td>\n",
              "      <td>523.0</td>\n",
              "      <td>1126.0</td>\n",
              "      <td>41219.0</td>\n",
              "      <td>692.0</td>\n",
              "      <td>964.0</td>\n",
              "      <td>9405.0</td>\n",
              "      <td>NaN</td>\n",
              "      <td>830.0</td>\n",
              "      <td>...</td>\n",
              "      <td>523.0</td>\n",
              "      <td>475.0</td>\n",
              "      <td>2221.0</td>\n",
              "      <td>273.0</td>\n",
              "      <td>1430.0</td>\n",
              "      <td>142.0</td>\n",
              "      <td>418.0</td>\n",
              "      <td>650.0</td>\n",
              "      <td>939.0</td>\n",
              "      <td>3848.0</td>\n",
              "      <td>1266.0</td>\n",
              "      <td>747.0</td>\n",
              "      <td>13457.0</td>\n",
              "      <td>1296.0</td>\n",
              "      <td>650.0</td>\n",
              "      <td>898.0</td>\n",
              "      <td>NaN</td>\n",
              "      <td>4.0</td>\n",
              "      <td>NaN</td>\n",
              "      <td>892.0</td>\n",
              "      <td>290.0</td>\n",
              "      <td>391.0</td>\n",
              "      <td>44857.0</td>\n",
              "      <td>964.0</td>\n",
              "      <td>NaN</td>\n",
              "      <td>1083.0</td>\n",
              "      <td>771.0</td>\n",
              "      <td>174.0</td>\n",
              "      <td>1289.0</td>\n",
              "      <td>144.0</td>\n",
              "      <td>41990.0</td>\n",
              "      <td>706.0</td>\n",
              "      <td>830.0</td>\n",
              "      <td>771.0</td>\n",
              "      <td>NaN</td>\n",
              "      <td>525.0</td>\n",
              "      <td>240.0</td>\n",
              "      <td>44.0</td>\n",
              "      <td>NaN</td>\n",
              "      <td>4.0</td>\n",
              "    </tr>\n",
              "    <tr>\n",
              "      <th>120</th>\n",
              "      <td>1.0</td>\n",
              "      <td>NaN</td>\n",
              "      <td>3.0</td>\n",
              "      <td>NaN</td>\n",
              "      <td>NaN</td>\n",
              "      <td>NaN</td>\n",
              "      <td>NaN</td>\n",
              "      <td>NaN</td>\n",
              "      <td>2.0</td>\n",
              "      <td>NaN</td>\n",
              "      <td>NaN</td>\n",
              "      <td>NaN</td>\n",
              "      <td>134.0</td>\n",
              "      <td>NaN</td>\n",
              "      <td>NaN</td>\n",
              "      <td>NaN</td>\n",
              "      <td>3.0</td>\n",
              "      <td>NaN</td>\n",
              "      <td>NaN</td>\n",
              "      <td>NaN</td>\n",
              "      <td>959.0</td>\n",
              "      <td>296.0</td>\n",
              "      <td>1.0</td>\n",
              "      <td>NaN</td>\n",
              "      <td>762.0</td>\n",
              "      <td>NaN</td>\n",
              "      <td>NaN</td>\n",
              "      <td>NaN</td>\n",
              "      <td>NaN</td>\n",
              "      <td>NaN</td>\n",
              "      <td>NaN</td>\n",
              "      <td>NaN</td>\n",
              "      <td>NaN</td>\n",
              "      <td>NaN</td>\n",
              "      <td>NaN</td>\n",
              "      <td>NaN</td>\n",
              "      <td>NaN</td>\n",
              "      <td>4.0</td>\n",
              "      <td>NaN</td>\n",
              "      <td>2.0</td>\n",
              "      <td>...</td>\n",
              "      <td>2.0</td>\n",
              "      <td>NaN</td>\n",
              "      <td>1.0</td>\n",
              "      <td>NaN</td>\n",
              "      <td>NaN</td>\n",
              "      <td>NaN</td>\n",
              "      <td>1.0</td>\n",
              "      <td>NaN</td>\n",
              "      <td>NaN</td>\n",
              "      <td>56.0</td>\n",
              "      <td>NaN</td>\n",
              "      <td>NaN</td>\n",
              "      <td>1.0</td>\n",
              "      <td>1.0</td>\n",
              "      <td>NaN</td>\n",
              "      <td>NaN</td>\n",
              "      <td>NaN</td>\n",
              "      <td>NaN</td>\n",
              "      <td>NaN</td>\n",
              "      <td>NaN</td>\n",
              "      <td>NaN</td>\n",
              "      <td>NaN</td>\n",
              "      <td>NaN</td>\n",
              "      <td>NaN</td>\n",
              "      <td>NaN</td>\n",
              "      <td>NaN</td>\n",
              "      <td>NaN</td>\n",
              "      <td>1.0</td>\n",
              "      <td>NaN</td>\n",
              "      <td>NaN</td>\n",
              "      <td>NaN</td>\n",
              "      <td>NaN</td>\n",
              "      <td>NaN</td>\n",
              "      <td>NaN</td>\n",
              "      <td>NaN</td>\n",
              "      <td>NaN</td>\n",
              "      <td>NaN</td>\n",
              "      <td>NaN</td>\n",
              "      <td>95.0</td>\n",
              "      <td>NaN</td>\n",
              "    </tr>\n",
              "    <tr>\n",
              "      <th>128</th>\n",
              "      <td>2.0</td>\n",
              "      <td>NaN</td>\n",
              "      <td>NaN</td>\n",
              "      <td>NaN</td>\n",
              "      <td>NaN</td>\n",
              "      <td>NaN</td>\n",
              "      <td>NaN</td>\n",
              "      <td>NaN</td>\n",
              "      <td>1.0</td>\n",
              "      <td>NaN</td>\n",
              "      <td>NaN</td>\n",
              "      <td>2.0</td>\n",
              "      <td>130.0</td>\n",
              "      <td>NaN</td>\n",
              "      <td>NaN</td>\n",
              "      <td>NaN</td>\n",
              "      <td>NaN</td>\n",
              "      <td>NaN</td>\n",
              "      <td>NaN</td>\n",
              "      <td>NaN</td>\n",
              "      <td>1680.0</td>\n",
              "      <td>NaN</td>\n",
              "      <td>NaN</td>\n",
              "      <td>NaN</td>\n",
              "      <td>703.0</td>\n",
              "      <td>NaN</td>\n",
              "      <td>NaN</td>\n",
              "      <td>NaN</td>\n",
              "      <td>NaN</td>\n",
              "      <td>NaN</td>\n",
              "      <td>NaN</td>\n",
              "      <td>NaN</td>\n",
              "      <td>NaN</td>\n",
              "      <td>NaN</td>\n",
              "      <td>NaN</td>\n",
              "      <td>NaN</td>\n",
              "      <td>NaN</td>\n",
              "      <td>NaN</td>\n",
              "      <td>NaN</td>\n",
              "      <td>NaN</td>\n",
              "      <td>...</td>\n",
              "      <td>1.0</td>\n",
              "      <td>NaN</td>\n",
              "      <td>NaN</td>\n",
              "      <td>NaN</td>\n",
              "      <td>NaN</td>\n",
              "      <td>NaN</td>\n",
              "      <td>2.0</td>\n",
              "      <td>NaN</td>\n",
              "      <td>NaN</td>\n",
              "      <td>46.0</td>\n",
              "      <td>NaN</td>\n",
              "      <td>NaN</td>\n",
              "      <td>NaN</td>\n",
              "      <td>NaN</td>\n",
              "      <td>NaN</td>\n",
              "      <td>NaN</td>\n",
              "      <td>NaN</td>\n",
              "      <td>NaN</td>\n",
              "      <td>NaN</td>\n",
              "      <td>NaN</td>\n",
              "      <td>NaN</td>\n",
              "      <td>NaN</td>\n",
              "      <td>NaN</td>\n",
              "      <td>NaN</td>\n",
              "      <td>NaN</td>\n",
              "      <td>NaN</td>\n",
              "      <td>NaN</td>\n",
              "      <td>NaN</td>\n",
              "      <td>NaN</td>\n",
              "      <td>NaN</td>\n",
              "      <td>NaN</td>\n",
              "      <td>NaN</td>\n",
              "      <td>NaN</td>\n",
              "      <td>NaN</td>\n",
              "      <td>NaN</td>\n",
              "      <td>NaN</td>\n",
              "      <td>NaN</td>\n",
              "      <td>NaN</td>\n",
              "      <td>NaN</td>\n",
              "      <td>NaN</td>\n",
              "    </tr>\n",
              "    <tr>\n",
              "      <th>152</th>\n",
              "      <td>1.0</td>\n",
              "      <td>NaN</td>\n",
              "      <td>NaN</td>\n",
              "      <td>NaN</td>\n",
              "      <td>NaN</td>\n",
              "      <td>NaN</td>\n",
              "      <td>NaN</td>\n",
              "      <td>NaN</td>\n",
              "      <td>1.0</td>\n",
              "      <td>NaN</td>\n",
              "      <td>NaN</td>\n",
              "      <td>NaN</td>\n",
              "      <td>124.0</td>\n",
              "      <td>NaN</td>\n",
              "      <td>NaN</td>\n",
              "      <td>3.0</td>\n",
              "      <td>NaN</td>\n",
              "      <td>NaN</td>\n",
              "      <td>NaN</td>\n",
              "      <td>NaN</td>\n",
              "      <td>968.0</td>\n",
              "      <td>NaN</td>\n",
              "      <td>NaN</td>\n",
              "      <td>1.0</td>\n",
              "      <td>664.0</td>\n",
              "      <td>NaN</td>\n",
              "      <td>NaN</td>\n",
              "      <td>1.0</td>\n",
              "      <td>NaN</td>\n",
              "      <td>NaN</td>\n",
              "      <td>NaN</td>\n",
              "      <td>NaN</td>\n",
              "      <td>NaN</td>\n",
              "      <td>NaN</td>\n",
              "      <td>NaN</td>\n",
              "      <td>NaN</td>\n",
              "      <td>NaN</td>\n",
              "      <td>NaN</td>\n",
              "      <td>NaN</td>\n",
              "      <td>NaN</td>\n",
              "      <td>...</td>\n",
              "      <td>NaN</td>\n",
              "      <td>NaN</td>\n",
              "      <td>NaN</td>\n",
              "      <td>NaN</td>\n",
              "      <td>NaN</td>\n",
              "      <td>NaN</td>\n",
              "      <td>NaN</td>\n",
              "      <td>NaN</td>\n",
              "      <td>NaN</td>\n",
              "      <td>31.0</td>\n",
              "      <td>NaN</td>\n",
              "      <td>NaN</td>\n",
              "      <td>NaN</td>\n",
              "      <td>NaN</td>\n",
              "      <td>NaN</td>\n",
              "      <td>NaN</td>\n",
              "      <td>NaN</td>\n",
              "      <td>NaN</td>\n",
              "      <td>NaN</td>\n",
              "      <td>NaN</td>\n",
              "      <td>NaN</td>\n",
              "      <td>NaN</td>\n",
              "      <td>NaN</td>\n",
              "      <td>NaN</td>\n",
              "      <td>NaN</td>\n",
              "      <td>NaN</td>\n",
              "      <td>NaN</td>\n",
              "      <td>NaN</td>\n",
              "      <td>NaN</td>\n",
              "      <td>NaN</td>\n",
              "      <td>NaN</td>\n",
              "      <td>NaN</td>\n",
              "      <td>NaN</td>\n",
              "      <td>NaN</td>\n",
              "      <td>NaN</td>\n",
              "      <td>NaN</td>\n",
              "      <td>NaN</td>\n",
              "      <td>NaN</td>\n",
              "      <td>NaN</td>\n",
              "      <td>NaN</td>\n",
              "    </tr>\n",
              "  </tbody>\n",
              "</table>\n",
              "<p>5 rows × 190 columns</p>\n",
              "</div>"
            ],
            "text/plain": [
              "         0        1        2        3    ...      186      187      188      189\n",
              "     49298.0  48759.0  48760.0  48421.0  ...  49298.0  48759.0  28978.0  49667.0\n",
              "0      380.0   1240.0    996.0   1561.0  ...    240.0     44.0      NaN      4.0\n",
              "120      1.0      NaN      3.0      NaN  ...      NaN      NaN     95.0      NaN\n",
              "128      2.0      NaN      NaN      NaN  ...      NaN      NaN      NaN      NaN\n",
              "152      1.0      NaN      NaN      NaN  ...      NaN      NaN      NaN      NaN\n",
              "\n",
              "[5 rows x 190 columns]"
            ]
          },
          "metadata": {
            "tags": []
          },
          "execution_count": 167
        }
      ]
    },
    {
      "cell_type": "code",
      "metadata": {
        "id": "Grv1Xru2tLwY",
        "colab_type": "code",
        "outputId": "c9fc9de9-04ee-41c4-fd19-094288e82cc1",
        "colab": {
          "base_uri": "https://localhost:8080/",
          "height": 119
        }
      },
      "source": [
        "contador_de_colunas= contador_de_colunas.T\n",
        "contador_de_colunas.index = contador_de_colunas.index.astype('str')\n",
        "contador_de_colunas.sort_index(inplace= True)\n",
        "print(\"Primeiras dez categorias\" , contador_de_colunas.index[:10])\n",
        "print(\"ultimas dez categorias\" , contador_de_colunas.index[(len(contador_de_colunas.index)-10):])"
      ],
      "execution_count": 168,
      "outputs": [
        {
          "output_type": "stream",
          "text": [
            "Primeiras dez categorias Index(['', '-10', '-1000060.0', '-10002.16', '-100034.8', '-1000420.0',\n",
            "       '-1000468.0', '-1000496.0', '-1000516.0', '-1000548.0'],\n",
            "      dtype='object')\n",
            "ultimas dez categorias Index(['9999040', '999920', '9999240', '99993', '9999400', '9999440',\n",
            "       '9999480', '99995', '99996', '999971'],\n",
            "      dtype='object')\n"
          ],
          "name": "stdout"
        }
      ]
    },
    {
      "cell_type": "code",
      "metadata": {
        "id": "Sz3OBVe1vhYp",
        "colab_type": "code",
        "colab": {}
      },
      "source": [
        "contador_de_colunas = pd.DataFrame()\n",
        "for colunas in categoricas_variaveis:\n",
        "  coluna_contador= recursos.groupby(colunas).size()\n",
        "  contador_de_colunas= contador_de_colunas.append(coluna_contador, ignore_index= True)"
      ],
      "execution_count": 0,
      "outputs": []
    },
    {
      "cell_type": "code",
      "metadata": {
        "id": "GkpK7WRwvmMJ",
        "colab_type": "code",
        "outputId": "8ed1bc75-e5ea-470e-9371-0d0b8219594c",
        "colab": {
          "base_uri": "https://localhost:8080/",
          "height": 119
        }
      },
      "source": [
        "contador_de_colunas= contador_de_colunas.T\n",
        "contador_de_colunas.index = contador_de_colunas.index.astype('str')\n",
        "contador_de_colunas.sort_index(inplace= True)\n",
        "print(\"Primeiras dez categorias\" , contador_de_colunas.index[:10])\n",
        "print(\"ultimas dez categorias\" , contador_de_colunas.index[(len(contador_de_colunas.index)-10):])"
      ],
      "execution_count": 170,
      "outputs": [
        {
          "output_type": "stream",
          "text": [
            "Primeiras dez categorias Index(['', '000J', '0062', '00AD', '00ARusu', '00AYONy', '00AhP4J', '00J8E9a',\n",
            "       '00JHTSP', '00L3'],\n",
            "      dtype='object')\n",
            "ultimas dez categorias Index(['zzQ9udm', 'zzQV', 'zzbGOGx', 'zzbGa54', 'zzcv6yg4s3UGv', 'zzfHvGh',\n",
            "       'zzfLM_S', 'zzfUfAI', 'zzfo6HG', 'zzpZ'],\n",
            "      dtype='object')\n"
          ],
          "name": "stdout"
        }
      ]
    },
    {
      "cell_type": "code",
      "metadata": {
        "id": "Y_41pBD6wGkY",
        "colab_type": "code",
        "colab": {}
      },
      "source": [
        "recursos = recursos.replace('',np.nan)"
      ],
      "execution_count": 0,
      "outputs": []
    },
    {
      "cell_type": "code",
      "metadata": {
        "id": "9qjOR6vCwQTT",
        "colab_type": "code",
        "outputId": "0f7865dd-fe61-4acf-c4ae-41f1d2ba1090",
        "colab": {
          "base_uri": "https://localhost:8080/",
          "height": 253
        }
      },
      "source": [
        "recursos.head()"
      ],
      "execution_count": 172,
      "outputs": [
        {
          "output_type": "execute_result",
          "data": {
            "text/html": [
              "<div>\n",
              "<style scoped>\n",
              "    .dataframe tbody tr th:only-of-type {\n",
              "        vertical-align: middle;\n",
              "    }\n",
              "\n",
              "    .dataframe tbody tr th {\n",
              "        vertical-align: top;\n",
              "    }\n",
              "\n",
              "    .dataframe thead th {\n",
              "        text-align: right;\n",
              "    }\n",
              "</style>\n",
              "<table border=\"1\" class=\"dataframe\">\n",
              "  <thead>\n",
              "    <tr style=\"text-align: right;\">\n",
              "      <th></th>\n",
              "      <th>Var1</th>\n",
              "      <th>Var2</th>\n",
              "      <th>Var3</th>\n",
              "      <th>Var4</th>\n",
              "      <th>Var5</th>\n",
              "      <th>Var6</th>\n",
              "      <th>Var7</th>\n",
              "      <th>Var8</th>\n",
              "      <th>Var9</th>\n",
              "      <th>Var10</th>\n",
              "      <th>Var11</th>\n",
              "      <th>Var12</th>\n",
              "      <th>Var13</th>\n",
              "      <th>Var14</th>\n",
              "      <th>Var15</th>\n",
              "      <th>Var16</th>\n",
              "      <th>Var17</th>\n",
              "      <th>Var18</th>\n",
              "      <th>Var19</th>\n",
              "      <th>Var20</th>\n",
              "      <th>Var21</th>\n",
              "      <th>Var22</th>\n",
              "      <th>Var23</th>\n",
              "      <th>Var24</th>\n",
              "      <th>Var25</th>\n",
              "      <th>Var26</th>\n",
              "      <th>Var27</th>\n",
              "      <th>Var28</th>\n",
              "      <th>Var29</th>\n",
              "      <th>Var30</th>\n",
              "      <th>Var31</th>\n",
              "      <th>Var32</th>\n",
              "      <th>Var33</th>\n",
              "      <th>Var34</th>\n",
              "      <th>Var35</th>\n",
              "      <th>Var36</th>\n",
              "      <th>Var37</th>\n",
              "      <th>Var38</th>\n",
              "      <th>Var39</th>\n",
              "      <th>Var40</th>\n",
              "      <th>...</th>\n",
              "      <th>Var191</th>\n",
              "      <th>Var192</th>\n",
              "      <th>Var193</th>\n",
              "      <th>Var194</th>\n",
              "      <th>Var195</th>\n",
              "      <th>Var196</th>\n",
              "      <th>Var197</th>\n",
              "      <th>Var198</th>\n",
              "      <th>Var199</th>\n",
              "      <th>Var200</th>\n",
              "      <th>Var201</th>\n",
              "      <th>Var202</th>\n",
              "      <th>Var203</th>\n",
              "      <th>Var204</th>\n",
              "      <th>Var205</th>\n",
              "      <th>Var206</th>\n",
              "      <th>Var207</th>\n",
              "      <th>Var208</th>\n",
              "      <th>Var209</th>\n",
              "      <th>Var210</th>\n",
              "      <th>Var211</th>\n",
              "      <th>Var212</th>\n",
              "      <th>Var213</th>\n",
              "      <th>Var214</th>\n",
              "      <th>Var215</th>\n",
              "      <th>Var216</th>\n",
              "      <th>Var217</th>\n",
              "      <th>Var218</th>\n",
              "      <th>Var219</th>\n",
              "      <th>Var220</th>\n",
              "      <th>Var221</th>\n",
              "      <th>Var222</th>\n",
              "      <th>Var223</th>\n",
              "      <th>Var224</th>\n",
              "      <th>Var225</th>\n",
              "      <th>Var226</th>\n",
              "      <th>Var227</th>\n",
              "      <th>Var228</th>\n",
              "      <th>Var229</th>\n",
              "      <th>Var230</th>\n",
              "    </tr>\n",
              "  </thead>\n",
              "  <tbody>\n",
              "    <tr>\n",
              "      <th>0</th>\n",
              "      <td>NaN</td>\n",
              "      <td>NaN</td>\n",
              "      <td>NaN</td>\n",
              "      <td>NaN</td>\n",
              "      <td>NaN</td>\n",
              "      <td>1526</td>\n",
              "      <td>7</td>\n",
              "      <td>NaN</td>\n",
              "      <td>NaN</td>\n",
              "      <td>NaN</td>\n",
              "      <td>NaN</td>\n",
              "      <td>NaN</td>\n",
              "      <td>184</td>\n",
              "      <td>NaN</td>\n",
              "      <td>NaN</td>\n",
              "      <td>NaN</td>\n",
              "      <td>NaN</td>\n",
              "      <td>NaN</td>\n",
              "      <td>NaN</td>\n",
              "      <td>NaN</td>\n",
              "      <td>464</td>\n",
              "      <td>580</td>\n",
              "      <td>NaN</td>\n",
              "      <td>14</td>\n",
              "      <td>128</td>\n",
              "      <td>NaN</td>\n",
              "      <td>NaN</td>\n",
              "      <td>166.56</td>\n",
              "      <td>NaN</td>\n",
              "      <td>NaN</td>\n",
              "      <td>NaN</td>\n",
              "      <td>NaN</td>\n",
              "      <td>NaN</td>\n",
              "      <td>NaN</td>\n",
              "      <td>0</td>\n",
              "      <td>NaN</td>\n",
              "      <td>NaN</td>\n",
              "      <td>3570</td>\n",
              "      <td>NaN</td>\n",
              "      <td>NaN</td>\n",
              "      <td>...</td>\n",
              "      <td>NaN</td>\n",
              "      <td>bZkvyxLkBI</td>\n",
              "      <td>RO12</td>\n",
              "      <td>NaN</td>\n",
              "      <td>taul</td>\n",
              "      <td>1K8T</td>\n",
              "      <td>lK27</td>\n",
              "      <td>ka_ns41</td>\n",
              "      <td>nQUveAzAF7</td>\n",
              "      <td>NaN</td>\n",
              "      <td>NaN</td>\n",
              "      <td>dXGu</td>\n",
              "      <td>9_Y1</td>\n",
              "      <td>FbIm</td>\n",
              "      <td>VpdQ</td>\n",
              "      <td>haYg</td>\n",
              "      <td>me75fM6ugJ</td>\n",
              "      <td>kIsH</td>\n",
              "      <td>NaN</td>\n",
              "      <td>uKAI</td>\n",
              "      <td>L84s</td>\n",
              "      <td>XfqtO3UdzaXh_</td>\n",
              "      <td>NaN</td>\n",
              "      <td>NaN</td>\n",
              "      <td>NaN</td>\n",
              "      <td>XTbPUYD</td>\n",
              "      <td>sH5Z</td>\n",
              "      <td>cJvF</td>\n",
              "      <td>FzaX</td>\n",
              "      <td>1YVfGrO</td>\n",
              "      <td>oslk</td>\n",
              "      <td>fXVEsaq</td>\n",
              "      <td>jySVZNlOJy</td>\n",
              "      <td>NaN</td>\n",
              "      <td>NaN</td>\n",
              "      <td>xb3V</td>\n",
              "      <td>RAYp</td>\n",
              "      <td>F2FyR07IdsN7I</td>\n",
              "      <td>NaN</td>\n",
              "      <td>NaN</td>\n",
              "    </tr>\n",
              "    <tr>\n",
              "      <th>1</th>\n",
              "      <td>NaN</td>\n",
              "      <td>NaN</td>\n",
              "      <td>NaN</td>\n",
              "      <td>NaN</td>\n",
              "      <td>NaN</td>\n",
              "      <td>525</td>\n",
              "      <td>0</td>\n",
              "      <td>NaN</td>\n",
              "      <td>NaN</td>\n",
              "      <td>NaN</td>\n",
              "      <td>NaN</td>\n",
              "      <td>NaN</td>\n",
              "      <td>0</td>\n",
              "      <td>NaN</td>\n",
              "      <td>NaN</td>\n",
              "      <td>NaN</td>\n",
              "      <td>NaN</td>\n",
              "      <td>NaN</td>\n",
              "      <td>NaN</td>\n",
              "      <td>NaN</td>\n",
              "      <td>168</td>\n",
              "      <td>210</td>\n",
              "      <td>NaN</td>\n",
              "      <td>2</td>\n",
              "      <td>24</td>\n",
              "      <td>NaN</td>\n",
              "      <td>NaN</td>\n",
              "      <td>353.52</td>\n",
              "      <td>NaN</td>\n",
              "      <td>NaN</td>\n",
              "      <td>NaN</td>\n",
              "      <td>NaN</td>\n",
              "      <td>NaN</td>\n",
              "      <td>NaN</td>\n",
              "      <td>0</td>\n",
              "      <td>NaN</td>\n",
              "      <td>NaN</td>\n",
              "      <td>4764966</td>\n",
              "      <td>NaN</td>\n",
              "      <td>NaN</td>\n",
              "      <td>...</td>\n",
              "      <td>NaN</td>\n",
              "      <td>CEat0G8rTN</td>\n",
              "      <td>RO12</td>\n",
              "      <td>NaN</td>\n",
              "      <td>taul</td>\n",
              "      <td>1K8T</td>\n",
              "      <td>2Ix5</td>\n",
              "      <td>qEdASpP</td>\n",
              "      <td>y2LIM01bE1</td>\n",
              "      <td>NaN</td>\n",
              "      <td>NaN</td>\n",
              "      <td>lg1t</td>\n",
              "      <td>9_Y1</td>\n",
              "      <td>k13i</td>\n",
              "      <td>sJzTlal</td>\n",
              "      <td>zm5i</td>\n",
              "      <td>me75fM6ugJ</td>\n",
              "      <td>kIsH</td>\n",
              "      <td>NaN</td>\n",
              "      <td>uKAI</td>\n",
              "      <td>L84s</td>\n",
              "      <td>NhsEn4L</td>\n",
              "      <td>NaN</td>\n",
              "      <td>NaN</td>\n",
              "      <td>NaN</td>\n",
              "      <td>kZJyVg2</td>\n",
              "      <td>NaN</td>\n",
              "      <td>NaN</td>\n",
              "      <td>FzaX</td>\n",
              "      <td>0AJo2f2</td>\n",
              "      <td>oslk</td>\n",
              "      <td>2Kb5FSF</td>\n",
              "      <td>LM8l689qOp</td>\n",
              "      <td>NaN</td>\n",
              "      <td>NaN</td>\n",
              "      <td>fKCe</td>\n",
              "      <td>RAYp</td>\n",
              "      <td>F2FyR07IdsN7I</td>\n",
              "      <td>NaN</td>\n",
              "      <td>NaN</td>\n",
              "    </tr>\n",
              "    <tr>\n",
              "      <th>2</th>\n",
              "      <td>NaN</td>\n",
              "      <td>NaN</td>\n",
              "      <td>NaN</td>\n",
              "      <td>NaN</td>\n",
              "      <td>NaN</td>\n",
              "      <td>5236</td>\n",
              "      <td>7</td>\n",
              "      <td>NaN</td>\n",
              "      <td>NaN</td>\n",
              "      <td>NaN</td>\n",
              "      <td>NaN</td>\n",
              "      <td>NaN</td>\n",
              "      <td>904</td>\n",
              "      <td>NaN</td>\n",
              "      <td>NaN</td>\n",
              "      <td>NaN</td>\n",
              "      <td>NaN</td>\n",
              "      <td>NaN</td>\n",
              "      <td>NaN</td>\n",
              "      <td>NaN</td>\n",
              "      <td>1212</td>\n",
              "      <td>1515</td>\n",
              "      <td>NaN</td>\n",
              "      <td>26</td>\n",
              "      <td>816</td>\n",
              "      <td>NaN</td>\n",
              "      <td>NaN</td>\n",
              "      <td>220.08</td>\n",
              "      <td>NaN</td>\n",
              "      <td>NaN</td>\n",
              "      <td>NaN</td>\n",
              "      <td>NaN</td>\n",
              "      <td>NaN</td>\n",
              "      <td>NaN</td>\n",
              "      <td>0</td>\n",
              "      <td>NaN</td>\n",
              "      <td>NaN</td>\n",
              "      <td>5883894</td>\n",
              "      <td>NaN</td>\n",
              "      <td>NaN</td>\n",
              "      <td>...</td>\n",
              "      <td>NaN</td>\n",
              "      <td>eOQt0GoOh3</td>\n",
              "      <td>AERks4l</td>\n",
              "      <td>SEuy</td>\n",
              "      <td>taul</td>\n",
              "      <td>1K8T</td>\n",
              "      <td>ffXs</td>\n",
              "      <td>NldASpP</td>\n",
              "      <td>y4g9XoZ</td>\n",
              "      <td>vynJTq9</td>\n",
              "      <td>smXZ</td>\n",
              "      <td>4bTR</td>\n",
              "      <td>9_Y1</td>\n",
              "      <td>MGOA</td>\n",
              "      <td>VpdQ</td>\n",
              "      <td>haYg</td>\n",
              "      <td>DHn_WUyBhW_whjA88g9bvA64_</td>\n",
              "      <td>kIsH</td>\n",
              "      <td>NaN</td>\n",
              "      <td>uKAI</td>\n",
              "      <td>L84s</td>\n",
              "      <td>UbxQ8lZ</td>\n",
              "      <td>NaN</td>\n",
              "      <td>TTGHfSv</td>\n",
              "      <td>NaN</td>\n",
              "      <td>pMWAe2U</td>\n",
              "      <td>bHR7</td>\n",
              "      <td>UYBR</td>\n",
              "      <td>FzaX</td>\n",
              "      <td>JFM1BiF</td>\n",
              "      <td>Al6ZaUT</td>\n",
              "      <td>NKv4yOc</td>\n",
              "      <td>jySVZNlOJy</td>\n",
              "      <td>NaN</td>\n",
              "      <td>kG3k</td>\n",
              "      <td>Qu4f</td>\n",
              "      <td>02N6s8f</td>\n",
              "      <td>ib5G6X1eUxUn6</td>\n",
              "      <td>am7c</td>\n",
              "      <td>NaN</td>\n",
              "    </tr>\n",
              "    <tr>\n",
              "      <th>3</th>\n",
              "      <td>NaN</td>\n",
              "      <td>NaN</td>\n",
              "      <td>NaN</td>\n",
              "      <td>NaN</td>\n",
              "      <td>NaN</td>\n",
              "      <td>NaN</td>\n",
              "      <td>0</td>\n",
              "      <td>NaN</td>\n",
              "      <td>NaN</td>\n",
              "      <td>NaN</td>\n",
              "      <td>NaN</td>\n",
              "      <td>NaN</td>\n",
              "      <td>0</td>\n",
              "      <td>NaN</td>\n",
              "      <td>NaN</td>\n",
              "      <td>NaN</td>\n",
              "      <td>NaN</td>\n",
              "      <td>NaN</td>\n",
              "      <td>NaN</td>\n",
              "      <td>NaN</td>\n",
              "      <td>NaN</td>\n",
              "      <td>0</td>\n",
              "      <td>NaN</td>\n",
              "      <td>NaN</td>\n",
              "      <td>0</td>\n",
              "      <td>NaN</td>\n",
              "      <td>NaN</td>\n",
              "      <td>22.08</td>\n",
              "      <td>NaN</td>\n",
              "      <td>NaN</td>\n",
              "      <td>NaN</td>\n",
              "      <td>NaN</td>\n",
              "      <td>NaN</td>\n",
              "      <td>NaN</td>\n",
              "      <td>0</td>\n",
              "      <td>NaN</td>\n",
              "      <td>NaN</td>\n",
              "      <td>0</td>\n",
              "      <td>NaN</td>\n",
              "      <td>NaN</td>\n",
              "      <td>...</td>\n",
              "      <td>NaN</td>\n",
              "      <td>jg69tYsGvO</td>\n",
              "      <td>RO12</td>\n",
              "      <td>NaN</td>\n",
              "      <td>taul</td>\n",
              "      <td>1K8T</td>\n",
              "      <td>ssAy</td>\n",
              "      <td>_ybO0dd</td>\n",
              "      <td>4hMlgkf58mhwh</td>\n",
              "      <td>NaN</td>\n",
              "      <td>NaN</td>\n",
              "      <td>W8mQ</td>\n",
              "      <td>9_Y1</td>\n",
              "      <td>YULl</td>\n",
              "      <td>VpdQ</td>\n",
              "      <td>NaN</td>\n",
              "      <td>me75fM6ugJ</td>\n",
              "      <td>kIsH</td>\n",
              "      <td>NaN</td>\n",
              "      <td>uKAI</td>\n",
              "      <td>Mtgm</td>\n",
              "      <td>NhsEn4L</td>\n",
              "      <td>NaN</td>\n",
              "      <td>NaN</td>\n",
              "      <td>NaN</td>\n",
              "      <td>kq0dQfu</td>\n",
              "      <td>eKej</td>\n",
              "      <td>UYBR</td>\n",
              "      <td>FzaX</td>\n",
              "      <td>L91KIiz</td>\n",
              "      <td>oslk</td>\n",
              "      <td>CE7uk3u</td>\n",
              "      <td>LM8l689qOp</td>\n",
              "      <td>NaN</td>\n",
              "      <td>NaN</td>\n",
              "      <td>FSa2</td>\n",
              "      <td>RAYp</td>\n",
              "      <td>F2FyR07IdsN7I</td>\n",
              "      <td>NaN</td>\n",
              "      <td>NaN</td>\n",
              "    </tr>\n",
              "    <tr>\n",
              "      <th>4</th>\n",
              "      <td>NaN</td>\n",
              "      <td>NaN</td>\n",
              "      <td>NaN</td>\n",
              "      <td>NaN</td>\n",
              "      <td>NaN</td>\n",
              "      <td>1029</td>\n",
              "      <td>7</td>\n",
              "      <td>NaN</td>\n",
              "      <td>NaN</td>\n",
              "      <td>NaN</td>\n",
              "      <td>NaN</td>\n",
              "      <td>NaN</td>\n",
              "      <td>3216</td>\n",
              "      <td>NaN</td>\n",
              "      <td>NaN</td>\n",
              "      <td>NaN</td>\n",
              "      <td>NaN</td>\n",
              "      <td>NaN</td>\n",
              "      <td>NaN</td>\n",
              "      <td>NaN</td>\n",
              "      <td>64</td>\n",
              "      <td>80</td>\n",
              "      <td>NaN</td>\n",
              "      <td>4</td>\n",
              "      <td>64</td>\n",
              "      <td>NaN</td>\n",
              "      <td>NaN</td>\n",
              "      <td>200</td>\n",
              "      <td>NaN</td>\n",
              "      <td>NaN</td>\n",
              "      <td>NaN</td>\n",
              "      <td>NaN</td>\n",
              "      <td>NaN</td>\n",
              "      <td>NaN</td>\n",
              "      <td>0</td>\n",
              "      <td>NaN</td>\n",
              "      <td>NaN</td>\n",
              "      <td>0</td>\n",
              "      <td>NaN</td>\n",
              "      <td>NaN</td>\n",
              "      <td>...</td>\n",
              "      <td>NaN</td>\n",
              "      <td>IXSgUHShse</td>\n",
              "      <td>RO12</td>\n",
              "      <td>SEuy</td>\n",
              "      <td>taul</td>\n",
              "      <td>1K8T</td>\n",
              "      <td>uNkU</td>\n",
              "      <td>EKR938I</td>\n",
              "      <td>ThrHXVS</td>\n",
              "      <td>0v21jmy</td>\n",
              "      <td>smXZ</td>\n",
              "      <td>xklU</td>\n",
              "      <td>9_Y1</td>\n",
              "      <td>RVjC</td>\n",
              "      <td>sJzTlal</td>\n",
              "      <td>6JmL</td>\n",
              "      <td>me75fM6ugJ</td>\n",
              "      <td>kIsH</td>\n",
              "      <td>NaN</td>\n",
              "      <td>uKAI</td>\n",
              "      <td>L84s</td>\n",
              "      <td>XfqtO3UdzaXh_</td>\n",
              "      <td>NaN</td>\n",
              "      <td>SJs3duv</td>\n",
              "      <td>NaN</td>\n",
              "      <td>11p4mKe</td>\n",
              "      <td>H3p7</td>\n",
              "      <td>UYBR</td>\n",
              "      <td>FzaX</td>\n",
              "      <td>OrnLfvc</td>\n",
              "      <td>oslk</td>\n",
              "      <td>1J2cvxe</td>\n",
              "      <td>LM8l689qOp</td>\n",
              "      <td>NaN</td>\n",
              "      <td>kG3k</td>\n",
              "      <td>FSa2</td>\n",
              "      <td>RAYp</td>\n",
              "      <td>F2FyR07IdsN7I</td>\n",
              "      <td>mj86</td>\n",
              "      <td>NaN</td>\n",
              "    </tr>\n",
              "  </tbody>\n",
              "</table>\n",
              "<p>5 rows × 230 columns</p>\n",
              "</div>"
            ],
            "text/plain": [
              "  Var1 Var2 Var3 Var4 Var5  ... Var226   Var227         Var228 Var229 Var230\n",
              "0  NaN  NaN  NaN  NaN  NaN  ...   xb3V     RAYp  F2FyR07IdsN7I    NaN    NaN\n",
              "1  NaN  NaN  NaN  NaN  NaN  ...   fKCe     RAYp  F2FyR07IdsN7I    NaN    NaN\n",
              "2  NaN  NaN  NaN  NaN  NaN  ...   Qu4f  02N6s8f  ib5G6X1eUxUn6   am7c    NaN\n",
              "3  NaN  NaN  NaN  NaN  NaN  ...   FSa2     RAYp  F2FyR07IdsN7I    NaN    NaN\n",
              "4  NaN  NaN  NaN  NaN  NaN  ...   FSa2     RAYp  F2FyR07IdsN7I   mj86    NaN\n",
              "\n",
              "[5 rows x 230 columns]"
            ]
          },
          "metadata": {
            "tags": []
          },
          "execution_count": 172
        }
      ]
    },
    {
      "cell_type": "code",
      "metadata": {
        "id": "dv7NgsRcwkxy",
        "colab_type": "code",
        "colab": {}
      },
      "source": [
        "for colunas in numericas_variaveis:\n",
        "  recursos[colunas]= recursos[colunas].astype('float')\n",
        "\n",
        "for colunas in categoricas_variaveis:\n",
        "  recursos[colunas]= recursos[colunas].astype('category')\n"
      ],
      "execution_count": 0,
      "outputs": []
    },
    {
      "cell_type": "code",
      "metadata": {
        "id": "mCLx3ierw_Rq",
        "colab_type": "code",
        "outputId": "5a812add-f4df-4090-8574-5e5cf110f8bd",
        "colab": {
          "base_uri": "https://localhost:8080/",
          "height": 221
        }
      },
      "source": [
        "recursos.dtypes"
      ],
      "execution_count": 174,
      "outputs": [
        {
          "output_type": "execute_result",
          "data": {
            "text/plain": [
              "Var1       float64\n",
              "Var2       float64\n",
              "Var3       float64\n",
              "Var4       float64\n",
              "Var5       float64\n",
              "            ...   \n",
              "Var226    category\n",
              "Var227    category\n",
              "Var228    category\n",
              "Var229    category\n",
              "Var230    category\n",
              "Length: 230, dtype: object"
            ]
          },
          "metadata": {
            "tags": []
          },
          "execution_count": 174
        }
      ]
    },
    {
      "cell_type": "markdown",
      "metadata": {
        "id": "RoUK5YpMwdFL",
        "colab_type": "text"
      },
      "source": [
        "### Seleção de variaveis\n",
        "\n",
        "\n",
        "\n"
      ]
    },
    {
      "cell_type": "markdown",
      "metadata": {
        "id": "ZfxsEpoExNlv",
        "colab_type": "text"
      },
      "source": [
        "#### variaveis com muitos valores faltantes"
      ]
    },
    {
      "cell_type": "code",
      "metadata": {
        "id": "Lk3a15oyxR3A",
        "colab_type": "code",
        "outputId": "e569d437-516b-4ca6-884f-f4d7a5cb6725",
        "colab": {
          "base_uri": "https://localhost:8080/",
          "height": 439
        }
      },
      "source": [
        "recursos.isna()"
      ],
      "execution_count": 175,
      "outputs": [
        {
          "output_type": "execute_result",
          "data": {
            "text/html": [
              "<div>\n",
              "<style scoped>\n",
              "    .dataframe tbody tr th:only-of-type {\n",
              "        vertical-align: middle;\n",
              "    }\n",
              "\n",
              "    .dataframe tbody tr th {\n",
              "        vertical-align: top;\n",
              "    }\n",
              "\n",
              "    .dataframe thead th {\n",
              "        text-align: right;\n",
              "    }\n",
              "</style>\n",
              "<table border=\"1\" class=\"dataframe\">\n",
              "  <thead>\n",
              "    <tr style=\"text-align: right;\">\n",
              "      <th></th>\n",
              "      <th>Var1</th>\n",
              "      <th>Var2</th>\n",
              "      <th>Var3</th>\n",
              "      <th>Var4</th>\n",
              "      <th>Var5</th>\n",
              "      <th>Var6</th>\n",
              "      <th>Var7</th>\n",
              "      <th>Var8</th>\n",
              "      <th>Var9</th>\n",
              "      <th>Var10</th>\n",
              "      <th>Var11</th>\n",
              "      <th>Var12</th>\n",
              "      <th>Var13</th>\n",
              "      <th>Var14</th>\n",
              "      <th>Var15</th>\n",
              "      <th>Var16</th>\n",
              "      <th>Var17</th>\n",
              "      <th>Var18</th>\n",
              "      <th>Var19</th>\n",
              "      <th>Var20</th>\n",
              "      <th>Var21</th>\n",
              "      <th>Var22</th>\n",
              "      <th>Var23</th>\n",
              "      <th>Var24</th>\n",
              "      <th>Var25</th>\n",
              "      <th>Var26</th>\n",
              "      <th>Var27</th>\n",
              "      <th>Var28</th>\n",
              "      <th>Var29</th>\n",
              "      <th>Var30</th>\n",
              "      <th>Var31</th>\n",
              "      <th>Var32</th>\n",
              "      <th>Var33</th>\n",
              "      <th>Var34</th>\n",
              "      <th>Var35</th>\n",
              "      <th>Var36</th>\n",
              "      <th>Var37</th>\n",
              "      <th>Var38</th>\n",
              "      <th>Var39</th>\n",
              "      <th>Var40</th>\n",
              "      <th>...</th>\n",
              "      <th>Var191</th>\n",
              "      <th>Var192</th>\n",
              "      <th>Var193</th>\n",
              "      <th>Var194</th>\n",
              "      <th>Var195</th>\n",
              "      <th>Var196</th>\n",
              "      <th>Var197</th>\n",
              "      <th>Var198</th>\n",
              "      <th>Var199</th>\n",
              "      <th>Var200</th>\n",
              "      <th>Var201</th>\n",
              "      <th>Var202</th>\n",
              "      <th>Var203</th>\n",
              "      <th>Var204</th>\n",
              "      <th>Var205</th>\n",
              "      <th>Var206</th>\n",
              "      <th>Var207</th>\n",
              "      <th>Var208</th>\n",
              "      <th>Var209</th>\n",
              "      <th>Var210</th>\n",
              "      <th>Var211</th>\n",
              "      <th>Var212</th>\n",
              "      <th>Var213</th>\n",
              "      <th>Var214</th>\n",
              "      <th>Var215</th>\n",
              "      <th>Var216</th>\n",
              "      <th>Var217</th>\n",
              "      <th>Var218</th>\n",
              "      <th>Var219</th>\n",
              "      <th>Var220</th>\n",
              "      <th>Var221</th>\n",
              "      <th>Var222</th>\n",
              "      <th>Var223</th>\n",
              "      <th>Var224</th>\n",
              "      <th>Var225</th>\n",
              "      <th>Var226</th>\n",
              "      <th>Var227</th>\n",
              "      <th>Var228</th>\n",
              "      <th>Var229</th>\n",
              "      <th>Var230</th>\n",
              "    </tr>\n",
              "  </thead>\n",
              "  <tbody>\n",
              "    <tr>\n",
              "      <th>0</th>\n",
              "      <td>True</td>\n",
              "      <td>True</td>\n",
              "      <td>True</td>\n",
              "      <td>True</td>\n",
              "      <td>True</td>\n",
              "      <td>False</td>\n",
              "      <td>False</td>\n",
              "      <td>True</td>\n",
              "      <td>True</td>\n",
              "      <td>True</td>\n",
              "      <td>True</td>\n",
              "      <td>True</td>\n",
              "      <td>False</td>\n",
              "      <td>True</td>\n",
              "      <td>True</td>\n",
              "      <td>True</td>\n",
              "      <td>True</td>\n",
              "      <td>True</td>\n",
              "      <td>True</td>\n",
              "      <td>True</td>\n",
              "      <td>False</td>\n",
              "      <td>False</td>\n",
              "      <td>True</td>\n",
              "      <td>False</td>\n",
              "      <td>False</td>\n",
              "      <td>True</td>\n",
              "      <td>True</td>\n",
              "      <td>False</td>\n",
              "      <td>True</td>\n",
              "      <td>True</td>\n",
              "      <td>True</td>\n",
              "      <td>True</td>\n",
              "      <td>True</td>\n",
              "      <td>True</td>\n",
              "      <td>False</td>\n",
              "      <td>True</td>\n",
              "      <td>True</td>\n",
              "      <td>False</td>\n",
              "      <td>True</td>\n",
              "      <td>True</td>\n",
              "      <td>...</td>\n",
              "      <td>True</td>\n",
              "      <td>False</td>\n",
              "      <td>False</td>\n",
              "      <td>True</td>\n",
              "      <td>False</td>\n",
              "      <td>False</td>\n",
              "      <td>False</td>\n",
              "      <td>False</td>\n",
              "      <td>False</td>\n",
              "      <td>True</td>\n",
              "      <td>True</td>\n",
              "      <td>False</td>\n",
              "      <td>False</td>\n",
              "      <td>False</td>\n",
              "      <td>False</td>\n",
              "      <td>False</td>\n",
              "      <td>False</td>\n",
              "      <td>False</td>\n",
              "      <td>True</td>\n",
              "      <td>False</td>\n",
              "      <td>False</td>\n",
              "      <td>False</td>\n",
              "      <td>True</td>\n",
              "      <td>True</td>\n",
              "      <td>True</td>\n",
              "      <td>False</td>\n",
              "      <td>False</td>\n",
              "      <td>False</td>\n",
              "      <td>False</td>\n",
              "      <td>False</td>\n",
              "      <td>False</td>\n",
              "      <td>False</td>\n",
              "      <td>False</td>\n",
              "      <td>True</td>\n",
              "      <td>True</td>\n",
              "      <td>False</td>\n",
              "      <td>False</td>\n",
              "      <td>False</td>\n",
              "      <td>True</td>\n",
              "      <td>True</td>\n",
              "    </tr>\n",
              "    <tr>\n",
              "      <th>1</th>\n",
              "      <td>True</td>\n",
              "      <td>True</td>\n",
              "      <td>True</td>\n",
              "      <td>True</td>\n",
              "      <td>True</td>\n",
              "      <td>False</td>\n",
              "      <td>False</td>\n",
              "      <td>True</td>\n",
              "      <td>True</td>\n",
              "      <td>True</td>\n",
              "      <td>True</td>\n",
              "      <td>True</td>\n",
              "      <td>False</td>\n",
              "      <td>True</td>\n",
              "      <td>True</td>\n",
              "      <td>True</td>\n",
              "      <td>True</td>\n",
              "      <td>True</td>\n",
              "      <td>True</td>\n",
              "      <td>True</td>\n",
              "      <td>False</td>\n",
              "      <td>False</td>\n",
              "      <td>True</td>\n",
              "      <td>False</td>\n",
              "      <td>False</td>\n",
              "      <td>True</td>\n",
              "      <td>True</td>\n",
              "      <td>False</td>\n",
              "      <td>True</td>\n",
              "      <td>True</td>\n",
              "      <td>True</td>\n",
              "      <td>True</td>\n",
              "      <td>True</td>\n",
              "      <td>True</td>\n",
              "      <td>False</td>\n",
              "      <td>True</td>\n",
              "      <td>True</td>\n",
              "      <td>False</td>\n",
              "      <td>True</td>\n",
              "      <td>True</td>\n",
              "      <td>...</td>\n",
              "      <td>True</td>\n",
              "      <td>False</td>\n",
              "      <td>False</td>\n",
              "      <td>True</td>\n",
              "      <td>False</td>\n",
              "      <td>False</td>\n",
              "      <td>False</td>\n",
              "      <td>False</td>\n",
              "      <td>False</td>\n",
              "      <td>True</td>\n",
              "      <td>True</td>\n",
              "      <td>False</td>\n",
              "      <td>False</td>\n",
              "      <td>False</td>\n",
              "      <td>False</td>\n",
              "      <td>False</td>\n",
              "      <td>False</td>\n",
              "      <td>False</td>\n",
              "      <td>True</td>\n",
              "      <td>False</td>\n",
              "      <td>False</td>\n",
              "      <td>False</td>\n",
              "      <td>True</td>\n",
              "      <td>True</td>\n",
              "      <td>True</td>\n",
              "      <td>False</td>\n",
              "      <td>True</td>\n",
              "      <td>True</td>\n",
              "      <td>False</td>\n",
              "      <td>False</td>\n",
              "      <td>False</td>\n",
              "      <td>False</td>\n",
              "      <td>False</td>\n",
              "      <td>True</td>\n",
              "      <td>True</td>\n",
              "      <td>False</td>\n",
              "      <td>False</td>\n",
              "      <td>False</td>\n",
              "      <td>True</td>\n",
              "      <td>True</td>\n",
              "    </tr>\n",
              "    <tr>\n",
              "      <th>2</th>\n",
              "      <td>True</td>\n",
              "      <td>True</td>\n",
              "      <td>True</td>\n",
              "      <td>True</td>\n",
              "      <td>True</td>\n",
              "      <td>False</td>\n",
              "      <td>False</td>\n",
              "      <td>True</td>\n",
              "      <td>True</td>\n",
              "      <td>True</td>\n",
              "      <td>True</td>\n",
              "      <td>True</td>\n",
              "      <td>False</td>\n",
              "      <td>True</td>\n",
              "      <td>True</td>\n",
              "      <td>True</td>\n",
              "      <td>True</td>\n",
              "      <td>True</td>\n",
              "      <td>True</td>\n",
              "      <td>True</td>\n",
              "      <td>False</td>\n",
              "      <td>False</td>\n",
              "      <td>True</td>\n",
              "      <td>False</td>\n",
              "      <td>False</td>\n",
              "      <td>True</td>\n",
              "      <td>True</td>\n",
              "      <td>False</td>\n",
              "      <td>True</td>\n",
              "      <td>True</td>\n",
              "      <td>True</td>\n",
              "      <td>True</td>\n",
              "      <td>True</td>\n",
              "      <td>True</td>\n",
              "      <td>False</td>\n",
              "      <td>True</td>\n",
              "      <td>True</td>\n",
              "      <td>False</td>\n",
              "      <td>True</td>\n",
              "      <td>True</td>\n",
              "      <td>...</td>\n",
              "      <td>True</td>\n",
              "      <td>False</td>\n",
              "      <td>False</td>\n",
              "      <td>False</td>\n",
              "      <td>False</td>\n",
              "      <td>False</td>\n",
              "      <td>False</td>\n",
              "      <td>False</td>\n",
              "      <td>False</td>\n",
              "      <td>False</td>\n",
              "      <td>False</td>\n",
              "      <td>False</td>\n",
              "      <td>False</td>\n",
              "      <td>False</td>\n",
              "      <td>False</td>\n",
              "      <td>False</td>\n",
              "      <td>False</td>\n",
              "      <td>False</td>\n",
              "      <td>True</td>\n",
              "      <td>False</td>\n",
              "      <td>False</td>\n",
              "      <td>False</td>\n",
              "      <td>True</td>\n",
              "      <td>False</td>\n",
              "      <td>True</td>\n",
              "      <td>False</td>\n",
              "      <td>False</td>\n",
              "      <td>False</td>\n",
              "      <td>False</td>\n",
              "      <td>False</td>\n",
              "      <td>False</td>\n",
              "      <td>False</td>\n",
              "      <td>False</td>\n",
              "      <td>True</td>\n",
              "      <td>False</td>\n",
              "      <td>False</td>\n",
              "      <td>False</td>\n",
              "      <td>False</td>\n",
              "      <td>False</td>\n",
              "      <td>True</td>\n",
              "    </tr>\n",
              "    <tr>\n",
              "      <th>3</th>\n",
              "      <td>True</td>\n",
              "      <td>True</td>\n",
              "      <td>True</td>\n",
              "      <td>True</td>\n",
              "      <td>True</td>\n",
              "      <td>True</td>\n",
              "      <td>False</td>\n",
              "      <td>True</td>\n",
              "      <td>True</td>\n",
              "      <td>True</td>\n",
              "      <td>True</td>\n",
              "      <td>True</td>\n",
              "      <td>False</td>\n",
              "      <td>True</td>\n",
              "      <td>True</td>\n",
              "      <td>True</td>\n",
              "      <td>True</td>\n",
              "      <td>True</td>\n",
              "      <td>True</td>\n",
              "      <td>True</td>\n",
              "      <td>True</td>\n",
              "      <td>False</td>\n",
              "      <td>True</td>\n",
              "      <td>True</td>\n",
              "      <td>False</td>\n",
              "      <td>True</td>\n",
              "      <td>True</td>\n",
              "      <td>False</td>\n",
              "      <td>True</td>\n",
              "      <td>True</td>\n",
              "      <td>True</td>\n",
              "      <td>True</td>\n",
              "      <td>True</td>\n",
              "      <td>True</td>\n",
              "      <td>False</td>\n",
              "      <td>True</td>\n",
              "      <td>True</td>\n",
              "      <td>False</td>\n",
              "      <td>True</td>\n",
              "      <td>True</td>\n",
              "      <td>...</td>\n",
              "      <td>True</td>\n",
              "      <td>False</td>\n",
              "      <td>False</td>\n",
              "      <td>True</td>\n",
              "      <td>False</td>\n",
              "      <td>False</td>\n",
              "      <td>False</td>\n",
              "      <td>False</td>\n",
              "      <td>False</td>\n",
              "      <td>True</td>\n",
              "      <td>True</td>\n",
              "      <td>False</td>\n",
              "      <td>False</td>\n",
              "      <td>False</td>\n",
              "      <td>False</td>\n",
              "      <td>True</td>\n",
              "      <td>False</td>\n",
              "      <td>False</td>\n",
              "      <td>True</td>\n",
              "      <td>False</td>\n",
              "      <td>False</td>\n",
              "      <td>False</td>\n",
              "      <td>True</td>\n",
              "      <td>True</td>\n",
              "      <td>True</td>\n",
              "      <td>False</td>\n",
              "      <td>False</td>\n",
              "      <td>False</td>\n",
              "      <td>False</td>\n",
              "      <td>False</td>\n",
              "      <td>False</td>\n",
              "      <td>False</td>\n",
              "      <td>False</td>\n",
              "      <td>True</td>\n",
              "      <td>True</td>\n",
              "      <td>False</td>\n",
              "      <td>False</td>\n",
              "      <td>False</td>\n",
              "      <td>True</td>\n",
              "      <td>True</td>\n",
              "    </tr>\n",
              "    <tr>\n",
              "      <th>4</th>\n",
              "      <td>True</td>\n",
              "      <td>True</td>\n",
              "      <td>True</td>\n",
              "      <td>True</td>\n",
              "      <td>True</td>\n",
              "      <td>False</td>\n",
              "      <td>False</td>\n",
              "      <td>True</td>\n",
              "      <td>True</td>\n",
              "      <td>True</td>\n",
              "      <td>True</td>\n",
              "      <td>True</td>\n",
              "      <td>False</td>\n",
              "      <td>True</td>\n",
              "      <td>True</td>\n",
              "      <td>True</td>\n",
              "      <td>True</td>\n",
              "      <td>True</td>\n",
              "      <td>True</td>\n",
              "      <td>True</td>\n",
              "      <td>False</td>\n",
              "      <td>False</td>\n",
              "      <td>True</td>\n",
              "      <td>False</td>\n",
              "      <td>False</td>\n",
              "      <td>True</td>\n",
              "      <td>True</td>\n",
              "      <td>False</td>\n",
              "      <td>True</td>\n",
              "      <td>True</td>\n",
              "      <td>True</td>\n",
              "      <td>True</td>\n",
              "      <td>True</td>\n",
              "      <td>True</td>\n",
              "      <td>False</td>\n",
              "      <td>True</td>\n",
              "      <td>True</td>\n",
              "      <td>False</td>\n",
              "      <td>True</td>\n",
              "      <td>True</td>\n",
              "      <td>...</td>\n",
              "      <td>True</td>\n",
              "      <td>False</td>\n",
              "      <td>False</td>\n",
              "      <td>False</td>\n",
              "      <td>False</td>\n",
              "      <td>False</td>\n",
              "      <td>False</td>\n",
              "      <td>False</td>\n",
              "      <td>False</td>\n",
              "      <td>False</td>\n",
              "      <td>False</td>\n",
              "      <td>False</td>\n",
              "      <td>False</td>\n",
              "      <td>False</td>\n",
              "      <td>False</td>\n",
              "      <td>False</td>\n",
              "      <td>False</td>\n",
              "      <td>False</td>\n",
              "      <td>True</td>\n",
              "      <td>False</td>\n",
              "      <td>False</td>\n",
              "      <td>False</td>\n",
              "      <td>True</td>\n",
              "      <td>False</td>\n",
              "      <td>True</td>\n",
              "      <td>False</td>\n",
              "      <td>False</td>\n",
              "      <td>False</td>\n",
              "      <td>False</td>\n",
              "      <td>False</td>\n",
              "      <td>False</td>\n",
              "      <td>False</td>\n",
              "      <td>False</td>\n",
              "      <td>True</td>\n",
              "      <td>False</td>\n",
              "      <td>False</td>\n",
              "      <td>False</td>\n",
              "      <td>False</td>\n",
              "      <td>False</td>\n",
              "      <td>True</td>\n",
              "    </tr>\n",
              "    <tr>\n",
              "      <th>...</th>\n",
              "      <td>...</td>\n",
              "      <td>...</td>\n",
              "      <td>...</td>\n",
              "      <td>...</td>\n",
              "      <td>...</td>\n",
              "      <td>...</td>\n",
              "      <td>...</td>\n",
              "      <td>...</td>\n",
              "      <td>...</td>\n",
              "      <td>...</td>\n",
              "      <td>...</td>\n",
              "      <td>...</td>\n",
              "      <td>...</td>\n",
              "      <td>...</td>\n",
              "      <td>...</td>\n",
              "      <td>...</td>\n",
              "      <td>...</td>\n",
              "      <td>...</td>\n",
              "      <td>...</td>\n",
              "      <td>...</td>\n",
              "      <td>...</td>\n",
              "      <td>...</td>\n",
              "      <td>...</td>\n",
              "      <td>...</td>\n",
              "      <td>...</td>\n",
              "      <td>...</td>\n",
              "      <td>...</td>\n",
              "      <td>...</td>\n",
              "      <td>...</td>\n",
              "      <td>...</td>\n",
              "      <td>...</td>\n",
              "      <td>...</td>\n",
              "      <td>...</td>\n",
              "      <td>...</td>\n",
              "      <td>...</td>\n",
              "      <td>...</td>\n",
              "      <td>...</td>\n",
              "      <td>...</td>\n",
              "      <td>...</td>\n",
              "      <td>...</td>\n",
              "      <td>...</td>\n",
              "      <td>...</td>\n",
              "      <td>...</td>\n",
              "      <td>...</td>\n",
              "      <td>...</td>\n",
              "      <td>...</td>\n",
              "      <td>...</td>\n",
              "      <td>...</td>\n",
              "      <td>...</td>\n",
              "      <td>...</td>\n",
              "      <td>...</td>\n",
              "      <td>...</td>\n",
              "      <td>...</td>\n",
              "      <td>...</td>\n",
              "      <td>...</td>\n",
              "      <td>...</td>\n",
              "      <td>...</td>\n",
              "      <td>...</td>\n",
              "      <td>...</td>\n",
              "      <td>...</td>\n",
              "      <td>...</td>\n",
              "      <td>...</td>\n",
              "      <td>...</td>\n",
              "      <td>...</td>\n",
              "      <td>...</td>\n",
              "      <td>...</td>\n",
              "      <td>...</td>\n",
              "      <td>...</td>\n",
              "      <td>...</td>\n",
              "      <td>...</td>\n",
              "      <td>...</td>\n",
              "      <td>...</td>\n",
              "      <td>...</td>\n",
              "      <td>...</td>\n",
              "      <td>...</td>\n",
              "      <td>...</td>\n",
              "      <td>...</td>\n",
              "      <td>...</td>\n",
              "      <td>...</td>\n",
              "      <td>...</td>\n",
              "      <td>...</td>\n",
              "    </tr>\n",
              "    <tr>\n",
              "      <th>49995</th>\n",
              "      <td>True</td>\n",
              "      <td>True</td>\n",
              "      <td>True</td>\n",
              "      <td>True</td>\n",
              "      <td>True</td>\n",
              "      <td>False</td>\n",
              "      <td>False</td>\n",
              "      <td>True</td>\n",
              "      <td>True</td>\n",
              "      <td>True</td>\n",
              "      <td>True</td>\n",
              "      <td>True</td>\n",
              "      <td>False</td>\n",
              "      <td>True</td>\n",
              "      <td>True</td>\n",
              "      <td>True</td>\n",
              "      <td>True</td>\n",
              "      <td>True</td>\n",
              "      <td>True</td>\n",
              "      <td>True</td>\n",
              "      <td>False</td>\n",
              "      <td>False</td>\n",
              "      <td>True</td>\n",
              "      <td>False</td>\n",
              "      <td>False</td>\n",
              "      <td>True</td>\n",
              "      <td>True</td>\n",
              "      <td>False</td>\n",
              "      <td>True</td>\n",
              "      <td>True</td>\n",
              "      <td>True</td>\n",
              "      <td>True</td>\n",
              "      <td>True</td>\n",
              "      <td>True</td>\n",
              "      <td>False</td>\n",
              "      <td>True</td>\n",
              "      <td>True</td>\n",
              "      <td>False</td>\n",
              "      <td>True</td>\n",
              "      <td>True</td>\n",
              "      <td>...</td>\n",
              "      <td>True</td>\n",
              "      <td>False</td>\n",
              "      <td>False</td>\n",
              "      <td>True</td>\n",
              "      <td>False</td>\n",
              "      <td>False</td>\n",
              "      <td>False</td>\n",
              "      <td>False</td>\n",
              "      <td>False</td>\n",
              "      <td>True</td>\n",
              "      <td>True</td>\n",
              "      <td>False</td>\n",
              "      <td>False</td>\n",
              "      <td>False</td>\n",
              "      <td>False</td>\n",
              "      <td>False</td>\n",
              "      <td>False</td>\n",
              "      <td>False</td>\n",
              "      <td>True</td>\n",
              "      <td>False</td>\n",
              "      <td>False</td>\n",
              "      <td>False</td>\n",
              "      <td>True</td>\n",
              "      <td>True</td>\n",
              "      <td>True</td>\n",
              "      <td>False</td>\n",
              "      <td>False</td>\n",
              "      <td>False</td>\n",
              "      <td>False</td>\n",
              "      <td>False</td>\n",
              "      <td>False</td>\n",
              "      <td>False</td>\n",
              "      <td>False</td>\n",
              "      <td>True</td>\n",
              "      <td>True</td>\n",
              "      <td>False</td>\n",
              "      <td>False</td>\n",
              "      <td>False</td>\n",
              "      <td>True</td>\n",
              "      <td>True</td>\n",
              "    </tr>\n",
              "    <tr>\n",
              "      <th>49996</th>\n",
              "      <td>True</td>\n",
              "      <td>True</td>\n",
              "      <td>True</td>\n",
              "      <td>True</td>\n",
              "      <td>True</td>\n",
              "      <td>False</td>\n",
              "      <td>False</td>\n",
              "      <td>True</td>\n",
              "      <td>True</td>\n",
              "      <td>True</td>\n",
              "      <td>True</td>\n",
              "      <td>True</td>\n",
              "      <td>False</td>\n",
              "      <td>True</td>\n",
              "      <td>True</td>\n",
              "      <td>True</td>\n",
              "      <td>True</td>\n",
              "      <td>True</td>\n",
              "      <td>True</td>\n",
              "      <td>True</td>\n",
              "      <td>False</td>\n",
              "      <td>False</td>\n",
              "      <td>True</td>\n",
              "      <td>False</td>\n",
              "      <td>False</td>\n",
              "      <td>True</td>\n",
              "      <td>True</td>\n",
              "      <td>False</td>\n",
              "      <td>True</td>\n",
              "      <td>True</td>\n",
              "      <td>True</td>\n",
              "      <td>True</td>\n",
              "      <td>True</td>\n",
              "      <td>True</td>\n",
              "      <td>False</td>\n",
              "      <td>True</td>\n",
              "      <td>True</td>\n",
              "      <td>False</td>\n",
              "      <td>True</td>\n",
              "      <td>True</td>\n",
              "      <td>...</td>\n",
              "      <td>True</td>\n",
              "      <td>False</td>\n",
              "      <td>False</td>\n",
              "      <td>False</td>\n",
              "      <td>False</td>\n",
              "      <td>False</td>\n",
              "      <td>False</td>\n",
              "      <td>False</td>\n",
              "      <td>False</td>\n",
              "      <td>False</td>\n",
              "      <td>False</td>\n",
              "      <td>False</td>\n",
              "      <td>False</td>\n",
              "      <td>False</td>\n",
              "      <td>False</td>\n",
              "      <td>False</td>\n",
              "      <td>False</td>\n",
              "      <td>False</td>\n",
              "      <td>True</td>\n",
              "      <td>False</td>\n",
              "      <td>False</td>\n",
              "      <td>False</td>\n",
              "      <td>True</td>\n",
              "      <td>False</td>\n",
              "      <td>True</td>\n",
              "      <td>False</td>\n",
              "      <td>False</td>\n",
              "      <td>False</td>\n",
              "      <td>False</td>\n",
              "      <td>False</td>\n",
              "      <td>False</td>\n",
              "      <td>False</td>\n",
              "      <td>False</td>\n",
              "      <td>True</td>\n",
              "      <td>False</td>\n",
              "      <td>False</td>\n",
              "      <td>False</td>\n",
              "      <td>False</td>\n",
              "      <td>False</td>\n",
              "      <td>True</td>\n",
              "    </tr>\n",
              "    <tr>\n",
              "      <th>49997</th>\n",
              "      <td>True</td>\n",
              "      <td>True</td>\n",
              "      <td>True</td>\n",
              "      <td>True</td>\n",
              "      <td>True</td>\n",
              "      <td>False</td>\n",
              "      <td>False</td>\n",
              "      <td>True</td>\n",
              "      <td>True</td>\n",
              "      <td>True</td>\n",
              "      <td>True</td>\n",
              "      <td>True</td>\n",
              "      <td>False</td>\n",
              "      <td>True</td>\n",
              "      <td>True</td>\n",
              "      <td>True</td>\n",
              "      <td>True</td>\n",
              "      <td>True</td>\n",
              "      <td>True</td>\n",
              "      <td>True</td>\n",
              "      <td>False</td>\n",
              "      <td>False</td>\n",
              "      <td>True</td>\n",
              "      <td>False</td>\n",
              "      <td>False</td>\n",
              "      <td>True</td>\n",
              "      <td>True</td>\n",
              "      <td>False</td>\n",
              "      <td>True</td>\n",
              "      <td>True</td>\n",
              "      <td>True</td>\n",
              "      <td>True</td>\n",
              "      <td>True</td>\n",
              "      <td>True</td>\n",
              "      <td>False</td>\n",
              "      <td>True</td>\n",
              "      <td>True</td>\n",
              "      <td>False</td>\n",
              "      <td>True</td>\n",
              "      <td>True</td>\n",
              "      <td>...</td>\n",
              "      <td>True</td>\n",
              "      <td>False</td>\n",
              "      <td>False</td>\n",
              "      <td>True</td>\n",
              "      <td>False</td>\n",
              "      <td>False</td>\n",
              "      <td>False</td>\n",
              "      <td>False</td>\n",
              "      <td>False</td>\n",
              "      <td>False</td>\n",
              "      <td>True</td>\n",
              "      <td>False</td>\n",
              "      <td>False</td>\n",
              "      <td>False</td>\n",
              "      <td>False</td>\n",
              "      <td>False</td>\n",
              "      <td>False</td>\n",
              "      <td>False</td>\n",
              "      <td>True</td>\n",
              "      <td>False</td>\n",
              "      <td>False</td>\n",
              "      <td>False</td>\n",
              "      <td>True</td>\n",
              "      <td>False</td>\n",
              "      <td>True</td>\n",
              "      <td>False</td>\n",
              "      <td>False</td>\n",
              "      <td>False</td>\n",
              "      <td>False</td>\n",
              "      <td>False</td>\n",
              "      <td>False</td>\n",
              "      <td>False</td>\n",
              "      <td>False</td>\n",
              "      <td>True</td>\n",
              "      <td>False</td>\n",
              "      <td>False</td>\n",
              "      <td>False</td>\n",
              "      <td>False</td>\n",
              "      <td>True</td>\n",
              "      <td>True</td>\n",
              "    </tr>\n",
              "    <tr>\n",
              "      <th>49998</th>\n",
              "      <td>True</td>\n",
              "      <td>True</td>\n",
              "      <td>True</td>\n",
              "      <td>False</td>\n",
              "      <td>True</td>\n",
              "      <td>True</td>\n",
              "      <td>True</td>\n",
              "      <td>True</td>\n",
              "      <td>True</td>\n",
              "      <td>True</td>\n",
              "      <td>True</td>\n",
              "      <td>True</td>\n",
              "      <td>True</td>\n",
              "      <td>True</td>\n",
              "      <td>True</td>\n",
              "      <td>True</td>\n",
              "      <td>False</td>\n",
              "      <td>False</td>\n",
              "      <td>False</td>\n",
              "      <td>True</td>\n",
              "      <td>True</td>\n",
              "      <td>True</td>\n",
              "      <td>True</td>\n",
              "      <td>True</td>\n",
              "      <td>True</td>\n",
              "      <td>True</td>\n",
              "      <td>True</td>\n",
              "      <td>True</td>\n",
              "      <td>True</td>\n",
              "      <td>True</td>\n",
              "      <td>True</td>\n",
              "      <td>True</td>\n",
              "      <td>True</td>\n",
              "      <td>True</td>\n",
              "      <td>True</td>\n",
              "      <td>True</td>\n",
              "      <td>False</td>\n",
              "      <td>True</td>\n",
              "      <td>True</td>\n",
              "      <td>True</td>\n",
              "      <td>...</td>\n",
              "      <td>False</td>\n",
              "      <td>False</td>\n",
              "      <td>False</td>\n",
              "      <td>True</td>\n",
              "      <td>False</td>\n",
              "      <td>False</td>\n",
              "      <td>False</td>\n",
              "      <td>False</td>\n",
              "      <td>False</td>\n",
              "      <td>True</td>\n",
              "      <td>True</td>\n",
              "      <td>False</td>\n",
              "      <td>False</td>\n",
              "      <td>False</td>\n",
              "      <td>False</td>\n",
              "      <td>True</td>\n",
              "      <td>False</td>\n",
              "      <td>False</td>\n",
              "      <td>True</td>\n",
              "      <td>False</td>\n",
              "      <td>False</td>\n",
              "      <td>False</td>\n",
              "      <td>True</td>\n",
              "      <td>True</td>\n",
              "      <td>True</td>\n",
              "      <td>False</td>\n",
              "      <td>False</td>\n",
              "      <td>False</td>\n",
              "      <td>False</td>\n",
              "      <td>False</td>\n",
              "      <td>False</td>\n",
              "      <td>False</td>\n",
              "      <td>False</td>\n",
              "      <td>True</td>\n",
              "      <td>True</td>\n",
              "      <td>False</td>\n",
              "      <td>False</td>\n",
              "      <td>False</td>\n",
              "      <td>True</td>\n",
              "      <td>True</td>\n",
              "    </tr>\n",
              "    <tr>\n",
              "      <th>49999</th>\n",
              "      <td>True</td>\n",
              "      <td>True</td>\n",
              "      <td>True</td>\n",
              "      <td>True</td>\n",
              "      <td>True</td>\n",
              "      <td>False</td>\n",
              "      <td>False</td>\n",
              "      <td>True</td>\n",
              "      <td>True</td>\n",
              "      <td>True</td>\n",
              "      <td>True</td>\n",
              "      <td>True</td>\n",
              "      <td>False</td>\n",
              "      <td>True</td>\n",
              "      <td>True</td>\n",
              "      <td>True</td>\n",
              "      <td>True</td>\n",
              "      <td>True</td>\n",
              "      <td>True</td>\n",
              "      <td>True</td>\n",
              "      <td>False</td>\n",
              "      <td>False</td>\n",
              "      <td>True</td>\n",
              "      <td>False</td>\n",
              "      <td>False</td>\n",
              "      <td>True</td>\n",
              "      <td>True</td>\n",
              "      <td>False</td>\n",
              "      <td>True</td>\n",
              "      <td>True</td>\n",
              "      <td>True</td>\n",
              "      <td>True</td>\n",
              "      <td>True</td>\n",
              "      <td>True</td>\n",
              "      <td>False</td>\n",
              "      <td>True</td>\n",
              "      <td>True</td>\n",
              "      <td>False</td>\n",
              "      <td>True</td>\n",
              "      <td>True</td>\n",
              "      <td>...</td>\n",
              "      <td>True</td>\n",
              "      <td>False</td>\n",
              "      <td>False</td>\n",
              "      <td>True</td>\n",
              "      <td>False</td>\n",
              "      <td>False</td>\n",
              "      <td>False</td>\n",
              "      <td>False</td>\n",
              "      <td>False</td>\n",
              "      <td>True</td>\n",
              "      <td>True</td>\n",
              "      <td>False</td>\n",
              "      <td>False</td>\n",
              "      <td>False</td>\n",
              "      <td>False</td>\n",
              "      <td>False</td>\n",
              "      <td>False</td>\n",
              "      <td>False</td>\n",
              "      <td>True</td>\n",
              "      <td>False</td>\n",
              "      <td>False</td>\n",
              "      <td>False</td>\n",
              "      <td>True</td>\n",
              "      <td>True</td>\n",
              "      <td>True</td>\n",
              "      <td>False</td>\n",
              "      <td>False</td>\n",
              "      <td>False</td>\n",
              "      <td>False</td>\n",
              "      <td>False</td>\n",
              "      <td>False</td>\n",
              "      <td>False</td>\n",
              "      <td>False</td>\n",
              "      <td>True</td>\n",
              "      <td>True</td>\n",
              "      <td>False</td>\n",
              "      <td>False</td>\n",
              "      <td>False</td>\n",
              "      <td>True</td>\n",
              "      <td>True</td>\n",
              "    </tr>\n",
              "  </tbody>\n",
              "</table>\n",
              "<p>50000 rows × 230 columns</p>\n",
              "</div>"
            ],
            "text/plain": [
              "       Var1  Var2  Var3   Var4  Var5  ...  Var226  Var227  Var228  Var229  Var230\n",
              "0      True  True  True   True  True  ...   False   False   False    True    True\n",
              "1      True  True  True   True  True  ...   False   False   False    True    True\n",
              "2      True  True  True   True  True  ...   False   False   False   False    True\n",
              "3      True  True  True   True  True  ...   False   False   False    True    True\n",
              "4      True  True  True   True  True  ...   False   False   False   False    True\n",
              "...     ...   ...   ...    ...   ...  ...     ...     ...     ...     ...     ...\n",
              "49995  True  True  True   True  True  ...   False   False   False    True    True\n",
              "49996  True  True  True   True  True  ...   False   False   False   False    True\n",
              "49997  True  True  True   True  True  ...   False   False   False    True    True\n",
              "49998  True  True  True  False  True  ...   False   False   False    True    True\n",
              "49999  True  True  True   True  True  ...   False   False   False    True    True\n",
              "\n",
              "[50000 rows x 230 columns]"
            ]
          },
          "metadata": {
            "tags": []
          },
          "execution_count": 175
        }
      ]
    },
    {
      "cell_type": "code",
      "metadata": {
        "id": "icmbA9SoxfKg",
        "colab_type": "code",
        "colab": {}
      },
      "source": [
        "entrada_vazias_por_coluna = recursos.isna().sum(axis=0)"
      ],
      "execution_count": 0,
      "outputs": []
    },
    {
      "cell_type": "code",
      "metadata": {
        "id": "v7dX5r_gxNVp",
        "colab_type": "code",
        "outputId": "c521948b-67db-4115-cd16-1ba22951c490",
        "colab": {
          "base_uri": "https://localhost:8080/",
          "height": 221
        }
      },
      "source": [
        "entrada_vazias_por_coluna"
      ],
      "execution_count": 177,
      "outputs": [
        {
          "output_type": "execute_result",
          "data": {
            "text/plain": [
              "Var1      49298\n",
              "Var2      48759\n",
              "Var3      48760\n",
              "Var4      48421\n",
              "Var5      48513\n",
              "          ...  \n",
              "Var226        0\n",
              "Var227        0\n",
              "Var228        0\n",
              "Var229    28432\n",
              "Var230    50000\n",
              "Length: 230, dtype: int64"
            ]
          },
          "metadata": {
            "tags": []
          },
          "execution_count": 177
        }
      ]
    },
    {
      "cell_type": "code",
      "metadata": {
        "id": "JfWY6ToTwgx7",
        "colab_type": "code",
        "outputId": "e2b3d0c6-b8fb-4e48-e70a-d0ed2da505ce",
        "colab": {
          "base_uri": "https://localhost:8080/",
          "height": 284
        }
      },
      "source": [
        "fig, (ax1,ax2)=plt.subplots(1,2)\n",
        "ax1.boxplot(entrada_vazias_por_coluna)\n",
        "ax2.hist(entrada_vazias_por_coluna)\n",
        "media= entrada_vazias_por_coluna.median()\n",
        "print(media)"
      ],
      "execution_count": 178,
      "outputs": [
        {
          "output_type": "stream",
          "text": [
            "48513.0\n"
          ],
          "name": "stdout"
        },
        {
          "output_type": "display_data",
          "data": {
            "image/png": "[encoded data removed]",
            "text/plain": [
              "<Figure size 432x288 with 2 Axes>"
            ]
          },
          "metadata": {
            "tags": []
          }
        }
      ]
    },
    {
      "cell_type": "code",
      "metadata": {
        "id": "PySE1wkPzKJA",
        "colab_type": "code",
        "outputId": "645874ee-40cc-4e98-d94f-20b200cfc1b4",
        "colab": {
          "base_uri": "https://localhost:8080/",
          "height": 34
        }
      },
      "source": [
        "numero_entradas = len(recursos)\n",
        "treshold = 0.25\n",
        "numero_entradas * treshold"
      ],
      "execution_count": 179,
      "outputs": [
        {
          "output_type": "execute_result",
          "data": {
            "text/plain": [
              "12500.0"
            ]
          },
          "metadata": {
            "tags": []
          },
          "execution_count": 179
        }
      ]
    },
    {
      "cell_type": "code",
      "metadata": {
        "id": "czIpfOeIzjQX",
        "colab_type": "code",
        "colab": {}
      },
      "source": [
        "mater_variaveis = np.array(recursos.columns[(entrada_vazias_por_coluna <= (numero_entradas * treshold))])"
      ],
      "execution_count": 0,
      "outputs": []
    },
    {
      "cell_type": "code",
      "metadata": {
        "id": "tXff6n1sz3To",
        "colab_type": "code",
        "outputId": "b0e9883a-8b12-4b81-a6b2-829810bb6456",
        "colab": {
          "base_uri": "https://localhost:8080/",
          "height": 204
        }
      },
      "source": [
        "mater_variaveis"
      ],
      "execution_count": 181,
      "outputs": [
        {
          "output_type": "execute_result",
          "data": {
            "text/plain": [
              "array(['Var6', 'Var7', 'Var13', 'Var21', 'Var22', 'Var24', 'Var25',\n",
              "       'Var28', 'Var35', 'Var38', 'Var44', 'Var57', 'Var65', 'Var73',\n",
              "       'Var74', 'Var76', 'Var78', 'Var81', 'Var83', 'Var85', 'Var109',\n",
              "       'Var112', 'Var113', 'Var119', 'Var123', 'Var125', 'Var132',\n",
              "       'Var133', 'Var134', 'Var140', 'Var143', 'Var144', 'Var149',\n",
              "       'Var153', 'Var160', 'Var163', 'Var173', 'Var181', 'Var192',\n",
              "       'Var193', 'Var195', 'Var196', 'Var197', 'Var198', 'Var199',\n",
              "       'Var202', 'Var203', 'Var204', 'Var205', 'Var206', 'Var207',\n",
              "       'Var208', 'Var210', 'Var211', 'Var212', 'Var216', 'Var217',\n",
              "       'Var218', 'Var219', 'Var220', 'Var221', 'Var222', 'Var223',\n",
              "       'Var226', 'Var227', 'Var228'], dtype=object)"
            ]
          },
          "metadata": {
            "tags": []
          },
          "execution_count": 181
        }
      ]
    },
    {
      "cell_type": "code",
      "metadata": {
        "id": "rd-IVGINz-uA",
        "colab_type": "code",
        "colab": {}
      },
      "source": [
        "numericas_variaveis = [elem for elem in numericas_variaveis if elem in mater_variaveis]\n",
        "categoricas_variaveis = [elem for elem in categoricas_variaveis if elem in mater_variaveis]"
      ],
      "execution_count": 0,
      "outputs": []
    },
    {
      "cell_type": "code",
      "metadata": {
        "id": "mHN__bHw00_C",
        "colab_type": "code",
        "outputId": "05d6fabd-1315-4e0a-bf2f-4d132d5538b1",
        "colab": {
          "base_uri": "https://localhost:8080/",
          "height": 34
        }
      },
      "source": [
        "len(numericas_variaveis)"
      ],
      "execution_count": 183,
      "outputs": [
        {
          "output_type": "execute_result",
          "data": {
            "text/plain": [
              "38"
            ]
          },
          "metadata": {
            "tags": []
          },
          "execution_count": 183
        }
      ]
    },
    {
      "cell_type": "code",
      "metadata": {
        "id": "2yrODPkr08Ne",
        "colab_type": "code",
        "outputId": "888015fa-7ff2-44f2-87e0-1f0ea96cbf2d",
        "colab": {
          "base_uri": "https://localhost:8080/",
          "height": 34
        }
      },
      "source": [
        "len(categoricas_variaveis)"
      ],
      "execution_count": 184,
      "outputs": [
        {
          "output_type": "execute_result",
          "data": {
            "text/plain": [
              "28"
            ]
          },
          "metadata": {
            "tags": []
          },
          "execution_count": 184
        }
      ]
    },
    {
      "cell_type": "code",
      "metadata": {
        "id": "oDGx_52E1U1G",
        "colab_type": "code",
        "colab": {}
      },
      "source": [
        "for coluna in numericas_variaveis:\n",
        "  coluna_media= recursos[coluna].mean()\n",
        "  recursos[coluna]= recursos[coluna].fillna(coluna_media)"
      ],
      "execution_count": 0,
      "outputs": []
    },
    {
      "cell_type": "code",
      "metadata": {
        "id": "IfdHwVO316f-",
        "colab_type": "code",
        "colab": {}
      },
      "source": [
        "for coluna in categoricas_variaveis:\n",
        "  recursos[coluna] = recursos[coluna].cat.add_categories('missing')\n",
        "  recursos[coluna]= recursos[coluna].fillna('missing')"
      ],
      "execution_count": 0,
      "outputs": []
    },
    {
      "cell_type": "code",
      "metadata": {
        "id": "-NcvHaF731y3",
        "colab_type": "code",
        "outputId": "57d8e082-0c45-4ba2-f339-754e34bb4227",
        "colab": {
          "base_uri": "https://localhost:8080/",
          "height": 253
        }
      },
      "source": [
        "recursos.head()"
      ],
      "execution_count": 187,
      "outputs": [
        {
          "output_type": "execute_result",
          "data": {
            "text/html": [
              "<div>\n",
              "<style scoped>\n",
              "    .dataframe tbody tr th:only-of-type {\n",
              "        vertical-align: middle;\n",
              "    }\n",
              "\n",
              "    .dataframe tbody tr th {\n",
              "        vertical-align: top;\n",
              "    }\n",
              "\n",
              "    .dataframe thead th {\n",
              "        text-align: right;\n",
              "    }\n",
              "</style>\n",
              "<table border=\"1\" class=\"dataframe\">\n",
              "  <thead>\n",
              "    <tr style=\"text-align: right;\">\n",
              "      <th></th>\n",
              "      <th>Var1</th>\n",
              "      <th>Var2</th>\n",
              "      <th>Var3</th>\n",
              "      <th>Var4</th>\n",
              "      <th>Var5</th>\n",
              "      <th>Var6</th>\n",
              "      <th>Var7</th>\n",
              "      <th>Var8</th>\n",
              "      <th>Var9</th>\n",
              "      <th>Var10</th>\n",
              "      <th>Var11</th>\n",
              "      <th>Var12</th>\n",
              "      <th>Var13</th>\n",
              "      <th>Var14</th>\n",
              "      <th>Var15</th>\n",
              "      <th>Var16</th>\n",
              "      <th>Var17</th>\n",
              "      <th>Var18</th>\n",
              "      <th>Var19</th>\n",
              "      <th>Var20</th>\n",
              "      <th>Var21</th>\n",
              "      <th>Var22</th>\n",
              "      <th>Var23</th>\n",
              "      <th>Var24</th>\n",
              "      <th>Var25</th>\n",
              "      <th>Var26</th>\n",
              "      <th>Var27</th>\n",
              "      <th>Var28</th>\n",
              "      <th>Var29</th>\n",
              "      <th>Var30</th>\n",
              "      <th>Var31</th>\n",
              "      <th>Var32</th>\n",
              "      <th>Var33</th>\n",
              "      <th>Var34</th>\n",
              "      <th>Var35</th>\n",
              "      <th>Var36</th>\n",
              "      <th>Var37</th>\n",
              "      <th>Var38</th>\n",
              "      <th>Var39</th>\n",
              "      <th>Var40</th>\n",
              "      <th>...</th>\n",
              "      <th>Var191</th>\n",
              "      <th>Var192</th>\n",
              "      <th>Var193</th>\n",
              "      <th>Var194</th>\n",
              "      <th>Var195</th>\n",
              "      <th>Var196</th>\n",
              "      <th>Var197</th>\n",
              "      <th>Var198</th>\n",
              "      <th>Var199</th>\n",
              "      <th>Var200</th>\n",
              "      <th>Var201</th>\n",
              "      <th>Var202</th>\n",
              "      <th>Var203</th>\n",
              "      <th>Var204</th>\n",
              "      <th>Var205</th>\n",
              "      <th>Var206</th>\n",
              "      <th>Var207</th>\n",
              "      <th>Var208</th>\n",
              "      <th>Var209</th>\n",
              "      <th>Var210</th>\n",
              "      <th>Var211</th>\n",
              "      <th>Var212</th>\n",
              "      <th>Var213</th>\n",
              "      <th>Var214</th>\n",
              "      <th>Var215</th>\n",
              "      <th>Var216</th>\n",
              "      <th>Var217</th>\n",
              "      <th>Var218</th>\n",
              "      <th>Var219</th>\n",
              "      <th>Var220</th>\n",
              "      <th>Var221</th>\n",
              "      <th>Var222</th>\n",
              "      <th>Var223</th>\n",
              "      <th>Var224</th>\n",
              "      <th>Var225</th>\n",
              "      <th>Var226</th>\n",
              "      <th>Var227</th>\n",
              "      <th>Var228</th>\n",
              "      <th>Var229</th>\n",
              "      <th>Var230</th>\n",
              "    </tr>\n",
              "  </thead>\n",
              "  <tbody>\n",
              "    <tr>\n",
              "      <th>0</th>\n",
              "      <td>NaN</td>\n",
              "      <td>NaN</td>\n",
              "      <td>NaN</td>\n",
              "      <td>NaN</td>\n",
              "      <td>NaN</td>\n",
              "      <td>1526.000000</td>\n",
              "      <td>7.0</td>\n",
              "      <td>NaN</td>\n",
              "      <td>NaN</td>\n",
              "      <td>NaN</td>\n",
              "      <td>NaN</td>\n",
              "      <td>NaN</td>\n",
              "      <td>184.0</td>\n",
              "      <td>NaN</td>\n",
              "      <td>NaN</td>\n",
              "      <td>NaN</td>\n",
              "      <td>NaN</td>\n",
              "      <td>NaN</td>\n",
              "      <td>NaN</td>\n",
              "      <td>NaN</td>\n",
              "      <td>464.000000</td>\n",
              "      <td>580.0</td>\n",
              "      <td>NaN</td>\n",
              "      <td>14.000000</td>\n",
              "      <td>128.0</td>\n",
              "      <td>NaN</td>\n",
              "      <td>NaN</td>\n",
              "      <td>166.56</td>\n",
              "      <td>NaN</td>\n",
              "      <td>NaN</td>\n",
              "      <td>NaN</td>\n",
              "      <td>NaN</td>\n",
              "      <td>NaN</td>\n",
              "      <td>NaN</td>\n",
              "      <td>0.0</td>\n",
              "      <td>NaN</td>\n",
              "      <td>NaN</td>\n",
              "      <td>3570.0</td>\n",
              "      <td>NaN</td>\n",
              "      <td>NaN</td>\n",
              "      <td>...</td>\n",
              "      <td>NaN</td>\n",
              "      <td>bZkvyxLkBI</td>\n",
              "      <td>RO12</td>\n",
              "      <td>NaN</td>\n",
              "      <td>taul</td>\n",
              "      <td>1K8T</td>\n",
              "      <td>lK27</td>\n",
              "      <td>ka_ns41</td>\n",
              "      <td>nQUveAzAF7</td>\n",
              "      <td>NaN</td>\n",
              "      <td>NaN</td>\n",
              "      <td>dXGu</td>\n",
              "      <td>9_Y1</td>\n",
              "      <td>FbIm</td>\n",
              "      <td>VpdQ</td>\n",
              "      <td>haYg</td>\n",
              "      <td>me75fM6ugJ</td>\n",
              "      <td>kIsH</td>\n",
              "      <td>NaN</td>\n",
              "      <td>uKAI</td>\n",
              "      <td>L84s</td>\n",
              "      <td>XfqtO3UdzaXh_</td>\n",
              "      <td>NaN</td>\n",
              "      <td>NaN</td>\n",
              "      <td>NaN</td>\n",
              "      <td>XTbPUYD</td>\n",
              "      <td>sH5Z</td>\n",
              "      <td>cJvF</td>\n",
              "      <td>FzaX</td>\n",
              "      <td>1YVfGrO</td>\n",
              "      <td>oslk</td>\n",
              "      <td>fXVEsaq</td>\n",
              "      <td>jySVZNlOJy</td>\n",
              "      <td>NaN</td>\n",
              "      <td>NaN</td>\n",
              "      <td>xb3V</td>\n",
              "      <td>RAYp</td>\n",
              "      <td>F2FyR07IdsN7I</td>\n",
              "      <td>NaN</td>\n",
              "      <td>NaN</td>\n",
              "    </tr>\n",
              "    <tr>\n",
              "      <th>1</th>\n",
              "      <td>NaN</td>\n",
              "      <td>NaN</td>\n",
              "      <td>NaN</td>\n",
              "      <td>NaN</td>\n",
              "      <td>NaN</td>\n",
              "      <td>525.000000</td>\n",
              "      <td>0.0</td>\n",
              "      <td>NaN</td>\n",
              "      <td>NaN</td>\n",
              "      <td>NaN</td>\n",
              "      <td>NaN</td>\n",
              "      <td>NaN</td>\n",
              "      <td>0.0</td>\n",
              "      <td>NaN</td>\n",
              "      <td>NaN</td>\n",
              "      <td>NaN</td>\n",
              "      <td>NaN</td>\n",
              "      <td>NaN</td>\n",
              "      <td>NaN</td>\n",
              "      <td>NaN</td>\n",
              "      <td>168.000000</td>\n",
              "      <td>210.0</td>\n",
              "      <td>NaN</td>\n",
              "      <td>2.000000</td>\n",
              "      <td>24.0</td>\n",
              "      <td>NaN</td>\n",
              "      <td>NaN</td>\n",
              "      <td>353.52</td>\n",
              "      <td>NaN</td>\n",
              "      <td>NaN</td>\n",
              "      <td>NaN</td>\n",
              "      <td>NaN</td>\n",
              "      <td>NaN</td>\n",
              "      <td>NaN</td>\n",
              "      <td>0.0</td>\n",
              "      <td>NaN</td>\n",
              "      <td>NaN</td>\n",
              "      <td>4764966.0</td>\n",
              "      <td>NaN</td>\n",
              "      <td>NaN</td>\n",
              "      <td>...</td>\n",
              "      <td>NaN</td>\n",
              "      <td>CEat0G8rTN</td>\n",
              "      <td>RO12</td>\n",
              "      <td>NaN</td>\n",
              "      <td>taul</td>\n",
              "      <td>1K8T</td>\n",
              "      <td>2Ix5</td>\n",
              "      <td>qEdASpP</td>\n",
              "      <td>y2LIM01bE1</td>\n",
              "      <td>NaN</td>\n",
              "      <td>NaN</td>\n",
              "      <td>lg1t</td>\n",
              "      <td>9_Y1</td>\n",
              "      <td>k13i</td>\n",
              "      <td>sJzTlal</td>\n",
              "      <td>zm5i</td>\n",
              "      <td>me75fM6ugJ</td>\n",
              "      <td>kIsH</td>\n",
              "      <td>NaN</td>\n",
              "      <td>uKAI</td>\n",
              "      <td>L84s</td>\n",
              "      <td>NhsEn4L</td>\n",
              "      <td>NaN</td>\n",
              "      <td>NaN</td>\n",
              "      <td>NaN</td>\n",
              "      <td>kZJyVg2</td>\n",
              "      <td>missing</td>\n",
              "      <td>missing</td>\n",
              "      <td>FzaX</td>\n",
              "      <td>0AJo2f2</td>\n",
              "      <td>oslk</td>\n",
              "      <td>2Kb5FSF</td>\n",
              "      <td>LM8l689qOp</td>\n",
              "      <td>NaN</td>\n",
              "      <td>NaN</td>\n",
              "      <td>fKCe</td>\n",
              "      <td>RAYp</td>\n",
              "      <td>F2FyR07IdsN7I</td>\n",
              "      <td>NaN</td>\n",
              "      <td>NaN</td>\n",
              "    </tr>\n",
              "    <tr>\n",
              "      <th>2</th>\n",
              "      <td>NaN</td>\n",
              "      <td>NaN</td>\n",
              "      <td>NaN</td>\n",
              "      <td>NaN</td>\n",
              "      <td>NaN</td>\n",
              "      <td>5236.000000</td>\n",
              "      <td>7.0</td>\n",
              "      <td>NaN</td>\n",
              "      <td>NaN</td>\n",
              "      <td>NaN</td>\n",
              "      <td>NaN</td>\n",
              "      <td>NaN</td>\n",
              "      <td>904.0</td>\n",
              "      <td>NaN</td>\n",
              "      <td>NaN</td>\n",
              "      <td>NaN</td>\n",
              "      <td>NaN</td>\n",
              "      <td>NaN</td>\n",
              "      <td>NaN</td>\n",
              "      <td>NaN</td>\n",
              "      <td>1212.000000</td>\n",
              "      <td>1515.0</td>\n",
              "      <td>NaN</td>\n",
              "      <td>26.000000</td>\n",
              "      <td>816.0</td>\n",
              "      <td>NaN</td>\n",
              "      <td>NaN</td>\n",
              "      <td>220.08</td>\n",
              "      <td>NaN</td>\n",
              "      <td>NaN</td>\n",
              "      <td>NaN</td>\n",
              "      <td>NaN</td>\n",
              "      <td>NaN</td>\n",
              "      <td>NaN</td>\n",
              "      <td>0.0</td>\n",
              "      <td>NaN</td>\n",
              "      <td>NaN</td>\n",
              "      <td>5883894.0</td>\n",
              "      <td>NaN</td>\n",
              "      <td>NaN</td>\n",
              "      <td>...</td>\n",
              "      <td>NaN</td>\n",
              "      <td>eOQt0GoOh3</td>\n",
              "      <td>AERks4l</td>\n",
              "      <td>SEuy</td>\n",
              "      <td>taul</td>\n",
              "      <td>1K8T</td>\n",
              "      <td>ffXs</td>\n",
              "      <td>NldASpP</td>\n",
              "      <td>y4g9XoZ</td>\n",
              "      <td>vynJTq9</td>\n",
              "      <td>smXZ</td>\n",
              "      <td>4bTR</td>\n",
              "      <td>9_Y1</td>\n",
              "      <td>MGOA</td>\n",
              "      <td>VpdQ</td>\n",
              "      <td>haYg</td>\n",
              "      <td>DHn_WUyBhW_whjA88g9bvA64_</td>\n",
              "      <td>kIsH</td>\n",
              "      <td>NaN</td>\n",
              "      <td>uKAI</td>\n",
              "      <td>L84s</td>\n",
              "      <td>UbxQ8lZ</td>\n",
              "      <td>NaN</td>\n",
              "      <td>TTGHfSv</td>\n",
              "      <td>NaN</td>\n",
              "      <td>pMWAe2U</td>\n",
              "      <td>bHR7</td>\n",
              "      <td>UYBR</td>\n",
              "      <td>FzaX</td>\n",
              "      <td>JFM1BiF</td>\n",
              "      <td>Al6ZaUT</td>\n",
              "      <td>NKv4yOc</td>\n",
              "      <td>jySVZNlOJy</td>\n",
              "      <td>NaN</td>\n",
              "      <td>kG3k</td>\n",
              "      <td>Qu4f</td>\n",
              "      <td>02N6s8f</td>\n",
              "      <td>ib5G6X1eUxUn6</td>\n",
              "      <td>am7c</td>\n",
              "      <td>NaN</td>\n",
              "    </tr>\n",
              "    <tr>\n",
              "      <th>3</th>\n",
              "      <td>NaN</td>\n",
              "      <td>NaN</td>\n",
              "      <td>NaN</td>\n",
              "      <td>NaN</td>\n",
              "      <td>NaN</td>\n",
              "      <td>1326.437116</td>\n",
              "      <td>0.0</td>\n",
              "      <td>NaN</td>\n",
              "      <td>NaN</td>\n",
              "      <td>NaN</td>\n",
              "      <td>NaN</td>\n",
              "      <td>NaN</td>\n",
              "      <td>0.0</td>\n",
              "      <td>NaN</td>\n",
              "      <td>NaN</td>\n",
              "      <td>NaN</td>\n",
              "      <td>NaN</td>\n",
              "      <td>NaN</td>\n",
              "      <td>NaN</td>\n",
              "      <td>NaN</td>\n",
              "      <td>234.518225</td>\n",
              "      <td>0.0</td>\n",
              "      <td>NaN</td>\n",
              "      <td>4.507926</td>\n",
              "      <td>0.0</td>\n",
              "      <td>NaN</td>\n",
              "      <td>NaN</td>\n",
              "      <td>22.08</td>\n",
              "      <td>NaN</td>\n",
              "      <td>NaN</td>\n",
              "      <td>NaN</td>\n",
              "      <td>NaN</td>\n",
              "      <td>NaN</td>\n",
              "      <td>NaN</td>\n",
              "      <td>0.0</td>\n",
              "      <td>NaN</td>\n",
              "      <td>NaN</td>\n",
              "      <td>0.0</td>\n",
              "      <td>NaN</td>\n",
              "      <td>NaN</td>\n",
              "      <td>...</td>\n",
              "      <td>NaN</td>\n",
              "      <td>jg69tYsGvO</td>\n",
              "      <td>RO12</td>\n",
              "      <td>NaN</td>\n",
              "      <td>taul</td>\n",
              "      <td>1K8T</td>\n",
              "      <td>ssAy</td>\n",
              "      <td>_ybO0dd</td>\n",
              "      <td>4hMlgkf58mhwh</td>\n",
              "      <td>NaN</td>\n",
              "      <td>NaN</td>\n",
              "      <td>W8mQ</td>\n",
              "      <td>9_Y1</td>\n",
              "      <td>YULl</td>\n",
              "      <td>VpdQ</td>\n",
              "      <td>missing</td>\n",
              "      <td>me75fM6ugJ</td>\n",
              "      <td>kIsH</td>\n",
              "      <td>NaN</td>\n",
              "      <td>uKAI</td>\n",
              "      <td>Mtgm</td>\n",
              "      <td>NhsEn4L</td>\n",
              "      <td>NaN</td>\n",
              "      <td>NaN</td>\n",
              "      <td>NaN</td>\n",
              "      <td>kq0dQfu</td>\n",
              "      <td>eKej</td>\n",
              "      <td>UYBR</td>\n",
              "      <td>FzaX</td>\n",
              "      <td>L91KIiz</td>\n",
              "      <td>oslk</td>\n",
              "      <td>CE7uk3u</td>\n",
              "      <td>LM8l689qOp</td>\n",
              "      <td>NaN</td>\n",
              "      <td>NaN</td>\n",
              "      <td>FSa2</td>\n",
              "      <td>RAYp</td>\n",
              "      <td>F2FyR07IdsN7I</td>\n",
              "      <td>NaN</td>\n",
              "      <td>NaN</td>\n",
              "    </tr>\n",
              "    <tr>\n",
              "      <th>4</th>\n",
              "      <td>NaN</td>\n",
              "      <td>NaN</td>\n",
              "      <td>NaN</td>\n",
              "      <td>NaN</td>\n",
              "      <td>NaN</td>\n",
              "      <td>1029.000000</td>\n",
              "      <td>7.0</td>\n",
              "      <td>NaN</td>\n",
              "      <td>NaN</td>\n",
              "      <td>NaN</td>\n",
              "      <td>NaN</td>\n",
              "      <td>NaN</td>\n",
              "      <td>3216.0</td>\n",
              "      <td>NaN</td>\n",
              "      <td>NaN</td>\n",
              "      <td>NaN</td>\n",
              "      <td>NaN</td>\n",
              "      <td>NaN</td>\n",
              "      <td>NaN</td>\n",
              "      <td>NaN</td>\n",
              "      <td>64.000000</td>\n",
              "      <td>80.0</td>\n",
              "      <td>NaN</td>\n",
              "      <td>4.000000</td>\n",
              "      <td>64.0</td>\n",
              "      <td>NaN</td>\n",
              "      <td>NaN</td>\n",
              "      <td>200.00</td>\n",
              "      <td>NaN</td>\n",
              "      <td>NaN</td>\n",
              "      <td>NaN</td>\n",
              "      <td>NaN</td>\n",
              "      <td>NaN</td>\n",
              "      <td>NaN</td>\n",
              "      <td>0.0</td>\n",
              "      <td>NaN</td>\n",
              "      <td>NaN</td>\n",
              "      <td>0.0</td>\n",
              "      <td>NaN</td>\n",
              "      <td>NaN</td>\n",
              "      <td>...</td>\n",
              "      <td>NaN</td>\n",
              "      <td>IXSgUHShse</td>\n",
              "      <td>RO12</td>\n",
              "      <td>SEuy</td>\n",
              "      <td>taul</td>\n",
              "      <td>1K8T</td>\n",
              "      <td>uNkU</td>\n",
              "      <td>EKR938I</td>\n",
              "      <td>ThrHXVS</td>\n",
              "      <td>0v21jmy</td>\n",
              "      <td>smXZ</td>\n",
              "      <td>xklU</td>\n",
              "      <td>9_Y1</td>\n",
              "      <td>RVjC</td>\n",
              "      <td>sJzTlal</td>\n",
              "      <td>6JmL</td>\n",
              "      <td>me75fM6ugJ</td>\n",
              "      <td>kIsH</td>\n",
              "      <td>NaN</td>\n",
              "      <td>uKAI</td>\n",
              "      <td>L84s</td>\n",
              "      <td>XfqtO3UdzaXh_</td>\n",
              "      <td>NaN</td>\n",
              "      <td>SJs3duv</td>\n",
              "      <td>NaN</td>\n",
              "      <td>11p4mKe</td>\n",
              "      <td>H3p7</td>\n",
              "      <td>UYBR</td>\n",
              "      <td>FzaX</td>\n",
              "      <td>OrnLfvc</td>\n",
              "      <td>oslk</td>\n",
              "      <td>1J2cvxe</td>\n",
              "      <td>LM8l689qOp</td>\n",
              "      <td>NaN</td>\n",
              "      <td>kG3k</td>\n",
              "      <td>FSa2</td>\n",
              "      <td>RAYp</td>\n",
              "      <td>F2FyR07IdsN7I</td>\n",
              "      <td>mj86</td>\n",
              "      <td>NaN</td>\n",
              "    </tr>\n",
              "  </tbody>\n",
              "</table>\n",
              "<p>5 rows × 230 columns</p>\n",
              "</div>"
            ],
            "text/plain": [
              "   Var1  Var2  Var3  Var4  Var5  ...  Var226   Var227         Var228  Var229  Var230\n",
              "0   NaN   NaN   NaN   NaN   NaN  ...    xb3V     RAYp  F2FyR07IdsN7I     NaN     NaN\n",
              "1   NaN   NaN   NaN   NaN   NaN  ...    fKCe     RAYp  F2FyR07IdsN7I     NaN     NaN\n",
              "2   NaN   NaN   NaN   NaN   NaN  ...    Qu4f  02N6s8f  ib5G6X1eUxUn6    am7c     NaN\n",
              "3   NaN   NaN   NaN   NaN   NaN  ...    FSa2     RAYp  F2FyR07IdsN7I     NaN     NaN\n",
              "4   NaN   NaN   NaN   NaN   NaN  ...    FSa2     RAYp  F2FyR07IdsN7I    mj86     NaN\n",
              "\n",
              "[5 rows x 230 columns]"
            ]
          },
          "metadata": {
            "tags": []
          },
          "execution_count": 187
        }
      ]
    },
    {
      "cell_type": "markdown",
      "metadata": {
        "id": "_BrN1C9b45Yk",
        "colab_type": "text"
      },
      "source": [
        "### variaveis categoricas com muitas categorias"
      ]
    },
    {
      "cell_type": "code",
      "metadata": {
        "id": "ZT9e4wJT482O",
        "colab_type": "code",
        "colab": {}
      },
      "source": [
        "n_categorias_por_entrada = recursos[categoricas_variaveis].apply(lambda x: len(set(x))) "
      ],
      "execution_count": 0,
      "outputs": []
    },
    {
      "cell_type": "code",
      "metadata": {
        "id": "NwgA36lGCpwF",
        "colab_type": "code",
        "outputId": "0efdc5f2-6f9b-472a-b1d9-d6ce965d5fcc",
        "colab": {
          "base_uri": "https://localhost:8080/",
          "height": 510
        }
      },
      "source": [
        "n_categorias_por_entrada"
      ],
      "execution_count": 189,
      "outputs": [
        {
          "output_type": "execute_result",
          "data": {
            "text/plain": [
              "Var192      362\n",
              "Var193       51\n",
              "Var195       23\n",
              "Var196        4\n",
              "Var197      226\n",
              "Var198     4291\n",
              "Var199     5074\n",
              "Var202     5714\n",
              "Var203        6\n",
              "Var204      100\n",
              "Var205        4\n",
              "Var206       22\n",
              "Var207       14\n",
              "Var208        3\n",
              "Var210        6\n",
              "Var211        2\n",
              "Var212       81\n",
              "Var216     2016\n",
              "Var217    13991\n",
              "Var218        3\n",
              "Var219       23\n",
              "Var220     4291\n",
              "Var221        7\n",
              "Var222     4291\n",
              "Var223        5\n",
              "Var226       23\n",
              "Var227        7\n",
              "Var228       30\n",
              "dtype: int64"
            ]
          },
          "metadata": {
            "tags": []
          },
          "execution_count": 189
        }
      ]
    },
    {
      "cell_type": "code",
      "metadata": {
        "id": "1Zn9k-QkDcmk",
        "colab_type": "code",
        "outputId": "eff8f38d-18f1-4379-e65a-69e430264556",
        "colab": {
          "base_uri": "https://localhost:8080/",
          "height": 350
        }
      },
      "source": [
        "plt.hist(n_categorias_por_entrada)"
      ],
      "execution_count": 190,
      "outputs": [
        {
          "output_type": "execute_result",
          "data": {
            "text/plain": [
              "(array([21.,  1.,  0.,  4.,  1.,  0.,  0.,  0.,  0.,  1.]),\n",
              " array([2.00000e+00, 1.40090e+03, 2.79980e+03, 4.19870e+03, 5.59760e+03,\n",
              "        6.99650e+03, 8.39540e+03, 9.79430e+03, 1.11932e+04, 1.25921e+04,\n",
              "        1.39910e+04]),\n",
              " <a list of 10 Patch objects>)"
            ]
          },
          "metadata": {
            "tags": []
          },
          "execution_count": 190
        },
        {
          "output_type": "display_data",
          "data": {
            "image/png": "[encoded data removed]",
            "text/plain": [
              "<Figure size 432x288 with 1 Axes>"
            ]
          },
          "metadata": {
            "tags": []
          }
        }
      ]
    },
    {
      "cell_type": "code",
      "metadata": {
        "id": "AZKU_1bKEN5-",
        "colab_type": "code",
        "colab": {}
      },
      "source": [
        "categoricas_variaveis = np.array(n_categorias_por_entrada[n_categorias_por_entrada < 1400].index)"
      ],
      "execution_count": 0,
      "outputs": []
    },
    {
      "cell_type": "code",
      "metadata": {
        "id": "N2ggDGoqEfX8",
        "colab_type": "code",
        "outputId": "64fc62af-b917-45a9-c8e5-ab840a4c6859",
        "colab": {
          "base_uri": "https://localhost:8080/",
          "height": 85
        }
      },
      "source": [
        "categoricas_variaveis"
      ],
      "execution_count": 192,
      "outputs": [
        {
          "output_type": "execute_result",
          "data": {
            "text/plain": [
              "array(['Var192', 'Var193', 'Var195', 'Var196', 'Var197', 'Var203',\n",
              "       'Var204', 'Var205', 'Var206', 'Var207', 'Var208', 'Var210',\n",
              "       'Var211', 'Var212', 'Var218', 'Var219', 'Var221', 'Var223',\n",
              "       'Var226', 'Var227', 'Var228'], dtype=object)"
            ]
          },
          "metadata": {
            "tags": []
          },
          "execution_count": 192
        }
      ]
    },
    {
      "cell_type": "code",
      "metadata": {
        "id": "6FC6zEAQFkr3",
        "colab_type": "code",
        "outputId": "089f5f84-f897-45ff-b196-9ed8d8f04f65",
        "colab": {
          "base_uri": "https://localhost:8080/",
          "height": 34
        }
      },
      "source": [
        "len(categoricas_variaveis)"
      ],
      "execution_count": 193,
      "outputs": [
        {
          "output_type": "execute_result",
          "data": {
            "text/plain": [
              "21"
            ]
          },
          "metadata": {
            "tags": []
          },
          "execution_count": 193
        }
      ]
    },
    {
      "cell_type": "code",
      "metadata": {
        "id": "NEyl72sFF-kD",
        "colab_type": "code",
        "colab": {}
      },
      "source": [
        "recursos = recursos[list(numericas_variaveis) + list(categoricas_variaveis)]"
      ],
      "execution_count": 0,
      "outputs": []
    },
    {
      "cell_type": "code",
      "metadata": {
        "id": "BycLbklGGMsz",
        "colab_type": "code",
        "outputId": "0f1414d6-6d17-4d5f-f617-ad72543ff63b",
        "colab": {
          "base_uri": "https://localhost:8080/",
          "height": 34
        }
      },
      "source": [
        "recursos.shape"
      ],
      "execution_count": 195,
      "outputs": [
        {
          "output_type": "execute_result",
          "data": {
            "text/plain": [
              "(50000, 59)"
            ]
          },
          "metadata": {
            "tags": []
          },
          "execution_count": 195
        }
      ]
    },
    {
      "cell_type": "code",
      "metadata": {
        "id": "H17HQG8bGRSp",
        "colab_type": "code",
        "outputId": "7456953d-96aa-46fd-fccb-6057b5d9f60f",
        "colab": {
          "base_uri": "https://localhost:8080/",
          "height": 224
        }
      },
      "source": [
        "recursos.head()"
      ],
      "execution_count": 196,
      "outputs": [
        {
          "output_type": "execute_result",
          "data": {
            "text/html": [
              "<div>\n",
              "<style scoped>\n",
              "    .dataframe tbody tr th:only-of-type {\n",
              "        vertical-align: middle;\n",
              "    }\n",
              "\n",
              "    .dataframe tbody tr th {\n",
              "        vertical-align: top;\n",
              "    }\n",
              "\n",
              "    .dataframe thead th {\n",
              "        text-align: right;\n",
              "    }\n",
              "</style>\n",
              "<table border=\"1\" class=\"dataframe\">\n",
              "  <thead>\n",
              "    <tr style=\"text-align: right;\">\n",
              "      <th></th>\n",
              "      <th>Var6</th>\n",
              "      <th>Var7</th>\n",
              "      <th>Var13</th>\n",
              "      <th>Var21</th>\n",
              "      <th>Var22</th>\n",
              "      <th>Var24</th>\n",
              "      <th>Var25</th>\n",
              "      <th>Var28</th>\n",
              "      <th>Var35</th>\n",
              "      <th>Var38</th>\n",
              "      <th>Var44</th>\n",
              "      <th>Var57</th>\n",
              "      <th>Var65</th>\n",
              "      <th>Var73</th>\n",
              "      <th>Var74</th>\n",
              "      <th>Var76</th>\n",
              "      <th>Var78</th>\n",
              "      <th>Var81</th>\n",
              "      <th>Var83</th>\n",
              "      <th>Var85</th>\n",
              "      <th>Var109</th>\n",
              "      <th>Var112</th>\n",
              "      <th>Var113</th>\n",
              "      <th>Var119</th>\n",
              "      <th>Var123</th>\n",
              "      <th>Var125</th>\n",
              "      <th>Var132</th>\n",
              "      <th>Var133</th>\n",
              "      <th>Var134</th>\n",
              "      <th>Var140</th>\n",
              "      <th>Var143</th>\n",
              "      <th>Var144</th>\n",
              "      <th>Var149</th>\n",
              "      <th>Var153</th>\n",
              "      <th>Var160</th>\n",
              "      <th>Var163</th>\n",
              "      <th>Var173</th>\n",
              "      <th>Var181</th>\n",
              "      <th>Var192</th>\n",
              "      <th>Var193</th>\n",
              "      <th>Var195</th>\n",
              "      <th>Var196</th>\n",
              "      <th>Var197</th>\n",
              "      <th>Var203</th>\n",
              "      <th>Var204</th>\n",
              "      <th>Var205</th>\n",
              "      <th>Var206</th>\n",
              "      <th>Var207</th>\n",
              "      <th>Var208</th>\n",
              "      <th>Var210</th>\n",
              "      <th>Var211</th>\n",
              "      <th>Var212</th>\n",
              "      <th>Var218</th>\n",
              "      <th>Var219</th>\n",
              "      <th>Var221</th>\n",
              "      <th>Var223</th>\n",
              "      <th>Var226</th>\n",
              "      <th>Var227</th>\n",
              "      <th>Var228</th>\n",
              "    </tr>\n",
              "  </thead>\n",
              "  <tbody>\n",
              "    <tr>\n",
              "      <th>0</th>\n",
              "      <td>1526.000000</td>\n",
              "      <td>7.0</td>\n",
              "      <td>184.0</td>\n",
              "      <td>464.000000</td>\n",
              "      <td>580.0</td>\n",
              "      <td>14.000000</td>\n",
              "      <td>128.0</td>\n",
              "      <td>166.56</td>\n",
              "      <td>0.0</td>\n",
              "      <td>3570.0</td>\n",
              "      <td>0.0</td>\n",
              "      <td>4.076907</td>\n",
              "      <td>9.0</td>\n",
              "      <td>36.0</td>\n",
              "      <td>35.0</td>\n",
              "      <td>1350864.0</td>\n",
              "      <td>0.0</td>\n",
              "      <td>7333.110000</td>\n",
              "      <td>5.0</td>\n",
              "      <td>12.0</td>\n",
              "      <td>104.00000</td>\n",
              "      <td>168.0</td>\n",
              "      <td>117625.60</td>\n",
              "      <td>1175.000000</td>\n",
              "      <td>6.0</td>\n",
              "      <td>720.0</td>\n",
              "      <td>0.0</td>\n",
              "      <td>1212385.0</td>\n",
              "      <td>69134.0</td>\n",
              "      <td>185.0</td>\n",
              "      <td>0.0</td>\n",
              "      <td>9.000000</td>\n",
              "      <td>397579.000000</td>\n",
              "      <td>1812252.0</td>\n",
              "      <td>142.0</td>\n",
              "      <td>38418.0</td>\n",
              "      <td>0.0</td>\n",
              "      <td>0.0</td>\n",
              "      <td>bZkvyxLkBI</td>\n",
              "      <td>RO12</td>\n",
              "      <td>taul</td>\n",
              "      <td>1K8T</td>\n",
              "      <td>lK27</td>\n",
              "      <td>9_Y1</td>\n",
              "      <td>FbIm</td>\n",
              "      <td>VpdQ</td>\n",
              "      <td>haYg</td>\n",
              "      <td>me75fM6ugJ</td>\n",
              "      <td>kIsH</td>\n",
              "      <td>uKAI</td>\n",
              "      <td>L84s</td>\n",
              "      <td>XfqtO3UdzaXh_</td>\n",
              "      <td>cJvF</td>\n",
              "      <td>FzaX</td>\n",
              "      <td>oslk</td>\n",
              "      <td>jySVZNlOJy</td>\n",
              "      <td>xb3V</td>\n",
              "      <td>RAYp</td>\n",
              "      <td>F2FyR07IdsN7I</td>\n",
              "    </tr>\n",
              "    <tr>\n",
              "      <th>1</th>\n",
              "      <td>525.000000</td>\n",
              "      <td>0.0</td>\n",
              "      <td>0.0</td>\n",
              "      <td>168.000000</td>\n",
              "      <td>210.0</td>\n",
              "      <td>2.000000</td>\n",
              "      <td>24.0</td>\n",
              "      <td>353.52</td>\n",
              "      <td>0.0</td>\n",
              "      <td>4764966.0</td>\n",
              "      <td>0.0</td>\n",
              "      <td>5.408032</td>\n",
              "      <td>9.0</td>\n",
              "      <td>26.0</td>\n",
              "      <td>0.0</td>\n",
              "      <td>2872928.0</td>\n",
              "      <td>3.0</td>\n",
              "      <td>151098.900000</td>\n",
              "      <td>25.0</td>\n",
              "      <td>2.0</td>\n",
              "      <td>40.00000</td>\n",
              "      <td>40.0</td>\n",
              "      <td>-356411.60</td>\n",
              "      <td>590.000000</td>\n",
              "      <td>72.0</td>\n",
              "      <td>0.0</td>\n",
              "      <td>8.0</td>\n",
              "      <td>4136430.0</td>\n",
              "      <td>357038.0</td>\n",
              "      <td>0.0</td>\n",
              "      <td>0.0</td>\n",
              "      <td>9.000000</td>\n",
              "      <td>278334.000000</td>\n",
              "      <td>10439160.0</td>\n",
              "      <td>32.0</td>\n",
              "      <td>238572.0</td>\n",
              "      <td>0.0</td>\n",
              "      <td>0.0</td>\n",
              "      <td>CEat0G8rTN</td>\n",
              "      <td>RO12</td>\n",
              "      <td>taul</td>\n",
              "      <td>1K8T</td>\n",
              "      <td>2Ix5</td>\n",
              "      <td>9_Y1</td>\n",
              "      <td>k13i</td>\n",
              "      <td>sJzTlal</td>\n",
              "      <td>zm5i</td>\n",
              "      <td>me75fM6ugJ</td>\n",
              "      <td>kIsH</td>\n",
              "      <td>uKAI</td>\n",
              "      <td>L84s</td>\n",
              "      <td>NhsEn4L</td>\n",
              "      <td>missing</td>\n",
              "      <td>FzaX</td>\n",
              "      <td>oslk</td>\n",
              "      <td>LM8l689qOp</td>\n",
              "      <td>fKCe</td>\n",
              "      <td>RAYp</td>\n",
              "      <td>F2FyR07IdsN7I</td>\n",
              "    </tr>\n",
              "    <tr>\n",
              "      <th>2</th>\n",
              "      <td>5236.000000</td>\n",
              "      <td>7.0</td>\n",
              "      <td>904.0</td>\n",
              "      <td>1212.000000</td>\n",
              "      <td>1515.0</td>\n",
              "      <td>26.000000</td>\n",
              "      <td>816.0</td>\n",
              "      <td>220.08</td>\n",
              "      <td>0.0</td>\n",
              "      <td>5883894.0</td>\n",
              "      <td>0.0</td>\n",
              "      <td>6.599658</td>\n",
              "      <td>9.0</td>\n",
              "      <td>130.0</td>\n",
              "      <td>518.0</td>\n",
              "      <td>1675776.0</td>\n",
              "      <td>0.0</td>\n",
              "      <td>16211.580000</td>\n",
              "      <td>40.0</td>\n",
              "      <td>58.0</td>\n",
              "      <td>312.00000</td>\n",
              "      <td>336.0</td>\n",
              "      <td>405104.00</td>\n",
              "      <td>3230.000000</td>\n",
              "      <td>114.0</td>\n",
              "      <td>5967.0</td>\n",
              "      <td>0.0</td>\n",
              "      <td>3478905.0</td>\n",
              "      <td>248932.0</td>\n",
              "      <td>800.0</td>\n",
              "      <td>0.0</td>\n",
              "      <td>36.000000</td>\n",
              "      <td>320565.000000</td>\n",
              "      <td>9826360.0</td>\n",
              "      <td>206.0</td>\n",
              "      <td>434946.0</td>\n",
              "      <td>0.0</td>\n",
              "      <td>0.0</td>\n",
              "      <td>eOQt0GoOh3</td>\n",
              "      <td>AERks4l</td>\n",
              "      <td>taul</td>\n",
              "      <td>1K8T</td>\n",
              "      <td>ffXs</td>\n",
              "      <td>9_Y1</td>\n",
              "      <td>MGOA</td>\n",
              "      <td>VpdQ</td>\n",
              "      <td>haYg</td>\n",
              "      <td>DHn_WUyBhW_whjA88g9bvA64_</td>\n",
              "      <td>kIsH</td>\n",
              "      <td>uKAI</td>\n",
              "      <td>L84s</td>\n",
              "      <td>UbxQ8lZ</td>\n",
              "      <td>UYBR</td>\n",
              "      <td>FzaX</td>\n",
              "      <td>Al6ZaUT</td>\n",
              "      <td>jySVZNlOJy</td>\n",
              "      <td>Qu4f</td>\n",
              "      <td>02N6s8f</td>\n",
              "      <td>ib5G6X1eUxUn6</td>\n",
              "    </tr>\n",
              "    <tr>\n",
              "      <th>3</th>\n",
              "      <td>1326.437116</td>\n",
              "      <td>0.0</td>\n",
              "      <td>0.0</td>\n",
              "      <td>234.518225</td>\n",
              "      <td>0.0</td>\n",
              "      <td>4.507926</td>\n",
              "      <td>0.0</td>\n",
              "      <td>22.08</td>\n",
              "      <td>0.0</td>\n",
              "      <td>0.0</td>\n",
              "      <td>0.0</td>\n",
              "      <td>1.988250</td>\n",
              "      <td>9.0</td>\n",
              "      <td>12.0</td>\n",
              "      <td>0.0</td>\n",
              "      <td>0.0</td>\n",
              "      <td>0.0</td>\n",
              "      <td>103084.052693</td>\n",
              "      <td>0.0</td>\n",
              "      <td>0.0</td>\n",
              "      <td>60.88866</td>\n",
              "      <td>0.0</td>\n",
              "      <td>-275703.60</td>\n",
              "      <td>916.112185</td>\n",
              "      <td>0.0</td>\n",
              "      <td>0.0</td>\n",
              "      <td>0.0</td>\n",
              "      <td>0.0</td>\n",
              "      <td>0.0</td>\n",
              "      <td>0.0</td>\n",
              "      <td>0.0</td>\n",
              "      <td>11.727665</td>\n",
              "      <td>294920.804255</td>\n",
              "      <td>0.0</td>\n",
              "      <td>0.0</td>\n",
              "      <td>0.0</td>\n",
              "      <td>0.0</td>\n",
              "      <td>0.0</td>\n",
              "      <td>jg69tYsGvO</td>\n",
              "      <td>RO12</td>\n",
              "      <td>taul</td>\n",
              "      <td>1K8T</td>\n",
              "      <td>ssAy</td>\n",
              "      <td>9_Y1</td>\n",
              "      <td>YULl</td>\n",
              "      <td>VpdQ</td>\n",
              "      <td>missing</td>\n",
              "      <td>me75fM6ugJ</td>\n",
              "      <td>kIsH</td>\n",
              "      <td>uKAI</td>\n",
              "      <td>Mtgm</td>\n",
              "      <td>NhsEn4L</td>\n",
              "      <td>UYBR</td>\n",
              "      <td>FzaX</td>\n",
              "      <td>oslk</td>\n",
              "      <td>LM8l689qOp</td>\n",
              "      <td>FSa2</td>\n",
              "      <td>RAYp</td>\n",
              "      <td>F2FyR07IdsN7I</td>\n",
              "    </tr>\n",
              "    <tr>\n",
              "      <th>4</th>\n",
              "      <td>1029.000000</td>\n",
              "      <td>7.0</td>\n",
              "      <td>3216.0</td>\n",
              "      <td>64.000000</td>\n",
              "      <td>80.0</td>\n",
              "      <td>4.000000</td>\n",
              "      <td>64.0</td>\n",
              "      <td>200.00</td>\n",
              "      <td>0.0</td>\n",
              "      <td>0.0</td>\n",
              "      <td>0.0</td>\n",
              "      <td>4.552446</td>\n",
              "      <td>18.0</td>\n",
              "      <td>82.0</td>\n",
              "      <td>224.0</td>\n",
              "      <td>784448.0</td>\n",
              "      <td>0.0</td>\n",
              "      <td>37423.500000</td>\n",
              "      <td>0.0</td>\n",
              "      <td>0.0</td>\n",
              "      <td>32.00000</td>\n",
              "      <td>56.0</td>\n",
              "      <td>10714.84</td>\n",
              "      <td>215.000000</td>\n",
              "      <td>0.0</td>\n",
              "      <td>15111.0</td>\n",
              "      <td>0.0</td>\n",
              "      <td>150650.0</td>\n",
              "      <td>66046.0</td>\n",
              "      <td>3255.0</td>\n",
              "      <td>0.0</td>\n",
              "      <td>9.000000</td>\n",
              "      <td>267162.000000</td>\n",
              "      <td>644836.0</td>\n",
              "      <td>2.0</td>\n",
              "      <td>0.0</td>\n",
              "      <td>0.0</td>\n",
              "      <td>0.0</td>\n",
              "      <td>IXSgUHShse</td>\n",
              "      <td>RO12</td>\n",
              "      <td>taul</td>\n",
              "      <td>1K8T</td>\n",
              "      <td>uNkU</td>\n",
              "      <td>9_Y1</td>\n",
              "      <td>RVjC</td>\n",
              "      <td>sJzTlal</td>\n",
              "      <td>6JmL</td>\n",
              "      <td>me75fM6ugJ</td>\n",
              "      <td>kIsH</td>\n",
              "      <td>uKAI</td>\n",
              "      <td>L84s</td>\n",
              "      <td>XfqtO3UdzaXh_</td>\n",
              "      <td>UYBR</td>\n",
              "      <td>FzaX</td>\n",
              "      <td>oslk</td>\n",
              "      <td>LM8l689qOp</td>\n",
              "      <td>FSa2</td>\n",
              "      <td>RAYp</td>\n",
              "      <td>F2FyR07IdsN7I</td>\n",
              "    </tr>\n",
              "  </tbody>\n",
              "</table>\n",
              "</div>"
            ],
            "text/plain": [
              "          Var6  Var7   Var13  ...  Var226   Var227         Var228\n",
              "0  1526.000000   7.0   184.0  ...    xb3V     RAYp  F2FyR07IdsN7I\n",
              "1   525.000000   0.0     0.0  ...    fKCe     RAYp  F2FyR07IdsN7I\n",
              "2  5236.000000   7.0   904.0  ...    Qu4f  02N6s8f  ib5G6X1eUxUn6\n",
              "3  1326.437116   0.0     0.0  ...    FSa2     RAYp  F2FyR07IdsN7I\n",
              "4  1029.000000   7.0  3216.0  ...    FSa2     RAYp  F2FyR07IdsN7I\n",
              "\n",
              "[5 rows x 59 columns]"
            ]
          },
          "metadata": {
            "tags": []
          },
          "execution_count": 196
        }
      ]
    },
    {
      "cell_type": "markdown",
      "metadata": {
        "id": "8SaTIBJ6GZG1",
        "colab_type": "text"
      },
      "source": [
        "### Selecao de variaveis baseado em arvore de decisões"
      ]
    },
    {
      "cell_type": "markdown",
      "metadata": {
        "id": "Uz16K8ExUzIx",
        "colab_type": "text"
      },
      "source": [
        "Seleção de atributos: https://scikit-learn.org/stable/modules/feature_selection.html"
      ]
    },
    {
      "cell_type": "markdown",
      "metadata": {
        "id": "wTWKI-vpVrIe",
        "colab_type": "text"
      },
      "source": [
        "1 - Palio\n",
        "2 - Gol\n",
        "3 - Uno\n",
        "\n",
        "Palio - 1 0 0\n",
        "Gol - 0 1 0\n",
        "Uno - 0 1 1"
      ]
    },
    {
      "cell_type": "code",
      "metadata": {
        "id": "FcrZgtchGYwz",
        "colab_type": "code",
        "colab": {}
      },
      "source": [
        "recursos_c = pd.get_dummies(recursos)"
      ],
      "execution_count": 0,
      "outputs": []
    },
    {
      "cell_type": "code",
      "metadata": {
        "id": "vy0VW4Cjey6y",
        "colab_type": "code",
        "outputId": "5c8daef8-1ba7-45de-feda-43881b7507e8",
        "colab": {
          "base_uri": "https://localhost:8080/",
          "height": 34
        }
      },
      "source": [
        "recursos_c.shape"
      ],
      "execution_count": 198,
      "outputs": [
        {
          "output_type": "execute_result",
          "data": {
            "text/plain": [
              "(50000, 1052)"
            ]
          },
          "metadata": {
            "tags": []
          },
          "execution_count": 198
        }
      ]
    },
    {
      "cell_type": "code",
      "metadata": {
        "id": "X5P1IPnne2LY",
        "colab_type": "code",
        "outputId": "fc938b9f-6f7a-40a7-c9cd-ac239726178c",
        "colab": {
          "base_uri": "https://localhost:8080/",
          "height": 253
        }
      },
      "source": [
        "recursos_c.head()"
      ],
      "execution_count": 199,
      "outputs": [
        {
          "output_type": "execute_result",
          "data": {
            "text/html": [
              "<div>\n",
              "<style scoped>\n",
              "    .dataframe tbody tr th:only-of-type {\n",
              "        vertical-align: middle;\n",
              "    }\n",
              "\n",
              "    .dataframe tbody tr th {\n",
              "        vertical-align: top;\n",
              "    }\n",
              "\n",
              "    .dataframe thead th {\n",
              "        text-align: right;\n",
              "    }\n",
              "</style>\n",
              "<table border=\"1\" class=\"dataframe\">\n",
              "  <thead>\n",
              "    <tr style=\"text-align: right;\">\n",
              "      <th></th>\n",
              "      <th>Var6</th>\n",
              "      <th>Var7</th>\n",
              "      <th>Var13</th>\n",
              "      <th>Var21</th>\n",
              "      <th>Var22</th>\n",
              "      <th>Var24</th>\n",
              "      <th>Var25</th>\n",
              "      <th>Var28</th>\n",
              "      <th>Var35</th>\n",
              "      <th>Var38</th>\n",
              "      <th>Var44</th>\n",
              "      <th>Var57</th>\n",
              "      <th>Var65</th>\n",
              "      <th>Var73</th>\n",
              "      <th>Var74</th>\n",
              "      <th>Var76</th>\n",
              "      <th>Var78</th>\n",
              "      <th>Var81</th>\n",
              "      <th>Var83</th>\n",
              "      <th>Var85</th>\n",
              "      <th>Var109</th>\n",
              "      <th>Var112</th>\n",
              "      <th>Var113</th>\n",
              "      <th>Var119</th>\n",
              "      <th>Var123</th>\n",
              "      <th>Var125</th>\n",
              "      <th>Var132</th>\n",
              "      <th>Var133</th>\n",
              "      <th>Var134</th>\n",
              "      <th>Var140</th>\n",
              "      <th>Var143</th>\n",
              "      <th>Var144</th>\n",
              "      <th>Var149</th>\n",
              "      <th>Var153</th>\n",
              "      <th>Var160</th>\n",
              "      <th>Var163</th>\n",
              "      <th>Var173</th>\n",
              "      <th>Var181</th>\n",
              "      <th>Var192_0G9vyxdMWg</th>\n",
              "      <th>Var192_0kQTmBU3gb</th>\n",
              "      <th>...</th>\n",
              "      <th>Var226_missing</th>\n",
              "      <th>Var227_02N6s8f</th>\n",
              "      <th>Var227_6fzt</th>\n",
              "      <th>Var227_RAYp</th>\n",
              "      <th>Var227_ZI9m</th>\n",
              "      <th>Var227_nIGXDli</th>\n",
              "      <th>Var227_nIGjgSB</th>\n",
              "      <th>Var227_vJ_w8kB</th>\n",
              "      <th>Var227_missing</th>\n",
              "      <th>Var228_0pzBWGkV3fbsGZN52DH</th>\n",
              "      <th>Var228_4rd_</th>\n",
              "      <th>Var228_55YFVY9</th>\n",
              "      <th>Var228_5oZS</th>\n",
              "      <th>Var228_6nxx00q6gnIF8ePJ3P3AEfZ1N</th>\n",
              "      <th>Var228_9VmiOykV3fbsAg65e4w</th>\n",
              "      <th>Var228_DU8B</th>\n",
              "      <th>Var228_F2FcTt7IdMT_v</th>\n",
              "      <th>Var228_F2FyR07IdsN7I</th>\n",
              "      <th>Var228_JnGLH58smNxIYcGK39k</th>\n",
              "      <th>Var228_NoEd</th>\n",
              "      <th>Var228_R4y5gQQWY8OodqDV</th>\n",
              "      <th>Var228_RjBDiL8f9CQYc21fICscNNpj6</th>\n",
              "      <th>Var228_SbOd7O8ky1wGNxp0Arj0Xs</th>\n",
              "      <th>Var228_TCU50_Yjmm6GIBZ0lL_</th>\n",
              "      <th>Var228_VjDE</th>\n",
              "      <th>Var228_WfJ2BB2SFSqauljlfOB</th>\n",
              "      <th>Var228_WfJYmPMksSqa1pajvfG</th>\n",
              "      <th>Var228_ZeaF</th>\n",
              "      <th>Var228_Zy3gnGM</th>\n",
              "      <th>Var228__URKn_77G3QyQHSVQ2N1RKmtW</th>\n",
              "      <th>Var228__cTCyH95OE93jSkoIBT</th>\n",
              "      <th>Var228_am14IcfM7tWLrUmRT52KtA</th>\n",
              "      <th>Var228_b9qbUNk0dML_Mvi2</th>\n",
              "      <th>Var228_d0LtHjWeaXyArdN4sxU_saXqH</th>\n",
              "      <th>Var228_ib5G6X1eUxUn6</th>\n",
              "      <th>Var228_iyHGyLCEkQ</th>\n",
              "      <th>Var228_n1OBWGkV3fbsHR75taC</th>\n",
              "      <th>Var228_r_7E</th>\n",
              "      <th>Var228_xwM2aC7IdeMC0</th>\n",
              "      <th>Var228_missing</th>\n",
              "    </tr>\n",
              "  </thead>\n",
              "  <tbody>\n",
              "    <tr>\n",
              "      <th>0</th>\n",
              "      <td>1526.000000</td>\n",
              "      <td>7.0</td>\n",
              "      <td>184.0</td>\n",
              "      <td>464.000000</td>\n",
              "      <td>580.0</td>\n",
              "      <td>14.000000</td>\n",
              "      <td>128.0</td>\n",
              "      <td>166.56</td>\n",
              "      <td>0.0</td>\n",
              "      <td>3570.0</td>\n",
              "      <td>0.0</td>\n",
              "      <td>4.076907</td>\n",
              "      <td>9.0</td>\n",
              "      <td>36.0</td>\n",
              "      <td>35.0</td>\n",
              "      <td>1350864.0</td>\n",
              "      <td>0.0</td>\n",
              "      <td>7333.110000</td>\n",
              "      <td>5.0</td>\n",
              "      <td>12.0</td>\n",
              "      <td>104.00000</td>\n",
              "      <td>168.0</td>\n",
              "      <td>117625.60</td>\n",
              "      <td>1175.000000</td>\n",
              "      <td>6.0</td>\n",
              "      <td>720.0</td>\n",
              "      <td>0.0</td>\n",
              "      <td>1212385.0</td>\n",
              "      <td>69134.0</td>\n",
              "      <td>185.0</td>\n",
              "      <td>0.0</td>\n",
              "      <td>9.000000</td>\n",
              "      <td>397579.000000</td>\n",
              "      <td>1812252.0</td>\n",
              "      <td>142.0</td>\n",
              "      <td>38418.0</td>\n",
              "      <td>0.0</td>\n",
              "      <td>0.0</td>\n",
              "      <td>0</td>\n",
              "      <td>0</td>\n",
              "      <td>...</td>\n",
              "      <td>0</td>\n",
              "      <td>0</td>\n",
              "      <td>0</td>\n",
              "      <td>1</td>\n",
              "      <td>0</td>\n",
              "      <td>0</td>\n",
              "      <td>0</td>\n",
              "      <td>0</td>\n",
              "      <td>0</td>\n",
              "      <td>0</td>\n",
              "      <td>0</td>\n",
              "      <td>0</td>\n",
              "      <td>0</td>\n",
              "      <td>0</td>\n",
              "      <td>0</td>\n",
              "      <td>0</td>\n",
              "      <td>0</td>\n",
              "      <td>1</td>\n",
              "      <td>0</td>\n",
              "      <td>0</td>\n",
              "      <td>0</td>\n",
              "      <td>0</td>\n",
              "      <td>0</td>\n",
              "      <td>0</td>\n",
              "      <td>0</td>\n",
              "      <td>0</td>\n",
              "      <td>0</td>\n",
              "      <td>0</td>\n",
              "      <td>0</td>\n",
              "      <td>0</td>\n",
              "      <td>0</td>\n",
              "      <td>0</td>\n",
              "      <td>0</td>\n",
              "      <td>0</td>\n",
              "      <td>0</td>\n",
              "      <td>0</td>\n",
              "      <td>0</td>\n",
              "      <td>0</td>\n",
              "      <td>0</td>\n",
              "      <td>0</td>\n",
              "    </tr>\n",
              "    <tr>\n",
              "      <th>1</th>\n",
              "      <td>525.000000</td>\n",
              "      <td>0.0</td>\n",
              "      <td>0.0</td>\n",
              "      <td>168.000000</td>\n",
              "      <td>210.0</td>\n",
              "      <td>2.000000</td>\n",
              "      <td>24.0</td>\n",
              "      <td>353.52</td>\n",
              "      <td>0.0</td>\n",
              "      <td>4764966.0</td>\n",
              "      <td>0.0</td>\n",
              "      <td>5.408032</td>\n",
              "      <td>9.0</td>\n",
              "      <td>26.0</td>\n",
              "      <td>0.0</td>\n",
              "      <td>2872928.0</td>\n",
              "      <td>3.0</td>\n",
              "      <td>151098.900000</td>\n",
              "      <td>25.0</td>\n",
              "      <td>2.0</td>\n",
              "      <td>40.00000</td>\n",
              "      <td>40.0</td>\n",
              "      <td>-356411.60</td>\n",
              "      <td>590.000000</td>\n",
              "      <td>72.0</td>\n",
              "      <td>0.0</td>\n",
              "      <td>8.0</td>\n",
              "      <td>4136430.0</td>\n",
              "      <td>357038.0</td>\n",
              "      <td>0.0</td>\n",
              "      <td>0.0</td>\n",
              "      <td>9.000000</td>\n",
              "      <td>278334.000000</td>\n",
              "      <td>10439160.0</td>\n",
              "      <td>32.0</td>\n",
              "      <td>238572.0</td>\n",
              "      <td>0.0</td>\n",
              "      <td>0.0</td>\n",
              "      <td>0</td>\n",
              "      <td>0</td>\n",
              "      <td>...</td>\n",
              "      <td>0</td>\n",
              "      <td>0</td>\n",
              "      <td>0</td>\n",
              "      <td>1</td>\n",
              "      <td>0</td>\n",
              "      <td>0</td>\n",
              "      <td>0</td>\n",
              "      <td>0</td>\n",
              "      <td>0</td>\n",
              "      <td>0</td>\n",
              "      <td>0</td>\n",
              "      <td>0</td>\n",
              "      <td>0</td>\n",
              "      <td>0</td>\n",
              "      <td>0</td>\n",
              "      <td>0</td>\n",
              "      <td>0</td>\n",
              "      <td>1</td>\n",
              "      <td>0</td>\n",
              "      <td>0</td>\n",
              "      <td>0</td>\n",
              "      <td>0</td>\n",
              "      <td>0</td>\n",
              "      <td>0</td>\n",
              "      <td>0</td>\n",
              "      <td>0</td>\n",
              "      <td>0</td>\n",
              "      <td>0</td>\n",
              "      <td>0</td>\n",
              "      <td>0</td>\n",
              "      <td>0</td>\n",
              "      <td>0</td>\n",
              "      <td>0</td>\n",
              "      <td>0</td>\n",
              "      <td>0</td>\n",
              "      <td>0</td>\n",
              "      <td>0</td>\n",
              "      <td>0</td>\n",
              "      <td>0</td>\n",
              "      <td>0</td>\n",
              "    </tr>\n",
              "    <tr>\n",
              "      <th>2</th>\n",
              "      <td>5236.000000</td>\n",
              "      <td>7.0</td>\n",
              "      <td>904.0</td>\n",
              "      <td>1212.000000</td>\n",
              "      <td>1515.0</td>\n",
              "      <td>26.000000</td>\n",
              "      <td>816.0</td>\n",
              "      <td>220.08</td>\n",
              "      <td>0.0</td>\n",
              "      <td>5883894.0</td>\n",
              "      <td>0.0</td>\n",
              "      <td>6.599658</td>\n",
              "      <td>9.0</td>\n",
              "      <td>130.0</td>\n",
              "      <td>518.0</td>\n",
              "      <td>1675776.0</td>\n",
              "      <td>0.0</td>\n",
              "      <td>16211.580000</td>\n",
              "      <td>40.0</td>\n",
              "      <td>58.0</td>\n",
              "      <td>312.00000</td>\n",
              "      <td>336.0</td>\n",
              "      <td>405104.00</td>\n",
              "      <td>3230.000000</td>\n",
              "      <td>114.0</td>\n",
              "      <td>5967.0</td>\n",
              "      <td>0.0</td>\n",
              "      <td>3478905.0</td>\n",
              "      <td>248932.0</td>\n",
              "      <td>800.0</td>\n",
              "      <td>0.0</td>\n",
              "      <td>36.000000</td>\n",
              "      <td>320565.000000</td>\n",
              "      <td>9826360.0</td>\n",
              "      <td>206.0</td>\n",
              "      <td>434946.0</td>\n",
              "      <td>0.0</td>\n",
              "      <td>0.0</td>\n",
              "      <td>0</td>\n",
              "      <td>0</td>\n",
              "      <td>...</td>\n",
              "      <td>0</td>\n",
              "      <td>1</td>\n",
              "      <td>0</td>\n",
              "      <td>0</td>\n",
              "      <td>0</td>\n",
              "      <td>0</td>\n",
              "      <td>0</td>\n",
              "      <td>0</td>\n",
              "      <td>0</td>\n",
              "      <td>0</td>\n",
              "      <td>0</td>\n",
              "      <td>0</td>\n",
              "      <td>0</td>\n",
              "      <td>0</td>\n",
              "      <td>0</td>\n",
              "      <td>0</td>\n",
              "      <td>0</td>\n",
              "      <td>0</td>\n",
              "      <td>0</td>\n",
              "      <td>0</td>\n",
              "      <td>0</td>\n",
              "      <td>0</td>\n",
              "      <td>0</td>\n",
              "      <td>0</td>\n",
              "      <td>0</td>\n",
              "      <td>0</td>\n",
              "      <td>0</td>\n",
              "      <td>0</td>\n",
              "      <td>0</td>\n",
              "      <td>0</td>\n",
              "      <td>0</td>\n",
              "      <td>0</td>\n",
              "      <td>0</td>\n",
              "      <td>0</td>\n",
              "      <td>1</td>\n",
              "      <td>0</td>\n",
              "      <td>0</td>\n",
              "      <td>0</td>\n",
              "      <td>0</td>\n",
              "      <td>0</td>\n",
              "    </tr>\n",
              "    <tr>\n",
              "      <th>3</th>\n",
              "      <td>1326.437116</td>\n",
              "      <td>0.0</td>\n",
              "      <td>0.0</td>\n",
              "      <td>234.518225</td>\n",
              "      <td>0.0</td>\n",
              "      <td>4.507926</td>\n",
              "      <td>0.0</td>\n",
              "      <td>22.08</td>\n",
              "      <td>0.0</td>\n",
              "      <td>0.0</td>\n",
              "      <td>0.0</td>\n",
              "      <td>1.988250</td>\n",
              "      <td>9.0</td>\n",
              "      <td>12.0</td>\n",
              "      <td>0.0</td>\n",
              "      <td>0.0</td>\n",
              "      <td>0.0</td>\n",
              "      <td>103084.052693</td>\n",
              "      <td>0.0</td>\n",
              "      <td>0.0</td>\n",
              "      <td>60.88866</td>\n",
              "      <td>0.0</td>\n",
              "      <td>-275703.60</td>\n",
              "      <td>916.112185</td>\n",
              "      <td>0.0</td>\n",
              "      <td>0.0</td>\n",
              "      <td>0.0</td>\n",
              "      <td>0.0</td>\n",
              "      <td>0.0</td>\n",
              "      <td>0.0</td>\n",
              "      <td>0.0</td>\n",
              "      <td>11.727665</td>\n",
              "      <td>294920.804255</td>\n",
              "      <td>0.0</td>\n",
              "      <td>0.0</td>\n",
              "      <td>0.0</td>\n",
              "      <td>0.0</td>\n",
              "      <td>0.0</td>\n",
              "      <td>0</td>\n",
              "      <td>0</td>\n",
              "      <td>...</td>\n",
              "      <td>0</td>\n",
              "      <td>0</td>\n",
              "      <td>0</td>\n",
              "      <td>1</td>\n",
              "      <td>0</td>\n",
              "      <td>0</td>\n",
              "      <td>0</td>\n",
              "      <td>0</td>\n",
              "      <td>0</td>\n",
              "      <td>0</td>\n",
              "      <td>0</td>\n",
              "      <td>0</td>\n",
              "      <td>0</td>\n",
              "      <td>0</td>\n",
              "      <td>0</td>\n",
              "      <td>0</td>\n",
              "      <td>0</td>\n",
              "      <td>1</td>\n",
              "      <td>0</td>\n",
              "      <td>0</td>\n",
              "      <td>0</td>\n",
              "      <td>0</td>\n",
              "      <td>0</td>\n",
              "      <td>0</td>\n",
              "      <td>0</td>\n",
              "      <td>0</td>\n",
              "      <td>0</td>\n",
              "      <td>0</td>\n",
              "      <td>0</td>\n",
              "      <td>0</td>\n",
              "      <td>0</td>\n",
              "      <td>0</td>\n",
              "      <td>0</td>\n",
              "      <td>0</td>\n",
              "      <td>0</td>\n",
              "      <td>0</td>\n",
              "      <td>0</td>\n",
              "      <td>0</td>\n",
              "      <td>0</td>\n",
              "      <td>0</td>\n",
              "    </tr>\n",
              "    <tr>\n",
              "      <th>4</th>\n",
              "      <td>1029.000000</td>\n",
              "      <td>7.0</td>\n",
              "      <td>3216.0</td>\n",
              "      <td>64.000000</td>\n",
              "      <td>80.0</td>\n",
              "      <td>4.000000</td>\n",
              "      <td>64.0</td>\n",
              "      <td>200.00</td>\n",
              "      <td>0.0</td>\n",
              "      <td>0.0</td>\n",
              "      <td>0.0</td>\n",
              "      <td>4.552446</td>\n",
              "      <td>18.0</td>\n",
              "      <td>82.0</td>\n",
              "      <td>224.0</td>\n",
              "      <td>784448.0</td>\n",
              "      <td>0.0</td>\n",
              "      <td>37423.500000</td>\n",
              "      <td>0.0</td>\n",
              "      <td>0.0</td>\n",
              "      <td>32.00000</td>\n",
              "      <td>56.0</td>\n",
              "      <td>10714.84</td>\n",
              "      <td>215.000000</td>\n",
              "      <td>0.0</td>\n",
              "      <td>15111.0</td>\n",
              "      <td>0.0</td>\n",
              "      <td>150650.0</td>\n",
              "      <td>66046.0</td>\n",
              "      <td>3255.0</td>\n",
              "      <td>0.0</td>\n",
              "      <td>9.000000</td>\n",
              "      <td>267162.000000</td>\n",
              "      <td>644836.0</td>\n",
              "      <td>2.0</td>\n",
              "      <td>0.0</td>\n",
              "      <td>0.0</td>\n",
              "      <td>0.0</td>\n",
              "      <td>0</td>\n",
              "      <td>0</td>\n",
              "      <td>...</td>\n",
              "      <td>0</td>\n",
              "      <td>0</td>\n",
              "      <td>0</td>\n",
              "      <td>1</td>\n",
              "      <td>0</td>\n",
              "      <td>0</td>\n",
              "      <td>0</td>\n",
              "      <td>0</td>\n",
              "      <td>0</td>\n",
              "      <td>0</td>\n",
              "      <td>0</td>\n",
              "      <td>0</td>\n",
              "      <td>0</td>\n",
              "      <td>0</td>\n",
              "      <td>0</td>\n",
              "      <td>0</td>\n",
              "      <td>0</td>\n",
              "      <td>1</td>\n",
              "      <td>0</td>\n",
              "      <td>0</td>\n",
              "      <td>0</td>\n",
              "      <td>0</td>\n",
              "      <td>0</td>\n",
              "      <td>0</td>\n",
              "      <td>0</td>\n",
              "      <td>0</td>\n",
              "      <td>0</td>\n",
              "      <td>0</td>\n",
              "      <td>0</td>\n",
              "      <td>0</td>\n",
              "      <td>0</td>\n",
              "      <td>0</td>\n",
              "      <td>0</td>\n",
              "      <td>0</td>\n",
              "      <td>0</td>\n",
              "      <td>0</td>\n",
              "      <td>0</td>\n",
              "      <td>0</td>\n",
              "      <td>0</td>\n",
              "      <td>0</td>\n",
              "    </tr>\n",
              "  </tbody>\n",
              "</table>\n",
              "<p>5 rows × 1052 columns</p>\n",
              "</div>"
            ],
            "text/plain": [
              "          Var6  Var7   Var13  ...  Var228_r_7E  Var228_xwM2aC7IdeMC0  Var228_missing\n",
              "0  1526.000000   7.0   184.0  ...            0                     0               0\n",
              "1   525.000000   0.0     0.0  ...            0                     0               0\n",
              "2  5236.000000   7.0   904.0  ...            0                     0               0\n",
              "3  1326.437116   0.0     0.0  ...            0                     0               0\n",
              "4  1029.000000   7.0  3216.0  ...            0                     0               0\n",
              "\n",
              "[5 rows x 1052 columns]"
            ]
          },
          "metadata": {
            "tags": []
          },
          "execution_count": 199
        }
      ]
    },
    {
      "cell_type": "markdown",
      "metadata": {
        "id": "TDT-Ok-_b-O0",
        "colab_type": "text"
      },
      "source": [
        "Random Forest x Extra Tree: https://www.thekerneltrip.com/statistics/random-forest-vs-extra-tree/"
      ]
    },
    {
      "cell_type": "code",
      "metadata": {
        "id": "flrnWh65fIWv",
        "colab_type": "code",
        "colab": {}
      },
      "source": [
        "def etc_importancia(recursos, resultado):\n",
        "  modelo = ExtraTreesClassifier(n_estimators=200, criterion='entropy', verbose=0)\n",
        "  modelo.fit(recursos,  np.array(resultado).ravel())\n",
        "  \n",
        "  importancia = modelo.feature_importances_\n",
        "  variaveis = np.array(recursos.columns)\n",
        "  indice = np.argsort(importancia)[::-1]\n",
        "  importancia = importancia[indice]\n",
        "  variaveis = variaveis[indice]\n",
        "\n",
        "  return variaveis, importancia"
      ],
      "execution_count": 0,
      "outputs": []
    },
    {
      "cell_type": "code",
      "metadata": {
        "id": "4_YVrF9KgsBI",
        "colab_type": "code",
        "colab": {}
      },
      "source": [
        "variaveis, importancia = etc_importancia(recursos_c, resultado)"
      ],
      "execution_count": 0,
      "outputs": []
    },
    {
      "cell_type": "code",
      "metadata": {
        "id": "K7kbbk-mjS9Y",
        "colab_type": "code",
        "outputId": "d869a63e-72ee-4037-a1b5-8748ae94b20a",
        "colab": {
          "base_uri": "https://localhost:8080/",
          "height": 51
        }
      },
      "source": [
        "importancia "
      ],
      "execution_count": 202,
      "outputs": [
        {
          "output_type": "execute_result",
          "data": {
            "text/plain": [
              "array([0.01801667, 0.01752932, 0.01725852, ..., 0.        , 0.        ,\n",
              "       0.        ])"
            ]
          },
          "metadata": {
            "tags": []
          },
          "execution_count": 202
        }
      ]
    },
    {
      "cell_type": "code",
      "metadata": {
        "id": "P5gkTCW1jbNG",
        "colab_type": "code",
        "outputId": "757a150b-c1fe-456c-ba52-734cc1071b59",
        "colab": {
          "base_uri": "https://localhost:8080/",
          "height": 51
        }
      },
      "source": [
        "variaveis"
      ],
      "execution_count": 203,
      "outputs": [
        {
          "output_type": "execute_result",
          "data": {
            "text/plain": [
              "array(['Var57', 'Var73', 'Var113', ..., 'Var212_ZFq7s6OYdbq4pDsQ',\n",
              "       'Var192_6VLgUHQicn', 'Var228_missing'], dtype=object)"
            ]
          },
          "metadata": {
            "tags": []
          },
          "execution_count": 203
        }
      ]
    },
    {
      "cell_type": "code",
      "metadata": {
        "id": "4PcRC8rFjjTH",
        "colab_type": "code",
        "outputId": "d6094ceb-8e68-4524-e669-a562cdf92ea5",
        "colab": {
          "base_uri": "https://localhost:8080/",
          "height": 34
        }
      },
      "source": [
        "\n",
        "variaveis[0]"
      ],
      "execution_count": 204,
      "outputs": [
        {
          "output_type": "execute_result",
          "data": {
            "text/plain": [
              "'Var57'"
            ]
          },
          "metadata": {
            "tags": []
          },
          "execution_count": 204
        }
      ]
    },
    {
      "cell_type": "code",
      "metadata": {
        "id": "6CISXY8djqNA",
        "colab_type": "code",
        "outputId": "33a8743a-2b20-4916-ee79-9caed071c830",
        "colab": {
          "base_uri": "https://localhost:8080/",
          "height": 34
        }
      },
      "source": [
        "importancia[0]"
      ],
      "execution_count": 205,
      "outputs": [
        {
          "output_type": "execute_result",
          "data": {
            "text/plain": [
              "0.01801666726104832"
            ]
          },
          "metadata": {
            "tags": []
          },
          "execution_count": 205
        }
      ]
    },
    {
      "cell_type": "code",
      "metadata": {
        "id": "LGPuZsoKj99n",
        "colab_type": "code",
        "colab": {}
      },
      "source": [
        "def soma_e_plot_importancia(variaveis, importancia):\n",
        "  soma_importancias = pd.DataFrame()\n",
        "  for i in range(importancia.size):\n",
        "    soma_importancia = importancia[:(i+1)].sum()\n",
        "    eh_variavel= pd.Series([variaveis[i],soma_importancia])\n",
        "    soma_importancias = soma_importancias.append(eh_variavel, ignore_index=True)\n",
        "\n",
        "  plt.scatter(soma_importancias.index, soma_importancias.iloc[:,1])\n",
        "  return soma_importancias"
      ],
      "execution_count": 0,
      "outputs": []
    },
    {
      "cell_type": "code",
      "metadata": {
        "id": "hTJGh57el0I0",
        "colab_type": "code",
        "outputId": "afa469ed-c922-4761-d96e-f51e2b72c0a9",
        "colab": {
          "base_uri": "https://localhost:8080/",
          "height": 265
        }
      },
      "source": [
        "soma_importancias = soma_e_plot_importancia(variaveis, importancia)"
      ],
      "execution_count": 207,
      "outputs": [
        {
          "output_type": "display_data",
          "data": {
            "image/png": "[encoded data removed]",
            "text/plain": [
              "<Figure size 432x288 with 1 Axes>"
            ]
          },
          "metadata": {
            "tags": []
          }
        }
      ]
    },
    {
      "cell_type": "code",
      "metadata": {
        "id": "akaCpbWTmlEW",
        "colab_type": "code",
        "colab": {}
      },
      "source": [
        "def matenha_variaveis(recursos, soma_importancias,treshold):\n",
        "  manter_variaveis = list(soma_importancias[soma_importancias.iloc[:,1] <= treshold].iloc[:,0])\n",
        "  recursos = recursos.loc[:,manter_variaveis]\n",
        "\n",
        "  return recursos\n",
        "\n",
        "  "
      ],
      "execution_count": 0,
      "outputs": []
    },
    {
      "cell_type": "code",
      "metadata": {
        "id": "6uRZ139hoNnY",
        "colab_type": "code",
        "colab": {}
      },
      "source": [
        "recursos_c = matenha_variaveis(recursos_c, soma_importancias, treshold=0.99)"
      ],
      "execution_count": 0,
      "outputs": []
    },
    {
      "cell_type": "code",
      "metadata": {
        "id": "sHFhKkDToZyN",
        "colab_type": "code",
        "outputId": "6a549d46-8da5-43f6-bdf4-5498bb152f8b",
        "colab": {
          "base_uri": "https://localhost:8080/",
          "height": 34
        }
      },
      "source": [
        "recursos_c.shape"
      ],
      "execution_count": 210,
      "outputs": [
        {
          "output_type": "execute_result",
          "data": {
            "text/plain": [
              "(50000, 685)"
            ]
          },
          "metadata": {
            "tags": []
          },
          "execution_count": 210
        }
      ]
    },
    {
      "cell_type": "code",
      "metadata": {
        "id": "bZRHNbmnodao",
        "colab_type": "code",
        "outputId": "4b15f316-477d-46a1-8f73-53415b6dfdf8",
        "colab": {
          "base_uri": "https://localhost:8080/",
          "height": 253
        }
      },
      "source": [
        "recursos_c.head()"
      ],
      "execution_count": 211,
      "outputs": [
        {
          "output_type": "execute_result",
          "data": {
            "text/html": [
              "<div>\n",
              "<style scoped>\n",
              "    .dataframe tbody tr th:only-of-type {\n",
              "        vertical-align: middle;\n",
              "    }\n",
              "\n",
              "    .dataframe tbody tr th {\n",
              "        vertical-align: top;\n",
              "    }\n",
              "\n",
              "    .dataframe thead th {\n",
              "        text-align: right;\n",
              "    }\n",
              "</style>\n",
              "<table border=\"1\" class=\"dataframe\">\n",
              "  <thead>\n",
              "    <tr style=\"text-align: right;\">\n",
              "      <th></th>\n",
              "      <th>Var57</th>\n",
              "      <th>Var73</th>\n",
              "      <th>Var113</th>\n",
              "      <th>Var153</th>\n",
              "      <th>Var81</th>\n",
              "      <th>Var133</th>\n",
              "      <th>Var38</th>\n",
              "      <th>Var76</th>\n",
              "      <th>Var134</th>\n",
              "      <th>Var28</th>\n",
              "      <th>Var6</th>\n",
              "      <th>Var123</th>\n",
              "      <th>Var119</th>\n",
              "      <th>Var160</th>\n",
              "      <th>Var25</th>\n",
              "      <th>Var149</th>\n",
              "      <th>Var22</th>\n",
              "      <th>Var112</th>\n",
              "      <th>Var21</th>\n",
              "      <th>Var163</th>\n",
              "      <th>Var83</th>\n",
              "      <th>Var85</th>\n",
              "      <th>Var109</th>\n",
              "      <th>Var125</th>\n",
              "      <th>Var24</th>\n",
              "      <th>Var13</th>\n",
              "      <th>Var144</th>\n",
              "      <th>Var140</th>\n",
              "      <th>Var7</th>\n",
              "      <th>Var65</th>\n",
              "      <th>Var74</th>\n",
              "      <th>Var205_VpdQ</th>\n",
              "      <th>Var218_missing</th>\n",
              "      <th>Var205_sJzTlal</th>\n",
              "      <th>Var223_LM8l689qOp</th>\n",
              "      <th>Var205_09_Q</th>\n",
              "      <th>Var132</th>\n",
              "      <th>Var206_IYzP</th>\n",
              "      <th>Var218_cJvF</th>\n",
              "      <th>Var219_FzaX</th>\n",
              "      <th>...</th>\n",
              "      <th>Var197_plfw</th>\n",
              "      <th>Var192_LDPvyxdtN_</th>\n",
              "      <th>Var192_JMGq9at_88</th>\n",
              "      <th>Var192_H7er4Rdc_a</th>\n",
              "      <th>Var212_MeOIHRG3F9</th>\n",
              "      <th>Var197_z8at</th>\n",
              "      <th>Var192_AKDr4RXktW</th>\n",
              "      <th>Var197_pw40</th>\n",
              "      <th>Var197_Rn7z</th>\n",
              "      <th>Var207_5iay</th>\n",
              "      <th>Var212_fnfcPDe</th>\n",
              "      <th>Var197_W5sH</th>\n",
              "      <th>Var197_nCqp</th>\n",
              "      <th>Var207_0MCPoln</th>\n",
              "      <th>Var212_QsQAxv5</th>\n",
              "      <th>Var219_FqMWi1g</th>\n",
              "      <th>Var192_l0JOj17ejg</th>\n",
              "      <th>Var192_xOXTmBkF1Q</th>\n",
              "      <th>Var192_dPsBcmRZ57</th>\n",
              "      <th>Var195_ev6I</th>\n",
              "      <th>Var228_VjDE</th>\n",
              "      <th>Var193_NRCqczK</th>\n",
              "      <th>Var192_NFqq9at_88</th>\n",
              "      <th>Var197_gEzH</th>\n",
              "      <th>Var195_TnJpfvsJgF</th>\n",
              "      <th>Var192_86ct0Gdncc</th>\n",
              "      <th>Var193_LrdVolaSGUfkVeWC</th>\n",
              "      <th>Var212_4ylQpLr46xum2hHQ</th>\n",
              "      <th>Var197_ZF5Q</th>\n",
              "      <th>Var212_6z7lZp6XhQkon</th>\n",
              "      <th>Var207_6C53VA1kCv</th>\n",
              "      <th>Var192_hOVrjIQ6UK</th>\n",
              "      <th>Var197_EbEb</th>\n",
              "      <th>Var192_X9zgUHShse</th>\n",
              "      <th>Var219_tdJW_Pm</th>\n",
              "      <th>Var228_DU8B</th>\n",
              "      <th>Var197_5B99</th>\n",
              "      <th>Var197_2D6V</th>\n",
              "      <th>Var192_9u0r4Rdncc</th>\n",
              "      <th>Var192_bZkPe2fHUn</th>\n",
              "    </tr>\n",
              "  </thead>\n",
              "  <tbody>\n",
              "    <tr>\n",
              "      <th>0</th>\n",
              "      <td>4.076907</td>\n",
              "      <td>36.0</td>\n",
              "      <td>117625.60</td>\n",
              "      <td>1812252.0</td>\n",
              "      <td>7333.110000</td>\n",
              "      <td>1212385.0</td>\n",
              "      <td>3570.0</td>\n",
              "      <td>1350864.0</td>\n",
              "      <td>69134.0</td>\n",
              "      <td>166.56</td>\n",
              "      <td>1526.000000</td>\n",
              "      <td>6.0</td>\n",
              "      <td>1175.000000</td>\n",
              "      <td>142.0</td>\n",
              "      <td>128.0</td>\n",
              "      <td>397579.000000</td>\n",
              "      <td>580.0</td>\n",
              "      <td>168.0</td>\n",
              "      <td>464.000000</td>\n",
              "      <td>38418.0</td>\n",
              "      <td>5.0</td>\n",
              "      <td>12.0</td>\n",
              "      <td>104.00000</td>\n",
              "      <td>720.0</td>\n",
              "      <td>14.000000</td>\n",
              "      <td>184.0</td>\n",
              "      <td>9.000000</td>\n",
              "      <td>185.0</td>\n",
              "      <td>7.0</td>\n",
              "      <td>9.0</td>\n",
              "      <td>35.0</td>\n",
              "      <td>1</td>\n",
              "      <td>0</td>\n",
              "      <td>0</td>\n",
              "      <td>0</td>\n",
              "      <td>0</td>\n",
              "      <td>0.0</td>\n",
              "      <td>0</td>\n",
              "      <td>1</td>\n",
              "      <td>1</td>\n",
              "      <td>...</td>\n",
              "      <td>0</td>\n",
              "      <td>0</td>\n",
              "      <td>0</td>\n",
              "      <td>0</td>\n",
              "      <td>0</td>\n",
              "      <td>0</td>\n",
              "      <td>0</td>\n",
              "      <td>0</td>\n",
              "      <td>0</td>\n",
              "      <td>0</td>\n",
              "      <td>0</td>\n",
              "      <td>0</td>\n",
              "      <td>0</td>\n",
              "      <td>0</td>\n",
              "      <td>0</td>\n",
              "      <td>0</td>\n",
              "      <td>0</td>\n",
              "      <td>0</td>\n",
              "      <td>0</td>\n",
              "      <td>0</td>\n",
              "      <td>0</td>\n",
              "      <td>0</td>\n",
              "      <td>0</td>\n",
              "      <td>0</td>\n",
              "      <td>0</td>\n",
              "      <td>0</td>\n",
              "      <td>0</td>\n",
              "      <td>0</td>\n",
              "      <td>0</td>\n",
              "      <td>0</td>\n",
              "      <td>0</td>\n",
              "      <td>0</td>\n",
              "      <td>0</td>\n",
              "      <td>0</td>\n",
              "      <td>0</td>\n",
              "      <td>0</td>\n",
              "      <td>0</td>\n",
              "      <td>0</td>\n",
              "      <td>0</td>\n",
              "      <td>0</td>\n",
              "    </tr>\n",
              "    <tr>\n",
              "      <th>1</th>\n",
              "      <td>5.408032</td>\n",
              "      <td>26.0</td>\n",
              "      <td>-356411.60</td>\n",
              "      <td>10439160.0</td>\n",
              "      <td>151098.900000</td>\n",
              "      <td>4136430.0</td>\n",
              "      <td>4764966.0</td>\n",
              "      <td>2872928.0</td>\n",
              "      <td>357038.0</td>\n",
              "      <td>353.52</td>\n",
              "      <td>525.000000</td>\n",
              "      <td>72.0</td>\n",
              "      <td>590.000000</td>\n",
              "      <td>32.0</td>\n",
              "      <td>24.0</td>\n",
              "      <td>278334.000000</td>\n",
              "      <td>210.0</td>\n",
              "      <td>40.0</td>\n",
              "      <td>168.000000</td>\n",
              "      <td>238572.0</td>\n",
              "      <td>25.0</td>\n",
              "      <td>2.0</td>\n",
              "      <td>40.00000</td>\n",
              "      <td>0.0</td>\n",
              "      <td>2.000000</td>\n",
              "      <td>0.0</td>\n",
              "      <td>9.000000</td>\n",
              "      <td>0.0</td>\n",
              "      <td>0.0</td>\n",
              "      <td>9.0</td>\n",
              "      <td>0.0</td>\n",
              "      <td>0</td>\n",
              "      <td>1</td>\n",
              "      <td>1</td>\n",
              "      <td>1</td>\n",
              "      <td>0</td>\n",
              "      <td>8.0</td>\n",
              "      <td>0</td>\n",
              "      <td>0</td>\n",
              "      <td>1</td>\n",
              "      <td>...</td>\n",
              "      <td>0</td>\n",
              "      <td>0</td>\n",
              "      <td>0</td>\n",
              "      <td>0</td>\n",
              "      <td>0</td>\n",
              "      <td>0</td>\n",
              "      <td>0</td>\n",
              "      <td>0</td>\n",
              "      <td>0</td>\n",
              "      <td>0</td>\n",
              "      <td>0</td>\n",
              "      <td>0</td>\n",
              "      <td>0</td>\n",
              "      <td>0</td>\n",
              "      <td>0</td>\n",
              "      <td>0</td>\n",
              "      <td>0</td>\n",
              "      <td>0</td>\n",
              "      <td>0</td>\n",
              "      <td>0</td>\n",
              "      <td>0</td>\n",
              "      <td>0</td>\n",
              "      <td>0</td>\n",
              "      <td>0</td>\n",
              "      <td>0</td>\n",
              "      <td>0</td>\n",
              "      <td>0</td>\n",
              "      <td>0</td>\n",
              "      <td>0</td>\n",
              "      <td>0</td>\n",
              "      <td>0</td>\n",
              "      <td>0</td>\n",
              "      <td>0</td>\n",
              "      <td>0</td>\n",
              "      <td>0</td>\n",
              "      <td>0</td>\n",
              "      <td>0</td>\n",
              "      <td>0</td>\n",
              "      <td>0</td>\n",
              "      <td>0</td>\n",
              "    </tr>\n",
              "    <tr>\n",
              "      <th>2</th>\n",
              "      <td>6.599658</td>\n",
              "      <td>130.0</td>\n",
              "      <td>405104.00</td>\n",
              "      <td>9826360.0</td>\n",
              "      <td>16211.580000</td>\n",
              "      <td>3478905.0</td>\n",
              "      <td>5883894.0</td>\n",
              "      <td>1675776.0</td>\n",
              "      <td>248932.0</td>\n",
              "      <td>220.08</td>\n",
              "      <td>5236.000000</td>\n",
              "      <td>114.0</td>\n",
              "      <td>3230.000000</td>\n",
              "      <td>206.0</td>\n",
              "      <td>816.0</td>\n",
              "      <td>320565.000000</td>\n",
              "      <td>1515.0</td>\n",
              "      <td>336.0</td>\n",
              "      <td>1212.000000</td>\n",
              "      <td>434946.0</td>\n",
              "      <td>40.0</td>\n",
              "      <td>58.0</td>\n",
              "      <td>312.00000</td>\n",
              "      <td>5967.0</td>\n",
              "      <td>26.000000</td>\n",
              "      <td>904.0</td>\n",
              "      <td>36.000000</td>\n",
              "      <td>800.0</td>\n",
              "      <td>7.0</td>\n",
              "      <td>9.0</td>\n",
              "      <td>518.0</td>\n",
              "      <td>1</td>\n",
              "      <td>0</td>\n",
              "      <td>0</td>\n",
              "      <td>0</td>\n",
              "      <td>0</td>\n",
              "      <td>0.0</td>\n",
              "      <td>0</td>\n",
              "      <td>0</td>\n",
              "      <td>1</td>\n",
              "      <td>...</td>\n",
              "      <td>0</td>\n",
              "      <td>0</td>\n",
              "      <td>0</td>\n",
              "      <td>0</td>\n",
              "      <td>0</td>\n",
              "      <td>0</td>\n",
              "      <td>0</td>\n",
              "      <td>0</td>\n",
              "      <td>0</td>\n",
              "      <td>0</td>\n",
              "      <td>0</td>\n",
              "      <td>0</td>\n",
              "      <td>0</td>\n",
              "      <td>0</td>\n",
              "      <td>0</td>\n",
              "      <td>0</td>\n",
              "      <td>0</td>\n",
              "      <td>0</td>\n",
              "      <td>0</td>\n",
              "      <td>0</td>\n",
              "      <td>0</td>\n",
              "      <td>0</td>\n",
              "      <td>0</td>\n",
              "      <td>0</td>\n",
              "      <td>0</td>\n",
              "      <td>0</td>\n",
              "      <td>0</td>\n",
              "      <td>0</td>\n",
              "      <td>0</td>\n",
              "      <td>0</td>\n",
              "      <td>0</td>\n",
              "      <td>0</td>\n",
              "      <td>0</td>\n",
              "      <td>0</td>\n",
              "      <td>0</td>\n",
              "      <td>0</td>\n",
              "      <td>0</td>\n",
              "      <td>0</td>\n",
              "      <td>0</td>\n",
              "      <td>0</td>\n",
              "    </tr>\n",
              "    <tr>\n",
              "      <th>3</th>\n",
              "      <td>1.988250</td>\n",
              "      <td>12.0</td>\n",
              "      <td>-275703.60</td>\n",
              "      <td>0.0</td>\n",
              "      <td>103084.052693</td>\n",
              "      <td>0.0</td>\n",
              "      <td>0.0</td>\n",
              "      <td>0.0</td>\n",
              "      <td>0.0</td>\n",
              "      <td>22.08</td>\n",
              "      <td>1326.437116</td>\n",
              "      <td>0.0</td>\n",
              "      <td>916.112185</td>\n",
              "      <td>0.0</td>\n",
              "      <td>0.0</td>\n",
              "      <td>294920.804255</td>\n",
              "      <td>0.0</td>\n",
              "      <td>0.0</td>\n",
              "      <td>234.518225</td>\n",
              "      <td>0.0</td>\n",
              "      <td>0.0</td>\n",
              "      <td>0.0</td>\n",
              "      <td>60.88866</td>\n",
              "      <td>0.0</td>\n",
              "      <td>4.507926</td>\n",
              "      <td>0.0</td>\n",
              "      <td>11.727665</td>\n",
              "      <td>0.0</td>\n",
              "      <td>0.0</td>\n",
              "      <td>9.0</td>\n",
              "      <td>0.0</td>\n",
              "      <td>1</td>\n",
              "      <td>0</td>\n",
              "      <td>0</td>\n",
              "      <td>1</td>\n",
              "      <td>0</td>\n",
              "      <td>0.0</td>\n",
              "      <td>0</td>\n",
              "      <td>0</td>\n",
              "      <td>1</td>\n",
              "      <td>...</td>\n",
              "      <td>0</td>\n",
              "      <td>0</td>\n",
              "      <td>0</td>\n",
              "      <td>0</td>\n",
              "      <td>0</td>\n",
              "      <td>0</td>\n",
              "      <td>0</td>\n",
              "      <td>0</td>\n",
              "      <td>0</td>\n",
              "      <td>0</td>\n",
              "      <td>0</td>\n",
              "      <td>0</td>\n",
              "      <td>0</td>\n",
              "      <td>0</td>\n",
              "      <td>0</td>\n",
              "      <td>0</td>\n",
              "      <td>0</td>\n",
              "      <td>0</td>\n",
              "      <td>0</td>\n",
              "      <td>0</td>\n",
              "      <td>0</td>\n",
              "      <td>0</td>\n",
              "      <td>0</td>\n",
              "      <td>0</td>\n",
              "      <td>0</td>\n",
              "      <td>0</td>\n",
              "      <td>0</td>\n",
              "      <td>0</td>\n",
              "      <td>0</td>\n",
              "      <td>0</td>\n",
              "      <td>0</td>\n",
              "      <td>0</td>\n",
              "      <td>0</td>\n",
              "      <td>0</td>\n",
              "      <td>0</td>\n",
              "      <td>0</td>\n",
              "      <td>0</td>\n",
              "      <td>0</td>\n",
              "      <td>0</td>\n",
              "      <td>0</td>\n",
              "    </tr>\n",
              "    <tr>\n",
              "      <th>4</th>\n",
              "      <td>4.552446</td>\n",
              "      <td>82.0</td>\n",
              "      <td>10714.84</td>\n",
              "      <td>644836.0</td>\n",
              "      <td>37423.500000</td>\n",
              "      <td>150650.0</td>\n",
              "      <td>0.0</td>\n",
              "      <td>784448.0</td>\n",
              "      <td>66046.0</td>\n",
              "      <td>200.00</td>\n",
              "      <td>1029.000000</td>\n",
              "      <td>0.0</td>\n",
              "      <td>215.000000</td>\n",
              "      <td>2.0</td>\n",
              "      <td>64.0</td>\n",
              "      <td>267162.000000</td>\n",
              "      <td>80.0</td>\n",
              "      <td>56.0</td>\n",
              "      <td>64.000000</td>\n",
              "      <td>0.0</td>\n",
              "      <td>0.0</td>\n",
              "      <td>0.0</td>\n",
              "      <td>32.00000</td>\n",
              "      <td>15111.0</td>\n",
              "      <td>4.000000</td>\n",
              "      <td>3216.0</td>\n",
              "      <td>9.000000</td>\n",
              "      <td>3255.0</td>\n",
              "      <td>7.0</td>\n",
              "      <td>18.0</td>\n",
              "      <td>224.0</td>\n",
              "      <td>0</td>\n",
              "      <td>0</td>\n",
              "      <td>1</td>\n",
              "      <td>1</td>\n",
              "      <td>0</td>\n",
              "      <td>0.0</td>\n",
              "      <td>0</td>\n",
              "      <td>0</td>\n",
              "      <td>1</td>\n",
              "      <td>...</td>\n",
              "      <td>0</td>\n",
              "      <td>0</td>\n",
              "      <td>0</td>\n",
              "      <td>0</td>\n",
              "      <td>0</td>\n",
              "      <td>0</td>\n",
              "      <td>0</td>\n",
              "      <td>0</td>\n",
              "      <td>0</td>\n",
              "      <td>0</td>\n",
              "      <td>0</td>\n",
              "      <td>0</td>\n",
              "      <td>0</td>\n",
              "      <td>0</td>\n",
              "      <td>0</td>\n",
              "      <td>0</td>\n",
              "      <td>0</td>\n",
              "      <td>0</td>\n",
              "      <td>0</td>\n",
              "      <td>0</td>\n",
              "      <td>0</td>\n",
              "      <td>0</td>\n",
              "      <td>0</td>\n",
              "      <td>0</td>\n",
              "      <td>0</td>\n",
              "      <td>0</td>\n",
              "      <td>0</td>\n",
              "      <td>0</td>\n",
              "      <td>0</td>\n",
              "      <td>0</td>\n",
              "      <td>0</td>\n",
              "      <td>0</td>\n",
              "      <td>0</td>\n",
              "      <td>0</td>\n",
              "      <td>0</td>\n",
              "      <td>0</td>\n",
              "      <td>0</td>\n",
              "      <td>0</td>\n",
              "      <td>0</td>\n",
              "      <td>0</td>\n",
              "    </tr>\n",
              "  </tbody>\n",
              "</table>\n",
              "<p>5 rows × 685 columns</p>\n",
              "</div>"
            ],
            "text/plain": [
              "      Var57  Var73  ...  Var192_9u0r4Rdncc  Var192_bZkPe2fHUn\n",
              "0  4.076907   36.0  ...                  0                  0\n",
              "1  5.408032   26.0  ...                  0                  0\n",
              "2  6.599658  130.0  ...                  0                  0\n",
              "3  1.988250   12.0  ...                  0                  0\n",
              "4  4.552446   82.0  ...                  0                  0\n",
              "\n",
              "[5 rows x 685 columns]"
            ]
          },
          "metadata": {
            "tags": []
          },
          "execution_count": 211
        }
      ]
    },
    {
      "cell_type": "markdown",
      "metadata": {
        "id": "2LcrawJtfDXP",
        "colab_type": "text"
      },
      "source": [
        "### Dividindo os dados dataset para treino e dataset para teste"
      ]
    },
    {
      "cell_type": "code",
      "metadata": {
        "id": "Ng6FGgFiot0N",
        "colab_type": "code",
        "colab": {}
      },
      "source": [
        "def split_dataseet(recursos,resultado,test_size=0.2):\n",
        "  x_train, x_test, y_train, y_test = train_test_split(recursos,resultado,test_size =test_size,\n",
        "                                                      stratify = resultado, random_state = 0)\n",
        "  y_train, y_test = np.array(y_train).ravel(), np.array(y_test).ravel()\n",
        "\n",
        "  return  x_train, x_test, y_train, y_test "
      ],
      "execution_count": 0,
      "outputs": []
    },
    {
      "cell_type": "code",
      "metadata": {
        "id": "RdzzJkIypghG",
        "colab_type": "code",
        "colab": {}
      },
      "source": [
        "x_train, x_test, y_train, y_test = split_dataseet(recursos_c , resultado)"
      ],
      "execution_count": 0,
      "outputs": []
    },
    {
      "cell_type": "code",
      "metadata": {
        "id": "dsAiw0tdps1N",
        "colab_type": "code",
        "outputId": "f5d8b76e-bfef-4e7c-8afd-d5ad4955d7ad",
        "colab": {
          "base_uri": "https://localhost:8080/",
          "height": 34
        }
      },
      "source": [
        "x_train.shape"
      ],
      "execution_count": 214,
      "outputs": [
        {
          "output_type": "execute_result",
          "data": {
            "text/plain": [
              "(40000, 685)"
            ]
          },
          "metadata": {
            "tags": []
          },
          "execution_count": 214
        }
      ]
    },
    {
      "cell_type": "code",
      "metadata": {
        "id": "OzQSke3vpvTV",
        "colab_type": "code",
        "outputId": "5e18f438-1556-400b-bad4-fc95a8f9067a",
        "colab": {
          "base_uri": "https://localhost:8080/",
          "height": 34
        }
      },
      "source": [
        "x_test.shape"
      ],
      "execution_count": 215,
      "outputs": [
        {
          "output_type": "execute_result",
          "data": {
            "text/plain": [
              "(10000, 685)"
            ]
          },
          "metadata": {
            "tags": []
          },
          "execution_count": 215
        }
      ]
    },
    {
      "cell_type": "markdown",
      "metadata": {
        "id": "Fe_rcplkqei_",
        "colab_type": "text"
      },
      "source": [
        "### Modelagem preliminar"
      ]
    },
    {
      "cell_type": "markdown",
      "metadata": {
        "id": "_pY-AanZDKA0",
        "colab_type": "text"
      },
      "source": [
        "AUC e ROC: https://medium.com/bio-data-blog/entenda-o-que-%C3%A9-auc-e-roc-nos-modelos-de-machine-learning-8191fb4df772"
      ]
    },
    {
      "cell_type": "markdown",
      "metadata": {
        "id": "dYbTZBEPaG1A",
        "colab_type": "text"
      },
      "source": [
        "#### Random Forest Classifier"
      ]
    },
    {
      "cell_type": "code",
      "metadata": {
        "id": "Nc9Y9RoJqch9",
        "colab_type": "code",
        "colab": {}
      },
      "source": [
        "def rfc_test(x_train, y_train, n_estimators = 100, cv = 5):\n",
        "  np.random.seed(0)\n",
        "  rfc = RandomForestClassifier(n_estimators = n_estimators, random_state = 0, n_jobs = -1)\n",
        "  cv_scores = cross_val_score(rfc, x_train, y_train, scoring = 'roc_auc', cv = cv, n_jobs = -1)\n",
        "  print('Média dos cinco testes: ', cv_scores.mean())"
      ],
      "execution_count": 0,
      "outputs": []
    },
    {
      "cell_type": "code",
      "metadata": {
        "id": "pct6a0gJseKf",
        "colab_type": "code",
        "outputId": "25ccea92-185f-4bec-924b-ee8f9b718b65",
        "colab": {
          "base_uri": "https://localhost:8080/",
          "height": 34
        }
      },
      "source": [
        "rfc_test(x_train, y_train)"
      ],
      "execution_count": 217,
      "outputs": [
        {
          "output_type": "stream",
          "text": [
            "Média dos cinco testes:  0.632429432316248\n"
          ],
          "name": "stdout"
        }
      ]
    },
    {
      "cell_type": "markdown",
      "metadata": {
        "id": "kQ_BDoUHaG1D",
        "colab_type": "text"
      },
      "source": [
        "#### Gradient Boosting Classifer\n",
        "\n",
        "Métodos com árvores de decisão: https://iaexpert.com.br/index.php/2019/04/18/xgboost-a-evolucao-das-arvores-de-decisao/\n",
        "\n",
        "Gradient Boosting: https://scikit-learn.org/stable/modules/generated/sklearn.ensemble.GradientBoostingClassifier.html"
      ]
    },
    {
      "cell_type": "code",
      "metadata": {
        "id": "wbN0Gq8wGhS0",
        "colab_type": "code",
        "colab": {}
      },
      "source": [
        "def gbc_test(x_train, y_train, n_estimators = 100, learning_rate = 0.1, cv = 5):\n",
        "  np.random.seed(0)\n",
        "  gbc = GradientBoostingClassifier(n_estimators = n_estimators, learning_rate = learning_rate,\n",
        "                                  random_state = 0)\n",
        "  cv_scores = cross_val_score(gbc, x_train, y_train, scoring = 'roc_auc', cv = cv, n_jobs = -1)\n",
        "  print('Média dos cinco testes: ', cv_scores.mean())"
      ],
      "execution_count": 0,
      "outputs": []
    },
    {
      "cell_type": "code",
      "metadata": {
        "id": "JelUDgyu1bRa",
        "colab_type": "code",
        "outputId": "1fbad3b8-d455-41f5-fc59-6f65d380539d",
        "colab": {
          "base_uri": "https://localhost:8080/",
          "height": 34
        }
      },
      "source": [
        "gbc_test(x_train, y_train)"
      ],
      "execution_count": 219,
      "outputs": [
        {
          "output_type": "stream",
          "text": [
            "Média dos cinco testes:  0.670251395436453\n"
          ],
          "name": "stdout"
        }
      ]
    },
    {
      "cell_type": "markdown",
      "metadata": {
        "id": "1L51GttIaG1I",
        "colab_type": "text"
      },
      "source": [
        "## Otimizando o modelo GBC"
      ]
    },
    {
      "cell_type": "markdown",
      "metadata": {
        "id": "gdcYs_v6sge7",
        "colab_type": "text"
      },
      "source": [
        "### Otimizando n_estimetos para lerning_rate"
      ]
    },
    {
      "cell_type": "code",
      "metadata": {
        "id": "3Eoucejlsmdm",
        "colab_type": "code",
        "colab": {}
      },
      "source": [
        "def otimizando(n_estimators, learning_rate, min_samples_split, min_samples_leaf,\n",
        "             max_depth, max_features, subsample, params, cv = 5):\n",
        "  np.random.seed(0)\n",
        "  gbc = GradientBoostingClassifier(n_estimators = n_estimators,\n",
        "                                  learning_rate = learning_rate,\n",
        "                                  min_samples_split = min_samples_split,\n",
        "                                  min_samples_leaf = min_samples_leaf,\n",
        "                                  max_depth = max_depth,\n",
        "                                  max_features = max_features,\n",
        "                                  subsample = subsample,\n",
        "                                  random_state = 0)\n",
        "  grid_search = GridSearchCV(estimator = gbc, param_grid = params, scoring = 'roc_auc',\n",
        "                             n_jobs = -1,  cv = cv)\n",
        "  # iid = False,\n",
        "  grid_search.fit(x_train, y_train)\n",
        "  results = grid_search.cv_results_\n",
        "  best_params = grid_search.best_params_\n",
        "  best_score = grid_search.best_score_\n",
        "  print(best_params, best_score)\n",
        "  \n",
        "  return gbc, best_params, best_score"
      ],
      "execution_count": 0,
      "outputs": []
    },
    {
      "cell_type": "code",
      "metadata": {
        "id": "L06WhHxKtXpU",
        "colab_type": "code",
        "colab": {}
      },
      "source": [
        "# variaveis para coletar resultado\n",
        "\n",
        "modelos = np.array([])\n",
        "opt_parametros = dict()\n",
        "scores = np.array([])"
      ],
      "execution_count": 0,
      "outputs": []
    },
    {
      "cell_type": "code",
      "metadata": {
        "id": "k_f1YDXaAsEg",
        "colab_type": "code",
        "colab": {}
      },
      "source": [
        "# Modelo 0\n",
        "n_estimators = None\n",
        "learning_rate = 0.1\n",
        "max_depth = 8\n",
        "min_samples_split = 250\n",
        "min_samples_leaf = 20 \n",
        "max_features = 'sqrt'\n",
        "subsample = 0.8\n",
        "params = {'n_estimators': range(50,151,10)}"
      ],
      "execution_count": 0,
      "outputs": []
    },
    {
      "cell_type": "code",
      "metadata": {
        "id": "2AXEEeebBXdF",
        "colab_type": "code",
        "colab": {
          "base_uri": "https://localhost:8080/",
          "height": 34
        },
        "outputId": "9722bf2f-33ed-48ce-f0fc-044db2e87993"
      },
      "source": [
        "gbc, opt_param, score = otimizando(n_estimators = n_estimators,\n",
        "                                 learning_rate = learning_rate,\n",
        "                                 min_samples_split = min_samples_split,\n",
        "                                 min_samples_leaf = min_samples_leaf,\n",
        "                                 max_depth = max_depth,\n",
        "                                 max_features = max_features,\n",
        "                                 subsample = subsample,\n",
        "                                 params = params)"
      ],
      "execution_count": 223,
      "outputs": [
        {
          "output_type": "stream",
          "text": [
            "{'n_estimators': 50} 0.6666479409752382\n"
          ],
          "name": "stdout"
        }
      ]
    },
    {
      "cell_type": "code",
      "metadata": {
        "id": "dLPi10-AE_Cx",
        "colab_type": "code",
        "colab": {}
      },
      "source": [
        "# atualizando as variaveis com os resultados\n",
        "modelos = np.append(modelos, gbc)\n",
        "opt_parametros={**opt_parametros,**opt_param}\n",
        "scores = np.append(scores,score)"
      ],
      "execution_count": 0,
      "outputs": []
    },
    {
      "cell_type": "code",
      "metadata": {
        "id": "OZvoBKJTFYPm",
        "colab_type": "code",
        "colab": {
          "base_uri": "https://localhost:8080/",
          "height": 187
        },
        "outputId": "5f2ed364-df0c-4e8d-dd29-cdef50893259"
      },
      "source": [
        "modelos"
      ],
      "execution_count": 225,
      "outputs": [
        {
          "output_type": "execute_result",
          "data": {
            "text/plain": [
              "array([GradientBoostingClassifier(ccp_alpha=0.0, criterion='friedman_mse', init=None,\n",
              "                           learning_rate=0.1, loss='deviance', max_depth=8,\n",
              "                           max_features='sqrt', max_leaf_nodes=None,\n",
              "                           min_impurity_decrease=0.0, min_impurity_split=None,\n",
              "                           min_samples_leaf=20, min_samples_split=250,\n",
              "                           min_weight_fraction_leaf=0.0, n_estimators=None,\n",
              "                           n_iter_no_change=None, presort='deprecated',\n",
              "                           random_state=0, subsample=0.8, tol=0.0001,\n",
              "                           validation_fraction=0.1, verbose=0,\n",
              "                           warm_start=False)], dtype=object)"
            ]
          },
          "metadata": {
            "tags": []
          },
          "execution_count": 225
        }
      ]
    },
    {
      "cell_type": "code",
      "metadata": {
        "id": "a8p98-ctFcS2",
        "colab_type": "code",
        "colab": {
          "base_uri": "https://localhost:8080/",
          "height": 34
        },
        "outputId": "f308a86b-9f51-4881-b71e-9fb2126e1c1d"
      },
      "source": [
        "opt_parametros"
      ],
      "execution_count": 226,
      "outputs": [
        {
          "output_type": "execute_result",
          "data": {
            "text/plain": [
              "{'n_estimators': 50}"
            ]
          },
          "metadata": {
            "tags": []
          },
          "execution_count": 226
        }
      ]
    },
    {
      "cell_type": "code",
      "metadata": {
        "id": "SFf7OT_3FfE2",
        "colab_type": "code",
        "colab": {
          "base_uri": "https://localhost:8080/",
          "height": 34
        },
        "outputId": "a23b9222-3509-48ab-b49d-30fb3761ca11"
      },
      "source": [
        "scores"
      ],
      "execution_count": 227,
      "outputs": [
        {
          "output_type": "execute_result",
          "data": {
            "text/plain": [
              "array([0.66664794])"
            ]
          },
          "metadata": {
            "tags": []
          },
          "execution_count": 227
        }
      ]
    },
    {
      "cell_type": "markdown",
      "metadata": {
        "id": "HWaUbujKFp_S",
        "colab_type": "text"
      },
      "source": [
        "### Otimizando max_depth e mim_samples_spli"
      ]
    },
    {
      "cell_type": "code",
      "metadata": {
        "id": "vDLvSDRPFvP2",
        "colab_type": "code",
        "colab": {}
      },
      "source": [
        "# modelo 1\n",
        "n_estimators = opt_parametros['n_estimators']\n",
        "max_depth = None\n",
        "min_samples_split = None\n",
        "min_samples_leaf = 20\n",
        "max_features = 'sqrt'\n",
        "subsample = 0.8\n",
        "params = {'max_depth': range(3, 12, 2), 'min_samples_split': range(150, 401, 50)}\n"
      ],
      "execution_count": 0,
      "outputs": []
    },
    {
      "cell_type": "code",
      "metadata": {
        "id": "52LYoeiWHdTk",
        "colab_type": "code",
        "colab": {
          "base_uri": "https://localhost:8080/",
          "height": 34
        },
        "outputId": "305e7417-3c5d-4f28-b553-f35ca0ee5adc"
      },
      "source": [
        "gbc, opt_param, score = otimizando(n_estimators = n_estimators,\n",
        "                                 learning_rate = learning_rate,\n",
        "                                 min_samples_split = min_samples_split,\n",
        "                                 min_samples_leaf = min_samples_leaf,\n",
        "                                 max_depth = max_depth,\n",
        "                                 max_features = max_features,\n",
        "                                 subsample = subsample,\n",
        "                                 params = params)"
      ],
      "execution_count": 229,
      "outputs": [
        {
          "output_type": "stream",
          "text": [
            "{'max_depth': 7, 'min_samples_split': 200} 0.6711763294061918\n"
          ],
          "name": "stdout"
        }
      ]
    },
    {
      "cell_type": "code",
      "metadata": {
        "id": "eoBtoJfPNsvw",
        "colab_type": "code",
        "colab": {}
      },
      "source": [
        "# atualizando as variaveis com os resultados\n",
        "modelos = np.append(modelos, gbc)\n",
        "opt_parametros={**opt_parametros,**opt_param}\n",
        "scores = np.append(scores,score)"
      ],
      "execution_count": 0,
      "outputs": []
    },
    {
      "cell_type": "code",
      "metadata": {
        "id": "JmbnIbQNNv-P",
        "colab_type": "code",
        "colab": {
          "base_uri": "https://localhost:8080/",
          "height": 357
        },
        "outputId": "6b13c12d-2138-49c7-ba80-36108f33521c"
      },
      "source": [
        "modelos"
      ],
      "execution_count": 231,
      "outputs": [
        {
          "output_type": "execute_result",
          "data": {
            "text/plain": [
              "array([GradientBoostingClassifier(ccp_alpha=0.0, criterion='friedman_mse', init=None,\n",
              "                           learning_rate=0.1, loss='deviance', max_depth=8,\n",
              "                           max_features='sqrt', max_leaf_nodes=None,\n",
              "                           min_impurity_decrease=0.0, min_impurity_split=None,\n",
              "                           min_samples_leaf=20, min_samples_split=250,\n",
              "                           min_weight_fraction_leaf=0.0, n_estimators=None,\n",
              "                           n_iter_no_change=None, presort='deprecated',\n",
              "                           random_state=0, subsample=0.8, tol=0.0001,\n",
              "                           validation_fraction=0.1, verbose=0,\n",
              "                           warm_start=False),\n",
              "       GradientBoostingClassifier(ccp_alpha=0.0, criterion='friedman_mse', init=None,\n",
              "                           learning_rate=0.1, loss='deviance', max_depth=None,\n",
              "                           max_features='sqrt', max_leaf_nodes=None,\n",
              "                           min_impurity_decrease=0.0, min_impurity_split=None,\n",
              "                           min_samples_leaf=20, min_samples_split=None,\n",
              "                           min_weight_fraction_leaf=0.0, n_estimators=50,\n",
              "                           n_iter_no_change=None, presort='deprecated',\n",
              "                           random_state=0, subsample=0.8, tol=0.0001,\n",
              "                           validation_fraction=0.1, verbose=0,\n",
              "                           warm_start=False)], dtype=object)"
            ]
          },
          "metadata": {
            "tags": []
          },
          "execution_count": 231
        }
      ]
    },
    {
      "cell_type": "code",
      "metadata": {
        "id": "kQdjX165Nyvf",
        "colab_type": "code",
        "colab": {
          "base_uri": "https://localhost:8080/",
          "height": 34
        },
        "outputId": "b2bec086-16a3-4058-96fb-08e75d9cfc23"
      },
      "source": [
        "opt_parametros"
      ],
      "execution_count": 232,
      "outputs": [
        {
          "output_type": "execute_result",
          "data": {
            "text/plain": [
              "{'max_depth': 7, 'min_samples_split': 200, 'n_estimators': 50}"
            ]
          },
          "metadata": {
            "tags": []
          },
          "execution_count": 232
        }
      ]
    },
    {
      "cell_type": "code",
      "metadata": {
        "id": "nhRaJogoN1PE",
        "colab_type": "code",
        "colab": {
          "base_uri": "https://localhost:8080/",
          "height": 34
        },
        "outputId": "1ab5b960-79bd-4eaf-a8bb-7b27c829b5e4"
      },
      "source": [
        "scores"
      ],
      "execution_count": 233,
      "outputs": [
        {
          "output_type": "execute_result",
          "data": {
            "text/plain": [
              "array([0.66664794, 0.67117633])"
            ]
          },
          "metadata": {
            "tags": []
          },
          "execution_count": 233
        }
      ]
    },
    {
      "cell_type": "markdown",
      "metadata": {
        "id": "gH-_o0uDN-Dx",
        "colab_type": "text"
      },
      "source": [
        "### Otimizando mim_samples_leaf\n",
        "\n",
        "\n"
      ]
    },
    {
      "cell_type": "code",
      "metadata": {
        "id": "JGzn_xJXOBYP",
        "colab_type": "code",
        "colab": {}
      },
      "source": [
        "# modelo 2\n",
        "n_estimators = opt_parametros['n_estimators']\n",
        "max_depth = opt_parametros['max_depth']\n",
        "min_samples_split = opt_parametros['min_samples_split']\n",
        "min_samples_leaf = None\n",
        "max_features = 'sqrt'\n",
        "subsample = 0.8\n",
        "params = {'min_samples_leaf': range(25, 61, 15)}"
      ],
      "execution_count": 0,
      "outputs": []
    },
    {
      "cell_type": "code",
      "metadata": {
        "id": "alAYzQxCOe8k",
        "colab_type": "code",
        "colab": {
          "base_uri": "https://localhost:8080/",
          "height": 34
        },
        "outputId": "5c28987f-c608-4557-91bd-5f35485ab542"
      },
      "source": [
        "gbc, opt_param, score = otimizando(n_estimators = n_estimators,\n",
        "                                 learning_rate = learning_rate,\n",
        "                                 min_samples_split = min_samples_split,\n",
        "                                 min_samples_leaf = min_samples_leaf,\n",
        "                                 max_depth = max_depth,\n",
        "                                 max_features = max_features,\n",
        "                                 subsample = subsample,\n",
        "                                 params = params)"
      ],
      "execution_count": 235,
      "outputs": [
        {
          "output_type": "stream",
          "text": [
            "{'min_samples_leaf': 55} 0.6695168733425392\n"
          ],
          "name": "stdout"
        }
      ]
    },
    {
      "cell_type": "code",
      "metadata": {
        "id": "QbG9UP-pPHIX",
        "colab_type": "code",
        "colab": {}
      },
      "source": [
        "# atualizando as variaveis com os resultados\n",
        "modelos = np.append(modelos, gbc)\n",
        "opt_parametros={**opt_parametros,**opt_param}\n",
        "scores = np.append(scores,score)"
      ],
      "execution_count": 0,
      "outputs": []
    },
    {
      "cell_type": "code",
      "metadata": {
        "id": "iks_YbO1PKJx",
        "colab_type": "code",
        "colab": {
          "base_uri": "https://localhost:8080/",
          "height": 85
        },
        "outputId": "824ca8d9-5313-40a9-f016-9743e91e3ff7"
      },
      "source": [
        "opt_parametros"
      ],
      "execution_count": 237,
      "outputs": [
        {
          "output_type": "execute_result",
          "data": {
            "text/plain": [
              "{'max_depth': 7,\n",
              " 'min_samples_leaf': 55,\n",
              " 'min_samples_split': 200,\n",
              " 'n_estimators': 50}"
            ]
          },
          "metadata": {
            "tags": []
          },
          "execution_count": 237
        }
      ]
    },
    {
      "cell_type": "code",
      "metadata": {
        "id": "zlvHgOjVPLQQ",
        "colab_type": "code",
        "colab": {
          "base_uri": "https://localhost:8080/",
          "height": 34
        },
        "outputId": "65daa9f4-ad50-43fe-aa29-56b399421639"
      },
      "source": [
        "scores"
      ],
      "execution_count": 238,
      "outputs": [
        {
          "output_type": "execute_result",
          "data": {
            "text/plain": [
              "array([0.66664794, 0.67117633, 0.66951687])"
            ]
          },
          "metadata": {
            "tags": []
          },
          "execution_count": 238
        }
      ]
    },
    {
      "cell_type": "markdown",
      "metadata": {
        "id": "S4MA8CtNPNkR",
        "colab_type": "text"
      },
      "source": [
        "### Otimizando max_features"
      ]
    },
    {
      "cell_type": "code",
      "metadata": {
        "id": "8F-_i6l2PQku",
        "colab_type": "code",
        "colab": {}
      },
      "source": [
        "# modelo 3\n",
        "n_estimators = opt_parametros['n_estimators']\n",
        "max_depth = opt_parametros['max_depth']\n",
        "min_samples_split = opt_parametros['min_samples_split']\n",
        "min_samples_leaf = opt_parametros['min_samples_leaf']\n",
        "max_features = None\n",
        "subsample = 0.8\n",
        "params = {'max_features': range(21, 31, 1)}"
      ],
      "execution_count": 0,
      "outputs": []
    },
    {
      "cell_type": "code",
      "metadata": {
        "id": "fj5_LDzJPigP",
        "colab_type": "code",
        "colab": {
          "base_uri": "https://localhost:8080/",
          "height": 34
        },
        "outputId": "f0dfa0a0-0ef7-413e-d5bd-2d073553d2de"
      },
      "source": [
        "gbc, opt_param, score = otimizando(n_estimators = n_estimators,\n",
        "                                 learning_rate = learning_rate,\n",
        "                                 min_samples_split = min_samples_split,\n",
        "                                 min_samples_leaf = min_samples_leaf,\n",
        "                                 max_depth = max_depth,\n",
        "                                 max_features = max_features,\n",
        "                                 subsample = subsample,\n",
        "                                 params = params)"
      ],
      "execution_count": 240,
      "outputs": [
        {
          "output_type": "stream",
          "text": [
            "{'max_features': 28} 0.6716988471726983\n"
          ],
          "name": "stdout"
        }
      ]
    },
    {
      "cell_type": "code",
      "metadata": {
        "id": "u--cALx1QNap",
        "colab_type": "code",
        "colab": {}
      },
      "source": [
        "# atualizando as variaveis com os resultados\n",
        "modelos = np.append(modelos, gbc)\n",
        "opt_parametros={**opt_parametros,**opt_param}\n",
        "scores = np.append(scores,score)"
      ],
      "execution_count": 0,
      "outputs": []
    },
    {
      "cell_type": "code",
      "metadata": {
        "id": "XhcPJmwJQQGN",
        "colab_type": "code",
        "colab": {
          "base_uri": "https://localhost:8080/",
          "height": 102
        },
        "outputId": "669cf9ab-0344-4a5d-fd86-04ebef69e18b"
      },
      "source": [
        "opt_parametros"
      ],
      "execution_count": 242,
      "outputs": [
        {
          "output_type": "execute_result",
          "data": {
            "text/plain": [
              "{'max_depth': 7,\n",
              " 'max_features': 28,\n",
              " 'min_samples_leaf': 55,\n",
              " 'min_samples_split': 200,\n",
              " 'n_estimators': 50}"
            ]
          },
          "metadata": {
            "tags": []
          },
          "execution_count": 242
        }
      ]
    },
    {
      "cell_type": "markdown",
      "metadata": {
        "id": "YBHwTacsQD_b",
        "colab_type": "text"
      },
      "source": [
        "### Otimizando subsample"
      ]
    },
    {
      "cell_type": "code",
      "metadata": {
        "id": "Y7rbYlCmQJ6u",
        "colab_type": "code",
        "colab": {}
      },
      "source": [
        "# modelo 4\n",
        "n_estimators = opt_parametros['n_estimators']\n",
        "max_depth = opt_parametros['max_depth']\n",
        "min_samples_split = opt_parametros['min_samples_split']\n",
        "min_samples_leaf = opt_parametros['min_samples_leaf']\n",
        "max_features = opt_parametros['max_features']\n",
        "subsample = None\n",
        "params = {'subsample': np.append(np.arange(0.6,1 ,0.05),1)}"
      ],
      "execution_count": 0,
      "outputs": []
    },
    {
      "cell_type": "code",
      "metadata": {
        "id": "OpqOlrZYQrPI",
        "colab_type": "code",
        "colab": {
          "base_uri": "https://localhost:8080/",
          "height": 34
        },
        "outputId": "a1770cf5-32d7-4ad5-a6ee-b3a45fe09ca2"
      },
      "source": [
        "np.append(np.arange(0.6,1 ,0.05),1)"
      ],
      "execution_count": 244,
      "outputs": [
        {
          "output_type": "execute_result",
          "data": {
            "text/plain": [
              "array([0.6 , 0.65, 0.7 , 0.75, 0.8 , 0.85, 0.9 , 0.95, 1.  ])"
            ]
          },
          "metadata": {
            "tags": []
          },
          "execution_count": 244
        }
      ]
    },
    {
      "cell_type": "code",
      "metadata": {
        "id": "vuYUmbeLQ0RU",
        "colab_type": "code",
        "colab": {
          "base_uri": "https://localhost:8080/",
          "height": 34
        },
        "outputId": "a19e2fd4-0b36-42cb-a796-55ca095f8f3b"
      },
      "source": [
        "gbc, opt_param, score = otimizando(n_estimators = n_estimators,\n",
        "                                 learning_rate = learning_rate,\n",
        "                                 min_samples_split = min_samples_split,\n",
        "                                 min_samples_leaf = min_samples_leaf,\n",
        "                                 max_depth = max_depth,\n",
        "                                 max_features = max_features,\n",
        "                                 subsample = subsample,\n",
        "                                 params = params)"
      ],
      "execution_count": 245,
      "outputs": [
        {
          "output_type": "stream",
          "text": [
            "{'subsample': 0.9500000000000003} 0.6732009688002177\n"
          ],
          "name": "stdout"
        }
      ]
    },
    {
      "cell_type": "code",
      "metadata": {
        "id": "PpJU1WpJQ28f",
        "colab_type": "code",
        "colab": {}
      },
      "source": [
        "# atualizando as variaveis com os resultados\n",
        "modelos = np.append(modelos, gbc)\n",
        "opt_parametros={**opt_parametros,**opt_param}\n",
        "scores = np.append(scores,score)"
      ],
      "execution_count": 0,
      "outputs": []
    },
    {
      "cell_type": "code",
      "metadata": {
        "id": "HIkWKQzvQ5XP",
        "colab_type": "code",
        "colab": {
          "base_uri": "https://localhost:8080/",
          "height": 34
        },
        "outputId": "bb68af13-11bf-4bce-8728-89c37bb2da71"
      },
      "source": [
        "scores"
      ],
      "execution_count": 247,
      "outputs": [
        {
          "output_type": "execute_result",
          "data": {
            "text/plain": [
              "array([0.66664794, 0.67117633, 0.66951687, 0.67169885, 0.67320097])"
            ]
          },
          "metadata": {
            "tags": []
          },
          "execution_count": 247
        }
      ]
    },
    {
      "cell_type": "code",
      "metadata": {
        "id": "tpCQVWyQRTDe",
        "colab_type": "code",
        "colab": {
          "base_uri": "https://localhost:8080/",
          "height": 119
        },
        "outputId": "b59b8641-4b08-4a8d-9be8-0828591788b3"
      },
      "source": [
        "opt_parametros"
      ],
      "execution_count": 248,
      "outputs": [
        {
          "output_type": "execute_result",
          "data": {
            "text/plain": [
              "{'max_depth': 7,\n",
              " 'max_features': 28,\n",
              " 'min_samples_leaf': 55,\n",
              " 'min_samples_split': 200,\n",
              " 'n_estimators': 50,\n",
              " 'subsample': 0.9500000000000003}"
            ]
          },
          "metadata": {
            "tags": []
          },
          "execution_count": 248
        }
      ]
    },
    {
      "cell_type": "markdown",
      "metadata": {
        "id": "HYZ68fg8Q7l6",
        "colab_type": "text"
      },
      "source": [
        "### Otimizando N_ESTIMARTORS E LEARNING_RATE"
      ]
    },
    {
      "cell_type": "code",
      "metadata": {
        "id": "LK7s4J79REvU",
        "colab_type": "code",
        "colab": {}
      },
      "source": [
        "def otimizando2(n_estimators, learning_rate, min_samples_split, min_samples_leaf,\n",
        "             max_depth, max_features, subsample, cv = 5):\n",
        "  np.random.seed(0)\n",
        "  gbc = GradientBoostingClassifier(n_estimators = n_estimators,\n",
        "                                  learning_rate = learning_rate,\n",
        "                                  min_samples_split = min_samples_split,\n",
        "                                  min_samples_leaf = min_samples_leaf,\n",
        "                                  max_depth = max_depth,\n",
        "                                  max_features = max_features,\n",
        "                                  subsample = subsample,\n",
        "                                  random_state = 0)\n",
        "  cv_scores = cross_val_score(gbc, x_train, y_train, scoring = 'roc_auc', cv = cv, n_jobs = -1)\n",
        "  print(cv_scores)\n",
        "  score = cv_scores.mean()\n",
        "  print(score)\n",
        "  plt.plot(np.append(scores, score))\n",
        "  plt.title('n_estimators = {} / learning rate = {}'.format(n_estimators, learning_rate))\n",
        "  \n",
        "  return gbc, score"
      ],
      "execution_count": 0,
      "outputs": []
    },
    {
      "cell_type": "code",
      "metadata": {
        "id": "YBjoXqCDSVtG",
        "colab_type": "code",
        "colab": {}
      },
      "source": [
        "learning_rate =0.1\n",
        "n_estimators = opt_parametros['n_estimators']"
      ],
      "execution_count": 0,
      "outputs": []
    },
    {
      "cell_type": "code",
      "metadata": {
        "id": "hlEqFph6SlpG",
        "colab_type": "code",
        "colab": {}
      },
      "source": [
        "#modelo 5\n",
        "subsample = opt_parametros['subsample']\n",
        "n_estimators = opt_parametros['n_estimators']\n",
        "max_depth = opt_parametros['max_depth']\n",
        "min_samples_split = opt_parametros['min_samples_split']\n",
        "min_samples_leaf = opt_parametros['min_samples_leaf']\n",
        "max_features = opt_parametros['max_features']\n",
        "learning_rate /=2\n",
        "n_estimators *=2"
      ],
      "execution_count": 0,
      "outputs": []
    },
    {
      "cell_type": "code",
      "metadata": {
        "id": "UPVyKMYYSyX9",
        "colab_type": "code",
        "colab": {
          "base_uri": "https://localhost:8080/",
          "height": 34
        },
        "outputId": "f9e415dc-93d9-4129-b74f-d7fc321bdaf6"
      },
      "source": [
        "learning_rate, n_estimators"
      ],
      "execution_count": 252,
      "outputs": [
        {
          "output_type": "execute_result",
          "data": {
            "text/plain": [
              "(0.05, 100)"
            ]
          },
          "metadata": {
            "tags": []
          },
          "execution_count": 252
        }
      ]
    },
    {
      "cell_type": "code",
      "metadata": {
        "id": "Q8zblEYWTDuq",
        "colab_type": "code",
        "colab": {
          "base_uri": "https://localhost:8080/",
          "height": 315
        },
        "outputId": "fa1566d5-8d25-4fa4-d215-f84f17d1ae74"
      },
      "source": [
        "gbc, score = otimizando2(n_estimators = n_estimators,\n",
        "                                 learning_rate = learning_rate,\n",
        "                                 min_samples_split = min_samples_split,\n",
        "                                 min_samples_leaf = min_samples_leaf,\n",
        "                                 max_depth = max_depth,\n",
        "                                 max_features = max_features,\n",
        "                                 subsample = subsample,\n",
        "                                 )"
      ],
      "execution_count": 253,
      "outputs": [
        {
          "output_type": "stream",
          "text": [
            "[0.66703436 0.68880295 0.6783967  0.68034657 0.66033925]\n",
            "0.6749839655879828\n"
          ],
          "name": "stdout"
        },
        {
          "output_type": "display_data",
          "data": {
            "image/png": "[encoded data removed]",
            "text/plain": [
              "<Figure size 432x288 with 1 Axes>"
            ]
          },
          "metadata": {
            "tags": []
          }
        }
      ]
    },
    {
      "cell_type": "code",
      "metadata": {
        "id": "pqB0cVmXT87V",
        "colab_type": "code",
        "colab": {
          "base_uri": "https://localhost:8080/",
          "height": 34
        },
        "outputId": "ea4a7e6d-34ed-41df-a9af-5639355207fb"
      },
      "source": [
        "score"
      ],
      "execution_count": 254,
      "outputs": [
        {
          "output_type": "execute_result",
          "data": {
            "text/plain": [
              "0.6749839655879828"
            ]
          },
          "metadata": {
            "tags": []
          },
          "execution_count": 254
        }
      ]
    },
    {
      "cell_type": "code",
      "metadata": {
        "id": "M7w6vW1XUFhy",
        "colab_type": "code",
        "colab": {}
      },
      "source": [
        "# atualizando as variaveis com os resultados\n",
        "modelos = np.append(modelos, gbc)\n",
        "scores = np.append(scores,score)"
      ],
      "execution_count": 0,
      "outputs": []
    },
    {
      "cell_type": "code",
      "metadata": {
        "id": "HzN3oMKCV9r1",
        "colab_type": "code",
        "colab": {
          "base_uri": "https://localhost:8080/",
          "height": 119
        },
        "outputId": "20618d26-89b4-4e33-e15b-6b206e1ce769"
      },
      "source": [
        "opt_parametros"
      ],
      "execution_count": 256,
      "outputs": [
        {
          "output_type": "execute_result",
          "data": {
            "text/plain": [
              "{'max_depth': 7,\n",
              " 'max_features': 28,\n",
              " 'min_samples_leaf': 55,\n",
              " 'min_samples_split': 200,\n",
              " 'n_estimators': 50,\n",
              " 'subsample': 0.9500000000000003}"
            ]
          },
          "metadata": {
            "tags": []
          },
          "execution_count": 256
        }
      ]
    },
    {
      "cell_type": "code",
      "metadata": {
        "id": "hvbn92o5Vu2u",
        "colab_type": "code",
        "colab": {
          "base_uri": "https://localhost:8080/",
          "height": 34
        },
        "outputId": "d81c0b75-d80b-4ea6-cfae-c4195f89a788"
      },
      "source": [
        "# modelo 6\n",
        "learning_rate/=5\n",
        "n_estimators*=5\n",
        "learning_rate, n_estimators\n"
      ],
      "execution_count": 257,
      "outputs": [
        {
          "output_type": "execute_result",
          "data": {
            "text/plain": [
              "(0.01, 500)"
            ]
          },
          "metadata": {
            "tags": []
          },
          "execution_count": 257
        }
      ]
    },
    {
      "cell_type": "code",
      "metadata": {
        "id": "IFFRsLyfWFQ5",
        "colab_type": "code",
        "colab": {
          "base_uri": "https://localhost:8080/",
          "height": 315
        },
        "outputId": "3180c395-8264-4c27-fced-10ad6302bdc7"
      },
      "source": [
        "gbc, score = otimizando2(n_estimators = n_estimators,\n",
        "                                 learning_rate = learning_rate,\n",
        "                                 min_samples_split = min_samples_split,\n",
        "                                 min_samples_leaf = min_samples_leaf,\n",
        "                                 max_depth = max_depth,\n",
        "                                 max_features = max_features,\n",
        "                                 subsample = subsample,\n",
        "                                 )"
      ],
      "execution_count": 258,
      "outputs": [
        {
          "output_type": "stream",
          "text": [
            "[0.66639457 0.69081918 0.67793402 0.68137783 0.66201641]\n",
            "0.6757084018867496\n"
          ],
          "name": "stdout"
        },
        {
          "output_type": "display_data",
          "data": {
            "image/png": "[encoded data removed]",
            "text/plain": [
              "<Figure size 432x288 with 1 Axes>"
            ]
          },
          "metadata": {
            "tags": []
          }
        }
      ]
    },
    {
      "cell_type": "code",
      "metadata": {
        "id": "XvwSB9eQnV_Z",
        "colab_type": "code",
        "colab": {}
      },
      "source": [
        "modelos = np.append(modelos, gbc)\n",
        "scores = np.append(scores, score)"
      ],
      "execution_count": 0,
      "outputs": []
    },
    {
      "cell_type": "code",
      "metadata": {
        "id": "1yLGyJkBnb6O",
        "colab_type": "code",
        "colab": {
          "base_uri": "https://localhost:8080/",
          "height": 51
        },
        "outputId": "5910b240-5e09-4b73-f4d5-7a406865fad4"
      },
      "source": [
        "scores"
      ],
      "execution_count": 262,
      "outputs": [
        {
          "output_type": "execute_result",
          "data": {
            "text/plain": [
              "array([0.66664794, 0.67117633, 0.66951687, 0.67169885, 0.67320097,\n",
              "       0.67498397, 0.6757084 ])"
            ]
          },
          "metadata": {
            "tags": []
          },
          "execution_count": 262
        }
      ]
    },
    {
      "cell_type": "code",
      "metadata": {
        "id": "t7jn8jI9nFgZ",
        "colab_type": "code",
        "colab": {
          "base_uri": "https://localhost:8080/",
          "height": 34
        },
        "outputId": "6ad39d0e-1300-49bf-9fc5-64685d4fa044"
      },
      "source": [
        "# modelo 7\n",
        "\n",
        "learning_rate/=2\n",
        "n_estimators*=2\n",
        "learning_rate, n_estimators"
      ],
      "execution_count": 259,
      "outputs": [
        {
          "output_type": "execute_result",
          "data": {
            "text/plain": [
              "(0.005, 1000)"
            ]
          },
          "metadata": {
            "tags": []
          },
          "execution_count": 259
        }
      ]
    },
    {
      "cell_type": "code",
      "metadata": {
        "id": "hxWgxee3nfGg",
        "colab_type": "code",
        "colab": {
          "base_uri": "https://localhost:8080/",
          "height": 315
        },
        "outputId": "eaf9bd63-dbe4-4030-d476-86b70c5eb96a"
      },
      "source": [
        "gbc, score = otimizando2(n_estimators = n_estimators,\n",
        "                                 learning_rate = learning_rate,\n",
        "                                 min_samples_split = min_samples_split,\n",
        "                                 min_samples_leaf = min_samples_leaf,\n",
        "                                 max_depth = max_depth,\n",
        "                                 max_features = max_features,\n",
        "                                 subsample = subsample,\n",
        "                                 )"
      ],
      "execution_count": 263,
      "outputs": [
        {
          "output_type": "stream",
          "text": [
            "[0.66696864 0.69174646 0.67746319 0.68266366 0.66353376]\n",
            "0.6764751419167487\n"
          ],
          "name": "stdout"
        },
        {
          "output_type": "display_data",
          "data": {
            "image/png": "[encoded data removed]",
            "text/plain": [
              "<Figure size 432x288 with 1 Axes>"
            ]
          },
          "metadata": {
            "tags": []
          }
        }
      ]
    },
    {
      "cell_type": "code",
      "metadata": {
        "id": "c7JG8mCpniyI",
        "colab_type": "code",
        "colab": {}
      },
      "source": [
        "modelos = np.append(modelos, gbc)\n",
        "scores = np.append(scores, score)"
      ],
      "execution_count": 0,
      "outputs": []
    },
    {
      "cell_type": "code",
      "metadata": {
        "id": "eOkaAOuqnjMb",
        "colab_type": "code",
        "colab": {
          "base_uri": "https://localhost:8080/",
          "height": 51
        },
        "outputId": "9b7ae869-795a-4c96-f0ce-42d39ebbd12a"
      },
      "source": [
        "scores"
      ],
      "execution_count": 265,
      "outputs": [
        {
          "output_type": "execute_result",
          "data": {
            "text/plain": [
              "array([0.66664794, 0.67117633, 0.66951687, 0.67169885, 0.67320097,\n",
              "       0.67498397, 0.6757084 , 0.67647514])"
            ]
          },
          "metadata": {
            "tags": []
          },
          "execution_count": 265
        }
      ]
    },
    {
      "cell_type": "code",
      "metadata": {
        "id": "cfdhydNxnsFg",
        "colab_type": "code",
        "colab": {
          "base_uri": "https://localhost:8080/",
          "height": 34
        },
        "outputId": "b9fe75ce-c6a0-437b-ccb7-1fe0f08b3d23"
      },
      "source": [
        "# modelo 8\n",
        "\n",
        "learning_rate/=5\n",
        "n_estimators*=5\n",
        "learning_rate, n_estimators"
      ],
      "execution_count": 266,
      "outputs": [
        {
          "output_type": "execute_result",
          "data": {
            "text/plain": [
              "(0.001, 5000)"
            ]
          },
          "metadata": {
            "tags": []
          },
          "execution_count": 266
        }
      ]
    },
    {
      "cell_type": "code",
      "metadata": {
        "id": "vxG9-0KspBk6",
        "colab_type": "code",
        "colab": {
          "base_uri": "https://localhost:8080/",
          "height": 369
        },
        "outputId": "e62d3d78-e5a2-4f55-adf8-17be30d5919a"
      },
      "source": [
        "gbc, score = otimizando2(n_estimators = n_estimators,\n",
        "                                 learning_rate = learning_rate,\n",
        "                                 min_samples_split = min_samples_split,\n",
        "                                 min_samples_leaf = min_samples_leaf,\n",
        "                                 max_depth = max_depth,\n",
        "                                 max_features = max_features,\n",
        "                                 subsample = subsample,\n",
        "                                 )"
      ],
      "execution_count": 267,
      "outputs": [
        {
          "output_type": "stream",
          "text": [
            "/usr/local/lib/python3.6/dist-packages/joblib/externals/loky/process_executor.py:706: UserWarning: A worker stopped while some jobs were given to the executor. This can be caused by a too short worker timeout or by a memory leak.\n",
            "  \"timeout or by a memory leak.\", UserWarning\n"
          ],
          "name": "stderr"
        },
        {
          "output_type": "stream",
          "text": [
            "[0.66620268 0.69101659 0.67825181 0.68259758 0.66421569]\n",
            "0.676456868137598\n"
          ],
          "name": "stdout"
        },
        {
          "output_type": "display_data",
          "data": {
            "image/png": "[encoded data removed]",
            "text/plain": [
              "<Figure size 432x288 with 1 Axes>"
            ]
          },
          "metadata": {
            "tags": []
          }
        }
      ]
    },
    {
      "cell_type": "code",
      "metadata": {
        "id": "OrA90Sccpgqg",
        "colab_type": "code",
        "colab": {}
      },
      "source": [
        "modelos = np.append(modelos, gbc)\n",
        "scores = np.append(scores, score)"
      ],
      "execution_count": 0,
      "outputs": []
    },
    {
      "cell_type": "code",
      "metadata": {
        "id": "P0LDCQ-Ypk_w",
        "colab_type": "code",
        "colab": {
          "base_uri": "https://localhost:8080/",
          "height": 51
        },
        "outputId": "b935fd9e-1ce4-4deb-b667-6eeb5d2d1a20"
      },
      "source": [
        "scores"
      ],
      "execution_count": 269,
      "outputs": [
        {
          "output_type": "execute_result",
          "data": {
            "text/plain": [
              "array([0.66664794, 0.67117633, 0.66951687, 0.67169885, 0.67320097,\n",
              "       0.67498397, 0.6757084 , 0.67647514, 0.67645687])"
            ]
          },
          "metadata": {
            "tags": []
          },
          "execution_count": 269
        }
      ]
    },
    {
      "cell_type": "code",
      "metadata": {
        "id": "lf5-PVLap1a6",
        "colab_type": "code",
        "colab": {
          "base_uri": "https://localhost:8080/",
          "height": 34
        },
        "outputId": "40c87712-6965-40db-bb3f-29c398e18e64"
      },
      "source": [
        "print('Modelo de melhor desempenho: ', scores.argmax(), ' - AUC: ', max(scores))"
      ],
      "execution_count": 270,
      "outputs": [
        {
          "output_type": "stream",
          "text": [
            "Modelo de melhor desempenho:  7  - AUC:  0.6764751419167487\n"
          ],
          "name": "stdout"
        }
      ]
    },
    {
      "cell_type": "code",
      "metadata": {
        "id": "AYKnbCvSu37A",
        "colab_type": "code",
        "colab": {}
      },
      "source": [
        "melhor_modelo = modelos[scores.argmax()]"
      ],
      "execution_count": 0,
      "outputs": []
    },
    {
      "cell_type": "code",
      "metadata": {
        "id": "Fsbrz5NNvBOn",
        "colab_type": "code",
        "colab": {
          "base_uri": "https://localhost:8080/",
          "height": 187
        },
        "outputId": "f86d16e0-0164-4e7b-8741-187625bc5a90"
      },
      "source": [
        "melhor_modelo.fit(x_train,y_train)"
      ],
      "execution_count": 273,
      "outputs": [
        {
          "output_type": "execute_result",
          "data": {
            "text/plain": [
              "GradientBoostingClassifier(ccp_alpha=0.0, criterion='friedman_mse', init=None,\n",
              "                           learning_rate=0.005, loss='deviance', max_depth=7,\n",
              "                           max_features=28, max_leaf_nodes=None,\n",
              "                           min_impurity_decrease=0.0, min_impurity_split=None,\n",
              "                           min_samples_leaf=55, min_samples_split=200,\n",
              "                           min_weight_fraction_leaf=0.0, n_estimators=1000,\n",
              "                           n_iter_no_change=None, presort='deprecated',\n",
              "                           random_state=0, subsample=0.9500000000000003,\n",
              "                           tol=0.0001, validation_fraction=0.1, verbose=0,\n",
              "                           warm_start=False)"
            ]
          },
          "metadata": {
            "tags": []
          },
          "execution_count": 273
        }
      ]
    },
    {
      "cell_type": "code",
      "metadata": {
        "id": "kfwWfvQjvTOO",
        "colab_type": "code",
        "colab": {}
      },
      "source": [
        "y_probabilidade_de_pertencer_kd_classe = melhor_modelo.predict_proba(x_test)"
      ],
      "execution_count": 0,
      "outputs": []
    },
    {
      "cell_type": "code",
      "metadata": {
        "id": "BKxeoK6-vgiS",
        "colab_type": "code",
        "colab": {
          "base_uri": "https://localhost:8080/",
          "height": 136
        },
        "outputId": "ad76741d-4cd6-4923-b9ad-6154a07bb41b"
      },
      "source": [
        "y_probabilidade_de_pertencer_kd_classe"
      ],
      "execution_count": 275,
      "outputs": [
        {
          "output_type": "execute_result",
          "data": {
            "text/plain": [
              "array([[0.83961776, 0.16038224],\n",
              "       [0.964285  , 0.035715  ],\n",
              "       [0.94580413, 0.05419587],\n",
              "       ...,\n",
              "       [0.93623399, 0.06376601],\n",
              "       [0.93635568, 0.06364432],\n",
              "       [0.86887446, 0.13112554]])"
            ]
          },
          "metadata": {
            "tags": []
          },
          "execution_count": 275
        }
      ]
    },
    {
      "cell_type": "code",
      "metadata": {
        "id": "vZbjIRPkv2O2",
        "colab_type": "code",
        "colab": {
          "base_uri": "https://localhost:8080/",
          "height": 51
        },
        "outputId": "49972714-142a-4a60-9214-c0de2acc54c6"
      },
      "source": [
        "y_probabilidade_de_pertencer_kd_classe[:,1]"
      ],
      "execution_count": 277,
      "outputs": [
        {
          "output_type": "execute_result",
          "data": {
            "text/plain": [
              "array([0.16038224, 0.035715  , 0.05419587, ..., 0.06376601, 0.06364432,\n",
              "       0.13112554])"
            ]
          },
          "metadata": {
            "tags": []
          },
          "execution_count": 277
        }
      ]
    },
    {
      "cell_type": "code",
      "metadata": {
        "id": "5Q4yalB1vsWJ",
        "colab_type": "code",
        "colab": {
          "base_uri": "https://localhost:8080/",
          "height": 34
        },
        "outputId": "f43bde30-0dd6-4052-d216-494b381cdc2e"
      },
      "source": [
        "roc_auc_score(y_test, y_probabilidade_de_pertencer_kd_classe[:,1])"
      ],
      "execution_count": 278,
      "outputs": [
        {
          "output_type": "execute_result",
          "data": {
            "text/plain": [
              "0.6856076623629442"
            ]
          },
          "metadata": {
            "tags": []
          },
          "execution_count": 278
        }
      ]
    },
    {
      "cell_type": "code",
      "metadata": {
        "id": "iPx0KbZHv_MQ",
        "colab_type": "code",
        "colab": {
          "base_uri": "https://localhost:8080/",
          "height": 34
        },
        "outputId": "01216d04-3aef-4ce2-8fec-fff02c8249aa"
      },
      "source": [
        "roc_auc_score(y_test, y_probabilidade_de_pertencer_kd_classe[:,-1])"
      ],
      "execution_count": 279,
      "outputs": [
        {
          "output_type": "execute_result",
          "data": {
            "text/plain": [
              "0.6856076623629442"
            ]
          },
          "metadata": {
            "tags": []
          },
          "execution_count": 279
        }
      ]
    },
    {
      "cell_type": "markdown",
      "metadata": {
        "id": "iQh-3LhLOJA5",
        "colab_type": "text"
      },
      "source": [
        "## Resultados KDD Cup 2009\n",
        "\n",
        "https://www.kdd.org/kdd-cup/view/kdd-cup-2009/Results\n",
        "\n",
        "## Conclusões\n",
        "\n",
        "> Nesse exercício, foi possível modelar a possibilidade do cancelamento da conta com uma área sob a curva (AUC) de 0.6868\n",
        "\n",
        "> É bom lembrar que AUC = 0.5 indica a linha de base, no caso de um modelo que faz predições aleatórias, e AUC = 1.0 indica um modelo ideal, que faz predições perfeitas\n",
        "\n",
        "> Pode parecer que o AUC alcançado não é muito alto, mas também temos que considerar que o score mais alto no desafio público foi de 0.76\n",
        "\n",
        "> Isso indica que, muito possivelmente, os dados fornecidos não são suficientes para fazer a modelagem perfeita do cancelamento da conta, e isso é sempre algo que devemos levar em consideração quando estamos tentando desenvolver modelos para problemas que não temos qualquer conhecimento prévio\n",
        "\n",
        "> Fazendo uma analogia simples, seria como tentar predizer o peso de uma pessoa usando uma base de dados com apenas peso e altura de uma população: nós até conseguiríamos uma resposta razoável, já que as duas variáveis são correlacionadas, mas ela não seria perfeita simplesmente porque mais variáveis têm impacto no peso além da altura. É possível, portanto, que o maior score indique o melhor modelo que esses dados são capazes de fornecer\n",
        "\n",
        "> Também devemos nos lembrar de que esses desafios geralmente são lançados sem que exista uma resposta prévia, eles servem justamente para que a própria comunidade tente encontrar soluções e comparar seus resultados entre si, e não com um \"padrão ouro\" ou a \"resposta certa\"\n",
        "\n",
        "> Esses desafios são uma ótima oportunidade para se familiarizar com o ambiente real da carreira de um cientista de dados, e para conhecer e implementar na prática métodos e abordagens novas.\n",
        "\n",
        "## Melhorias\n",
        "\n",
        "> Testar outros modelos sempre é uma opção que se deve considerar. Nesse exercício, nós paramos nos classificadores do tipo gradient boosting, mas também poderíamos ter considerado modelos baseados em árvores de decisão mais novos, como o XGBoost, e até em redes neurais\n",
        "\n",
        "> Os dados estão mascarados, o que dificulta qualquer feature engineering, já que para isso geralmente nós tentamos transformar as variáveis em função do conhecimento prévio que temos sobre elas. Por exemplo, se tivéssemos datas, poderíamos criar uma nova variável refletindo as estações do ano, se julgássemos relevante, mas nesse exercício ficamos restritos a tratar os dados com métricas estritamente numéricas, como o número de categorias que uma variável categórica possui, por não sabermos a que a variável se refere\n",
        "\n",
        "> Mesmo com essas restrições, a seleção das melhores variáveis pode ser feita apenas considerando a natureza dos dados, e não da própria variável, e é possível testar outros métodos de seleção além daquele que nós usamos (seleção baseada em árvore de decisão)\n",
        "\n",
        "> Também é possível melhorar o processo de fine-tuning da seguinte maneira: primeiro nós treinamos um hiperparâmetro num intervalo maior, por exemplo, [1, 2, 3, 4, 5], e depois que nós descobrimos o melhor parâmetro nessa faixa, por exemplo [2], podemos treinar de novo nas imediações desse valor, por exemplo [1.5, 2, 2.5], e assim por diante\n",
        "\n",
        "> Ao final do treinamento apresentado no exercício (MODELO 8), nós observamos que a métrica continuava em tendência de aumentar, então talvez seja interessante continuar testando outros valores para learning rate/número de épocas\n",
        "\n",
        "> Também é útil fazer um grid search com todos os parâmetros ao mesmo tempo, já que não necessariamente cada parâmetro se comporta da forma independente que nós consideramos, mas para isso é bom usar poucos valores para cada parâmetro (por isso é bom fazer uma seleção prévia da forma que nós fizemos), ou teríamos um número de modelos excessivamente grande pra testar, o que demanda maior capacidade de processamento"
      ]
    }
  ]
}